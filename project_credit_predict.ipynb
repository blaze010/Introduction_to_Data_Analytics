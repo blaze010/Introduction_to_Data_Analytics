{
 "cells": [
  {
   "cell_type": "markdown",
   "id": "7795318e",
   "metadata": {},
   "source": [
    "### Importing necessary libraries"
   ]
  },
  {
   "cell_type": "code",
   "execution_count": null,
   "id": "65119bc6",
   "metadata": {},
   "outputs": [],
   "source": [
    "import numpy as np\n",
    "import pandas as pd\n",
    "\n",
    "\n",
    "import seaborn as sns\n",
    "import matplotlib.pyplot as plt\n",
    "\n",
    "from sklearn.experimental import enable_iterative_imputer\n",
    "from sklearn.impute import IterativeImputer\n",
    "from sklearn.impute import SimpleImputer\n",
    "from sklearn.preprocessing import LabelEncoder\n",
    "\n",
    "from sklearn.model_selection import train_test_split\n",
    "from sklearn.model_selection import StratifiedKFold\n",
    "from sklearn.model_selection import GridSearchCV\n",
    "\n",
    "from sklearn.ensemble import RandomForestClassifier\n",
    "\n",
    "from sklearn.metrics import f1_score\n",
    "from sklearn.metrics import classification_report\n",
    "\n",
    "from xgboost import XGBClassifier\n",
    "from xgboost import plot_importance\n",
    "\n",
    "from lightgbm import LGBMClassifier\n",
    "import lightgbm\n",
    "\n",
    "from scipy.stats import mode"
   ]
  },
  {
   "cell_type": "markdown",
   "id": "446d8131",
   "metadata": {},
   "source": [
    "### Reading in the data"
   ]
  },
  {
   "cell_type": "code",
   "execution_count": null,
   "id": "0718bb9c",
   "metadata": {},
   "outputs": [],
   "source": [
    "df_train = pd.read_csv('TrainingData.csv', index_col = 'application_key',low_memory = False)"
   ]
  },
  {
   "cell_type": "code",
   "execution_count": null,
   "id": "6c415393",
   "metadata": {},
   "outputs": [],
   "source": [
    "label_dict = pd.read_csv('Data_Dictionary.csv')"
   ]
  },
  {
   "cell_type": "code",
   "execution_count": null,
   "id": "85e68550",
   "metadata": {},
   "outputs": [],
   "source": [
    "label_dict = label_dict.set_index('Name').T.to_dict('list')"
   ]
  },
  {
   "cell_type": "code",
   "execution_count": null,
   "id": "1a3b2f4c",
   "metadata": {},
   "outputs": [],
   "source": [
    "label_dict"
   ]
  },
  {
   "cell_type": "code",
   "execution_count": null,
   "id": "fb4b3544",
   "metadata": {},
   "outputs": [],
   "source": [
    "df_train.head()"
   ]
  },
  {
   "cell_type": "code",
   "execution_count": null,
   "id": "e668daa1",
   "metadata": {},
   "outputs": [],
   "source": [
    "df_train.info()"
   ]
  },
  {
   "cell_type": "markdown",
   "id": "1fcc16fa",
   "metadata": {},
   "source": [
    "### Data cleaning"
   ]
  },
  {
   "cell_type": "markdown",
   "id": "caa74cea",
   "metadata": {},
   "source": [
    "Function for extracting non-numeric elements:"
   ]
  },
  {
   "cell_type": "code",
   "execution_count": null,
   "id": "13f8639b",
   "metadata": {},
   "outputs": [],
   "source": [
    "def get_non_numeric(elements):\n",
    "    \n",
    "    non_numerics = []\n",
    "    \n",
    "    for el in elements:\n",
    "        try:\n",
    "            el = float(el)\n",
    "        except:\n",
    "            non_numerics.append(el)\n",
    "    \n",
    "    return non_numerics"
   ]
  },
  {
   "cell_type": "markdown",
   "id": "5b56a863",
   "metadata": {},
   "source": [
    "#### Variable 1"
   ]
  },
  {
   "cell_type": "code",
   "execution_count": null,
   "id": "d393312f",
   "metadata": {},
   "outputs": [],
   "source": [
    "label_dict['mvar1'][0]"
   ]
  },
  {
   "cell_type": "code",
   "execution_count": null,
   "id": "d185bfdd",
   "metadata": {},
   "outputs": [],
   "source": [
    "var1_non = get_non_numeric(list(df_train['mvar1'].unique()))"
   ]
  },
  {
   "cell_type": "code",
   "execution_count": null,
   "id": "19001bf2",
   "metadata": {},
   "outputs": [],
   "source": [
    "var1_non"
   ]
  },
  {
   "cell_type": "code",
   "execution_count": null,
   "id": "4484dc91",
   "metadata": {},
   "outputs": [],
   "source": [
    "for el in var1_non:\n",
    "    df_train = df_train.replace(el, np.NaN)"
   ]
  },
  {
   "cell_type": "code",
   "execution_count": null,
   "id": "ac34db0f",
   "metadata": {},
   "outputs": [],
   "source": [
    "df_train['mvar1'] = pd.to_numeric(df_train['mvar1'])"
   ]
  },
  {
   "cell_type": "code",
   "execution_count": null,
   "id": "58f8e8d2",
   "metadata": {},
   "outputs": [],
   "source": [
    "var6_non = get_non_numeric(list(df_train['mvar6'].unique()))\n",
    "var6_non"
   ]
  },
  {
   "cell_type": "code",
   "execution_count": null,
   "id": "4da1431f",
   "metadata": {},
   "outputs": [],
   "source": [
    "for el in var6_non:\n",
    "    df_train = df_train.replace(el, np.NaN)\n",
    "\n",
    "df_train['mvar6'] = pd.to_numeric(df_train['mvar6'])   "
   ]
  },
  {
   "cell_type": "code",
   "execution_count": null,
   "id": "3f79400e",
   "metadata": {},
   "outputs": [],
   "source": [
    "var11_non = get_non_numeric(list(df_train['mvar15'].unique()))\n",
    "var11_non"
   ]
  },
  {
   "cell_type": "code",
   "execution_count": null,
   "id": "2f80e15c",
   "metadata": {},
   "outputs": [],
   "source": [
    "for i in range(51):\n",
    "    lol =get_non_numeric(list(df_train.iloc[:, i].unique()))\n",
    "    print(i, lol)"
   ]
  },
  {
   "cell_type": "code",
   "execution_count": null,
   "id": "5a4ca052",
   "metadata": {},
   "outputs": [],
   "source": [
    "for el in ['#VALUE!']:\n",
    "    df_train = df_train.replace(el, np.NaN)\n"
   ]
  },
  {
   "cell_type": "code",
   "execution_count": null,
   "id": "faf4b619",
   "metadata": {},
   "outputs": [],
   "source": [
    "for i in range(51):\n",
    "    lol =get_non_numeric(list(df_train.iloc[:, i].unique()))\n",
    "    print(i, lol)"
   ]
  },
  {
   "cell_type": "code",
   "execution_count": null,
   "id": "05a71c4a",
   "metadata": {},
   "outputs": [],
   "source": [
    "df_train = pd.get_dummies(df_train, columns = ['mvar47'], prefix = ['type'])"
   ]
  },
  {
   "cell_type": "code",
   "execution_count": null,
   "id": "3bd51ca6",
   "metadata": {},
   "outputs": [],
   "source": [
    "for i in range(51):\n",
    "    lol =get_non_numeric(list(df_train.iloc[:, i].unique()))\n",
    "    print(i, lol)"
   ]
  },
  {
   "cell_type": "code",
   "execution_count": null,
   "id": "9c1333f9",
   "metadata": {},
   "outputs": [],
   "source": [
    "for el in list(df_train.columns):\n",
    "    df_train[el] = pd.to_numeric(df_train[el]) "
   ]
  },
  {
   "cell_type": "code",
   "execution_count": null,
   "id": "f119a63b",
   "metadata": {},
   "outputs": [],
   "source": [
    "df_train.info()"
   ]
  },
  {
   "cell_type": "markdown",
   "id": "3d4a8d8c",
   "metadata": {},
   "source": [
    "#### Data exploration"
   ]
  },
  {
   "cell_type": "code",
   "execution_count": null,
   "id": "2e10558c",
   "metadata": {},
   "outputs": [],
   "source": [
    "sns.boxplot(x = 'mvar1', data = df_train)"
   ]
  },
  {
   "cell_type": "code",
   "execution_count": null,
   "id": "1fc2cc8c",
   "metadata": {},
   "outputs": [],
   "source": [
    "sns.boxplot(x = 'mvar2', data = df_train)"
   ]
  },
  {
   "cell_type": "code",
   "execution_count": null,
   "id": "ecc58099",
   "metadata": {},
   "outputs": [],
   "source": [
    "sns.boxplot(x = 'mvar2', data = df_train_imputed)"
   ]
  },
  {
   "cell_type": "code",
   "execution_count": null,
   "id": "4bc3a9f7",
   "metadata": {},
   "outputs": [],
   "source": [
    "df_train['mvar2'].describe()"
   ]
  },
  {
   "cell_type": "code",
   "execution_count": null,
   "id": "b53357b9",
   "metadata": {},
   "outputs": [],
   "source": [
    "sns.boxplot(y = 'mvar2', data = df_train, x = 'default_ind')"
   ]
  },
  {
   "cell_type": "code",
   "execution_count": null,
   "id": "f0d3406c",
   "metadata": {},
   "outputs": [],
   "source": [
    "sns.boxplot(y = 'mvar9', data = df_train, x = 'default_ind')"
   ]
  },
  {
   "cell_type": "code",
   "execution_count": null,
   "id": "1c09f837",
   "metadata": {},
   "outputs": [],
   "source": [
    "sns.boxplot(x = 'mvar15', data = df_train)"
   ]
  },
  {
   "cell_type": "code",
   "execution_count": null,
   "id": "b6df0abf",
   "metadata": {},
   "outputs": [],
   "source": [
    "df_train['mvar15'].describe()"
   ]
  },
  {
   "cell_type": "code",
   "execution_count": null,
   "id": "9b115716",
   "metadata": {},
   "outputs": [],
   "source": [
    "df_train_imputed[['mvar3', 'mvar4', 'mvar5']].corr()"
   ]
  },
  {
   "cell_type": "markdown",
   "id": "37e60a09",
   "metadata": {},
   "source": [
    "#### Simple imputation"
   ]
  },
  {
   "cell_type": "code",
   "execution_count": null,
   "id": "9942541e",
   "metadata": {},
   "outputs": [],
   "source": [
    "mean_imputer = SimpleImputer(missing_values=np.nan, strategy='mean')\n",
    "mean_imputer.fit(df_train)"
   ]
  },
  {
   "cell_type": "code",
   "execution_count": null,
   "id": "9d3a9d4f",
   "metadata": {},
   "outputs": [],
   "source": [
    "df_train_imputed = mean_imputer.transform(df_train)\n",
    "df_train_imputed = pd.DataFrame(df_train_imputed, columns = df_train.columns)"
   ]
  },
  {
   "cell_type": "code",
   "execution_count": null,
   "id": "a60083b5",
   "metadata": {},
   "outputs": [],
   "source": [
    "df_train_imputed.info()"
   ]
  },
  {
   "cell_type": "code",
   "execution_count": null,
   "id": "a1655386",
   "metadata": {},
   "outputs": [],
   "source": [
    "df_train_imputed['default_ind'] = df_train_imputed['default_ind'].astype('int')"
   ]
  },
  {
   "cell_type": "markdown",
   "id": "9d9db34e",
   "metadata": {},
   "source": [
    "#### Todo: Better strategies"
   ]
  },
  {
   "cell_type": "markdown",
   "id": "ce9d97d6",
   "metadata": {},
   "source": [
    "#### Iterative imputer"
   ]
  },
  {
   "cell_type": "code",
   "execution_count": null,
   "id": "d84a1b5f",
   "metadata": {},
   "outputs": [],
   "source": [
    "x = list(df_train.columns)\n",
    "x.remove('default_ind')\n",
    "non_label_cols = list(df_train.columns)\n",
    "non_label_cols.remove('default_ind')\n",
    "\n",
    "\n",
    "df_train_data = df_train[non_label_cols]"
   ]
  },
  {
   "cell_type": "code",
   "execution_count": null,
   "id": "903d4383",
   "metadata": {},
   "outputs": [],
   "source": [
    "imp_iterative = IterativeImputer(random_state=0)\n",
    "imp_iterative.fit(df_train_data)"
   ]
  },
  {
   "cell_type": "code",
   "execution_count": null,
   "id": "6b103ad4",
   "metadata": {},
   "outputs": [],
   "source": [
    "df_train_data_imputed = imp_iterative.transform(df_train_data)\n",
    "df_train_data_imputed = pd.DataFrame(df_train_data_imputed, columns = df_train_data.columns)"
   ]
  },
  {
   "cell_type": "code",
   "execution_count": null,
   "id": "53b94c8a",
   "metadata": {},
   "outputs": [],
   "source": [
    "df_train_data_imputed.info()"
   ]
  },
  {
   "cell_type": "markdown",
   "id": "235b5128",
   "metadata": {},
   "source": [
    "### Data visualization"
   ]
  },
  {
   "cell_type": "code",
   "execution_count": null,
   "id": "4928ae66",
   "metadata": {},
   "outputs": [],
   "source": [
    "sns.countplot(x = 'default_ind', data = df_train_imputed)"
   ]
  },
  {
   "cell_type": "code",
   "execution_count": null,
   "id": "3a7456fa",
   "metadata": {},
   "outputs": [],
   "source": [
    "df_train_imputed['default_ind'].sum()/len(df_train_imputed['default_ind'])"
   ]
  },
  {
   "cell_type": "markdown",
   "id": "d356b5c6",
   "metadata": {},
   "source": [
    "Imbalanced dataset, though it is not that bad."
   ]
  },
  {
   "cell_type": "code",
   "execution_count": null,
   "id": "392f5c8f",
   "metadata": {},
   "outputs": [],
   "source": [
    "2, 49, 33, 29, 1"
   ]
  },
  {
   "cell_type": "code",
   "execution_count": null,
   "id": "3e0d9a46",
   "metadata": {},
   "outputs": [],
   "source": [
    "sns.boxplot(x = 'default_ind', y = 'mvar2', data = df_train)"
   ]
  },
  {
   "cell_type": "code",
   "execution_count": null,
   "id": "0214e20b",
   "metadata": {},
   "outputs": [],
   "source": [
    "sns.boxplot(x = 'default_ind', y = 'mvar49', data = df_train)"
   ]
  },
  {
   "cell_type": "code",
   "execution_count": null,
   "id": "f075e31d",
   "metadata": {},
   "outputs": [],
   "source": [
    "df_train['mvar49'].unique()"
   ]
  },
  {
   "cell_type": "code",
   "execution_count": null,
   "id": "1ac0df81",
   "metadata": {},
   "outputs": [],
   "source": [
    "sns.boxplot(x = 'default_ind', y = 'mvar33', data = df_train)"
   ]
  },
  {
   "cell_type": "code",
   "execution_count": null,
   "id": "e784c076",
   "metadata": {},
   "outputs": [],
   "source": [
    "sns.boxplot(x = 'default_ind', y = 'mvar29', data = df_train)"
   ]
  },
  {
   "cell_type": "code",
   "execution_count": null,
   "id": "37d17de8",
   "metadata": {},
   "outputs": [],
   "source": [
    "sns.boxplot(x = 'default_ind', y = 'mvar1', data = df_train)"
   ]
  },
  {
   "cell_type": "code",
   "execution_count": null,
   "id": "7fa1f2d4",
   "metadata": {},
   "outputs": [],
   "source": [
    "df_feat = df_train_imputed.copy()"
   ]
  },
  {
   "cell_type": "code",
   "execution_count": null,
   "id": "5250b825",
   "metadata": {},
   "outputs": [],
   "source": [
    "df_feat['gen1'] = (df_feat['mvar1'] - df_feat['mvar1'].mean())/df_feat['mvar1'].std()"
   ]
  },
  {
   "cell_type": "code",
   "execution_count": null,
   "id": "62083f64",
   "metadata": {},
   "outputs": [],
   "source": [
    "df_feat['gen1'] = df_feat['gen1'] - (df_feat['mvar2'] - df_feat['mvar2'].mean())/df_feat['mvar2'].std()"
   ]
  },
  {
   "cell_type": "code",
   "execution_count": null,
   "id": "ebe77e2a",
   "metadata": {},
   "outputs": [],
   "source": [
    "sns.boxplot(x = 'default_ind', y = 'gen1', data = df_feat)"
   ]
  },
  {
   "cell_type": "code",
   "execution_count": null,
   "id": "e0628b4a",
   "metadata": {},
   "outputs": [],
   "source": [
    "df_feat['gen2'] = ((df_feat['mvar1'] - df_feat['mvar1'].mean())/df_feat['mvar1'].std())*((df_feat['mvar49'] - df_feat['mvar49'].mean())/df_feat['mvar49'].std())"
   ]
  },
  {
   "cell_type": "code",
   "execution_count": null,
   "id": "94a85927",
   "metadata": {},
   "outputs": [],
   "source": [
    "sns.boxplot(x = 'default_ind', y = 'gen2', data = df_feat)"
   ]
  },
  {
   "cell_type": "code",
   "execution_count": null,
   "id": "b8ca7619",
   "metadata": {},
   "outputs": [],
   "source": [
    "sns.boxplot(x = 'default_ind', y = 'mvar12', data = df_feat)"
   ]
  },
  {
   "cell_type": "code",
   "execution_count": null,
   "id": "2b7a79ba",
   "metadata": {},
   "outputs": [],
   "source": [
    "sns.boxplot(x = 'default_ind', y = 'mvar14', data = df_feat)"
   ]
  },
  {
   "cell_type": "code",
   "execution_count": null,
   "id": "718e3026",
   "metadata": {},
   "outputs": [],
   "source": [
    "df_feat['inc_per_owed'] = df_feat['mvar14']/(df_feat['mvar12']+1)"
   ]
  },
  {
   "cell_type": "code",
   "execution_count": null,
   "id": "096c8ddc",
   "metadata": {},
   "outputs": [],
   "source": [
    "sns.boxplot(x = 'default_ind', y = 'inc_per_owed', data = df_feat)"
   ]
  },
  {
   "cell_type": "code",
   "execution_count": null,
   "id": "2abf8c01",
   "metadata": {},
   "outputs": [],
   "source": [
    "df_feat['type_C'] = df_feat['type_C'].astype(\"category\")\n",
    "df_feat['type_L'] = df_feat['type_L'].astype(\"category\")"
   ]
  },
  {
   "cell_type": "code",
   "execution_count": null,
   "id": "dfd24956",
   "metadata": {},
   "outputs": [],
   "source": [
    "df_feat.info()"
   ]
  },
  {
   "cell_type": "code",
   "execution_count": null,
   "id": "5711bca8",
   "metadata": {},
   "outputs": [],
   "source": [
    "df_feat['type_C'] = df_feat['type_C'].astype(\"int\")\n",
    "df_feat['type_L'] = df_feat['type_L'].astype(\"int\")"
   ]
  },
  {
   "cell_type": "code",
   "execution_count": null,
   "id": "b0dc39ec",
   "metadata": {},
   "outputs": [],
   "source": [
    "df_feat.info()"
   ]
  },
  {
   "cell_type": "code",
   "execution_count": null,
   "id": "b385aebe",
   "metadata": {},
   "outputs": [],
   "source": [
    "sns.boxplot(x = 'default_ind', y = 'mvar45', data = df_train)"
   ]
  },
  {
   "cell_type": "code",
   "execution_count": null,
   "id": "2c0fa789",
   "metadata": {},
   "outputs": [],
   "source": [
    "df_feat['mvar45'].value_counts()"
   ]
  },
  {
   "cell_type": "code",
   "execution_count": null,
   "id": "e4d42319",
   "metadata": {},
   "outputs": [],
   "source": []
  },
  {
   "cell_type": "code",
   "execution_count": null,
   "id": "d963e7e3",
   "metadata": {},
   "outputs": [],
   "source": []
  },
  {
   "cell_type": "markdown",
   "id": "d54d8af6",
   "metadata": {},
   "source": [
    "### Features, features, features"
   ]
  },
  {
   "cell_type": "code",
   "execution_count": null,
   "id": "32f6963e",
   "metadata": {},
   "outputs": [],
   "source": [
    "df_eng = pd.read_csv('TrainingData.csv', index_col = 'application_key', low_memory = False)"
   ]
  },
  {
   "cell_type": "code",
   "execution_count": null,
   "id": "63170daa",
   "metadata": {},
   "outputs": [],
   "source": [
    "df_eng['mvar46'].value_counts()"
   ]
  },
  {
   "cell_type": "code",
   "execution_count": null,
   "id": "cd6fb014",
   "metadata": {},
   "outputs": [],
   "source": [
    "df_train.info()"
   ]
  },
  {
   "cell_type": "code",
   "execution_count": null,
   "id": "bd8b728f",
   "metadata": {},
   "outputs": [],
   "source": [
    "df_train['mvar48'].value_counts()"
   ]
  },
  {
   "cell_type": "code",
   "execution_count": null,
   "id": "90ddbc30",
   "metadata": {},
   "outputs": [],
   "source": [
    "sns.boxplot(x = 'default_ind', y = 'mvar7', data = df_train)\n",
    "plt.savefig('Images/no_log.png', bbox_inches = 'tight')"
   ]
  },
  {
   "cell_type": "code",
   "execution_count": null,
   "id": "2d8ff125",
   "metadata": {},
   "outputs": [],
   "source": [
    "sns.boxplot(x = df_train['default_ind'], y = np.log(df_train['mvar7']+1))\n",
    "plt.savefig('Images/yes_log.png', bbox_inches = 'tight')"
   ]
  },
  {
   "cell_type": "code",
   "execution_count": null,
   "id": "d872b9d4",
   "metadata": {},
   "outputs": [],
   "source": [
    "df_eng['mvar2'].value_counts()"
   ]
  },
  {
   "cell_type": "code",
   "execution_count": null,
   "id": "ee34650b",
   "metadata": {},
   "outputs": [],
   "source": [
    "df_eng = df_train.copy()"
   ]
  },
  {
   "cell_type": "code",
   "execution_count": null,
   "id": "c26ee5d3",
   "metadata": {},
   "outputs": [],
   "source": [
    "df_eng['log_mvar2'] = np.log(df_eng['mvar2']+1)"
   ]
  },
  {
   "cell_type": "code",
   "execution_count": null,
   "id": "76045b18",
   "metadata": {},
   "outputs": [],
   "source": [
    "sns.boxplot(x = 'default_ind', y = 'log_mvar2', data = df_eng)"
   ]
  },
  {
   "cell_type": "markdown",
   "id": "e81a24d2",
   "metadata": {},
   "source": [
    "48, 24, 25, 22"
   ]
  },
  {
   "cell_type": "code",
   "execution_count": null,
   "id": "8b082818",
   "metadata": {},
   "outputs": [],
   "source": [
    "sns.boxplot(x = 'default_ind', y = 'mvar31', data = df_eng)"
   ]
  },
  {
   "cell_type": "code",
   "execution_count": null,
   "id": "c6a7f369",
   "metadata": {},
   "outputs": [],
   "source": [
    "sns.boxplot(x = df_eng['default_ind'], y = df_eng['mvar30']+df_eng['mvar31'])"
   ]
  },
  {
   "cell_type": "code",
   "execution_count": null,
   "id": "50b48521",
   "metadata": {},
   "outputs": [],
   "source": [
    "df_eng['log_mvar13'] = np.log(df_eng['mvar13']+1)"
   ]
  },
  {
   "cell_type": "code",
   "execution_count": null,
   "id": "fc193767",
   "metadata": {},
   "outputs": [],
   "source": [
    "sns.boxplot(x = 'default_ind', y = 'log_mvar6', data = df_eng)"
   ]
  },
  {
   "cell_type": "code",
   "execution_count": null,
   "id": "02aa418e",
   "metadata": {},
   "outputs": [],
   "source": [
    "df_eng = df_eng.drop(['log_mvar3', 'log_mvar4'], axis = 1)"
   ]
  },
  {
   "cell_type": "code",
   "execution_count": null,
   "id": "cf5fbd1d",
   "metadata": {},
   "outputs": [],
   "source": [
    "df_eng.info()"
   ]
  },
  {
   "cell_type": "markdown",
   "id": "dfd8ab63",
   "metadata": {},
   "source": [
    "### Building models"
   ]
  },
  {
   "cell_type": "markdown",
   "id": "5749b908",
   "metadata": {},
   "source": [
    "#### Test set generation"
   ]
  },
  {
   "cell_type": "code",
   "execution_count": null,
   "id": "f29d3791",
   "metadata": {},
   "outputs": [],
   "source": [
    "x = list(df_train_imputed.columns)\n",
    "x.remove('default_ind')\n",
    "print(x)"
   ]
  },
  {
   "cell_type": "code",
   "execution_count": null,
   "id": "1a0ff647",
   "metadata": {},
   "outputs": [],
   "source": [
    "non_label_cols = list(df_train_imputed.columns)\n",
    "non_label_cols.remove('default_ind')\n",
    "\n",
    "\n",
    "X = df_train_imputed[non_label_cols]\n",
    "y = df_train_imputed['default_ind']\n",
    "\n",
    "X_train, X_test, y_train, y_test = train_test_split(X, y, stratify = y,test_size = 0.3, random_state = 42)"
   ]
  },
  {
   "cell_type": "code",
   "execution_count": null,
   "id": "d71ac0c6",
   "metadata": {},
   "outputs": [],
   "source": [
    "y_test.sum()/len(y_test)"
   ]
  },
  {
   "cell_type": "markdown",
   "id": "67615887",
   "metadata": {},
   "source": [
    "#### Iterative imputer test set"
   ]
  },
  {
   "cell_type": "code",
   "execution_count": null,
   "id": "8302d86e",
   "metadata": {},
   "outputs": [],
   "source": [
    "X_train, X_test, y_train, y_test = train_test_split(df_train_data_imputed, y, stratify = y, test_size = 0.3, random_state = 42)"
   ]
  },
  {
   "cell_type": "code",
   "execution_count": null,
   "id": "0182bca0",
   "metadata": {},
   "outputs": [],
   "source": [
    "y_train.sum()/len(y_train)"
   ]
  },
  {
   "cell_type": "markdown",
   "id": "27833423",
   "metadata": {},
   "source": [
    "#### First model - untuned XGBoost"
   ]
  },
  {
   "cell_type": "code",
   "execution_count": null,
   "id": "11b650d6",
   "metadata": {},
   "outputs": [],
   "source": [
    "xgb_model = XGBClassifier()\n",
    "xgb_model.fit(X_train, y_train)"
   ]
  },
  {
   "cell_type": "code",
   "execution_count": null,
   "id": "bba7ca81",
   "metadata": {},
   "outputs": [],
   "source": [
    "y_pred = xgb_model.predict(X_train)"
   ]
  },
  {
   "cell_type": "code",
   "execution_count": null,
   "id": "c1bd555b",
   "metadata": {},
   "outputs": [],
   "source": [
    "print(classification_report(y_pred, y_train))"
   ]
  },
  {
   "cell_type": "code",
   "execution_count": null,
   "id": "dc9a0bb9",
   "metadata": {},
   "outputs": [],
   "source": [
    "y_pred = xgb_model.predict(X_test)"
   ]
  },
  {
   "cell_type": "code",
   "execution_count": null,
   "id": "df98ba7c",
   "metadata": {},
   "outputs": [],
   "source": [
    "print(classification_report(y_pred, y_test))"
   ]
  },
  {
   "cell_type": "markdown",
   "id": "ceef1801",
   "metadata": {},
   "source": [
    "#### Tuning XGBoost"
   ]
  },
  {
   "cell_type": "code",
   "execution_count": null,
   "id": "900ec87e",
   "metadata": {},
   "outputs": [],
   "source": [
    "tuning_xgb_model = XGBClassifier()\n",
    "\n",
    "eval_set = [(X_train, y_train), (X_test, y_test)]\n",
    "eval_metric = [\"auc\"]\n",
    "%time tuning_xgb_model.fit(X_train, y_train, eval_metric = eval_metric, eval_set = eval_set, verbose=True)"
   ]
  },
  {
   "cell_type": "code",
   "execution_count": null,
   "id": "da057297",
   "metadata": {},
   "outputs": [],
   "source": [
    "results = tuning_xgb_model.evals_result()"
   ]
  },
  {
   "cell_type": "code",
   "execution_count": null,
   "id": "35165b8e",
   "metadata": {},
   "outputs": [],
   "source": [
    "plt.plot(list(range(len(results['validation_0']['auc']))), results['validation_0']['auc'], label = 'train')\n",
    "plt.plot(list(range(len(results['validation_1']['auc']))), results['validation_1']['auc'], label = 'test')\n",
    "plt.legend()"
   ]
  },
  {
   "cell_type": "code",
   "execution_count": null,
   "id": "afd484d4",
   "metadata": {},
   "outputs": [],
   "source": [
    "basic_xg = XGBClassifier(silent = False, \n",
    "                      learning_rate = 0.01,  \n",
    "                      colsample_bytree = 1,\n",
    "                      subsample = 0.8,\n",
    "                      objective = 'binary:logistic', \n",
    "                      n_estimators = 1000,\n",
    "                      max_depth = 3, \n",
    "                      gamma = 1)"
   ]
  },
  {
   "cell_type": "code",
   "execution_count": null,
   "id": "cf0c5a21",
   "metadata": {},
   "outputs": [],
   "source": [
    "depths = list(range(3, 10))\n",
    "f_scores = []\n",
    "\n",
    "for el in depths:\n",
    "    \n",
    "    test_depth_model = XGBClassifier(silent = False, \n",
    "                      learning_rate = 0.01,  \n",
    "                      colsample_bytree = 1,\n",
    "                      subsample = 0.8,\n",
    "                      objective = 'binary:logistic', \n",
    "                      n_estimators = 1000,\n",
    "                      max_depth = el, \n",
    "                      gamma = 1)\n",
    "    \n",
    "    test_depth_model.fit(X_train, y_train)\n",
    "    \n",
    "    y_train_pred = test_depth_model.predict(X_train)\n",
    "    y_test_pred = test_depth_model.predict(X_test)\n",
    "    \n",
    "    train_f = f1_score(y_train, y_train_pred)\n",
    "    test_f = f1_score(y_test, y_test_pred)\n",
    "    \n",
    "    f_scores.append([train_f, test_f])"
   ]
  },
  {
   "cell_type": "code",
   "execution_count": null,
   "id": "5e49c9ef",
   "metadata": {},
   "outputs": [],
   "source": [
    "f_scores = np.array(f_scores)\n",
    "plt.plot()"
   ]
  },
  {
   "cell_type": "code",
   "execution_count": null,
   "id": "42913202",
   "metadata": {},
   "outputs": [],
   "source": [
    "depths = list(range(8, 14))\n",
    "f_scores = []\n",
    "\n",
    "for el in depths:\n",
    "    \n",
    "    test_depth_model = XGBClassifier(silent = False, \n",
    "                      learning_rate = 0.01,  \n",
    "                      colsample_bytree = 1,\n",
    "                      subsample = 0.8,\n",
    "                      objective = 'binary:logistic', \n",
    "                      n_estimators = 1000,\n",
    "                      max_depth = el, \n",
    "                      gamma = 1)\n",
    "    \n",
    "    test_depth_model.fit(X_train, y_train)\n",
    "    \n",
    "    y_train_pred = test_depth_model.predict(X_train)\n",
    "    y_test_pred = test_depth_model.predict(X_test)\n",
    "    \n",
    "    train_f = f1_score(y_train, y_train_pred)\n",
    "    test_f = f1_score(y_test, y_test_pred)\n",
    "    \n",
    "    f_scores.append([train_f, test_f])"
   ]
  },
  {
   "cell_type": "code",
   "execution_count": null,
   "id": "e81011a3",
   "metadata": {},
   "outputs": [],
   "source": [
    "f_scores"
   ]
  },
  {
   "cell_type": "code",
   "execution_count": null,
   "id": "428494e7",
   "metadata": {},
   "outputs": [],
   "source": [
    "depths[2]"
   ]
  },
  {
   "cell_type": "markdown",
   "id": "3ccd94df",
   "metadata": {},
   "source": [
    "<b> Max Depth = 10 is a good choice </b>"
   ]
  },
  {
   "cell_type": "code",
   "execution_count": null,
   "id": "c787ddd0",
   "metadata": {},
   "outputs": [],
   "source": [
    "col_samples = list(np.linspace(0.4, 0.9, 10))\n",
    "f_scores = []\n",
    "\n",
    "for el in col_samples:\n",
    "    \n",
    "    test_depth_model = XGBClassifier(silent = False, \n",
    "                      learning_rate = 0.01,  \n",
    "                      colsample_bytree = el,\n",
    "                      subsample = 0.8,\n",
    "                      objective = 'binary:logistic', \n",
    "                      n_estimators = 1000,\n",
    "                      max_depth = 10, \n",
    "                      gamma = 1)\n",
    "    \n",
    "    test_depth_model.fit(X_train, y_train)\n",
    "    \n",
    "    y_train_pred = test_depth_model.predict(X_train)\n",
    "    y_test_pred = test_depth_model.predict(X_test)\n",
    "    \n",
    "    train_f = f1_score(y_train, y_train_pred)\n",
    "    test_f = f1_score(y_test, y_test_pred)\n",
    "    \n",
    "    f_scores.append([train_f, test_f])"
   ]
  },
  {
   "cell_type": "code",
   "execution_count": null,
   "id": "04bf96f0",
   "metadata": {},
   "outputs": [],
   "source": [
    "f_scores"
   ]
  },
  {
   "cell_type": "code",
   "execution_count": null,
   "id": "f3f97ddd",
   "metadata": {},
   "outputs": [],
   "source": [
    "col_samples[4]"
   ]
  },
  {
   "cell_type": "markdown",
   "id": "1ed92ab3",
   "metadata": {},
   "source": [
    "<b> 0.6 for columns used by each tree </b>"
   ]
  },
  {
   "cell_type": "code",
   "execution_count": null,
   "id": "1cd2f32c",
   "metadata": {},
   "outputs": [],
   "source": [
    "estimator_samples = list(range(500, 4001, 500))\n",
    "f_scores = []\n",
    "\n",
    "for el in estimator_samples:\n",
    "    \n",
    "    test_depth_model = XGBClassifier(silent = False, \n",
    "                      learning_rate = 0.01,  \n",
    "                      colsample_bytree = 0.6,\n",
    "                      subsample = 0.8,\n",
    "                      objective = 'binary:logistic', \n",
    "                      n_estimators = el,\n",
    "                      max_depth = 10, \n",
    "                      gamma = 1)\n",
    "    \n",
    "    test_depth_model.fit(X_train, y_train)\n",
    "    \n",
    "    y_train_pred = test_depth_model.predict(X_train)\n",
    "    y_test_pred = test_depth_model.predict(X_test)\n",
    "    \n",
    "    train_f = f1_score(y_train, y_train_pred)\n",
    "    test_f = f1_score(y_test, y_test_pred)\n",
    "    \n",
    "    f_scores.append([train_f, test_f])"
   ]
  },
  {
   "cell_type": "code",
   "execution_count": null,
   "id": "b510ffdc",
   "metadata": {},
   "outputs": [],
   "source": [
    "f_scores"
   ]
  },
  {
   "cell_type": "code",
   "execution_count": null,
   "id": "13db7cfd",
   "metadata": {},
   "outputs": [],
   "source": [
    "estimator_samples[5]"
   ]
  },
  {
   "cell_type": "code",
   "execution_count": null,
   "id": "fb5cd78b",
   "metadata": {},
   "outputs": [],
   "source": [
    "partly_tuned_model = XGBClassifier(silent = False, \n",
    "                      learning_rate = 0.01,  \n",
    "                      colsample_bytree = 0.6,\n",
    "                      subsample = 0.8,\n",
    "                      objective = 'binary:logistic', \n",
    "                      n_estimators = 3000,\n",
    "                      max_depth = 10, \n",
    "                      gamma = 1)"
   ]
  },
  {
   "cell_type": "code",
   "execution_count": null,
   "id": "e3463b8a",
   "metadata": {},
   "outputs": [],
   "source": [
    "partly_tuned_model.fit(X_train, y_train)\n",
    "\n",
    "y_train_pred = partly_tuned_model.predict(X_train)\n",
    "y_test_pred = partly_tuned_model.predict(X_test)\n",
    "\n",
    "print(classification_report(y_train_pred, y_train))\n"
   ]
  },
  {
   "cell_type": "code",
   "execution_count": null,
   "id": "4a6529e7",
   "metadata": {},
   "outputs": [],
   "source": [
    "print(classification_report(y_test_pred, y_test))"
   ]
  },
  {
   "cell_type": "code",
   "execution_count": null,
   "id": "d7a65166",
   "metadata": {},
   "outputs": [],
   "source": [
    "f1_score(y_test, y_test_pred)"
   ]
  },
  {
   "cell_type": "markdown",
   "id": "e9a788ae",
   "metadata": {},
   "source": [
    "#### Trying class weighting "
   ]
  },
  {
   "cell_type": "code",
   "execution_count": null,
   "id": "911eb008",
   "metadata": {},
   "outputs": [],
   "source": [
    "weights = [1, 10, 25, 50, 75, 99, 100, 1000]\n",
    "\n",
    "f_scores = []\n",
    "\n",
    "for el in weights:\n",
    "    \n",
    "    test_depth_model = XGBClassifier(silent = False, \n",
    "                      learning_rate = 0.01,  \n",
    "                      colsample_bytree = 0.6,\n",
    "                      subsample = 0.8,\n",
    "                      objective = 'binary:logistic', \n",
    "                      n_estimators = 3000,\n",
    "                      max_depth = 10, \n",
    "                      gamma = 1,\n",
    "                    scale_pos_weight = el)\n",
    "    \n",
    "    test_depth_model.fit(X_train, y_train)\n",
    "    \n",
    "    y_train_pred = test_depth_model.predict(X_train)\n",
    "    y_test_pred = test_depth_model.predict(X_test)\n",
    "    \n",
    "    train_f = f1_score(y_train, y_train_pred)\n",
    "    test_f = f1_score(y_test, y_test_pred)\n",
    "    \n",
    "    f_scores.append([train_f, test_f])"
   ]
  },
  {
   "cell_type": "code",
   "execution_count": null,
   "id": "4c13753c",
   "metadata": {},
   "outputs": [],
   "source": [
    "f_scores"
   ]
  },
  {
   "cell_type": "markdown",
   "id": "f1973fb6",
   "metadata": {},
   "source": [
    "<b>We go with a value of 10 </b>"
   ]
  },
  {
   "cell_type": "code",
   "execution_count": null,
   "id": "31a5e565",
   "metadata": {},
   "outputs": [],
   "source": [
    "weights = [2, 3, 4, 5, 6, 7, 8, 9]\n",
    "\n",
    "f_scores = []\n",
    "\n",
    "for el in weights:\n",
    "    \n",
    "    test_depth_model = XGBClassifier(silent = False, \n",
    "                      learning_rate = 0.01,  \n",
    "                      colsample_bytree = 0.6,\n",
    "                      subsample = 0.8,\n",
    "                      objective = 'binary:logistic', \n",
    "                      n_estimators = 3000,\n",
    "                      max_depth = 10, \n",
    "                      gamma = 1,\n",
    "                    scale_pos_weight = el)\n",
    "    \n",
    "    test_depth_model.fit(X_train, y_train)\n",
    "    \n",
    "    y_train_pred = test_depth_model.predict(X_train)\n",
    "    y_test_pred = test_depth_model.predict(X_test)\n",
    "    \n",
    "    train_f = f1_score(y_train, y_train_pred)\n",
    "    test_f = f1_score(y_test, y_test_pred)\n",
    "    \n",
    "    f_scores.append([train_f, test_f])"
   ]
  },
  {
   "cell_type": "code",
   "execution_count": null,
   "id": "79cde3b4",
   "metadata": {},
   "outputs": [],
   "source": [
    "f_scores"
   ]
  },
  {
   "cell_type": "markdown",
   "id": "96642d04",
   "metadata": {},
   "source": [
    "<b>Choose 5 for scale_pos_weight.</b>"
   ]
  },
  {
   "cell_type": "code",
   "execution_count": null,
   "id": "0af77585",
   "metadata": {},
   "outputs": [],
   "source": [
    "weighted_tuned_model = XGBClassifier(silent = False, \n",
    "                      learning_rate = 0.01,  \n",
    "                      colsample_bytree = 0.6,\n",
    "                      subsample = 0.8,\n",
    "                      objective = 'binary:logistic', \n",
    "                      n_estimators = 3000,\n",
    "                      max_depth = 10, \n",
    "                      gamma = 1,\n",
    "                    scale_pos_weight = 5)"
   ]
  },
  {
   "cell_type": "code",
   "execution_count": null,
   "id": "e7df0b62",
   "metadata": {},
   "outputs": [],
   "source": [
    "weighted_tuned_model.fit(X_train, y_train)\n",
    "\n",
    "y_train_pred = weighted_tuned_model.predict(X_train)\n",
    "y_test_pred = weighted_tuned_model.predict(X_test)\n",
    "\n",
    "print(classification_report(y_train_pred, y_train))\n",
    "print(classification_report(y_test_pred, y_test))"
   ]
  },
  {
   "cell_type": "markdown",
   "id": "2a8d025b",
   "metadata": {},
   "source": [
    "#### Adjusting regularization"
   ]
  },
  {
   "cell_type": "code",
   "execution_count": null,
   "id": "dc3c3e6f",
   "metadata": {},
   "outputs": [],
   "source": [
    "gammas = [1, 2, 3, 4, 5]\n",
    "\n",
    "f_scores = []\n",
    "\n",
    "for el in gammas:\n",
    "    \n",
    "    test_depth_model = XGBClassifier(silent = False, \n",
    "                      learning_rate = 0.01,  \n",
    "                      colsample_bytree = 0.6,\n",
    "                      subsample = 0.8,\n",
    "                      objective = 'binary:logistic', \n",
    "                      n_estimators = 3000,\n",
    "                      max_depth = 10, \n",
    "                      gamma = el,\n",
    "                    scale_pos_weight = 5)\n",
    "    \n",
    "    test_depth_model.fit(X_train, y_train)\n",
    "    \n",
    "    y_train_pred = test_depth_model.predict(X_train)\n",
    "    y_test_pred = test_depth_model.predict(X_test)\n",
    "    \n",
    "    train_f = f1_score(y_train, y_train_pred)\n",
    "    test_f = f1_score(y_test, y_test_pred)\n",
    "    \n",
    "    f_scores.append([train_f, test_f])"
   ]
  },
  {
   "cell_type": "code",
   "execution_count": null,
   "id": "9ae1954d",
   "metadata": {},
   "outputs": [],
   "source": [
    "f_scores"
   ]
  },
  {
   "cell_type": "markdown",
   "id": "326c7b8c",
   "metadata": {},
   "source": [
    "No definitive conclusion"
   ]
  },
  {
   "cell_type": "markdown",
   "id": "fd57deef",
   "metadata": {},
   "source": [
    "<b>Still lets try gamma of 5</b>"
   ]
  },
  {
   "cell_type": "code",
   "execution_count": null,
   "id": "664c2b48",
   "metadata": {},
   "outputs": [],
   "source": [
    "regularized_xgb_model = XGBClassifier(silent = False, \n",
    "                      learning_rate = 0.01,  \n",
    "                      colsample_bytree = 0.6,\n",
    "                      subsample = 0.8,\n",
    "                      objective = 'binary:logistic', \n",
    "                      n_estimators = 3000,\n",
    "                      max_depth = 10, \n",
    "                      gamma = 5,\n",
    "                    scale_pos_weight = 5)"
   ]
  },
  {
   "cell_type": "code",
   "execution_count": null,
   "id": "1ee0dba7",
   "metadata": {},
   "outputs": [],
   "source": [
    "regularized_xgb_model.fit(X_train, y_train)\n",
    "\n",
    "y_train_pred = regularized_xgb_model.predict(X_train)\n",
    "y_test_pred = regularized_xgb_model.predict(X_test)\n",
    "\n",
    "print(classification_report(y_train_pred, y_train))\n",
    "print(classification_report(y_test_pred, y_test))"
   ]
  },
  {
   "cell_type": "code",
   "execution_count": null,
   "id": "1ecbc134",
   "metadata": {},
   "outputs": [],
   "source": [
    "regularized_xgb_model = XGBClassifier(silent = False, \n",
    "                      learning_rate = 0.01,  \n",
    "                      colsample_bytree = 0.6,\n",
    "                      subsample = 0.8,\n",
    "                      objective = 'binary:logistic', \n",
    "                      n_estimators = 3000,\n",
    "                      max_depth = 10, \n",
    "                      gamma = 5,\n",
    "                    scale_pos_weight = 5)"
   ]
  },
  {
   "cell_type": "code",
   "execution_count": null,
   "id": "9aa40b1c",
   "metadata": {},
   "outputs": [],
   "source": [
    "%time regularized_xgb_model.fit(X, y)\n",
    "\n",
    "y_train_pred = regularized_xgb_model.predict(X_train)\n",
    "y_test_pred = regularized_xgb_model.predict(X_test)\n",
    "\n",
    "print(classification_report(y_train_pred, y_train))\n",
    "print(classification_report(y_test_pred, y_test))"
   ]
  },
  {
   "cell_type": "markdown",
   "id": "6eb32999",
   "metadata": {},
   "source": [
    "#### Iterative imputation"
   ]
  },
  {
   "cell_type": "code",
   "execution_count": null,
   "id": "c9cb4919",
   "metadata": {},
   "outputs": [],
   "source": [
    "it_regularized_xgb_model = XGBClassifier(silent = False, \n",
    "                      learning_rate = 0.01,  \n",
    "                      colsample_bytree = 0.6,\n",
    "                      subsample = 0.8,\n",
    "                      objective = 'binary:logistic', \n",
    "                      n_estimators = 3000,\n",
    "                      max_depth = 10, \n",
    "                      gamma = 5,\n",
    "                    scale_pos_weight = 5)"
   ]
  },
  {
   "cell_type": "code",
   "execution_count": null,
   "id": "02e588a1",
   "metadata": {},
   "outputs": [],
   "source": [
    "%time it_regularized_xgb_model.fit(X_train, y_train)\n",
    "\n",
    "y_train_pred = it_regularized_xgb_model.predict(X_train)\n",
    "y_test_pred = it_regularized_xgb_model.predict(X_test)\n",
    "\n",
    "print(classification_report(y_train_pred, y_train))\n",
    "print(classification_report(y_test_pred, y_test))"
   ]
  },
  {
   "cell_type": "code",
   "execution_count": null,
   "id": "9ac4cbc8",
   "metadata": {},
   "outputs": [],
   "source": [
    "f1_score(y_test, y_test_pred)"
   ]
  },
  {
   "cell_type": "code",
   "execution_count": null,
   "id": "5e0fc81b",
   "metadata": {},
   "outputs": [],
   "source": [
    "gammas = [5, 6, 7, 8]\n",
    "\n",
    "f_scores = []\n",
    "\n",
    "for el in gammas:\n",
    "    \n",
    "    test_depth_model = XGBClassifier(silent = False, \n",
    "                      learning_rate = 0.01,  \n",
    "                      colsample_bytree = 0.6,\n",
    "                      subsample = 0.8,\n",
    "                      objective = 'binary:logistic', \n",
    "                      n_estimators = 3000,\n",
    "                      max_depth = 10, \n",
    "                      gamma = el,\n",
    "                    scale_pos_weight = 5)\n",
    "    \n",
    "    test_depth_model.fit(X_train, y_train)\n",
    "    \n",
    "    y_train_pred = test_depth_model.predict(X_train)\n",
    "    y_test_pred = test_depth_model.predict(X_test)\n",
    "    \n",
    "    train_f = f1_score(y_train, y_train_pred)\n",
    "    test_f = f1_score(y_test, y_test_pred)\n",
    "    \n",
    "    f_scores.append([train_f, test_f])"
   ]
  },
  {
   "cell_type": "code",
   "execution_count": null,
   "id": "7b0a52ce",
   "metadata": {},
   "outputs": [],
   "source": [
    "f_scores"
   ]
  },
  {
   "cell_type": "markdown",
   "id": "464f86f6",
   "metadata": {},
   "source": [
    "#### XGBoost without explicit imputaion"
   ]
  },
  {
   "cell_type": "code",
   "execution_count": null,
   "id": "428a9d9f",
   "metadata": {},
   "outputs": [],
   "source": [
    "X = df_train[non_label_cols]\n",
    "y = df_train_imputed['default_ind']\n",
    "\n",
    "X_train, X_test, y_train, y_test = train_test_split(X, y, stratify = y,test_size = 0.3, random_state = 42)"
   ]
  },
  {
   "cell_type": "code",
   "execution_count": null,
   "id": "fb17ce69",
   "metadata": {},
   "outputs": [],
   "source": [
    "regularized_nonimp_model = XGBClassifier(silent = False, \n",
    "                      learning_rate = 0.01,  \n",
    "                      colsample_bytree = 0.6,\n",
    "                      subsample = 0.8,\n",
    "                      objective = 'binary:logistic', \n",
    "                      n_estimators = 3000,\n",
    "                      max_depth = 10, \n",
    "                      gamma = 5,\n",
    "                    scale_pos_weight = 5)"
   ]
  },
  {
   "cell_type": "code",
   "execution_count": null,
   "id": "d8acf4d8",
   "metadata": {},
   "outputs": [],
   "source": [
    "%time regularized_nonimp_model.fit(X_train, y_train)\n",
    "\n",
    "y_train_pred = regularized_nonimp_model.predict(X_train)\n",
    "y_test_pred = regularized_nonimp_model.predict(X_test)\n",
    "\n",
    "print(classification_report(y_train_pred, y_train))\n",
    "print(classification_report(y_test_pred, y_test))"
   ]
  },
  {
   "cell_type": "code",
   "execution_count": null,
   "id": "9a2a9e5e",
   "metadata": {},
   "outputs": [],
   "source": [
    "plt.figure(figsize = (15, 10))\n",
    "plot_importance(regularized_nonimp_model, max_num_features = 20)"
   ]
  },
  {
   "cell_type": "code",
   "execution_count": null,
   "id": "d2c5aa5e",
   "metadata": {},
   "outputs": [],
   "source": [
    "print(label_dict['mvar2'][0])\n",
    "print(label_dict['mvar15'][0])\n",
    "print(label_dict['mvar33'][0])\n",
    "print(label_dict['mvar13'][0])\n",
    "print(label_dict['mvar9'][0])"
   ]
  },
  {
   "cell_type": "code",
   "execution_count": null,
   "id": "4027d89b",
   "metadata": {},
   "outputs": [],
   "source": [
    "df_train.info()"
   ]
  },
  {
   "cell_type": "markdown",
   "id": "69d694e1",
   "metadata": {},
   "source": [
    "#### Considering L2 reg"
   ]
  },
  {
   "cell_type": "code",
   "execution_count": null,
   "id": "7b45d20f",
   "metadata": {},
   "outputs": [],
   "source": []
  },
  {
   "cell_type": "code",
   "execution_count": null,
   "id": "0b9c9663",
   "metadata": {},
   "outputs": [],
   "source": [
    "lambdas = [1, 5, 6, 7, 8]\n",
    "\n",
    "f_scores = []\n",
    "\n",
    "for el in lambdas:\n",
    "    \n",
    "    test_depth_model = XGBClassifier(silent = False, \n",
    "                      learning_rate = 0.01,  \n",
    "                      colsample_bytree = 0.6,\n",
    "                      subsample = 0.8,\n",
    "                      objective = 'binary:logistic', \n",
    "                      n_estimators = 3000,\n",
    "                      max_depth = 10, \n",
    "                      gamma = 5,\n",
    "                    scale_pos_weight = 5,\n",
    "                    reg_lambda = el)\n",
    "    \n",
    "    test_depth_model.fit(X_train, y_train)\n",
    "    \n",
    "    y_train_pred = test_depth_model.predict(X_train)\n",
    "    y_test_pred = test_depth_model.predict(X_test)\n",
    "    \n",
    "    train_f = f1_score(y_train, y_train_pred)\n",
    "    test_f = f1_score(y_test, y_test_pred)\n",
    "    \n",
    "    f_scores.append([train_f, test_f])"
   ]
  },
  {
   "cell_type": "code",
   "execution_count": null,
   "id": "a919fc78",
   "metadata": {},
   "outputs": [],
   "source": [
    "f_scores"
   ]
  },
  {
   "cell_type": "code",
   "execution_count": null,
   "id": "c8d0d869",
   "metadata": {},
   "outputs": [],
   "source": [
    "lambda_xgb_model = XGBClassifier(silent = False, \n",
    "                      learning_rate = 0.01,  \n",
    "                      colsample_bytree = 0.6,\n",
    "                      subsample = 0.8,\n",
    "                      objective = 'binary:logistic', \n",
    "                      n_estimators = 3000,\n",
    "                      max_depth = 10, \n",
    "                      gamma = 5,\n",
    "                    scale_pos_weight = 5,\n",
    "                    reg_lambda = 6)"
   ]
  },
  {
   "cell_type": "code",
   "execution_count": null,
   "id": "2bcfa8c2",
   "metadata": {},
   "outputs": [],
   "source": [
    "%time lambda_xgb_model.fit(X_train, y_train)\n",
    "\n",
    "y_train_pred = lambda_xgb_model.predict(X_train)\n",
    "y_test_pred = lambda_xgb_model.predict(X_test)\n",
    "\n",
    "print(classification_report(y_train_pred, y_train))\n",
    "print(classification_report(y_test_pred, y_test))"
   ]
  },
  {
   "cell_type": "code",
   "execution_count": null,
   "id": "0cef1972",
   "metadata": {},
   "outputs": [],
   "source": [
    "f1_score(y_test, y_test_pred)"
   ]
  },
  {
   "cell_type": "code",
   "execution_count": null,
   "id": "3c2cdd6b",
   "metadata": {},
   "outputs": [],
   "source": [
    "%time lambda_xgb_model.fit(X, y)\n",
    "\n",
    "y_train_pred = lambda_xgb_model.predict(X_train)\n",
    "y_test_pred = lambda_xgb_model.predict(X_test)\n",
    "\n",
    "print(classification_report(y_train_pred, y_train))\n",
    "print(classification_report(y_test_pred, y_test))"
   ]
  },
  {
   "cell_type": "code",
   "execution_count": null,
   "id": "2d7460ed",
   "metadata": {},
   "outputs": [],
   "source": [
    "plot_importance(regularized_xgb_model, max_num_features = 15)"
   ]
  },
  {
   "cell_type": "code",
   "execution_count": null,
   "id": "68afbcd5",
   "metadata": {},
   "outputs": [],
   "source": [
    "plot_importance(lambda_xgb_model, max_num_features = 15)"
   ]
  },
  {
   "cell_type": "markdown",
   "id": "bdb92c2d",
   "metadata": {},
   "source": [
    "#### Feature engineering "
   ]
  },
  {
   "cell_type": "code",
   "execution_count": null,
   "id": "25b208f1",
   "metadata": {},
   "outputs": [],
   "source": [
    "x = list(df_feat.columns)\n",
    "x.remove('default_ind')\n",
    "\n",
    "non_label_cols = list(df_feat.columns)\n",
    "non_label_cols.remove('default_ind')\n",
    "\n",
    "X = df_feat[non_label_cols]\n",
    "y = df_feat['default_ind']\n",
    "\n",
    "X_train, X_test, y_train, y_test = train_test_split(X, y, stratify = y,test_size = 0.3, random_state = 42)"
   ]
  },
  {
   "cell_type": "code",
   "execution_count": null,
   "id": "97e82fae",
   "metadata": {},
   "outputs": [],
   "source": [
    "feat_xgb_model = XGBClassifier(silent = False, \n",
    "                      learning_rate = 0.01,  \n",
    "                      colsample_bytree = 0.6,\n",
    "                      subsample = 0.8,\n",
    "                      objective = 'binary:logistic', \n",
    "                      n_estimators = 3000,\n",
    "                      max_depth = 10, \n",
    "                      gamma = 5,\n",
    "                    scale_pos_weight = 5,\n",
    "                    reg_lambda = 6,\n",
    "                    enable_categorical=True,\n",
    "                    tree_method=\"hist\")"
   ]
  },
  {
   "cell_type": "code",
   "execution_count": null,
   "id": "bcea5a2f",
   "metadata": {},
   "outputs": [],
   "source": [
    "feat_xgb_model.fit(X_train, y_train)\n",
    "\n",
    "y_train_pred = feat_xgb_model.predict(X_train)\n",
    "y_test_pred = feat_xgb_model.predict(X_test)\n",
    "\n",
    "print(classification_report(y_train_pred, y_train))\n",
    "print(classification_report(y_test_pred, y_test))"
   ]
  },
  {
   "cell_type": "code",
   "execution_count": null,
   "id": "b93c640e",
   "metadata": {},
   "outputs": [],
   "source": []
  },
  {
   "cell_type": "code",
   "execution_count": null,
   "id": "8c6a5293",
   "metadata": {},
   "outputs": [],
   "source": [
    "plot_importance(feat_xgb_model, max_num_features = 15)"
   ]
  },
  {
   "cell_type": "code",
   "execution_count": null,
   "id": "96cfd73a",
   "metadata": {},
   "outputs": [],
   "source": [
    "f1_score(y_test, y_test_pred)"
   ]
  },
  {
   "cell_type": "markdown",
   "id": "5d7740a4",
   "metadata": {},
   "source": [
    "Without category"
   ]
  },
  {
   "cell_type": "code",
   "execution_count": null,
   "id": "62f239bf",
   "metadata": {},
   "outputs": [],
   "source": [
    "x = list(df_feat.columns)\n",
    "x.remove('default_ind')\n",
    "\n",
    "non_label_cols = list(df_feat.columns)\n",
    "non_label_cols.remove('default_ind')\n",
    "\n",
    "X = df_feat[non_label_cols]\n",
    "y = df_feat['default_ind']\n",
    "\n",
    "X_train, X_test, y_train, y_test = train_test_split(X, y, stratify = y,test_size = 0.3, random_state = 42)"
   ]
  },
  {
   "cell_type": "code",
   "execution_count": null,
   "id": "4292e5d6",
   "metadata": {},
   "outputs": [],
   "source": [
    "X"
   ]
  },
  {
   "cell_type": "code",
   "execution_count": null,
   "id": "d909398e",
   "metadata": {},
   "outputs": [],
   "source": [
    "df_train_imputed"
   ]
  },
  {
   "cell_type": "code",
   "execution_count": null,
   "id": "9f07ea5a",
   "metadata": {},
   "outputs": [],
   "source": [
    "feat_xgb_model = XGBClassifier(silent = False, \n",
    "                      learning_rate = 0.01,  \n",
    "                      colsample_bytree = 0.6,\n",
    "                      subsample = 0.8,\n",
    "                      objective = 'binary:logistic', \n",
    "                      n_estimators = 3000,\n",
    "                      max_depth = 10, \n",
    "                      gamma = 5,\n",
    "                    scale_pos_weight = 5,\n",
    "                    reg_lambda = 6)"
   ]
  },
  {
   "cell_type": "code",
   "execution_count": null,
   "id": "00dacabb",
   "metadata": {},
   "outputs": [],
   "source": [
    "feat_xgb_model.fit(X_train, y_train)\n",
    "\n",
    "y_train_pred = feat_xgb_model.predict(X_train)\n",
    "y_test_pred = feat_xgb_model.predict(X_test)\n",
    "\n",
    "print(classification_report(y_train_pred, y_train))\n",
    "print(classification_report(y_test_pred, y_test))"
   ]
  },
  {
   "cell_type": "code",
   "execution_count": null,
   "id": "af1ff541",
   "metadata": {},
   "outputs": [],
   "source": [
    "f1_score(y_test, y_test_pred)"
   ]
  },
  {
   "cell_type": "code",
   "execution_count": null,
   "id": "3ec925b6",
   "metadata": {},
   "outputs": [],
   "source": [
    "plot_importance(feat_xgb_model, max_num_features = 15)"
   ]
  },
  {
   "cell_type": "code",
   "execution_count": null,
   "id": "211e8d74",
   "metadata": {},
   "outputs": [],
   "source": [
    "feat_xgb_model.feature_importances_.argsort()[::-1]"
   ]
  },
  {
   "cell_type": "code",
   "execution_count": null,
   "id": "34ded5f2",
   "metadata": {},
   "outputs": [],
   "source": []
  },
  {
   "cell_type": "markdown",
   "id": "c1242378",
   "metadata": {},
   "source": [
    "#### Random Forest"
   ]
  },
  {
   "cell_type": "code",
   "execution_count": null,
   "id": "ee85da2f",
   "metadata": {},
   "outputs": [],
   "source": [
    "rf_model = RandomForestClassifier(class_weight = 'balanced')"
   ]
  },
  {
   "cell_type": "code",
   "execution_count": null,
   "id": "f20ac903",
   "metadata": {},
   "outputs": [],
   "source": [
    "max_depths = [7, 8, 9, 10, 11, 12]\n",
    "\n",
    "f_scores = []\n",
    "\n",
    "for el in max_depths:\n",
    "    \n",
    "    rf_model = RandomForestClassifier(class_weight = 'balanced', max_depth = el)\n",
    "    \n",
    "    rf_model.fit(X_train, y_train)\n",
    "    \n",
    "    y_train_pred = rf_model.predict(X_train)\n",
    "    y_test_pred = rf_model.predict(X_test)\n",
    "    \n",
    "    train_f = f1_score(y_train, y_train_pred)\n",
    "    test_f = f1_score(y_test, y_test_pred)\n",
    "    \n",
    "    f_scores.append([train_f, test_f])\n",
    "    \n",
    "    print(el, 'done')"
   ]
  },
  {
   "cell_type": "code",
   "execution_count": null,
   "id": "16aeaa7c",
   "metadata": {},
   "outputs": [],
   "source": [
    "f_scores"
   ]
  },
  {
   "cell_type": "code",
   "execution_count": null,
   "id": "ef05fd64",
   "metadata": {},
   "outputs": [],
   "source": [
    "rf_model = RandomForestClassifier(max_depth = 10, class_weight = 'balanced')"
   ]
  },
  {
   "cell_type": "code",
   "execution_count": null,
   "id": "82944f8c",
   "metadata": {},
   "outputs": [],
   "source": [
    "rf_model.fit(X_train, y_train)\n",
    "\n",
    "y_train_pred = rf_model.predict(X_train)\n",
    "y_test_pred = rf_model.predict(X_test)\n",
    "\n",
    "print(classification_report(y_train_pred, y_train))\n",
    "print(classification_report(y_test_pred, y_test))"
   ]
  },
  {
   "cell_type": "code",
   "execution_count": null,
   "id": "c6abb129",
   "metadata": {},
   "outputs": [],
   "source": [
    "f1_score(y_test, y_test_pred)"
   ]
  },
  {
   "cell_type": "code",
   "execution_count": null,
   "id": "47d6b5da",
   "metadata": {},
   "outputs": [],
   "source": [
    "estimators = [300, 400, 500, 600]\n",
    "\n",
    "f_scores = []\n",
    "\n",
    "for el in estimators:\n",
    "    \n",
    "    rf_model = RandomForestClassifier(class_weight = 'balanced', max_depth = 10, n_estimators = el)\n",
    "    \n",
    "    rf_model.fit(X_train, y_train)\n",
    "    \n",
    "    y_train_pred = rf_model.predict(X_train)\n",
    "    y_test_pred = rf_model.predict(X_test)\n",
    "    \n",
    "    train_f = f1_score(y_train, y_train_pred)\n",
    "    test_f = f1_score(y_test, y_test_pred)\n",
    "    \n",
    "    f_scores.append([train_f, test_f])\n",
    "    \n",
    "    print(el, 'done')"
   ]
  },
  {
   "cell_type": "code",
   "execution_count": null,
   "id": "e821de24",
   "metadata": {},
   "outputs": [],
   "source": [
    "f_scores"
   ]
  },
  {
   "cell_type": "markdown",
   "id": "2df986c2",
   "metadata": {},
   "source": [
    "### RF model"
   ]
  },
  {
   "cell_type": "code",
   "execution_count": null,
   "id": "cba34eda",
   "metadata": {},
   "outputs": [],
   "source": [
    "X = df_train_imputed[non_label_cols]\n",
    "y = df_train_imputed['default_ind']\n",
    "\n",
    "X_train, X_test, y_train, y_test = train_test_split(X, y, stratify = y,test_size = 0.3, random_state = 42)"
   ]
  },
  {
   "cell_type": "code",
   "execution_count": null,
   "id": "326f396e",
   "metadata": {},
   "outputs": [],
   "source": [
    "rf_model = RandomForestClassifier(class_weight = 'balanced', max_depth = 10,\n",
    "                                  min_samples_split = 2, \n",
    "                                  n_estimators = 100, random_state = 42)"
   ]
  },
  {
   "cell_type": "code",
   "execution_count": null,
   "id": "36de3890",
   "metadata": {},
   "outputs": [],
   "source": [
    "rf_model.fit(X_train, y_train)"
   ]
  },
  {
   "cell_type": "code",
   "execution_count": null,
   "id": "432a9497",
   "metadata": {},
   "outputs": [],
   "source": [
    "y_train_pred_rf = rf_model.predict(X_train)\n",
    "y_test_pred_rf = rf_model.predict(X_test)\n",
    "\n",
    "print(classification_report(y_train_pred_rf, y_train))\n",
    "print(classification_report(y_test_pred_rf, y_test))"
   ]
  },
  {
   "cell_type": "code",
   "execution_count": null,
   "id": "6cc88bb0",
   "metadata": {},
   "outputs": [],
   "source": [
    "f1_score(y_test, y_test_pred_rf)"
   ]
  },
  {
   "cell_type": "markdown",
   "id": "d37f9bd9",
   "metadata": {},
   "source": [
    "0.5865355430097736"
   ]
  },
  {
   "cell_type": "code",
   "execution_count": null,
   "id": "278e78fe",
   "metadata": {},
   "outputs": [],
   "source": [
    "sorted_idx = rf_model.feature_importances_.argsort()[:15]\n",
    "plt.barh(X.columns[sorted_idx], rf_model.feature_importances_[sorted_idx])"
   ]
  },
  {
   "cell_type": "markdown",
   "id": "4ac1c475",
   "metadata": {},
   "source": [
    "depth = 10, est = 400 "
   ]
  },
  {
   "cell_type": "code",
   "execution_count": null,
   "id": "8a0eedce",
   "metadata": {},
   "outputs": [],
   "source": [
    "y_train_prob_rf = rf_model.predict_proba(X_train)\n",
    "y_test_prob_rf = rf_model.predict_proba(X_test)"
   ]
  },
  {
   "cell_type": "code",
   "execution_count": null,
   "id": "2784a4fa",
   "metadata": {},
   "outputs": [],
   "source": []
  },
  {
   "cell_type": "code",
   "execution_count": null,
   "id": "19dc9cf7",
   "metadata": {},
   "outputs": [],
   "source": []
  },
  {
   "cell_type": "code",
   "execution_count": null,
   "id": "bafcc649",
   "metadata": {},
   "outputs": [],
   "source": [
    "from sklearn.model_selection import RandomizedSearchCV# Number of trees in random forest\n",
    "n_estimators = [int(x) for x in np.linspace(start = 200, stop = 2000, num = 10)]\n",
    "# Number of features to consider at every split\n",
    "max_features = ['auto', 'sqrt']\n",
    "# Maximum number of levels in tree\n",
    "max_depth = [int(x) for x in np.linspace(10, 110, num = 11)]\n",
    "max_depth.append(None)\n",
    "# Minimum number of samples required to split a node\n",
    "min_samples_split = [2, 5, 10]\n",
    "# Minimum number of samples required at each leaf node\n",
    "min_samples_leaf = [1, 2, 4]\n",
    "# Method of selecting samples for training each tree\n",
    "bootstrap = [True, False]# Create the random grid\n",
    "random_grid = {'n_estimators': n_estimators,\n",
    "               'max_features': max_features,\n",
    "               'max_depth': max_depth,\n",
    "               'min_samples_split': min_samples_split,\n",
    "               'min_samples_leaf': min_samples_leaf,\n",
    "               'bootstrap': bootstrap}\n",
    "\n",
    "print(random_grid)"
   ]
  },
  {
   "cell_type": "code",
   "execution_count": null,
   "id": "04fec660",
   "metadata": {},
   "outputs": [],
   "source": [
    "from sklearn.ensemble import RandomForestRegressor\n",
    "\n",
    "\n",
    "# Use the random grid to search for best hyperparameters\n",
    "# First create the base model to tune\n",
    "rf = RandomForestClassifier(class_weight = 'balanced')\n",
    "# Random search of parameters, using 3 fold cross validation, \n",
    "# search across 100 different combinations, and use all available cores\n",
    "rf_random = RandomizedSearchCV(estimator = rf, scoring='f1',param_distributions = random_grid, n_iter = 10, cv = 3, verbose=2, random_state=42, n_jobs = -1)# Fit the random search model\n",
    "rf_random.fit(X, y)"
   ]
  },
  {
   "cell_type": "markdown",
   "id": "27fb5069",
   "metadata": {},
   "source": [
    "#### Xgboost:"
   ]
  },
  {
   "cell_type": "code",
   "execution_count": null,
   "id": "6bf05f0d",
   "metadata": {},
   "outputs": [],
   "source": [
    "X = df_train[non_label_cols]\n",
    "y = df_train_imputed['default_ind']\n",
    "\n",
    "X_train, X_test, y_train, y_test = train_test_split(X, y, stratify = y,test_size = 0.3, random_state = 42)"
   ]
  },
  {
   "cell_type": "code",
   "execution_count": null,
   "id": "0d4d7d0d",
   "metadata": {},
   "outputs": [],
   "source": [
    "pisham_xgb_model = XGBClassifier(learning_rate = 0.01,  \n",
    "                      colsample_bytree = 0.35,\n",
    "                      subsample = 0.5,\n",
    "                      objective = 'binary:logistic', \n",
    "                      n_estimators = 3000,\n",
    "                      max_depth = 14, \n",
    "                      scale_pos_weight = 3,\n",
    "                      reg_lambda = 8,\n",
    "                      gamma = 6,\n",
    "                      tree_method = 'hist',\n",
    "                      random_state = 42,\n",
    "                    eval_metric = 'auc')"
   ]
  },
  {
   "cell_type": "code",
   "execution_count": null,
   "id": "90bc89fe",
   "metadata": {},
   "outputs": [],
   "source": [
    "%time pisham_xgb_model.fit(X_train, y_train)"
   ]
  },
  {
   "cell_type": "code",
   "execution_count": null,
   "id": "7007d6f3",
   "metadata": {},
   "outputs": [],
   "source": [
    "y_train_pred_xg = pisham_xgb_model.predict(X_train)\n",
    "y_test_pred_xg = pisham_xgb_model.predict(X_test)\n",
    "\n",
    "print(classification_report(y_train_pred_xg, y_train))\n",
    "print(classification_report(y_test_pred_xg, y_test))"
   ]
  },
  {
   "cell_type": "code",
   "execution_count": null,
   "id": "c892e2cd",
   "metadata": {},
   "outputs": [],
   "source": [
    "f1_score(y_test, y_test_pred_xg)"
   ]
  },
  {
   "cell_type": "code",
   "execution_count": null,
   "id": "0c44c498",
   "metadata": {},
   "outputs": [],
   "source": [
    "plot_importance(pisham_xgb_model, max_num_features = 15)"
   ]
  },
  {
   "cell_type": "code",
   "execution_count": null,
   "id": "f63a3388",
   "metadata": {},
   "outputs": [],
   "source": [
    "y_train_prob_xg = pisham_xgb_model.predict_proba(X_train)\n",
    "y_test_prob_xg = pisham_xgb_model.predict_proba(X_test)"
   ]
  },
  {
   "cell_type": "code",
   "execution_count": null,
   "id": "7b865344",
   "metadata": {},
   "outputs": [],
   "source": [
    "y_train_prob_xg"
   ]
  },
  {
   "cell_type": "markdown",
   "id": "c6bbe327",
   "metadata": {},
   "source": [
    "#### Half dataset"
   ]
  },
  {
   "cell_type": "code",
   "execution_count": null,
   "id": "6f0aeceb",
   "metadata": {},
   "outputs": [],
   "source": [
    "X = df_train[non_label_cols]\n",
    "X = X.iloc[:, :25]\n",
    "y = df_train_imputed['default_ind']\n",
    "\n",
    "X_train, X_test, y_train, y_test = train_test_split(X, y, stratify = y,test_size = 0.3, random_state = 42)"
   ]
  },
  {
   "cell_type": "code",
   "execution_count": null,
   "id": "471caaef",
   "metadata": {},
   "outputs": [],
   "source": [
    "first_xgb_model = XGBClassifier(learning_rate = 0.01,  \n",
    "                      colsample_bytree = 0.35,\n",
    "                      subsample = 0.5,\n",
    "                      objective = 'binary:logistic', \n",
    "                      n_estimators = 2500,\n",
    "                      max_depth = 14, \n",
    "                      scale_pos_weight = 3,\n",
    "                      reg_lambda = 8,\n",
    "                      gamma = 6,\n",
    "                      tree_method = 'hist',\n",
    "                      random_state = 42,\n",
    "                    eval_metric = 'auc')"
   ]
  },
  {
   "cell_type": "code",
   "execution_count": null,
   "id": "2030a08b",
   "metadata": {},
   "outputs": [],
   "source": [
    "%time first_xgb_model.fit(X_train, y_train)"
   ]
  },
  {
   "cell_type": "code",
   "execution_count": null,
   "id": "88f62b16",
   "metadata": {},
   "outputs": [],
   "source": [
    "y_train_pred_f = first_xgb_model.predict(X_train)\n",
    "y_test_pred_f = first_xgb_model.predict(X_test)\n",
    "\n",
    "print(classification_report(y_train_pred_f, y_train))\n",
    "print(classification_report(y_test_pred_f, y_test))"
   ]
  },
  {
   "cell_type": "code",
   "execution_count": null,
   "id": "d7ab99a4",
   "metadata": {},
   "outputs": [],
   "source": [
    "f1_score(y_test, y_test_pred_f)"
   ]
  },
  {
   "cell_type": "code",
   "execution_count": null,
   "id": "940fd433",
   "metadata": {},
   "outputs": [],
   "source": [
    "plot_importance(first_xgb_model, max_num_features = 15)"
   ]
  },
  {
   "cell_type": "code",
   "execution_count": null,
   "id": "36aea9a5",
   "metadata": {},
   "outputs": [],
   "source": [
    "X = df_train[non_label_cols]\n",
    "X = X.iloc[:, 25:]\n",
    "y = df_train_imputed['default_ind']\n",
    "\n",
    "X_train, X_test, y_train, y_test = train_test_split(X, y, stratify = y,test_size = 0.3, random_state = 42)"
   ]
  },
  {
   "cell_type": "code",
   "execution_count": null,
   "id": "bbd55a44",
   "metadata": {},
   "outputs": [],
   "source": [
    "second_xgb_model = XGBClassifier(learning_rate = 0.01,  \n",
    "                      colsample_bytree = 0.35,\n",
    "                      subsample = 0.5,\n",
    "                      objective = 'binary:logistic', \n",
    "                      n_estimators = 3000,\n",
    "                      max_depth = 14, \n",
    "                      scale_pos_weight = 3,\n",
    "                      reg_lambda = 8,\n",
    "                      gamma = 6,\n",
    "                      tree_method = 'hist',\n",
    "                      random_state = 42,\n",
    "                    eval_metric = 'auc')"
   ]
  },
  {
   "cell_type": "code",
   "execution_count": null,
   "id": "d8bae0f3",
   "metadata": {},
   "outputs": [],
   "source": [
    "%time second_xgb_model.fit(X_train, y_train)"
   ]
  },
  {
   "cell_type": "code",
   "execution_count": null,
   "id": "c704ec96",
   "metadata": {},
   "outputs": [],
   "source": [
    "y_train_pred_s = second_xgb_model.predict(X_train)\n",
    "y_test_pred_s = second_xgb_model.predict(X_test)\n",
    "\n",
    "print(classification_report(y_train_pred_s, y_train))\n",
    "print(classification_report(y_test_pred_s, y_test))"
   ]
  },
  {
   "cell_type": "code",
   "execution_count": null,
   "id": "ff3ac4ac",
   "metadata": {},
   "outputs": [],
   "source": [
    "f1_score(y_test, y_test_pred_s)"
   ]
  },
  {
   "cell_type": "code",
   "execution_count": null,
   "id": "685fb984",
   "metadata": {},
   "outputs": [],
   "source": [
    "plot_importance(second_xgb_model, max_num_features = 15)"
   ]
  },
  {
   "cell_type": "code",
   "execution_count": null,
   "id": "e56e9227",
   "metadata": {},
   "outputs": [],
   "source": [
    "good_feat = ['mvar2', 'mvar1', 'mvar25', 'mvar9', 'mvar7', 'mvar15', 'mvar13', 'mvar21', 'mvar24', 'mvar12',\n",
    "            'mvar33', 'mvar44', 'mvar32', 'mvar27', 'mvar26', 'mvar49', 'mvar51', 'mvar29', 'mvar30', 'mvar42']"
   ]
  },
  {
   "cell_type": "code",
   "execution_count": null,
   "id": "529c98f4",
   "metadata": {},
   "outputs": [],
   "source": [
    "X = df_train[non_label_cols]\n",
    "X = X[good_feat]\n",
    "y = df_train_imputed['default_ind']\n",
    "\n",
    "X_train, X_test, y_train, y_test = train_test_split(X, y, stratify = y,test_size = 0.3, random_state = 42)"
   ]
  },
  {
   "cell_type": "code",
   "execution_count": null,
   "id": "52cda96a",
   "metadata": {},
   "outputs": [],
   "source": [
    "sel_xgb_model = XGBClassifier(learning_rate = 0.01,  \n",
    "                      colsample_bytree = 0.7,\n",
    "                      subsample = 0.5,\n",
    "                      objective = 'binary:logistic', \n",
    "                      n_estimators = 3000,\n",
    "                      max_depth = 14, \n",
    "                      scale_pos_weight = 3,\n",
    "                      reg_lambda = 4,\n",
    "                      gamma = 6,\n",
    "                      tree_method = 'hist',\n",
    "                      random_state = 42,\n",
    "                    eval_metric = 'auc')"
   ]
  },
  {
   "cell_type": "code",
   "execution_count": null,
   "id": "41584ebe",
   "metadata": {},
   "outputs": [],
   "source": [
    "%time sel_xgb_model.fit(X_train, y_train)"
   ]
  },
  {
   "cell_type": "code",
   "execution_count": null,
   "id": "bea05818",
   "metadata": {},
   "outputs": [],
   "source": [
    "y_train_pred_sel = sel_xgb_model.predict(X_train)\n",
    "y_test_pred_sel = sel_xgb_model.predict(X_test)\n",
    "\n",
    "print(classification_report(y_train_pred_sel, y_train))\n",
    "print(classification_report(y_test_pred_sel, y_test))"
   ]
  },
  {
   "cell_type": "code",
   "execution_count": null,
   "id": "77d5ec86",
   "metadata": {},
   "outputs": [],
   "source": [
    "f1_score(y_test, y_test_pred_sel)"
   ]
  },
  {
   "cell_type": "code",
   "execution_count": null,
   "id": "7b3d3bb7",
   "metadata": {},
   "outputs": [],
   "source": [
    "y_train_pred = []\n",
    "for i in range(len(y_train_pred_rf)):\n",
    "    y_train_pred.append(list(mode(np.array([y_train_pred_f[i], y_train_pred_xg[i], y_train_pred_s[i]]).astype('float'), keepdims = False))[0])\n",
    "    \n",
    "y_train_pred = np.array(y_train_pred)\n",
    "\n",
    "y_test_pred = []\n",
    "for i in range(len(y_test_pred_rf)):\n",
    "    y_test_pred.append(list(mode(np.array([y_test_pred_f[i], y_test_pred_xg[i], y_test_pred_s[i]]).astype('float'), keepdims = False))[0])\n",
    "    \n",
    "y_test_pred = np.array(y_test_pred)"
   ]
  },
  {
   "cell_type": "code",
   "execution_count": null,
   "id": "6351e65d",
   "metadata": {},
   "outputs": [],
   "source": [
    "[f1_score(y_train, y_train_pred), f1_score(y_test, y_test_pred)]"
   ]
  },
  {
   "cell_type": "markdown",
   "id": "84d1da78",
   "metadata": {},
   "source": [
    "#### GBM:"
   ]
  },
  {
   "cell_type": "code",
   "execution_count": null,
   "id": "1fb9e11b",
   "metadata": {},
   "outputs": [],
   "source": [
    "df_raw = pd.read_csv('TrainingData.csv', index_col = 'application_key',low_memory = False)\n",
    "\n",
    "df_raw = df_raw.replace('na', np.NaN)\n",
    "df_raw = df_raw.replace('missing', np.NaN)\n",
    "df_raw = df_raw.replace('#VALUE!', np.NaN)\n",
    "\n",
    "labelencoder = LabelEncoder()\n",
    "df_raw['mvar47'] = labelencoder.fit_transform(df_raw['mvar47'])\n",
    "\n",
    "df_raw['mvar47'] = df_raw['mvar47'].astype('int')\n",
    "\n",
    "\n",
    "for k in range(51):\n",
    "    \n",
    "    if k == 46:\n",
    "        continue\n",
    "    \n",
    "    df_raw.iloc[:, k] = pd.to_numeric(df_raw.iloc[:, k]) "
   ]
  },
  {
   "cell_type": "code",
   "execution_count": null,
   "id": "30aecde5",
   "metadata": {},
   "outputs": [],
   "source": [
    "non_label_cols = list(df_raw.columns)\n",
    "non_label_cols.remove('default_ind')\n",
    "\n",
    "\n",
    "X = df_raw[non_label_cols]\n",
    "y = df_raw['default_ind']\n",
    "\n",
    "X_train, X_test, y_train, y_test = train_test_split(X, y, stratify = y,test_size = 0.3, random_state = 42)"
   ]
  },
  {
   "cell_type": "code",
   "execution_count": null,
   "id": "f9bac3d0",
   "metadata": {},
   "outputs": [],
   "source": [
    "X['mvar47'].unique()"
   ]
  },
  {
   "cell_type": "code",
   "execution_count": null,
   "id": "04323be1",
   "metadata": {},
   "outputs": [],
   "source": [
    "lgbm_model = LGBMClassifier(boosting_type = 'goss',\n",
    "                       learning_rate = 0.003,\n",
    "                       n_estimators = 3000,\n",
    "                       objective = 'binary',\n",
    "                       num_leaves = 40,\n",
    "                       max_depth = -1,\n",
    "                       is_unbalance = True,\n",
    "                       reg_lambda = 3,\n",
    "                       reg_alpha = 0,\n",
    "                       colsample_bytree = 0.9,\n",
    "                       min_split_gain = 0.0,\n",
    "                       random_state = 42,\n",
    "                       categorical_feature=46\n",
    "                       )\n",
    "\n",
    "params = {'boosting_type': 'goss',\n",
    "          'learning_rate': 0.002,\n",
    "         'n_estimators': 4000,\n",
    "         'objective': 'binary',\n",
    "         'num_leaves': 40,\n",
    "         'max_depth': -1,\n",
    "         'is_unbalance': True,\n",
    "         'reg_lambda': 3,\n",
    "         'reg_alpha': 0,\n",
    "         'colsample_bytree': 0.9,\n",
    "         'min_split_gain': 0.0,\n",
    "         'random_state': 42,\n",
    "         'categorical_feature': 46,\n",
    "         'metric': 'auc'}\n",
    "\n",
    "train_data = lightgbm.Dataset(X_train, \n",
    "                         label=y_train, \n",
    "                         categorical_feature=['mvar47'], \n",
    "                         free_raw_data=False)\n",
    "\n",
    "test_data = lightgbm.Dataset(X_test, \n",
    "                        label=y_test, \n",
    "                        categorical_feature=['mvar47'], \n",
    "                        free_raw_data=False)"
   ]
  },
  {
   "cell_type": "code",
   "execution_count": null,
   "id": "07dfc870",
   "metadata": {},
   "outputs": [],
   "source": [
    "%time lgbm_model = lightgbm.train(params, train_data, valid_sets = [test_data], categorical_feature=['mvar47'])"
   ]
  },
  {
   "cell_type": "code",
   "execution_count": null,
   "id": "1aef3a32",
   "metadata": {},
   "outputs": [],
   "source": [
    "y_train_pred_lg = lgbm_model.predict(X_train)\n",
    "y_train_pred_lg = [np.round(el) for el in y_train_pred_lg]\n",
    "\n",
    "y_test_pred_lg = lgbm_model.predict(X_test)\n",
    "y_test_pred_lg = [np.round(line) for line in y_test_pred_lg]\n",
    "\n",
    "print(classification_report(y_train_pred_lg, y_train))\n",
    "print(classification_report(y_test_pred_lg, y_test))"
   ]
  },
  {
   "cell_type": "code",
   "execution_count": null,
   "id": "17c1e0d4",
   "metadata": {},
   "outputs": [],
   "source": [
    "f1_score(y_test, y_test_pred_lg)"
   ]
  },
  {
   "cell_type": "code",
   "execution_count": null,
   "id": "8ab8029b",
   "metadata": {},
   "outputs": [],
   "source": [
    "non_label_cols = list(df_train.columns)\n",
    "non_label_cols.remove('default_ind')\n",
    "\n",
    "X = df_train[non_label_cols]\n",
    "y = df_train['default_ind']\n",
    "\n",
    "X_train, X_test, y_train, y_test = train_test_split(X, y, stratify = y,test_size = 0.3, random_state = 42)"
   ]
  },
  {
   "cell_type": "code",
   "execution_count": null,
   "id": "f35ca5b9",
   "metadata": {},
   "outputs": [],
   "source": [
    "lgbm_model = LGBMClassifier(boosting_type = 'goss',\n",
    "                       learning_rate = 0.003,\n",
    "                       n_estimators = 3500,\n",
    "                       objective = 'binary',\n",
    "                       num_leaves = 40,\n",
    "                       max_depth = -1,\n",
    "                       is_unbalance = True,\n",
    "                       #scale_pos_weight = 2.5,\n",
    "                       reg_lambda = 3,\n",
    "                       reg_alpha = 0,\n",
    "                       colsample_bytree = 0.9,\n",
    "                       min_split_gain = 0.0,\n",
    "                       random_state = 42\n",
    "                       )"
   ]
  },
  {
   "cell_type": "code",
   "execution_count": null,
   "id": "6c2253cc",
   "metadata": {},
   "outputs": [],
   "source": [
    "%time lgbm_model.fit(X_train, y_train)"
   ]
  },
  {
   "cell_type": "code",
   "execution_count": null,
   "id": "ce895d9b",
   "metadata": {},
   "outputs": [],
   "source": [
    "y_train_pred_lgbm = lgbm_model.predict(X_train)\n",
    "y_test_pred_lgbm = lgbm_model.predict(X_test)\n",
    "\n",
    "print(classification_report(y_train_pred_lgbm, y_train))\n",
    "print(classification_report(y_test_pred_lgbm, y_test))"
   ]
  },
  {
   "cell_type": "code",
   "execution_count": null,
   "id": "3fc65129",
   "metadata": {},
   "outputs": [],
   "source": [
    "f1_score(y_test, y_test_pred_lgbm)"
   ]
  },
  {
   "cell_type": "code",
   "execution_count": null,
   "id": "afd8631a",
   "metadata": {},
   "outputs": [],
   "source": [
    "lightgbm.plot_importance(lgbm_model, max_num_features = 15)"
   ]
  },
  {
   "cell_type": "markdown",
   "id": "ea65b9da",
   "metadata": {},
   "source": [
    "#### Optuna"
   ]
  },
  {
   "cell_type": "code",
   "execution_count": null,
   "id": "fa2f9270",
   "metadata": {},
   "outputs": [],
   "source": [
    "!pip install optuna"
   ]
  },
  {
   "cell_type": "code",
   "execution_count": null,
   "id": "1f3b01b6",
   "metadata": {},
   "outputs": [],
   "source": [
    "import optuna  # pip install optuna\n",
    "from optuna.integration import LightGBMPruningCallback\n",
    "\n",
    "from sklearn.metrics import log_loss\n",
    "from sklearn.model_selection import StratifiedKFold"
   ]
  },
  {
   "cell_type": "code",
   "execution_count": null,
   "id": "797e0f3c",
   "metadata": {},
   "outputs": [],
   "source": [
    "X  = X.reset_index().drop(['application_key'], axis = 1)\n",
    "y  = y.reset_index().drop(['application_key'], axis = 1)"
   ]
  },
  {
   "cell_type": "code",
   "execution_count": null,
   "id": "524b4488",
   "metadata": {},
   "outputs": [],
   "source": [
    "def objective(trial, X, y):\n",
    "    \n",
    "    param_grid = {\n",
    "        \"n_estimators\": trial.suggest_categorical(\"n_estimators\", [10000]),\n",
    "        \"learning_rate\": trial.suggest_float(\"learning_rate\", 0.001, 0.1),\n",
    "        \"num_leaves\": trial.suggest_int(\"num_leaves\", 20, 3000, step=20),\n",
    "        \"max_depth\": trial.suggest_int(\"max_depth\", 3, 12),\n",
    "        \"min_data_in_leaf\": trial.suggest_int(\"min_data_in_leaf\", 200, 10000, step=100),\n",
    "        \"lambda_l1\": trial.suggest_int(\"lambda_l1\", 0, 100, step=5),\n",
    "        \"lambda_l2\": trial.suggest_int(\"lambda_l2\", 0, 100, step=5),\n",
    "        \"min_gain_to_split\": trial.suggest_float(\"min_gain_to_split\", 0, 15),\n",
    "        \"feature_fraction\": trial.suggest_float(\n",
    "            \"feature_fraction\", 0.2, 0.9, step=0.1\n",
    "        ),\n",
    "        \"col_sample_bytree\": trial.suggest_float('col_sample_bytree', 0.5, 0.9),\n",
    "    }\n",
    "\n",
    "    cv = StratifiedKFold(n_splits=5, shuffle=True, random_state = 1121218)\n",
    "\n",
    "    cv_scores = np.empty(5)\n",
    "    \n",
    "    for idx, (train_idx, test_idx) in enumerate(cv.split(X, y)):\n",
    "        \n",
    "        print(train_idx)\n",
    "        \n",
    "        X_train, X_test = X.iloc[train_idx, :], X.iloc[test_idx, :]\n",
    "        y_train, y_test = y.iloc[train_idx, :], y.iloc[test_idx, :]\n",
    "\n",
    "        model = lightgbm.LGBMClassifier(objective = \"binary\", is_unbalance = True, boosting_type = 'goss',\n",
    "                                        min_split_gain = 0.0, **param_grid)\n",
    "        model.fit(\n",
    "            X_train,\n",
    "            y_train,\n",
    "            eval_set=[(X_test, y_test)],\n",
    "            eval_metric=\"f1\",\n",
    "            early_stopping_rounds=100,\n",
    "            #callbacks=[\n",
    "            #    LightGBMPruningCallback(trial, \"binary_logloss\")\n",
    "            #],  # Add a pruning callback\n",
    "        )\n",
    "        preds = model.predict(X_test)\n",
    "        cv_scores[idx] = f1_score(y_test, preds)\n",
    "\n",
    "    return np.mean(cv_scores)"
   ]
  },
  {
   "cell_type": "code",
   "execution_count": null,
   "id": "c5822e6c",
   "metadata": {},
   "outputs": [],
   "source": [
    "study = optuna.create_study(direction=\"maximize\", study_name=\"LGBM Classifier\")\n",
    "func = lambda trial: objective(trial, X, y)\n",
    "study.optimize(func, n_trials=20)"
   ]
  },
  {
   "cell_type": "code",
   "execution_count": null,
   "id": "02dce64b",
   "metadata": {},
   "outputs": [],
   "source": [
    "print(f\"\\tBest value (rmse): {study.best_value:.5f}\")\n",
    "print(f\"\\tBest params:\")\n",
    "\n",
    "for key, value in study.best_params.items():\n",
    "    print(f\"\\t\\t{key}: {value}\")\n",
    "    \n",
    "print(study.system_attrs)"
   ]
  },
  {
   "cell_type": "code",
   "execution_count": null,
   "id": "56b8de5d",
   "metadata": {},
   "outputs": [],
   "source": [
    "print(f\"Number of trials on the Pareto front: {len(study.best_trials)}\")\n",
    "\n",
    "trial_with_highest_accuracy = max(study.best_trials, key=lambda t: t.values[0])\n",
    "print(f\"Trial with highest accuracy: \")\n",
    "print(f\"\\tnumber: {trial_with_highest_accuracy.number}\")\n",
    "print(f\"\\tparams: {trial_with_highest_accuracy.params}\")\n",
    "print(f\"\\tvalues: {trial_with_highest_accuracy.values}\")\n"
   ]
  },
  {
   "cell_type": "code",
   "execution_count": null,
   "id": "a52062d7",
   "metadata": {},
   "outputs": [],
   "source": [
    "study.optimize(func, n_trials=20)"
   ]
  },
  {
   "cell_type": "code",
   "execution_count": null,
   "id": "dd0480eb",
   "metadata": {},
   "outputs": [],
   "source": [
    "print(f\"\\tBest value (rmse): {study.best_value:.5f}\")\n",
    "print(f\"\\tBest params:\")\n",
    "\n",
    "for key, value in study.best_params.items():\n",
    "    print(f\"\\t\\t{key}: {value}\")\n",
    "    \n",
    "print(study.user_attrs)"
   ]
  },
  {
   "cell_type": "markdown",
   "id": "a812db61",
   "metadata": {},
   "source": [
    "### Engineering"
   ]
  },
  {
   "cell_type": "code",
   "execution_count": null,
   "id": "8c4d0e37",
   "metadata": {},
   "outputs": [],
   "source": [
    "df_last = df_train.copy()"
   ]
  },
  {
   "cell_type": "code",
   "execution_count": null,
   "id": "1bad0eb8",
   "metadata": {},
   "outputs": [],
   "source": [
    "sns.boxplot(x = 'default_ind', y = 'mvar28', data = df_last)"
   ]
  },
  {
   "cell_type": "code",
   "execution_count": null,
   "id": "2be5415c",
   "metadata": {},
   "outputs": [],
   "source": [
    "sns.boxplot(x = df_last['default_ind'], y = np.log(1+df_last['mvar1']/(df_last['mvar2']+1)))"
   ]
  },
  {
   "cell_type": "code",
   "execution_count": null,
   "id": "e41099b6",
   "metadata": {},
   "outputs": [],
   "source": [
    "df_last['gen2'] = df_last['mvar1']/(df_last['mvar2']+1)"
   ]
  },
  {
   "cell_type": "code",
   "execution_count": null,
   "id": "00469407",
   "metadata": {},
   "outputs": [],
   "source": [
    "df_last.info()"
   ]
  },
  {
   "cell_type": "code",
   "execution_count": null,
   "id": "bf9b31c0",
   "metadata": {},
   "outputs": [],
   "source": [
    "non_label_cols = list(df_train.columns)\n",
    "non_label_cols.remove('default_ind')\n",
    "\n",
    "X = df_train[non_label_cols]\n",
    "y = df_train['default_ind']\n",
    "\n",
    "X_train, X_test, y_train, y_test = train_test_split(X, y, stratify = y,test_size = 0.3, random_state = 42)"
   ]
  },
  {
   "cell_type": "code",
   "execution_count": null,
   "id": "cfe42f33",
   "metadata": {},
   "outputs": [],
   "source": [
    "non_label_cols = list(df_last.columns)\n",
    "non_label_cols.remove('default_ind')\n",
    "\n",
    "X = df_last[non_label_cols]\n",
    "X = X.drop(['mvar28'], axis = 1)\n",
    "y = df_last['default_ind']\n",
    "\n",
    "X_train, X_test, y_train, y_test = train_test_split(X, y, stratify = y,test_size = 0.3, random_state = 1)"
   ]
  },
  {
   "cell_type": "code",
   "execution_count": null,
   "id": "9ccdd498",
   "metadata": {},
   "outputs": [],
   "source": [
    "lgbm_model = LGBMClassifier(boosting_type = 'goss',\n",
    "                       learning_rate = 0.001,\n",
    "                       n_estimators = 10000,\n",
    "                       objective = 'binary',\n",
    "                       num_leaves = 40,\n",
    "                       max_depth = -1,\n",
    "                       is_unbalance = True,\n",
    "                       reg_lambda = 3.1,\n",
    "                       reg_alpha = 0,\n",
    "                       colsample_bytree = 0.91,\n",
    "                       min_split_gain = 0,\n",
    "                       random_state = 42,\n",
    "                       min_data_in_bin = 4,\n",
    "                        min_child_samples = 20\n",
    "                       )"
   ]
  },
  {
   "cell_type": "code",
   "execution_count": null,
   "id": "ecffc4e6",
   "metadata": {},
   "outputs": [],
   "source": [
    "%time lgbm_model.fit(X_train, y_train)"
   ]
  },
  {
   "cell_type": "code",
   "execution_count": null,
   "id": "4205f090",
   "metadata": {},
   "outputs": [],
   "source": [
    "y_train_pred_lgbm = lgbm_model.predict(X_train)\n",
    "y_test_pred_lgbm = lgbm_model.predict(X_test)\n",
    "\n",
    "print(classification_report(y_train_pred_lgbm, y_train))\n",
    "print(classification_report(y_test_pred_lgbm, y_test))"
   ]
  },
  {
   "cell_type": "code",
   "execution_count": null,
   "id": "ce560990",
   "metadata": {},
   "outputs": [],
   "source": [
    "f1_score(y_test, y_test_pred_lgbm)"
   ]
  },
  {
   "cell_type": "code",
   "execution_count": null,
   "id": "a231d8de",
   "metadata": {},
   "outputs": [],
   "source": [
    "y_train_prob_lgbm = lgbm_model.predict_proba(X_train)"
   ]
  },
  {
   "cell_type": "code",
   "execution_count": null,
   "id": "9fa6e671",
   "metadata": {},
   "outputs": [],
   "source": [
    "y_train_prob_lgbm"
   ]
  },
  {
   "cell_type": "code",
   "execution_count": null,
   "id": "0e11d66a",
   "metadata": {},
   "outputs": [],
   "source": [
    "y_train_proba_lgbm = lgbm_model.predict_proba(X_train)"
   ]
  },
  {
   "cell_type": "code",
   "execution_count": null,
   "id": "7fa8fb51",
   "metadata": {},
   "outputs": [],
   "source": [
    "(y_train_proba_lgbm[y_train_pred_lgbm != y_train])"
   ]
  },
  {
   "cell_type": "code",
   "execution_count": null,
   "id": "73588eec",
   "metadata": {},
   "outputs": [],
   "source": [
    "(y_train[y_train_pred_lgbm != y_train])"
   ]
  },
  {
   "cell_type": "code",
   "execution_count": null,
   "id": "58c209f7",
   "metadata": {},
   "outputs": [],
   "source": [
    "weights = pd.Series([1]*len(y_train), index = y_train.index)"
   ]
  },
  {
   "cell_type": "code",
   "execution_count": null,
   "id": "1defdae6",
   "metadata": {},
   "outputs": [],
   "source": [
    "weights[y_train_pred_lgbm != y_train] = 1.5"
   ]
  },
  {
   "cell_type": "code",
   "execution_count": null,
   "id": "19c3613a",
   "metadata": {},
   "outputs": [],
   "source": [
    "weights"
   ]
  },
  {
   "cell_type": "code",
   "execution_count": null,
   "id": "44c09f84",
   "metadata": {},
   "outputs": [],
   "source": [
    "lgbm_model_weight = LGBMClassifier(boosting_type = 'goss',\n",
    "                       learning_rate = 0.001,\n",
    "                       n_estimators = 10000,\n",
    "                       objective = 'binary',\n",
    "                       num_leaves = 40,\n",
    "                       max_depth = -1,\n",
    "                       is_unbalance = True,\n",
    "                       reg_lambda = 3.5,\n",
    "                       reg_alpha = 0,\n",
    "                       colsample_bytree = 0.91,\n",
    "                       min_split_gain = 0,\n",
    "                       random_state = 42,\n",
    "                       min_data_in_bin = 4,\n",
    "                        min_child_samples = 20\n",
    "                       )"
   ]
  },
  {
   "cell_type": "code",
   "execution_count": null,
   "id": "e16ce529",
   "metadata": {},
   "outputs": [],
   "source": [
    "%time lgbm_model_weight.fit(X_train, y_train, sample_weight = weights) "
   ]
  },
  {
   "cell_type": "code",
   "execution_count": null,
   "id": "6c77426a",
   "metadata": {},
   "outputs": [],
   "source": [
    "y_train_pred_lgbmw = lgbm_model_weight.predict(X_train)\n",
    "y_test_pred_lgbmw = lgbm_model_weight.predict(X_test)\n",
    "\n",
    "print(classification_report(y_train_pred_lgbmw, y_train))\n",
    "print(classification_report(y_test_pred_lgbmw, y_test))"
   ]
  },
  {
   "cell_type": "code",
   "execution_count": null,
   "id": "58716b09",
   "metadata": {},
   "outputs": [],
   "source": [
    "f1_score(y_test, y_test_pred_lgbmw)"
   ]
  },
  {
   "cell_type": "code",
   "execution_count": null,
   "id": "897a2a39",
   "metadata": {},
   "outputs": [],
   "source": [
    "lightgbm.plot_importance(lgbm_model_weight, max_num_features = 20)"
   ]
  },
  {
   "cell_type": "code",
   "execution_count": null,
   "id": "baa3dd9d",
   "metadata": {},
   "outputs": [],
   "source": [
    "(y_train_pred_lgbm != y_train_pred_lgbmw).sum()"
   ]
  },
  {
   "cell_type": "code",
   "execution_count": null,
   "id": "51c7f45f",
   "metadata": {},
   "outputs": [],
   "source": [
    "len(y_train)"
   ]
  },
  {
   "cell_type": "code",
   "execution_count": null,
   "id": "1dd660cf",
   "metadata": {},
   "outputs": [],
   "source": []
  },
  {
   "cell_type": "code",
   "execution_count": null,
   "id": "923affef",
   "metadata": {},
   "outputs": [],
   "source": [
    "len(y_train_pred_lgbm)"
   ]
  },
  {
   "cell_type": "code",
   "execution_count": null,
   "id": "18fe7405",
   "metadata": {},
   "outputs": [],
   "source": [
    "y_train_pred_lgbm"
   ]
  },
  {
   "cell_type": "code",
   "execution_count": null,
   "id": "56ece69d",
   "metadata": {},
   "outputs": [],
   "source": [
    "f1_score(y_test, y_test_pred_lgbm)"
   ]
  },
  {
   "cell_type": "code",
   "execution_count": null,
   "id": "cf841400",
   "metadata": {},
   "outputs": [],
   "source": [
    "(0.5987620936241812 + 0.6022331612438468 + 0.6004190362167017)/3"
   ]
  },
  {
   "cell_type": "code",
   "execution_count": null,
   "id": "23f27678",
   "metadata": {},
   "outputs": [],
   "source": [
    "(0.5976707888101812+0.6008009084932161+0.6004560729716754)/3"
   ]
  },
  {
   "cell_type": "markdown",
   "id": "80dd8f2d",
   "metadata": {},
   "source": [
    "0.6008009084932161"
   ]
  },
  {
   "cell_type": "code",
   "execution_count": null,
   "id": "e1339528",
   "metadata": {},
   "outputs": [],
   "source": [
    "lightgbm.plot_importance(lgbm_model, max_num_features = 25)"
   ]
  },
  {
   "cell_type": "code",
   "execution_count": null,
   "id": "bfea6900",
   "metadata": {},
   "outputs": [],
   "source": [
    "lgbm_model.feature_importances_[list(X.columns).index('mvar28')]"
   ]
  },
  {
   "cell_type": "code",
   "execution_count": null,
   "id": "f85a5962",
   "metadata": {},
   "outputs": [],
   "source": [
    "lightgbm.plot_importance(lgbm_model, max_num_features = 15)"
   ]
  },
  {
   "cell_type": "code",
   "execution_count": null,
   "id": "7989dfaa",
   "metadata": {},
   "outputs": [],
   "source": [
    "y_train_prob_lgbm = lgbm_model.predict_proba(X_train)\n",
    "y_test_prob_lgbm = lgbm_model.predict_proba(X_test)"
   ]
  },
  {
   "cell_type": "code",
   "execution_count": null,
   "id": "0b958308",
   "metadata": {},
   "outputs": [],
   "source": [
    "lgbm_model = LGBMClassifier(boosting_type = 'goss',\n",
    "                       learning_rate = 0.001,\n",
    "                       n_estimators = 10000,\n",
    "                       objective = 'binary',\n",
    "                       num_leaves = 40,\n",
    "                       max_depth = -1,\n",
    "                       is_unbalance = True,\n",
    "                       reg_lambda = 3.1,\n",
    "                       reg_alpha = 0,\n",
    "                       colsample_bytree = 0.91,\n",
    "                       min_split_gain = 0,\n",
    "                       random_state = 42,\n",
    "                       min_data_in_bin = 4,\n",
    "                        min_child_samples = 20\n",
    "                       )"
   ]
  },
  {
   "cell_type": "code",
   "execution_count": null,
   "id": "8318ff7f",
   "metadata": {},
   "outputs": [],
   "source": [
    "%time lgbm_model.fit(X, y)"
   ]
  },
  {
   "cell_type": "code",
   "execution_count": null,
   "id": "1805a6fc",
   "metadata": {},
   "outputs": [],
   "source": [
    "y_train_pred_lgbm = lgbm_model.predict(X_train)\n",
    "y_test_pred_lgbm = lgbm_model.predict(X_test)\n",
    "\n",
    "print(classification_report(y_train_pred_lgbm, y_train))\n",
    "print(classification_report(y_test_pred_lgbm, y_test))"
   ]
  },
  {
   "cell_type": "code",
   "execution_count": null,
   "id": "ed77b8bf",
   "metadata": {},
   "outputs": [],
   "source": [
    "non_label_cols = list(df_feat.columns)\n",
    "non_label_cols.remove('default_ind')\n",
    "\n",
    "X = df_feat[non_label_cols]\n",
    "y = df_feat['default_ind']\n",
    "\n",
    "X_train, X_test, y_train, y_test = train_test_split(X, y, stratify = y,test_size = 0.3, random_state = 42)"
   ]
  },
  {
   "cell_type": "code",
   "execution_count": null,
   "id": "decaefc1",
   "metadata": {},
   "outputs": [],
   "source": [
    "lgbm_model = LGBMClassifier(boosting_type = 'goss',\n",
    "                       learning_rate = 0.0005,\n",
    "                       n_estimators = 10000,\n",
    "                       objective = 'binary',\n",
    "                       num_leaves = 40,\n",
    "                       max_depth = -1,\n",
    "                       is_unbalance = True,\n",
    "                       reg_lambda = 3.3,\n",
    "                       reg_alpha = 0,\n",
    "                       colsample_bytree = 0.89,\n",
    "                       min_split_gain = 0,\n",
    "                       random_state = 42,\n",
    "                       min_data_in_bin = 4,\n",
    "                        min_child_samples = 20\n",
    "                       )"
   ]
  },
  {
   "cell_type": "code",
   "execution_count": null,
   "id": "46b86edc",
   "metadata": {},
   "outputs": [],
   "source": [
    "%time lgbm_model.fit(X_train, y_train)"
   ]
  },
  {
   "cell_type": "code",
   "execution_count": null,
   "id": "8de907ce",
   "metadata": {},
   "outputs": [],
   "source": [
    "y_train_pred_lgbm = lgbm_model.predict(X_train)\n",
    "y_test_pred_lgbm = lgbm_model.predict(X_test)\n",
    "\n",
    "print(classification_report(y_train_pred_lgbm, y_train))\n",
    "print(classification_report(y_test_pred_lgbm, y_test))"
   ]
  },
  {
   "cell_type": "code",
   "execution_count": null,
   "id": "4ac55f12",
   "metadata": {},
   "outputs": [],
   "source": [
    "f1_score(y_test, y_test_pred_lgbm)"
   ]
  },
  {
   "cell_type": "code",
   "execution_count": null,
   "id": "22684e33",
   "metadata": {},
   "outputs": [],
   "source": [
    "non_label_cols = list(df_train.columns)\n",
    "non_label_cols.remove('default_ind')\n",
    "\n",
    "X = df_train[non_label_cols]\n",
    "y = df_train['default_ind']\n",
    "\n",
    "X_train, X_test, y_train, y_test = train_test_split(X, y, stratify = y,test_size = 0.3, random_state = 42)"
   ]
  },
  {
   "cell_type": "code",
   "execution_count": null,
   "id": "01ccdcfb",
   "metadata": {},
   "outputs": [],
   "source": [
    "lgbm_model2 = LGBMClassifier(boosting_type = 'dart',\n",
    "                       learning_rate = 0.001,\n",
    "                       n_estimators = 10000,\n",
    "                       objective = 'binary',\n",
    "                       num_leaves = 40,\n",
    "                       max_depth = -1,\n",
    "                       is_unbalance = True,\n",
    "                       reg_lambda = 3.1,\n",
    "                       reg_alpha = 0,\n",
    "                       colsample_bytree = 0.89,\n",
    "                       min_split_gain = 0,\n",
    "                       random_state = 42,\n",
    "                       min_data_in_bin = 4,\n",
    "                        min_child_samples = 20\n",
    "                       )"
   ]
  },
  {
   "cell_type": "code",
   "execution_count": null,
   "id": "01da6d58",
   "metadata": {},
   "outputs": [],
   "source": [
    "%time lgbm_model2.fit(X_train, y_train)"
   ]
  },
  {
   "cell_type": "code",
   "execution_count": null,
   "id": "9b8a779f",
   "metadata": {},
   "outputs": [],
   "source": [
    "y_train_pred_lgbm2 = lgbm_model2.predict(X_train)\n",
    "y_test_pred_lgbm2 = lgbm_model2.predict(X_test)\n",
    "\n",
    "print(classification_report(y_train_pred_lgbm2, y_train))\n",
    "print(classification_report(y_test_pred_lgbm2, y_test))"
   ]
  },
  {
   "cell_type": "code",
   "execution_count": null,
   "id": "d16031e4",
   "metadata": {},
   "outputs": [],
   "source": [
    "f1_score(y_test, y_test_pred_lgbm2)"
   ]
  },
  {
   "cell_type": "code",
   "execution_count": null,
   "id": "a7f331c8",
   "metadata": {},
   "outputs": [],
   "source": [
    "lightgbm.plot_importance(lgbm_model2, max_num_features = 15)"
   ]
  },
  {
   "cell_type": "code",
   "execution_count": null,
   "id": "f201a515",
   "metadata": {},
   "outputs": [],
   "source": [
    "(y_train_pred_lgbm2 != y_train_pred_lgbm).sum()"
   ]
  },
  {
   "cell_type": "code",
   "execution_count": null,
   "id": "1a27f894",
   "metadata": {},
   "outputs": [],
   "source": []
  },
  {
   "cell_type": "code",
   "execution_count": null,
   "id": "4919c67c",
   "metadata": {},
   "outputs": [],
   "source": [
    "non_label_cols = list(df_train.columns)\n",
    "non_label_cols.remove('default_ind')\n",
    "\n",
    "X = df_train[non_label_cols]\n",
    "X = X.drop(['mvar33'], axis = 1)\n",
    "y = df_train['default_ind']\n",
    "\n",
    "X_train, X_test, y_train, y_test = train_test_split(X, y, stratify = y,test_size = 0.3, random_state = 42)"
   ]
  },
  {
   "cell_type": "code",
   "execution_count": null,
   "id": "086f1e3d",
   "metadata": {},
   "outputs": [],
   "source": [
    "lgbm_model3 = LGBMClassifier(boosting_type = 'goss',\n",
    "                       learning_rate = 0.001,\n",
    "                       n_estimators = 10000,\n",
    "                       objective = 'binary',\n",
    "                       num_leaves = 40,\n",
    "                       max_depth = -1,\n",
    "                       is_unbalance = True,\n",
    "                       reg_lambda = 3.1,\n",
    "                       reg_alpha = 0,\n",
    "                       colsample_bytree = 0.91,\n",
    "                       min_split_gain = 0,\n",
    "                       random_state = 42,\n",
    "                       min_data_in_bin = 4,\n",
    "                        min_child_samples = 20\n",
    "                       )"
   ]
  },
  {
   "cell_type": "code",
   "execution_count": null,
   "id": "4b65abcf",
   "metadata": {},
   "outputs": [],
   "source": [
    "%time lgbm_model3.fit(X_train, y_train)"
   ]
  },
  {
   "cell_type": "code",
   "execution_count": null,
   "id": "6d0e2796",
   "metadata": {},
   "outputs": [],
   "source": [
    "y_train_pred_lgbm3 = lgbm_model3.predict(X_train)\n",
    "y_test_pred_lgbm3 = lgbm_model3.predict(X_test)\n",
    "\n",
    "print(classification_report(y_train_pred_lgbm3, y_train))\n",
    "print(classification_report(y_test_pred_lgbm3, y_test))"
   ]
  },
  {
   "cell_type": "code",
   "execution_count": null,
   "id": "4da53cf4",
   "metadata": {},
   "outputs": [],
   "source": [
    "f1_score(y_test, y_test_pred_lgbm3)"
   ]
  },
  {
   "cell_type": "code",
   "execution_count": null,
   "id": "663d3e9e",
   "metadata": {},
   "outputs": [],
   "source": [
    "lightgbm.plot_importance(lgbm_model3, max_num_features = 15)"
   ]
  },
  {
   "cell_type": "code",
   "execution_count": null,
   "id": "f1d38f2d",
   "metadata": {},
   "outputs": [],
   "source": [
    "lgbm_model4 = LGBMClassifier(boosting_type = 'gbdt',\n",
    "                       learning_rate = 0.001,\n",
    "                       n_estimators = 10000,\n",
    "                       objective = 'binary',\n",
    "                       num_leaves = 40,\n",
    "                       max_depth = -1,\n",
    "                       is_unbalance = True,\n",
    "                       reg_lambda = 3.1,\n",
    "                       reg_alpha = 0,\n",
    "                       colsample_bytree = 0.89,\n",
    "                       min_split_gain = 0,\n",
    "                       random_state = 42,\n",
    "                       min_data_in_bin = 4,\n",
    "                        min_child_samples = 20\n",
    "                       )"
   ]
  },
  {
   "cell_type": "code",
   "execution_count": null,
   "id": "ec7d35de",
   "metadata": {},
   "outputs": [],
   "source": [
    "%time lgbm_model4.fit(X_train, y_train)"
   ]
  },
  {
   "cell_type": "code",
   "execution_count": null,
   "id": "f0650f1b",
   "metadata": {},
   "outputs": [],
   "source": [
    "y_train_pred_lgbm4 = lgbm_model4.predict(X_train)\n",
    "y_test_pred_lgbm4 = lgbm_model4.predict(X_test)\n",
    "\n",
    "print(classification_report(y_train_pred_lgbm4, y_train))\n",
    "print(classification_report(y_test_pred_lgbm4, y_test))"
   ]
  },
  {
   "cell_type": "code",
   "execution_count": null,
   "id": "04fff06c",
   "metadata": {},
   "outputs": [],
   "source": [
    "f1_score(y_test, y_test_pred_lgbm4)"
   ]
  },
  {
   "cell_type": "code",
   "execution_count": null,
   "id": "26644b61",
   "metadata": {},
   "outputs": [],
   "source": [
    "lightgbm.plot_importance(lgbm_model4, max_num_features = 15)"
   ]
  },
  {
   "cell_type": "code",
   "execution_count": null,
   "id": "f978b56c",
   "metadata": {},
   "outputs": [],
   "source": [
    "non_label_cols = list(df_train.columns)\n",
    "non_label_cols.remove('default_ind')\n",
    "\n",
    "X = df_train[non_label_cols]\n",
    "y = df_train['default_ind']\n",
    "\n",
    "X = X.iloc[:, :18]\n",
    "\n",
    "X_train, X_test, y_train, y_test = train_test_split(X, y, stratify = y,test_size = 0.3, random_state = 42)"
   ]
  },
  {
   "cell_type": "code",
   "execution_count": null,
   "id": "cf0d2493",
   "metadata": {},
   "outputs": [],
   "source": [
    "lgbm_model1 = LGBMClassifier(boosting_type = 'goss',\n",
    "                       learning_rate = 0.001,\n",
    "                       n_estimators = 10000,\n",
    "                       objective = 'binary',\n",
    "                       num_leaves = 40,\n",
    "                       max_depth = -1,\n",
    "                       is_unbalance = True,\n",
    "                       reg_lambda = 4,\n",
    "                       reg_alpha = 0,\n",
    "                       colsample_bytree = 0.89,\n",
    "                       min_split_gain = 0,\n",
    "                       random_state = 42,\n",
    "                       min_data_in_bin = 4,\n",
    "                        min_child_samples = 20\n",
    "                       )"
   ]
  },
  {
   "cell_type": "code",
   "execution_count": null,
   "id": "1c5d1c00",
   "metadata": {},
   "outputs": [],
   "source": [
    "%time lgbm_model1.fit(X_train, y_train)"
   ]
  },
  {
   "cell_type": "code",
   "execution_count": null,
   "id": "1d98abe3",
   "metadata": {},
   "outputs": [],
   "source": [
    "y_train_pred_lgbm1 = lgbm_model1.predict(X_train)\n",
    "y_test_pred_lgbm1 = lgbm_model1.predict(X_test)\n",
    "\n",
    "print(classification_report(y_train_pred_lgbm1, y_train))\n",
    "print(classification_report(y_test_pred_lgbm1, y_test))"
   ]
  },
  {
   "cell_type": "code",
   "execution_count": null,
   "id": "9f1b209e",
   "metadata": {},
   "outputs": [],
   "source": [
    "f1_score(y_test, y_test_pred_lgbm1)"
   ]
  },
  {
   "cell_type": "code",
   "execution_count": null,
   "id": "b076e7d1",
   "metadata": {},
   "outputs": [],
   "source": [
    "y_train_prob_lgbm1 = lgbm_model1.predict_proba(X_train)[:, 1]\n",
    "y_test_prob_lgbm1 = lgbm_model1.predict_proba(X_test)[:, 1]"
   ]
  },
  {
   "cell_type": "code",
   "execution_count": null,
   "id": "f0f3d4db",
   "metadata": {},
   "outputs": [],
   "source": [
    "non_label_cols = list(df_train.columns)\n",
    "non_label_cols.remove('default_ind')\n",
    "\n",
    "X = df_train[non_label_cols]\n",
    "y = df_train['default_ind']\n",
    "\n",
    "X = X.iloc[:, 18:36]\n",
    "\n",
    "X_train, X_test, y_train, y_test = train_test_split(X, y, stratify = y,test_size = 0.3, random_state = 42)"
   ]
  },
  {
   "cell_type": "code",
   "execution_count": null,
   "id": "0e10e0c8",
   "metadata": {},
   "outputs": [],
   "source": [
    "lgbm_model2 = LGBMClassifier(boosting_type = 'goss',\n",
    "                       learning_rate = 0.001,\n",
    "                       n_estimators = 10000,\n",
    "                       objective = 'binary',\n",
    "                       num_leaves = 40,\n",
    "                       max_depth = -1,\n",
    "                       is_unbalance = True,\n",
    "                       reg_lambda = 4,\n",
    "                       reg_alpha = 0,\n",
    "                       colsample_bytree = 0.89,\n",
    "                       min_split_gain = 0,\n",
    "                       random_state = 42,\n",
    "                       min_data_in_bin = 4,\n",
    "                        min_child_samples = 20\n",
    "                       )"
   ]
  },
  {
   "cell_type": "code",
   "execution_count": null,
   "id": "6a234160",
   "metadata": {},
   "outputs": [],
   "source": [
    "%time lgbm_model2.fit(X_train, y_train)"
   ]
  },
  {
   "cell_type": "code",
   "execution_count": null,
   "id": "154f9298",
   "metadata": {},
   "outputs": [],
   "source": [
    "y_train_pred_lgbm2 = lgbm_model2.predict(X_train)\n",
    "y_test_pred_lgbm2 = lgbm_model2.predict(X_test)\n",
    "\n",
    "print(classification_report(y_train_pred_lgbm2, y_train))\n",
    "print(classification_report(y_test_pred_lgbm2, y_test))"
   ]
  },
  {
   "cell_type": "code",
   "execution_count": null,
   "id": "c2114ed6",
   "metadata": {},
   "outputs": [],
   "source": [
    "f1_score(y_test, y_test_pred_lgbm2)"
   ]
  },
  {
   "cell_type": "code",
   "execution_count": null,
   "id": "b52172a9",
   "metadata": {},
   "outputs": [],
   "source": [
    "y_train_prob_lgbm2 = lgbm_model2.predict_proba(X_train)[:, 1]\n",
    "y_test_prob_lgbm2 = lgbm_model2.predict_proba(X_test)[:, 1]"
   ]
  },
  {
   "cell_type": "code",
   "execution_count": null,
   "id": "737030ad",
   "metadata": {},
   "outputs": [],
   "source": [
    "non_label_cols = list(df_train.columns)\n",
    "non_label_cols.remove('default_ind')\n",
    "\n",
    "X = df_train[non_label_cols]\n",
    "y = df_train['default_ind']\n",
    "\n",
    "X = X.iloc[:, 36:]\n",
    "\n",
    "X_train, X_test, y_train, y_test = train_test_split(X, y, stratify = y,test_size = 0.3, random_state = 42)"
   ]
  },
  {
   "cell_type": "code",
   "execution_count": null,
   "id": "c92dfa86",
   "metadata": {},
   "outputs": [],
   "source": [
    "lgbm_model3 = LGBMClassifier(boosting_type = 'goss',\n",
    "                       learning_rate = 0.001,\n",
    "                       n_estimators = 10000,\n",
    "                       objective = 'binary',\n",
    "                       num_leaves = 40,\n",
    "                       max_depth = -1,\n",
    "                       is_unbalance = True,\n",
    "                       reg_lambda = 4,\n",
    "                       reg_alpha = 0,\n",
    "                       colsample_bytree = 0.89,\n",
    "                       min_split_gain = 0,\n",
    "                       random_state = 42,\n",
    "                       min_data_in_bin = 4,\n",
    "                        min_child_samples = 20\n",
    "                       )"
   ]
  },
  {
   "cell_type": "code",
   "execution_count": null,
   "id": "bd2f4d73",
   "metadata": {},
   "outputs": [],
   "source": [
    "%time lgbm_model3.fit(X_train, y_train)"
   ]
  },
  {
   "cell_type": "code",
   "execution_count": null,
   "id": "c205ef78",
   "metadata": {},
   "outputs": [],
   "source": [
    "y_train_pred_lgbm3 = lgbm_model3.predict(X_train)\n",
    "y_test_pred_lgbm3 = lgbm_model3.predict(X_test)\n",
    "\n",
    "print(classification_report(y_train_pred_lgbm3, y_train))\n",
    "print(classification_report(y_test_pred_lgbm3, y_test))"
   ]
  },
  {
   "cell_type": "code",
   "execution_count": null,
   "id": "c99b8da6",
   "metadata": {},
   "outputs": [],
   "source": [
    "f1_score(y_test, y_test_pred_lgbm3)"
   ]
  },
  {
   "cell_type": "code",
   "execution_count": null,
   "id": "6b542bac",
   "metadata": {},
   "outputs": [],
   "source": [
    "y_train_prob_lgbm3 = lgbm_model3.predict_proba(X_train)[:, 1]\n",
    "y_test_prob_lgbm3 = lgbm_model3.predict_proba(X_test)[:, 1]"
   ]
  },
  {
   "cell_type": "code",
   "execution_count": null,
   "id": "405355d2",
   "metadata": {},
   "outputs": [],
   "source": [
    "non_label_cols = list(df_train.columns)\n",
    "non_label_cols.remove('default_ind')\n",
    "\n",
    "X = df_train[non_label_cols]\n",
    "y = df_train['default_ind']\n",
    "\n",
    "X_train, X_test, y_train, y_test = train_test_split(X, y, stratify = y,test_size = 0.3, random_state = 42)\n",
    "\n",
    "X_train.loc[:, 'm1'] = y_train_prob_lgbm1\n",
    "X_train.loc[:, 'm2'] = y_train_prob_lgbm2\n",
    "X_train.loc[:, 'm3'] = y_train_prob_lgbm3\n",
    "\n",
    "X_test.loc[:, 'm1'] = y_test_prob_lgbm1\n",
    "X_test.loc[:, 'm2'] = y_test_prob_lgbm2\n",
    "X_test.loc[:, 'm3'] = y_test_prob_lgbm3"
   ]
  },
  {
   "cell_type": "code",
   "execution_count": null,
   "id": "8a78c254",
   "metadata": {},
   "outputs": [],
   "source": [
    "lgbm_modelf = LGBMClassifier(boosting_type = 'goss',\n",
    "                       learning_rate = 0.001,\n",
    "                       n_estimators = 10000,\n",
    "                       objective = 'binary',\n",
    "                       num_leaves = 20,\n",
    "                       max_depth = -1,\n",
    "                       is_unbalance = True,\n",
    "                       reg_lambda = 3000,\n",
    "                       reg_alpha = 0,\n",
    "                       colsample_bytree = 0.6,\n",
    "                       min_split_gain = 0,\n",
    "                       random_state = 42,\n",
    "                       min_data_in_bin = 4,\n",
    "                        min_child_samples = 40\n",
    "                       )"
   ]
  },
  {
   "cell_type": "code",
   "execution_count": null,
   "id": "4f83f715",
   "metadata": {},
   "outputs": [],
   "source": [
    "%time lgbm_modelf.fit(X_train, y_train)"
   ]
  },
  {
   "cell_type": "code",
   "execution_count": null,
   "id": "b6e9c55c",
   "metadata": {},
   "outputs": [],
   "source": [
    "y_train_pred_lgbmf = lgbm_modelf.predict(X_train)\n",
    "y_test_pred_lgbmf = lgbm_modelf.predict(X_test)\n",
    "\n",
    "print(classification_report(y_train_pred_lgbmf, y_train))\n",
    "print(classification_report(y_test_pred_lgbmf, y_test))"
   ]
  },
  {
   "cell_type": "code",
   "execution_count": null,
   "id": "86fc58ec",
   "metadata": {},
   "outputs": [],
   "source": [
    "f1_score(y_test, y_test_pred_lgbmf)"
   ]
  },
  {
   "cell_type": "code",
   "execution_count": null,
   "id": "404fead1",
   "metadata": {},
   "outputs": [],
   "source": [
    "lightgbm.plot_importance(lgbm_modelf, max_num_features = 15)"
   ]
  },
  {
   "cell_type": "code",
   "execution_count": null,
   "id": "661e1c50",
   "metadata": {},
   "outputs": [],
   "source": [
    "y_train_pred = np.round(0.0*y_train_pred_rf + 0.3*y_train_pred_lgbm3 + 0.3*y_train_pred_lgbm4 + 0.4*y_train_pred_lgbm)\n",
    "y_test_pred = np.round(0.0*y_test_pred_rf + 0.3*y_test_pred_lgbm3 + 0.3*y_test_pred_lgbm4 + 0.4*y_test_pred_lgbm)\n"
   ]
  },
  {
   "cell_type": "code",
   "execution_count": null,
   "id": "e2a10948",
   "metadata": {},
   "outputs": [],
   "source": [
    "[f1_score(y_train, y_train_pred), f1_score(y_test, y_test_pred)]"
   ]
  },
  {
   "cell_type": "code",
   "execution_count": null,
   "id": "c91d8195",
   "metadata": {},
   "outputs": [],
   "source": []
  },
  {
   "cell_type": "code",
   "execution_count": null,
   "id": "81bed97f",
   "metadata": {},
   "outputs": [],
   "source": [
    "y_train_stack = np.column_stack((y_train_prob_xg, y_train_prob_lgbm, y_train_prob_rf))\n",
    "\n",
    "\n",
    "y_test_stack = np.column_stack((y_test_prob_xg, y_test_prob_lgbm, y_test_prob_rf))"
   ]
  },
  {
   "cell_type": "code",
   "execution_count": null,
   "id": "cf2f29e0",
   "metadata": {},
   "outputs": [],
   "source": [
    "y_train_stack"
   ]
  },
  {
   "cell_type": "code",
   "execution_count": null,
   "id": "63ffdaf2",
   "metadata": {},
   "outputs": [],
   "source": [
    "y_train_add_stack = np.column_stack((y_train_stack, y_train_stack[:, 0]*y_train_stack[:, 2]))\n",
    "y_test_add_stack = np.column_stack((y_test_stack, y_test_stack[:, 0]*y_test_stack[:, 2]))"
   ]
  },
  {
   "cell_type": "code",
   "execution_count": null,
   "id": "645908a2",
   "metadata": {},
   "outputs": [],
   "source": [
    "y_train_add_stack"
   ]
  },
  {
   "cell_type": "code",
   "execution_count": null,
   "id": "dc16ff26",
   "metadata": {},
   "outputs": [],
   "source": []
  },
  {
   "cell_type": "code",
   "execution_count": null,
   "id": "fb67f669",
   "metadata": {},
   "outputs": [],
   "source": [
    "from sklearn.linear_model import LogisticRegression"
   ]
  },
  {
   "cell_type": "code",
   "execution_count": null,
   "id": "39d7eb5d",
   "metadata": {},
   "outputs": [],
   "source": [
    "predict_model = LogisticRegression(C = 1e-8, class_weight = 'balanced', solver = 'liblinear', \n",
    "                                   penalty = 'l2' ,max_iter = 5000)"
   ]
  },
  {
   "cell_type": "code",
   "execution_count": null,
   "id": "1e147270",
   "metadata": {},
   "outputs": [],
   "source": [
    "predict_model.fit(y_train_stack, y_train)"
   ]
  },
  {
   "cell_type": "code",
   "execution_count": null,
   "id": "db265f58",
   "metadata": {},
   "outputs": [],
   "source": [
    "y_train_pred = predict_model.predict(y_train_stack)\n",
    "y_test_pred = predict_model.predict(y_test_stack)"
   ]
  },
  {
   "cell_type": "code",
   "execution_count": null,
   "id": "f4cc7653",
   "metadata": {},
   "outputs": [],
   "source": [
    "[f1_score(y_train, y_train_pred), f1_score(y_test, y_test_pred)]"
   ]
  },
  {
   "cell_type": "code",
   "execution_count": null,
   "id": "78e8809b",
   "metadata": {},
   "outputs": [],
   "source": [
    "predict_model.coef_"
   ]
  },
  {
   "cell_type": "code",
   "execution_count": null,
   "id": "dc67b44d",
   "metadata": {},
   "outputs": [],
   "source": [
    "from sklearn.tree import DecisionTreeClassifier"
   ]
  },
  {
   "cell_type": "code",
   "execution_count": null,
   "id": "329282fa",
   "metadata": {},
   "outputs": [],
   "source": [
    "predict_model = DecisionTreeClassifier(class_weight = 'balanced', max_depth = 3)"
   ]
  },
  {
   "cell_type": "code",
   "execution_count": null,
   "id": "f499db48",
   "metadata": {},
   "outputs": [],
   "source": [
    "predict_model.fit(y_train_stack, y_train)"
   ]
  },
  {
   "cell_type": "code",
   "execution_count": null,
   "id": "357b356b",
   "metadata": {},
   "outputs": [],
   "source": [
    "y_train_pred = predict_model.predict(y_train_stack)\n",
    "y_test_pred = predict_model.predict(y_test_stack)"
   ]
  },
  {
   "cell_type": "code",
   "execution_count": null,
   "id": "e560291c",
   "metadata": {},
   "outputs": [],
   "source": [
    "[f1_score(y_train, y_train_pred), f1_score(y_test, y_test_pred)]"
   ]
  },
  {
   "cell_type": "code",
   "execution_count": null,
   "id": "5909c4fa",
   "metadata": {},
   "outputs": [],
   "source": [
    "y_train_stack[:, 0]"
   ]
  },
  {
   "cell_type": "code",
   "execution_count": null,
   "id": "d7838923",
   "metadata": {},
   "outputs": [],
   "source": []
  },
  {
   "cell_type": "code",
   "execution_count": null,
   "id": "51a7f694",
   "metadata": {},
   "outputs": [],
   "source": [
    "y_train_pred = np.round(0.5*(y_train_stack[:, 1]+y_train_stack[:, 3]))\n",
    "y_test_pred = np.round(0.5*(y_test_stack[:, 1]+y_test_stack[:, 3]))"
   ]
  },
  {
   "cell_type": "code",
   "execution_count": null,
   "id": "f103d3a0",
   "metadata": {},
   "outputs": [],
   "source": [
    "[f1_score(y_train, y_train_pred), f1_score(y_test, y_test_pred)]"
   ]
  },
  {
   "cell_type": "code",
   "execution_count": null,
   "id": "626ffe60",
   "metadata": {},
   "outputs": [],
   "source": [
    "y_train_pred = np.round((y_train_stack[:, 3]))\n",
    "y_test_pred = np.round((y_test_stack[:, 3]))"
   ]
  },
  {
   "cell_type": "code",
   "execution_count": null,
   "id": "4adfd590",
   "metadata": {},
   "outputs": [],
   "source": [
    "[f1_score(y_train, y_train_pred), f1_score(y_test, y_test_pred)]"
   ]
  },
  {
   "cell_type": "markdown",
   "id": "4c34ce70",
   "metadata": {},
   "source": [
    "### First ensemble: xg + rf + lg"
   ]
  },
  {
   "cell_type": "code",
   "execution_count": null,
   "id": "4d9e1a2f",
   "metadata": {},
   "outputs": [],
   "source": [
    "y_train_stack = np.column_stack((y_train_pred_rf, y_train_pred_xg, y_train_pred_lg))\n",
    "\n",
    "\n",
    "y_test_stack = np.column_stack((y_test_pred_rf, y_test_pred_xg, y_test_pred_lg))"
   ]
  },
  {
   "cell_type": "code",
   "execution_count": null,
   "id": "077d5e4a",
   "metadata": {},
   "outputs": [],
   "source": [
    "y_train_stack"
   ]
  },
  {
   "cell_type": "markdown",
   "id": "426350e9",
   "metadata": {},
   "source": [
    "Second model:"
   ]
  },
  {
   "cell_type": "code",
   "execution_count": null,
   "id": "5f01090b",
   "metadata": {},
   "outputs": [],
   "source": [
    "predict_model = RandomForestClassifier()\n",
    "\n",
    "predict_model.fit(y_train_stack, y_train)"
   ]
  },
  {
   "cell_type": "code",
   "execution_count": null,
   "id": "ae134785",
   "metadata": {},
   "outputs": [],
   "source": [
    "y_train_pred = predict_model.predict(y_train_stack)\n",
    "y_test_pred = predict_model.predict(y_test_stack)"
   ]
  },
  {
   "cell_type": "code",
   "execution_count": null,
   "id": "4402bdae",
   "metadata": {},
   "outputs": [],
   "source": [
    "[f1_score(y_train, y_train_pred), f1_score(y_test, y_test_pred)]"
   ]
  },
  {
   "cell_type": "code",
   "execution_count": null,
   "id": "a015d6b6",
   "metadata": {},
   "outputs": [],
   "source": [
    "y_train_pred = []\n",
    "for i in range(len(y_train_pred_rf)):\n",
    "    y_train_pred.append(list(mode(np.array([y_train_pred_rf[i], y_train_pred_xg[i], y_train_pred_lg[i], y_train_pred_lg[i], y_train_pred_xg[i]]).astype('float'), keepdims = False))[0])\n",
    "    \n",
    "y_train_pred = np.array(y_train_pred)\n",
    "\n",
    "y_test_pred = []\n",
    "for i in range(len(y_test_pred_rf)):\n",
    "    y_test_pred.append(list(mode(np.array([y_test_pred_rf[i], y_test_pred_xg[i], y_test_pred_lg[i], y_test_pred_lg[i], y_test_pred_xg[i]]).astype('float'), keepdims = False))[0])\n",
    "    \n",
    "y_test_pred = np.array(y_test_pred)"
   ]
  },
  {
   "cell_type": "code",
   "execution_count": null,
   "id": "b94a25ba",
   "metadata": {},
   "outputs": [],
   "source": [
    "[f1_score(y_train, y_train_pred), f1_score(y_test, y_test_pred)]"
   ]
  },
  {
   "cell_type": "markdown",
   "id": "1322b4cb",
   "metadata": {},
   "source": [
    "#### SVM"
   ]
  },
  {
   "cell_type": "code",
   "execution_count": null,
   "id": "2ca5e7aa",
   "metadata": {},
   "outputs": [],
   "source": [
    "from sklearn.svm import SVC"
   ]
  },
  {
   "cell_type": "code",
   "execution_count": null,
   "id": "f4b67035",
   "metadata": {},
   "outputs": [],
   "source": [
    "non_label_cols = list(df_train_imputed.columns)\n",
    "non_label_cols.remove('default_ind')\n",
    "\n",
    "X = df_train_imputed[non_label_cols]\n",
    "y = df_train_imputed['default_ind']\n",
    "\n",
    "X_train, X_test, y_train, y_test = train_test_split(X, y, stratify = y,test_size = 0.3, random_state = 42)"
   ]
  },
  {
   "cell_type": "code",
   "execution_count": null,
   "id": "43c06482",
   "metadata": {},
   "outputs": [],
   "source": [
    "svm_model = SVC(C = 1.0, kernel = 'rbf', class_weight = 'balanced', verbose = True, random_state = 42)"
   ]
  },
  {
   "cell_type": "code",
   "execution_count": null,
   "id": "6e962729",
   "metadata": {},
   "outputs": [],
   "source": [
    "%time svm_model.fit(X_train, y_train)"
   ]
  },
  {
   "cell_type": "code",
   "execution_count": null,
   "id": "13927264",
   "metadata": {},
   "outputs": [],
   "source": [
    "y_train_pred_svm = svm_model.predict(X_train)\n",
    "y_test_pred_svm = svm_model.predict(X_test)\n",
    "\n",
    "print(classification_report(y_train_pred_svm, y_train))\n",
    "print(classification_report(y_test_pred_svm, y_test))"
   ]
  },
  {
   "cell_type": "markdown",
   "id": "b10eebe4",
   "metadata": {},
   "source": [
    "### Best so far"
   ]
  },
  {
   "cell_type": "code",
   "execution_count": null,
   "id": "254893a0",
   "metadata": {},
   "outputs": [],
   "source": [
    "df_best = df_eng.drop(['mvar2', 'mvar6', 'mvar7', 'mvar8', 'mvar11', 'log_mvar15', \n",
    "            'log_mvar24', 'mvar33', 'log_mvar33', 'log_mvar10', 'log_mvar13'], axis = 1)"
   ]
  },
  {
   "cell_type": "code",
   "execution_count": null,
   "id": "e20cfe3d",
   "metadata": {},
   "outputs": [],
   "source": [
    "non_label_cols = list(df_best.columns)\n",
    "non_label_cols.remove('default_ind')\n",
    "\n",
    "X = df_best[non_label_cols]\n",
    "y = df_best['default_ind']\n",
    "\n",
    "X_train, X_test, y_train, y_test = train_test_split(X, y, stratify = y,test_size = 0.3, random_state = 42)\n",
    "\n",
    "lgbm_model = LGBMClassifier(boosting_type = 'goss',\n",
    "                       learning_rate = 0.001,\n",
    "                       n_estimators = 10000,\n",
    "                       objective = 'binary',\n",
    "                       num_leaves = 40,\n",
    "                       max_depth = -1,\n",
    "                       is_unbalance = True,\n",
    "                       reg_lambda = 3.1,\n",
    "                       reg_alpha = 0,\n",
    "                       colsample_bytree = 0.9,\n",
    "                       min_split_gain = 0,\n",
    "                       random_state = 42,\n",
    "                       min_data_in_bin = 4,\n",
    "                        min_child_samples = 20\n",
    "                       )\n",
    "\n",
    "%time lgbm_model.fit(X_train, y_train)\n",
    "\n",
    "y_train_pred_lgbm = lgbm_model.predict(X_train)\n",
    "y_test_pred_lgbm = lgbm_model.predict(X_test)\n",
    "\n",
    "print(classification_report(y_train_pred_lgbm, y_train))\n",
    "print(classification_report(y_test_pred_lgbm, y_test))\n",
    "\n",
    "print(f1_score(y_test, y_test_pred_lgbm))"
   ]
  },
  {
   "cell_type": "code",
   "execution_count": null,
   "id": "2cfeb7b1",
   "metadata": {},
   "outputs": [],
   "source": [
    "df_best"
   ]
  },
  {
   "cell_type": "markdown",
   "id": "72c0ba52",
   "metadata": {},
   "source": [
    "Training on whole set:"
   ]
  },
  {
   "cell_type": "code",
   "execution_count": null,
   "id": "eee49a54",
   "metadata": {},
   "outputs": [],
   "source": [
    "non_label_cols = list(df_best.columns)\n",
    "non_label_cols.remove('default_ind')\n",
    "\n",
    "X = df_best[non_label_cols]\n",
    "y = df_best['default_ind']\n",
    "\n",
    "X_train, X_test, y_train, y_test = train_test_split(X, y, stratify = y,test_size = 0.3, random_state = 42)\n",
    "\n",
    "lgbm_model = LGBMClassifier(boosting_type = 'goss',\n",
    "                       learning_rate = 0.001,\n",
    "                       n_estimators = 10000,\n",
    "                       objective = 'binary',\n",
    "                       num_leaves = 40,\n",
    "                       max_depth = -1,\n",
    "                       is_unbalance = True,\n",
    "                       reg_lambda = 3.1,\n",
    "                       reg_alpha = 0,\n",
    "                       colsample_bytree = 0.9,\n",
    "                       min_split_gain = 0,\n",
    "                       random_state = 42,\n",
    "                       min_data_in_bin = 4,\n",
    "                        min_child_samples = 20\n",
    "                       )\n",
    "\n",
    "%time lgbm_model.fit(X, y)\n",
    "\n",
    "y_train_pred_lgbm = lgbm_model.predict(X_train)\n",
    "y_test_pred_lgbm = lgbm_model.predict(X_test)\n",
    "\n",
    "print(classification_report(y_train_pred_lgbm, y_train))\n",
    "print(classification_report(y_test_pred_lgbm, y_test))"
   ]
  },
  {
   "cell_type": "markdown",
   "id": "db83a7f5",
   "metadata": {},
   "source": [
    "#### Drop test"
   ]
  },
  {
   "cell_type": "code",
   "execution_count": null,
   "id": "783712d1",
   "metadata": {},
   "outputs": [],
   "source": [
    "non_label_cols = list(df_best.columns)\n",
    "non_label_cols.remove('default_ind')\n",
    "\n",
    "X = df_best[non_label_cols]\n",
    "y = df_best['default_ind']\n",
    "\n",
    "for k in range(6, 44):\n",
    "    \n",
    "    X['log_'+str(df_best.columns[k])] = np.log(X[df_best.columns[k]]+1)\n",
    "    X = X.drop([df_best.columns[k]], axis = 1)\n",
    "    \n",
    "    print(X.columns[-1])\n",
    "    \n",
    "    X_train, X_test, y_train, y_test = train_test_split(X, y, stratify = y,test_size = 0.3, random_state = 42)\n",
    "\n",
    "    lgbm_model = LGBMClassifier(boosting_type = 'goss',\n",
    "                       learning_rate = 0.001,\n",
    "                       n_estimators = 10000,\n",
    "                       objective = 'binary',\n",
    "                       num_leaves = 40,\n",
    "                       max_depth = -1,\n",
    "                       is_unbalance = True,\n",
    "                       reg_lambda = 3.1,\n",
    "                       reg_alpha = 0,\n",
    "                       colsample_bytree = 0.9,\n",
    "                       min_split_gain = 0,\n",
    "                       random_state = 42,\n",
    "                       min_data_in_bin = 4,\n",
    "                        min_child_samples = 20\n",
    "                       )\n",
    "\n",
    "    lgbm_model.fit(X_train, y_train)\n",
    "\n",
    "    y_train_pred_lgbm = lgbm_model.predict(X_train)\n",
    "    y_test_pred_lgbm = lgbm_model.predict(X_test)\n",
    "\n",
    "    print(\"Dropped \", df_best.columns[k], end = ':')\n",
    "    print(\"F1 = \", f1_score(y_test, y_test_pred_lgbm))"
   ]
  },
  {
   "cell_type": "code",
   "execution_count": null,
   "id": "d468ba01",
   "metadata": {},
   "outputs": [],
   "source": [
    "df_best.columns[51]"
   ]
  },
  {
   "cell_type": "code",
   "execution_count": null,
   "id": "f770cde9",
   "metadata": {},
   "outputs": [],
   "source": [
    "df_best.drop(51, axis = 1)"
   ]
  },
  {
   "cell_type": "code",
   "execution_count": null,
   "id": "63271a26",
   "metadata": {},
   "outputs": [],
   "source": []
  },
  {
   "cell_type": "code",
   "execution_count": null,
   "id": "711a3f47",
   "metadata": {},
   "outputs": [],
   "source": [
    "non_label_cols = list(df_eng.columns)\n",
    "non_label_cols.remove('default_ind')\n",
    "\n",
    "X = df_eng[non_label_cols]\n",
    "X = X.drop(['mvar2', 'mvar6', 'mvar7', 'mvar8', 'mvar11', 'log_mvar15', \n",
    "            'log_mvar24', 'mvar33', 'log_mvar33', 'log_mvar10', 'log_mvar13'], axis = 1)\n",
    "y = df_eng['default_ind']\n",
    "\n",
    "X_train, X_test, y_train, y_test = train_test_split(X, y, stratify = y,test_size = 0.3, random_state = 42)\n",
    "\n",
    "lgbm_model = LGBMClassifier(boosting_type = 'goss',\n",
    "                       learning_rate = 0.001,\n",
    "                       n_estimators = 10000,\n",
    "                       objective = 'binary',\n",
    "                       num_leaves = 40,\n",
    "                       max_depth = -1,\n",
    "                       is_unbalance = True,\n",
    "                       reg_lambda = 3.1,\n",
    "                       reg_alpha = 0,\n",
    "                       colsample_bytree = 0.9,\n",
    "                       min_split_gain = 0,\n",
    "                       random_state = 42,\n",
    "                       min_data_in_bin = 4,\n",
    "                        min_child_samples = 20\n",
    "                       )\n",
    "\n",
    "%time lgbm_model.fit(X_train, y_train)\n",
    "\n",
    "y_train_pred_lgbm = lgbm_model.predict(X_train)\n",
    "y_test_pred_lgbm = lgbm_model.predict(X_test)\n",
    "\n",
    "print(classification_report(y_train_pred_lgbm, y_train))\n",
    "print(classification_report(y_test_pred_lgbm, y_test))\n",
    "\n",
    "print(f1_score(y_test, y_test_pred_lgbm))"
   ]
  },
  {
   "cell_type": "code",
   "execution_count": null,
   "id": "bc18d822",
   "metadata": {},
   "outputs": [],
   "source": [
    "lightgbm.plot_importance(lgbm_model, max_num_features = 20)"
   ]
  },
  {
   "cell_type": "code",
   "execution_count": null,
   "id": "e750a7ab",
   "metadata": {},
   "outputs": [],
   "source": [
    "lightgbm.plot_importance(lgbm_model, max_num_features = 20)"
   ]
  },
  {
   "cell_type": "code",
   "execution_count": null,
   "id": "b08f0c83",
   "metadata": {},
   "outputs": [],
   "source": [
    "lightgbm.plot_importance(lgbm_model, max_num_features = 20)"
   ]
  },
  {
   "cell_type": "code",
   "execution_count": null,
   "id": "d84d3ddd",
   "metadata": {},
   "outputs": [],
   "source": [
    "df_eng"
   ]
  },
  {
   "cell_type": "code",
   "execution_count": null,
   "id": "0860efb0",
   "metadata": {},
   "outputs": [],
   "source": []
  },
  {
   "cell_type": "markdown",
   "id": "04b96f14",
   "metadata": {},
   "source": [
    "### Generating predictions for submission"
   ]
  },
  {
   "cell_type": "code",
   "execution_count": null,
   "id": "8c1f05a0",
   "metadata": {},
   "outputs": [],
   "source": [
    "df_test = pd.read_csv('testX.csv', index_col = 'application_key', low_memory = False)"
   ]
  },
  {
   "cell_type": "code",
   "execution_count": null,
   "id": "832abfb2",
   "metadata": {},
   "outputs": [],
   "source": [
    "df_test"
   ]
  },
  {
   "cell_type": "code",
   "execution_count": null,
   "id": "b1bee866",
   "metadata": {},
   "outputs": [],
   "source": [
    "for i in range(51):\n",
    "    lol = get_non_numeric(list(df_test.iloc[:, i].unique()))\n",
    "    print(i, lol)"
   ]
  },
  {
   "cell_type": "code",
   "execution_count": null,
   "id": "5b2ed086",
   "metadata": {},
   "outputs": [],
   "source": [
    "df_test = df_test.replace('na', np.NaN)\n",
    "df_test = df_test.replace('missing', np.NaN)\n",
    "df_test = df_test.replace('#VALUE!', np.NaN)"
   ]
  },
  {
   "cell_type": "code",
   "execution_count": null,
   "id": "e9f9ea9f",
   "metadata": {},
   "outputs": [],
   "source": [
    "for i in range(51):\n",
    "    lol = get_non_numeric(list(df_test.iloc[:, i].unique()))\n",
    "    print(i, lol)"
   ]
  },
  {
   "cell_type": "code",
   "execution_count": null,
   "id": "6ffd7514",
   "metadata": {},
   "outputs": [],
   "source": [
    "df_test = pd.get_dummies(df_test, columns = ['mvar47'], prefix = ['type'])"
   ]
  },
  {
   "cell_type": "code",
   "execution_count": null,
   "id": "0e0b885d",
   "metadata": {},
   "outputs": [],
   "source": [
    "for i in range(52):\n",
    "    lol = get_non_numeric(list(df_test.iloc[:, i].unique()))\n",
    "    print(i, lol)"
   ]
  },
  {
   "cell_type": "code",
   "execution_count": null,
   "id": "84753b82",
   "metadata": {},
   "outputs": [],
   "source": [
    "for el in list(df_test.columns):\n",
    "    df_test[el] = pd.to_numeric(df_test[el]) "
   ]
  },
  {
   "cell_type": "code",
   "execution_count": null,
   "id": "9c28cd2f",
   "metadata": {},
   "outputs": [],
   "source": [
    "df_test"
   ]
  },
  {
   "cell_type": "code",
   "execution_count": null,
   "id": "075eb1b9",
   "metadata": {},
   "outputs": [],
   "source": [
    "df_test['log_mvar2'] = np.log(df_test['mvar2']+1)\n",
    "df_test['log_mvar6'] = np.log(df_test['mvar6']+1)\n",
    "df_test['log_mvar7'] = np.log(df_test['mvar7']+1)\n",
    "df_test['log_mvar8'] = np.log(df_test['mvar8']+1)\n",
    "df_test['log_mvar11'] = np.log(df_test['mvar11']+1)\n",
    "\n",
    "df_test = df_test.drop(['mvar2', 'mvar6', 'mvar8', 'mvar11'] ,axis = 1)"
   ]
  },
  {
   "cell_type": "code",
   "execution_count": null,
   "id": "14836de5",
   "metadata": {},
   "outputs": [],
   "source": [
    "df_test = df_test.drop(['mvar33'] ,axis = 1)"
   ]
  },
  {
   "cell_type": "code",
   "execution_count": null,
   "id": "ce100299",
   "metadata": {},
   "outputs": [],
   "source": [
    "df_test.columns"
   ]
  },
  {
   "cell_type": "code",
   "execution_count": null,
   "id": "1ce3236b",
   "metadata": {},
   "outputs": [],
   "source": [
    "df_eng.columns"
   ]
  },
  {
   "cell_type": "code",
   "execution_count": null,
   "id": "2a562c59",
   "metadata": {},
   "outputs": [],
   "source": [
    "X.columns"
   ]
  },
  {
   "cell_type": "code",
   "execution_count": null,
   "id": "a2a37266",
   "metadata": {},
   "outputs": [],
   "source": [
    "df_test['lol'] = 0\n",
    "\n",
    "df_test_imputed = mean_imputer.transform(df_test)\n",
    "df_test_imputed = pd.DataFrame(df_test_imputed, columns = df_test.columns)\n",
    "\n",
    "df_test_imputed.drop(['lol'], axis = 1)"
   ]
  },
  {
   "cell_type": "code",
   "execution_count": null,
   "id": "b489756f",
   "metadata": {},
   "outputs": [],
   "source": [
    "X_eval = df_test_imputed[non_label_cols]"
   ]
  },
  {
   "cell_type": "markdown",
   "id": "eb456ee5",
   "metadata": {},
   "source": [
    "#### Model 1"
   ]
  },
  {
   "cell_type": "code",
   "execution_count": null,
   "id": "6e806216",
   "metadata": {},
   "outputs": [],
   "source": [
    "predictions = partly_tuned_model.predict(X_eval)"
   ]
  },
  {
   "cell_type": "code",
   "execution_count": null,
   "id": "e86018fa",
   "metadata": {},
   "outputs": [],
   "source": [
    "predictions"
   ]
  },
  {
   "cell_type": "code",
   "execution_count": null,
   "id": "deddd3b8",
   "metadata": {},
   "outputs": [],
   "source": [
    "df_submit = pd.read_csv('submission.csv', names = ['app', 'def'],header = None )"
   ]
  },
  {
   "cell_type": "code",
   "execution_count": null,
   "id": "8f913741",
   "metadata": {},
   "outputs": [],
   "source": [
    "df_submit['def'] = predictions"
   ]
  },
  {
   "cell_type": "code",
   "execution_count": null,
   "id": "46581b72",
   "metadata": {},
   "outputs": [],
   "source": [
    "df_submit"
   ]
  },
  {
   "cell_type": "markdown",
   "id": "46f7cd67",
   "metadata": {},
   "source": [
    "#### Model 2 - class weighting"
   ]
  },
  {
   "cell_type": "code",
   "execution_count": null,
   "id": "eaf7150a",
   "metadata": {},
   "outputs": [],
   "source": [
    "predictions = weighted_tuned_model.predict(X_eval)\n",
    "\n",
    "df_submit = pd.read_csv('submission.csv', names = ['app', 'def'],header = None )\n",
    "df_submit['def'] = predictions\n"
   ]
  },
  {
   "cell_type": "markdown",
   "id": "35748689",
   "metadata": {},
   "source": [
    "<b> Currently second, with score 59.64% </b>"
   ]
  },
  {
   "cell_type": "markdown",
   "id": "a445b1f1",
   "metadata": {},
   "source": [
    "#### Model 3 - regularization"
   ]
  },
  {
   "cell_type": "code",
   "execution_count": null,
   "id": "fd845536",
   "metadata": {},
   "outputs": [],
   "source": [
    "predictions = regularized_xgb_model.predict(X_eval)\n",
    "\n",
    "df_submit = pd.read_csv('submission.csv', names = ['app', 'def'],header = None )\n",
    "df_submit['def'] = predictions\n"
   ]
  },
  {
   "cell_type": "markdown",
   "id": "ce60d430",
   "metadata": {},
   "source": [
    "#### Model 4 - more regularization"
   ]
  },
  {
   "cell_type": "code",
   "execution_count": null,
   "id": "f0811026",
   "metadata": {},
   "outputs": [],
   "source": [
    "predictions = lambda_xgb_model.predict(X_eval)\n",
    "\n",
    "df_submit = pd.read_csv('submission.csv', names = ['app', 'def'],header = None )\n",
    "df_submit['def'] = predictions\n"
   ]
  },
  {
   "cell_type": "markdown",
   "id": "2b6335bc",
   "metadata": {},
   "source": [
    "#### Model 5"
   ]
  },
  {
   "cell_type": "code",
   "execution_count": null,
   "id": "c71c5ca0",
   "metadata": {},
   "outputs": [],
   "source": [
    "X_eval = df_test[non_label_cols]"
   ]
  },
  {
   "cell_type": "code",
   "execution_count": null,
   "id": "1d59ef44",
   "metadata": {},
   "outputs": [],
   "source": [
    "X_eval"
   ]
  },
  {
   "cell_type": "code",
   "execution_count": null,
   "id": "b1dd5962",
   "metadata": {},
   "outputs": [],
   "source": [
    "for el in list(X_eval.columns):\n",
    "    X_eval[el] = pd.to_numeric(X_eval[el]) \n",
    "\n",
    "\n",
    "predictions = lgbm_model.predict(X_eval)\n",
    "\n",
    "df_submit = pd.read_csv('submission.csv', names = ['app', 'def'],header = None )\n",
    "df_submit['def'] = predictions\n"
   ]
  },
  {
   "cell_type": "code",
   "execution_count": null,
   "id": "1350241f",
   "metadata": {},
   "outputs": [],
   "source": [
    "predictions = lgbm_model.predict(df_test)\n",
    "\n",
    "df_submit = pd.read_csv('submission.csv', names = ['app', 'def'],header = None )\n",
    "df_submit['def'] = predictions\n"
   ]
  },
  {
   "cell_type": "code",
   "execution_count": null,
   "id": "c75e8b95",
   "metadata": {},
   "outputs": [],
   "source": []
  }
 ],
 "metadata": {
  "kernelspec": {
   "display_name": "Python 3 (ipykernel)",
   "language": "python",
   "name": "python3"
  },
  "language_info": {
   "codemirror_mode": {
    "name": "ipython",
    "version": 3
   },
   "file_extension": ".py",
   "mimetype": "text/x-python",
   "name": "python",
   "nbconvert_exporter": "python",
   "pygments_lexer": "ipython3",
   "version": "3.8.10"
  }
 },
 "nbformat": 4,
 "nbformat_minor": 5
}
