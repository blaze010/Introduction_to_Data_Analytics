{
 "cells": [
  {
   "cell_type": "markdown",
   "id": "d5ea95e4",
   "metadata": {},
   "source": [
    "### Importing necessary libraries"
   ]
  },
  {
   "cell_type": "code",
   "execution_count": 147,
   "id": "a684a0e1",
   "metadata": {},
   "outputs": [],
   "source": [
    "import sys\n",
    "import math\n",
    "import time\n",
    "import numpy as np\n",
    "import pandas as pd\n",
    "import seaborn as sns\n",
    "import matplotlib.pyplot as plt\n",
    "\n",
    "from sklearn.impute import KNNImputer\n",
    "from sklearn.impute import SimpleImputer\n",
    "from sklearn.model_selection import train_test_split\n",
    "from sklearn.metrics import f1_score\n",
    "from sklearn.metrics import classification_report\n",
    "from sklearn.preprocessing import StandardScaler\n",
    "from sklearn.model_selection import StratifiedKFold\n",
    "from sklearn.model_selection import GridSearchCV\n",
    "\n",
    "import xgboost\n",
    "import lightgbm\n",
    "from xgboost import XGBClassifier\n",
    "from lightgbm import LGBMClassifier"
   ]
  },
  {
   "cell_type": "markdown",
   "id": "ed5762b5",
   "metadata": {},
   "source": [
    "### Reading in the data"
   ]
  },
  {
   "cell_type": "code",
   "execution_count": 148,
   "id": "7e989be8",
   "metadata": {},
   "outputs": [],
   "source": [
    "df_train = pd.read_csv('TrainingData.csv', index_col = 'application_key',low_memory = False)"
   ]
  },
  {
   "cell_type": "code",
   "execution_count": 3,
   "id": "8283a17e",
   "metadata": {},
   "outputs": [
    {
     "data": {
      "text/plain": [
       "{'application_key': ['Application ID (primary key)'],\n",
       " 'mvar1': [\"Credit worthiness score calculated on the basis of borrower's credit history\"],\n",
       " 'mvar2': ['A score calculated based on the number and riskiness of credit enquiries made to any lender by a borrower'],\n",
       " 'mvar3': ['Severity of default by the borrower on any loan(s). Severity is a function of amount, time since default and number of defaults'],\n",
       " 'mvar4': ['Severity of default by the borrower on auto loan(s). Severity is a function of amount, time since default and number of defaults'],\n",
       " 'mvar5': ['Severity of default by the borrower on education loan(s). Severity is a function of amount, time since default and number of defaults'],\n",
       " 'mvar6': ['Minimum of credit available on all revolving credit cards (in $)'],\n",
       " 'mvar7': ['Maximum of credit available on all active credit lines (in $)'],\n",
       " 'mvar8': ['Maximum of credit available on all active revolving credit cards (in $)'],\n",
       " 'mvar9': ['Sum of available credit on credit cards that the borrower has missed 1 payment (in $)'],\n",
       " 'mvar10': ['Total amount of credit available on accepted credit lines (in $)'],\n",
       " 'mvar11': ['Amount of dues collected post default where due amount was more than 500 (in $)'],\n",
       " 'mvar12': ['Sum of amount due on active credit cards (in $)'],\n",
       " 'mvar13': ['Annual amount paid towards all credit cards during the previous year (in $)'],\n",
       " 'mvar14': ['Annual income (in $)'],\n",
       " 'mvar15': ['Estimated market value of a properety owned/used by the borrower (in $)'],\n",
       " 'mvar16': ['Number of active revolving credit cards on which full credit limit is utilized by the borrower'],\n",
       " 'mvar17': ['Number of active credit cards on which full credit limit is utilized by the borrower'],\n",
       " 'mvar18': ['Number of active credit lines on which full credit limit is utilized by the borrower'],\n",
       " 'mvar19': ['Number of active credit cards on which atleast 75% credit limit is utilized by the borrower'],\n",
       " 'mvar20': ['Number of active credit lines on which atleast 75% credit limit is utilized by the borrower'],\n",
       " 'mvar21': ['Average utilization of active revolving credit card loans (%)'],\n",
       " 'mvar22': ['Average utilization of line on all active credit lines activated in last 2 years (%)'],\n",
       " 'mvar23': ['Average utilization of line on all active credit cards activated in last 1 year (%)'],\n",
       " 'mvar24': ['Average utilization of line on credit cards on which the borrower has missed 1 payment during last 6 months (%)'],\n",
       " 'mvar25': ['Average tenure of active revolving credit cards (in days)'],\n",
       " 'mvar26': ['Tenure of oldest credit card among all active credit cards (in days)'],\n",
       " 'mvar27': ['Tenure of oldest revolving credit card among all active revolving credit cards (in days)'],\n",
       " 'mvar28': ['Number of days since last missed payment on any credit line'],\n",
       " 'mvar29': ['Tenure of oldest credit line (in days)'],\n",
       " 'mvar30': ['Maximum tenure on all auto loans (in days)'],\n",
       " 'mvar31': ['Maximum tenure on all education loans (in days)'],\n",
       " 'mvar32': ['Sum of tenures (in months) of active credit cards'],\n",
       " 'mvar33': ['Duration of stay at the current residential address (in years)'],\n",
       " 'mvar34': ['Number of active credit lines over the last 6 months on which the borrower has missed 1 payment'],\n",
       " 'mvar35': ['Number of revolving credit cards over the last 2 years on which the borrower has missed 1 payment'],\n",
       " 'mvar36': ['Number of active credit lines'],\n",
       " 'mvar37': ['Number of credit cards with an active tenure of at least 2 years'],\n",
       " 'mvar38': ['Number of credit lines activated in last 2 years'],\n",
       " 'mvar39': ['Number of credit lines on which the borrower has current delinquency'],\n",
       " 'mvar40': ['Utilization of line on active education loans (%)'],\n",
       " 'mvar41': ['Utilization of line on active auto loans (%)'],\n",
       " 'mvar42': ['Financial stress index of the borrower. This index is a function of collection trades, bankruptcies files, tax liens invoked, etc. '],\n",
       " 'mvar43': ['Number of credit lines on which the borrower has never missed a payment in last 2 yrs, yet considered as high risk loans based on market prediction of economic scenario'],\n",
       " 'mvar44': ['Ratio of maximum amount due on all active credit lines and sum of amounts due on all active credit lines '],\n",
       " 'mvar45': ['Number of mortgage loans on which the borrower has missed 2 payments'],\n",
       " 'mvar46': ['Number of auto loans on which the borrower has missed 2 payments'],\n",
       " 'mvar47': ['Type of product that the applicant applied for. (C = Charge; L = Lending)'],\n",
       " 'mvar48': ['Integer value assigned to an application basis a predefined function'],\n",
       " 'mvar49': ['Bucketized credit worthiness score for the applicant'],\n",
       " 'mvar50': ['Compound feature created as a product of bucketized credit worthiness and mvar48'],\n",
       " 'default_ind': ['Indicator for default']}"
      ]
     },
     "execution_count": 3,
     "metadata": {},
     "output_type": "execute_result"
    }
   ],
   "source": [
    "label_dict = pd.read_csv('Data_Dictionary.csv')\n",
    "label_dict = label_dict.set_index('Name').T.to_dict('list')\n",
    "label_dict"
   ]
  },
  {
   "cell_type": "code",
   "execution_count": 4,
   "id": "08b96362",
   "metadata": {},
   "outputs": [
    {
     "data": {
      "text/html": [
       "<div>\n",
       "<style scoped>\n",
       "    .dataframe tbody tr th:only-of-type {\n",
       "        vertical-align: middle;\n",
       "    }\n",
       "\n",
       "    .dataframe tbody tr th {\n",
       "        vertical-align: top;\n",
       "    }\n",
       "\n",
       "    .dataframe thead th {\n",
       "        text-align: right;\n",
       "    }\n",
       "</style>\n",
       "<table border=\"1\" class=\"dataframe\">\n",
       "  <thead>\n",
       "    <tr style=\"text-align: right;\">\n",
       "      <th></th>\n",
       "      <th>mvar1</th>\n",
       "      <th>mvar2</th>\n",
       "      <th>mvar3</th>\n",
       "      <th>mvar4</th>\n",
       "      <th>mvar5</th>\n",
       "      <th>mvar6</th>\n",
       "      <th>mvar7</th>\n",
       "      <th>mvar8</th>\n",
       "      <th>mvar9</th>\n",
       "      <th>mvar10</th>\n",
       "      <th>...</th>\n",
       "      <th>mvar43</th>\n",
       "      <th>mvar44</th>\n",
       "      <th>mvar45</th>\n",
       "      <th>mvar46</th>\n",
       "      <th>mvar47</th>\n",
       "      <th>mvar48</th>\n",
       "      <th>mvar49</th>\n",
       "      <th>mvar50</th>\n",
       "      <th>mvar51</th>\n",
       "      <th>default_ind</th>\n",
       "    </tr>\n",
       "    <tr>\n",
       "      <th>application_key</th>\n",
       "      <th></th>\n",
       "      <th></th>\n",
       "      <th></th>\n",
       "      <th></th>\n",
       "      <th></th>\n",
       "      <th></th>\n",
       "      <th></th>\n",
       "      <th></th>\n",
       "      <th></th>\n",
       "      <th></th>\n",
       "      <th></th>\n",
       "      <th></th>\n",
       "      <th></th>\n",
       "      <th></th>\n",
       "      <th></th>\n",
       "      <th></th>\n",
       "      <th></th>\n",
       "      <th></th>\n",
       "      <th></th>\n",
       "      <th></th>\n",
       "      <th></th>\n",
       "    </tr>\n",
       "  </thead>\n",
       "  <tbody>\n",
       "    <tr>\n",
       "      <th>230032</th>\n",
       "      <td>1696</td>\n",
       "      <td>1.6541</td>\n",
       "      <td>0.000</td>\n",
       "      <td>0.0</td>\n",
       "      <td>0.0</td>\n",
       "      <td>0</td>\n",
       "      <td>6015</td>\n",
       "      <td>322</td>\n",
       "      <td>40369</td>\n",
       "      <td>18414</td>\n",
       "      <td>...</td>\n",
       "      <td>10</td>\n",
       "      <td>0.63899</td>\n",
       "      <td>na</td>\n",
       "      <td>0</td>\n",
       "      <td>C</td>\n",
       "      <td>10</td>\n",
       "      <td>770</td>\n",
       "      <td>4</td>\n",
       "      <td>3080</td>\n",
       "      <td>0</td>\n",
       "    </tr>\n",
       "    <tr>\n",
       "      <th>230033</th>\n",
       "      <td>1846</td>\n",
       "      <td>0.8095</td>\n",
       "      <td>0.000</td>\n",
       "      <td>0.0</td>\n",
       "      <td>0.0</td>\n",
       "      <td>102</td>\n",
       "      <td>7532</td>\n",
       "      <td>3171</td>\n",
       "      <td>18234</td>\n",
       "      <td>13664</td>\n",
       "      <td>...</td>\n",
       "      <td>13</td>\n",
       "      <td>0.63836</td>\n",
       "      <td>na</td>\n",
       "      <td>na</td>\n",
       "      <td>L</td>\n",
       "      <td>732</td>\n",
       "      <td>437</td>\n",
       "      <td>5</td>\n",
       "      <td>2185</td>\n",
       "      <td>1</td>\n",
       "    </tr>\n",
       "    <tr>\n",
       "      <th>230034</th>\n",
       "      <td>1745</td>\n",
       "      <td>0.4001</td>\n",
       "      <td>0.000</td>\n",
       "      <td>0.0</td>\n",
       "      <td>0.0</td>\n",
       "      <td>missing</td>\n",
       "      <td>2536</td>\n",
       "      <td>missing</td>\n",
       "      <td>missing</td>\n",
       "      <td>2536</td>\n",
       "      <td>...</td>\n",
       "      <td>1</td>\n",
       "      <td>1.00000</td>\n",
       "      <td>na</td>\n",
       "      <td>0</td>\n",
       "      <td>C</td>\n",
       "      <td>89</td>\n",
       "      <td>795</td>\n",
       "      <td>4</td>\n",
       "      <td>3180</td>\n",
       "      <td>1</td>\n",
       "    </tr>\n",
       "    <tr>\n",
       "      <th>230035</th>\n",
       "      <td>1739</td>\n",
       "      <td>0.2193</td>\n",
       "      <td>0.000</td>\n",
       "      <td>0.0</td>\n",
       "      <td>0.0</td>\n",
       "      <td>1982</td>\n",
       "      <td>26440</td>\n",
       "      <td>4955</td>\n",
       "      <td>20316</td>\n",
       "      <td>37013</td>\n",
       "      <td>...</td>\n",
       "      <td>3</td>\n",
       "      <td>0.53241</td>\n",
       "      <td>0</td>\n",
       "      <td>0</td>\n",
       "      <td>L</td>\n",
       "      <td>3</td>\n",
       "      <td>755</td>\n",
       "      <td>4</td>\n",
       "      <td>3020</td>\n",
       "      <td>0</td>\n",
       "    </tr>\n",
       "    <tr>\n",
       "      <th>230036</th>\n",
       "      <td>1787</td>\n",
       "      <td>0.0118</td>\n",
       "      <td>0.225</td>\n",
       "      <td>0.0</td>\n",
       "      <td>0.0</td>\n",
       "      <td>5451</td>\n",
       "      <td>5494</td>\n",
       "      <td>5494</td>\n",
       "      <td>7987</td>\n",
       "      <td>4696</td>\n",
       "      <td>...</td>\n",
       "      <td>1</td>\n",
       "      <td>0.92665</td>\n",
       "      <td>na</td>\n",
       "      <td>na</td>\n",
       "      <td>L</td>\n",
       "      <td>5</td>\n",
       "      <td>425</td>\n",
       "      <td>4</td>\n",
       "      <td>1700</td>\n",
       "      <td>0</td>\n",
       "    </tr>\n",
       "  </tbody>\n",
       "</table>\n",
       "<p>5 rows × 52 columns</p>\n",
       "</div>"
      ],
      "text/plain": [
       "                mvar1   mvar2  mvar3  mvar4  mvar5    mvar6  mvar7    mvar8  \\\n",
       "application_key                                                               \n",
       "230032           1696  1.6541  0.000    0.0    0.0        0   6015      322   \n",
       "230033           1846  0.8095  0.000    0.0    0.0      102   7532     3171   \n",
       "230034           1745  0.4001  0.000    0.0    0.0  missing   2536  missing   \n",
       "230035           1739  0.2193  0.000    0.0    0.0     1982  26440     4955   \n",
       "230036           1787  0.0118  0.225    0.0    0.0     5451   5494     5494   \n",
       "\n",
       "                   mvar9 mvar10  ... mvar43   mvar44 mvar45  mvar46 mvar47  \\\n",
       "application_key                  ...                                         \n",
       "230032             40369  18414  ...     10  0.63899     na       0      C   \n",
       "230033             18234  13664  ...     13  0.63836     na      na      L   \n",
       "230034           missing   2536  ...      1  1.00000     na       0      C   \n",
       "230035             20316  37013  ...      3  0.53241      0       0      L   \n",
       "230036              7987   4696  ...      1  0.92665     na      na      L   \n",
       "\n",
       "                mvar48 mvar49 mvar50 mvar51 default_ind  \n",
       "application_key                                          \n",
       "230032              10    770      4   3080           0  \n",
       "230033             732    437      5   2185           1  \n",
       "230034              89    795      4   3180           1  \n",
       "230035               3    755      4   3020           0  \n",
       "230036               5    425      4   1700           0  \n",
       "\n",
       "[5 rows x 52 columns]"
      ]
     },
     "execution_count": 4,
     "metadata": {},
     "output_type": "execute_result"
    }
   ],
   "source": [
    "df_train.head()"
   ]
  },
  {
   "cell_type": "code",
   "execution_count": 5,
   "id": "20b8d563",
   "metadata": {
    "scrolled": true
   },
   "outputs": [
    {
     "name": "stdout",
     "output_type": "stream",
     "text": [
      "<class 'pandas.core.frame.DataFrame'>\n",
      "Int64Index: 83000 entries, 230032 to 578068\n",
      "Data columns (total 52 columns):\n",
      " #   Column       Non-Null Count  Dtype  \n",
      "---  ------       --------------  -----  \n",
      " 0   mvar1        83000 non-null  object \n",
      " 1   mvar2        77114 non-null  float64\n",
      " 2   mvar3        82465 non-null  float64\n",
      " 3   mvar4        82465 non-null  float64\n",
      " 4   mvar5        82465 non-null  float64\n",
      " 5   mvar6        83000 non-null  object \n",
      " 6   mvar7        83000 non-null  object \n",
      " 7   mvar8        83000 non-null  object \n",
      " 8   mvar9        83000 non-null  object \n",
      " 9   mvar10       83000 non-null  object \n",
      " 10  mvar11       83000 non-null  object \n",
      " 11  mvar12       83000 non-null  object \n",
      " 12  mvar13       83000 non-null  object \n",
      " 13  mvar14       83000 non-null  int64  \n",
      " 14  mvar15       83000 non-null  object \n",
      " 15  mvar16       83000 non-null  object \n",
      " 16  mvar17       83000 non-null  object \n",
      " 17  mvar18       83000 non-null  object \n",
      " 18  mvar19       83000 non-null  object \n",
      " 19  mvar20       83000 non-null  object \n",
      " 20  mvar21       59538 non-null  float64\n",
      " 21  mvar22       52332 non-null  float64\n",
      " 22  mvar23       40689 non-null  float64\n",
      " 23  mvar24       63470 non-null  float64\n",
      " 24  mvar25       83000 non-null  object \n",
      " 25  mvar26       83000 non-null  object \n",
      " 26  mvar27       83000 non-null  object \n",
      " 27  mvar28       83000 non-null  object \n",
      " 28  mvar29       83000 non-null  object \n",
      " 29  mvar30       83000 non-null  object \n",
      " 30  mvar31       83000 non-null  object \n",
      " 31  mvar32       83000 non-null  object \n",
      " 32  mvar33       81131 non-null  float64\n",
      " 33  mvar34       83000 non-null  object \n",
      " 34  mvar35       83000 non-null  object \n",
      " 35  mvar36       83000 non-null  object \n",
      " 36  mvar37       83000 non-null  object \n",
      " 37  mvar38       83000 non-null  object \n",
      " 38  mvar39       83000 non-null  object \n",
      " 39  mvar40       83000 non-null  object \n",
      " 40  mvar41       83000 non-null  object \n",
      " 41  mvar42       83000 non-null  object \n",
      " 42  mvar43       83000 non-null  object \n",
      " 43  mvar44       74851 non-null  float64\n",
      " 44  mvar45       83000 non-null  object \n",
      " 45  mvar46       83000 non-null  object \n",
      " 46  mvar47       83000 non-null  object \n",
      " 47  mvar48       83000 non-null  int64  \n",
      " 48  mvar49       83000 non-null  int64  \n",
      " 49  mvar50       83000 non-null  object \n",
      " 50  mvar51       83000 non-null  object \n",
      " 51  default_ind  83000 non-null  int64  \n",
      "dtypes: float64(10), int64(4), object(38)\n",
      "memory usage: 33.6+ MB\n"
     ]
    }
   ],
   "source": [
    "df_train.info()"
   ]
  },
  {
   "cell_type": "markdown",
   "id": "c80de0ff",
   "metadata": {},
   "source": [
    "### Data cleaning"
   ]
  },
  {
   "cell_type": "markdown",
   "id": "59b4899c",
   "metadata": {},
   "source": [
    "Function for extracting non-numeric elements:"
   ]
  },
  {
   "cell_type": "code",
   "execution_count": 6,
   "id": "0f29fe69",
   "metadata": {},
   "outputs": [],
   "source": [
    "def get_non_numeric(elements):\n",
    "    non_numerics = []\n",
    "    for el in elements:\n",
    "        try:\n",
    "            el = float(el)\n",
    "        except:\n",
    "            non_numerics.append(el)\n",
    "    \n",
    "    return non_numerics"
   ]
  },
  {
   "cell_type": "code",
   "execution_count": 7,
   "id": "d73a7992",
   "metadata": {},
   "outputs": [
    {
     "name": "stdout",
     "output_type": "stream",
     "text": [
      "0 ['na']\n",
      "1 []\n",
      "2 []\n",
      "3 []\n",
      "4 []\n",
      "5 ['missing']\n",
      "6 ['missing']\n",
      "7 ['missing']\n",
      "8 ['missing']\n",
      "9 ['missing']\n",
      "10 ['missing']\n",
      "11 ['missing']\n",
      "12 ['missing']\n",
      "13 []\n",
      "14 ['missing']\n",
      "15 ['na']\n",
      "16 ['na']\n",
      "17 ['na']\n",
      "18 ['na']\n",
      "19 ['na']\n",
      "20 []\n",
      "21 []\n",
      "22 []\n",
      "23 []\n",
      "24 ['missing']\n",
      "25 ['missing']\n",
      "26 ['missing']\n",
      "27 ['missing']\n",
      "28 ['missing']\n",
      "29 ['missing']\n",
      "30 ['missing']\n",
      "31 ['missing']\n",
      "32 []\n",
      "33 ['na']\n",
      "34 ['na']\n",
      "35 ['na']\n",
      "36 ['na']\n",
      "37 ['na']\n",
      "38 ['na']\n",
      "39 ['missing']\n",
      "40 ['missing']\n",
      "41 ['missing']\n",
      "42 ['na']\n",
      "43 []\n",
      "44 ['na']\n",
      "45 ['na']\n",
      "46 ['C', 'L']\n",
      "47 []\n",
      "48 []\n",
      "49 ['#VALUE!']\n",
      "50 ['#VALUE!']\n"
     ]
    }
   ],
   "source": [
    "for i in range(51):\n",
    "    lol =get_non_numeric(list(df_train.iloc[:, i].unique()))\n",
    "    print(i, lol)"
   ]
  },
  {
   "cell_type": "code",
   "execution_count": 8,
   "id": "78d16642",
   "metadata": {},
   "outputs": [
    {
     "name": "stdout",
     "output_type": "stream",
     "text": [
      "0 []\n",
      "1 []\n",
      "2 []\n",
      "3 []\n",
      "4 []\n",
      "5 []\n",
      "6 []\n",
      "7 []\n",
      "8 []\n",
      "9 []\n",
      "10 []\n",
      "11 []\n",
      "12 []\n",
      "13 []\n",
      "14 []\n",
      "15 []\n",
      "16 []\n",
      "17 []\n",
      "18 []\n",
      "19 []\n",
      "20 []\n",
      "21 []\n",
      "22 []\n",
      "23 []\n",
      "24 []\n",
      "25 []\n",
      "26 []\n",
      "27 []\n",
      "28 []\n",
      "29 []\n",
      "30 []\n",
      "31 []\n",
      "32 []\n",
      "33 []\n",
      "34 []\n",
      "35 []\n",
      "36 []\n",
      "37 []\n",
      "38 []\n",
      "39 []\n",
      "40 []\n",
      "41 []\n",
      "42 []\n",
      "43 []\n",
      "44 []\n",
      "45 []\n",
      "46 ['C', 'L']\n",
      "47 []\n",
      "48 []\n",
      "49 []\n",
      "50 []\n"
     ]
    }
   ],
   "source": [
    "for i in range(51):\n",
    "    lol = ['na', 'missing', '#VALUE!']\n",
    "    for el in lol:\n",
    "        df_train = df_train.replace(el, np.NaN)\n",
    "    lol = get_non_numeric(list(df_train.iloc[:, i].unique()))\n",
    "    print(i, lol)"
   ]
  },
  {
   "cell_type": "code",
   "execution_count": 9,
   "id": "a2560e3c",
   "metadata": {},
   "outputs": [
    {
     "name": "stdout",
     "output_type": "stream",
     "text": [
      "0 []\n",
      "1 []\n",
      "2 []\n",
      "3 []\n",
      "4 []\n",
      "5 []\n",
      "6 []\n",
      "7 []\n",
      "8 []\n",
      "9 []\n",
      "10 []\n",
      "11 []\n",
      "12 []\n",
      "13 []\n",
      "14 []\n",
      "15 []\n",
      "16 []\n",
      "17 []\n",
      "18 []\n",
      "19 []\n",
      "20 []\n",
      "21 []\n",
      "22 []\n",
      "23 []\n",
      "24 []\n",
      "25 []\n",
      "26 []\n",
      "27 []\n",
      "28 []\n",
      "29 []\n",
      "30 []\n",
      "31 []\n",
      "32 []\n",
      "33 []\n",
      "34 []\n",
      "35 []\n",
      "36 []\n",
      "37 []\n",
      "38 []\n",
      "39 []\n",
      "40 []\n",
      "41 []\n",
      "42 []\n",
      "43 []\n",
      "44 []\n",
      "45 []\n",
      "46 []\n",
      "47 []\n",
      "48 []\n",
      "49 []\n",
      "50 []\n"
     ]
    }
   ],
   "source": [
    "df_train = pd.get_dummies(df_train, columns = ['mvar47'], prefix = ['type'])\n",
    "for i in range(51):\n",
    "    lol =get_non_numeric(list(df_train.iloc[:, i].unique()))\n",
    "    print(i, lol)\n",
    "for el in list(df_train.columns):\n",
    "    df_train[el] = pd.to_numeric(df_train[el])"
   ]
  },
  {
   "cell_type": "code",
   "execution_count": 10,
   "id": "3e6dcf7a",
   "metadata": {},
   "outputs": [
    {
     "name": "stdout",
     "output_type": "stream",
     "text": [
      "<class 'pandas.core.frame.DataFrame'>\n",
      "Int64Index: 83000 entries, 230032 to 578068\n",
      "Data columns (total 53 columns):\n",
      " #   Column       Non-Null Count  Dtype  \n",
      "---  ------       --------------  -----  \n",
      " 0   mvar1        79267 non-null  float64\n",
      " 1   mvar2        77114 non-null  float64\n",
      " 2   mvar3        82465 non-null  float64\n",
      " 3   mvar4        82465 non-null  float64\n",
      " 4   mvar5        82465 non-null  float64\n",
      " 5   mvar6        63299 non-null  float64\n",
      " 6   mvar7        75326 non-null  float64\n",
      " 7   mvar8        63291 non-null  float64\n",
      " 8   mvar9        71318 non-null  float64\n",
      " 9   mvar10       82465 non-null  float64\n",
      " 10  mvar11       36283 non-null  float64\n",
      " 11  mvar12       68422 non-null  float64\n",
      " 12  mvar13       73311 non-null  float64\n",
      " 13  mvar14       83000 non-null  int64  \n",
      " 14  mvar15       49481 non-null  float64\n",
      " 15  mvar16       63757 non-null  float64\n",
      " 16  mvar17       66501 non-null  float64\n",
      " 17  mvar18       67641 non-null  float64\n",
      " 18  mvar19       82995 non-null  float64\n",
      " 19  mvar20       82465 non-null  float64\n",
      " 20  mvar21       59538 non-null  float64\n",
      " 21  mvar22       52332 non-null  float64\n",
      " 22  mvar23       40689 non-null  float64\n",
      " 23  mvar24       63470 non-null  float64\n",
      " 24  mvar25       75138 non-null  float64\n",
      " 25  mvar26       72071 non-null  float64\n",
      " 26  mvar27       69350 non-null  float64\n",
      " 27  mvar28       82465 non-null  float64\n",
      " 28  mvar29       82465 non-null  float64\n",
      " 29  mvar30       45012 non-null  float64\n",
      " 30  mvar31       24461 non-null  float64\n",
      " 31  mvar32       75138 non-null  float64\n",
      " 32  mvar33       81131 non-null  float64\n",
      " 33  mvar34       82465 non-null  float64\n",
      " 34  mvar35       48132 non-null  float64\n",
      " 35  mvar36       79841 non-null  float64\n",
      " 36  mvar37       75138 non-null  float64\n",
      " 37  mvar38       82465 non-null  float64\n",
      " 38  mvar39       76671 non-null  float64\n",
      " 39  mvar40       17930 non-null  float64\n",
      " 40  mvar41       25736 non-null  float64\n",
      " 41  mvar42       80977 non-null  float64\n",
      " 42  mvar43       82111 non-null  float64\n",
      " 43  mvar44       74851 non-null  float64\n",
      " 44  mvar45       37080 non-null  float64\n",
      " 45  mvar46       59397 non-null  float64\n",
      " 46  mvar48       83000 non-null  int64  \n",
      " 47  mvar49       83000 non-null  int64  \n",
      " 48  mvar50       79267 non-null  float64\n",
      " 49  mvar51       79267 non-null  float64\n",
      " 50  default_ind  83000 non-null  int64  \n",
      " 51  type_C       83000 non-null  uint8  \n",
      " 52  type_L       83000 non-null  uint8  \n",
      "dtypes: float64(47), int64(4), uint8(2)\n",
      "memory usage: 33.1 MB\n"
     ]
    }
   ],
   "source": [
    "df_train.info()"
   ]
  },
  {
   "cell_type": "markdown",
   "id": "d8b65bf8",
   "metadata": {},
   "source": [
    "#### Simple imputation"
   ]
  },
  {
   "cell_type": "code",
   "execution_count": 12,
   "id": "58f39d6b",
   "metadata": {},
   "outputs": [
    {
     "data": {
      "text/plain": [
       "SimpleImputer()"
      ]
     },
     "execution_count": 12,
     "metadata": {},
     "output_type": "execute_result"
    }
   ],
   "source": [
    "mean_imputer = SimpleImputer(missing_values=np.nan, strategy='mean')\n",
    "mean_imputer.fit(df_train)"
   ]
  },
  {
   "cell_type": "code",
   "execution_count": 13,
   "id": "80ca883b",
   "metadata": {},
   "outputs": [],
   "source": [
    "df_train_imputed = mean_imputer.transform(df_train)\n",
    "df_train_imputed = pd.DataFrame(df_train_imputed, columns = df_train.columns)"
   ]
  },
  {
   "cell_type": "code",
   "execution_count": 14,
   "id": "6f90ed9d",
   "metadata": {},
   "outputs": [
    {
     "name": "stdout",
     "output_type": "stream",
     "text": [
      "<class 'pandas.core.frame.DataFrame'>\n",
      "RangeIndex: 83000 entries, 0 to 82999\n",
      "Data columns (total 51 columns):\n",
      " #   Column       Non-Null Count  Dtype  \n",
      "---  ------       --------------  -----  \n",
      " 0   mvar1        83000 non-null  float64\n",
      " 1   mvar2        83000 non-null  float64\n",
      " 2   mvar3        83000 non-null  float64\n",
      " 3   mvar4        83000 non-null  float64\n",
      " 4   mvar5        83000 non-null  float64\n",
      " 5   mvar6        83000 non-null  float64\n",
      " 6   mvar7        83000 non-null  float64\n",
      " 7   mvar8        83000 non-null  float64\n",
      " 8   mvar9        83000 non-null  float64\n",
      " 9   mvar10       83000 non-null  float64\n",
      " 10  mvar11       83000 non-null  float64\n",
      " 11  mvar12       83000 non-null  float64\n",
      " 12  mvar13       83000 non-null  float64\n",
      " 13  mvar14       83000 non-null  float64\n",
      " 14  mvar15       83000 non-null  float64\n",
      " 15  mvar16       83000 non-null  float64\n",
      " 16  mvar17       83000 non-null  float64\n",
      " 17  mvar18       83000 non-null  float64\n",
      " 18  mvar19       83000 non-null  float64\n",
      " 19  mvar20       83000 non-null  float64\n",
      " 20  mvar21       83000 non-null  float64\n",
      " 21  mvar22       83000 non-null  float64\n",
      " 22  mvar23       83000 non-null  float64\n",
      " 23  mvar24       83000 non-null  float64\n",
      " 24  mvar25       83000 non-null  float64\n",
      " 25  mvar26       83000 non-null  float64\n",
      " 26  mvar27       83000 non-null  float64\n",
      " 27  mvar28       83000 non-null  float64\n",
      " 28  mvar29       83000 non-null  float64\n",
      " 29  mvar30       83000 non-null  float64\n",
      " 30  mvar31       83000 non-null  float64\n",
      " 31  mvar32       83000 non-null  float64\n",
      " 32  mvar33       83000 non-null  float64\n",
      " 33  mvar34       83000 non-null  float64\n",
      " 34  mvar35       83000 non-null  float64\n",
      " 35  mvar36       83000 non-null  float64\n",
      " 36  mvar37       83000 non-null  float64\n",
      " 37  mvar38       83000 non-null  float64\n",
      " 38  mvar39       83000 non-null  float64\n",
      " 39  mvar40       83000 non-null  float64\n",
      " 40  mvar41       83000 non-null  float64\n",
      " 41  mvar42       83000 non-null  float64\n",
      " 42  mvar43       83000 non-null  float64\n",
      " 43  mvar44       83000 non-null  float64\n",
      " 44  mvar45       83000 non-null  float64\n",
      " 45  mvar46       83000 non-null  float64\n",
      " 46  mvar48       83000 non-null  float64\n",
      " 47  mvar49       83000 non-null  float64\n",
      " 48  mvar50       83000 non-null  float64\n",
      " 49  mvar51       83000 non-null  float64\n",
      " 50  default_ind  83000 non-null  float64\n",
      "dtypes: float64(51)\n",
      "memory usage: 32.3 MB\n"
     ]
    }
   ],
   "source": [
    "df_train_imputed.info()"
   ]
  },
  {
   "cell_type": "code",
   "execution_count": 15,
   "id": "5b463f2a",
   "metadata": {},
   "outputs": [],
   "source": [
    "df_train_imputed['default_ind'] = df_train_imputed['default_ind'].astype('int')"
   ]
  },
  {
   "cell_type": "markdown",
   "id": "69f7150d",
   "metadata": {},
   "source": [
    "## Using KNN Imputer"
   ]
  },
  {
   "cell_type": "code",
   "execution_count": 13,
   "id": "fb9a09b1",
   "metadata": {},
   "outputs": [
    {
     "data": {
      "text/plain": [
       "KNNImputer(weights='distance')"
      ]
     },
     "execution_count": 13,
     "metadata": {},
     "output_type": "execute_result"
    }
   ],
   "source": [
    "knn_imputer = KNNImputer(missing_values=np.nan, weights = 'distance')\n",
    "knn_imputer.fit(df_train)"
   ]
  },
  {
   "cell_type": "code",
   "execution_count": 14,
   "id": "72cabc48",
   "metadata": {},
   "outputs": [],
   "source": [
    "df_train_imputed = knn_imputer.transform(df_train)\n",
    "df_train_imputed = pd.DataFrame(df_train_imputed, columns = df_train.columns)"
   ]
  },
  {
   "cell_type": "code",
   "execution_count": null,
   "id": "14800605",
   "metadata": {},
   "outputs": [],
   "source": []
  },
  {
   "cell_type": "code",
   "execution_count": 11,
   "id": "6b3cdc55",
   "metadata": {},
   "outputs": [],
   "source": [
    "df_train_imputed = df_train"
   ]
  },
  {
   "cell_type": "markdown",
   "id": "e775bd29",
   "metadata": {},
   "source": [
    "### Data visualization"
   ]
  },
  {
   "cell_type": "code",
   "execution_count": 12,
   "id": "aaa8b66b",
   "metadata": {},
   "outputs": [
    {
     "data": {
      "text/plain": [
       "<AxesSubplot:xlabel='default_ind', ylabel='count'>"
      ]
     },
     "execution_count": 12,
     "metadata": {},
     "output_type": "execute_result"
    },
    {
     "data": {
      "image/png": "[encoded data removed]",
      "text/plain": [
       "<Figure size 432x288 with 1 Axes>"
      ]
     },
     "metadata": {
      "needs_background": "light"
     },
     "output_type": "display_data"
    }
   ],
   "source": [
    "sns.countplot(x = 'default_ind', data = df_train_imputed)"
   ]
  },
  {
   "cell_type": "code",
   "execution_count": 13,
   "id": "bf290cb1",
   "metadata": {},
   "outputs": [
    {
     "data": {
      "text/plain": [
       "0.28740963855421686"
      ]
     },
     "execution_count": 13,
     "metadata": {},
     "output_type": "execute_result"
    }
   ],
   "source": [
    "df_train_imputed['default_ind'].sum()/len(df_train_imputed['default_ind'])"
   ]
  },
  {
   "cell_type": "code",
   "execution_count": 14,
   "id": "82d7a43d",
   "metadata": {},
   "outputs": [
    {
     "data": {
      "text/plain": [
       "2.479354433032907"
      ]
     },
     "execution_count": 14,
     "metadata": {},
     "output_type": "execute_result"
    }
   ],
   "source": [
    "class_weight = len(df_train_imputed['default_ind'])/df_train_imputed['default_ind'].sum() - 1\n",
    "class_weight"
   ]
  },
  {
   "cell_type": "markdown",
   "id": "7b52a3ff",
   "metadata": {},
   "source": [
    "Imbalanced dataset, though it is not that bad."
   ]
  },
  {
   "cell_type": "markdown",
   "id": "ff072426",
   "metadata": {},
   "source": [
    "#### Todo: more visualizations"
   ]
  },
  {
   "cell_type": "code",
   "execution_count": null,
   "id": "ed2f86e1",
   "metadata": {},
   "outputs": [],
   "source": []
  },
  {
   "cell_type": "code",
   "execution_count": null,
   "id": "8a4ada93",
   "metadata": {},
   "outputs": [],
   "source": []
  },
  {
   "cell_type": "code",
   "execution_count": null,
   "id": "89457560",
   "metadata": {},
   "outputs": [],
   "source": []
  },
  {
   "cell_type": "code",
   "execution_count": null,
   "id": "16321cdf",
   "metadata": {},
   "outputs": [],
   "source": []
  },
  {
   "cell_type": "markdown",
   "id": "18ac69ee",
   "metadata": {},
   "source": [
    "### Building models"
   ]
  },
  {
   "cell_type": "markdown",
   "id": "5f04c9c8",
   "metadata": {},
   "source": [
    "#### Test set generation"
   ]
  },
  {
   "cell_type": "code",
   "execution_count": 15,
   "id": "156af634",
   "metadata": {},
   "outputs": [
    {
     "name": "stdout",
     "output_type": "stream",
     "text": [
      "['mvar1', 'mvar2', 'mvar3', 'mvar4', 'mvar5', 'mvar6', 'mvar7', 'mvar8', 'mvar9', 'mvar10', 'mvar11', 'mvar12', 'mvar13', 'mvar14', 'mvar15', 'mvar16', 'mvar17', 'mvar18', 'mvar19', 'mvar20', 'mvar21', 'mvar22', 'mvar23', 'mvar24', 'mvar25', 'mvar26', 'mvar27', 'mvar28', 'mvar29', 'mvar30', 'mvar31', 'mvar32', 'mvar33', 'mvar34', 'mvar35', 'mvar36', 'mvar37', 'mvar38', 'mvar39', 'mvar40', 'mvar41', 'mvar42', 'mvar43', 'mvar44', 'mvar45', 'mvar46', 'mvar48', 'mvar49', 'mvar50', 'mvar51', 'type_C', 'type_L']\n"
     ]
    }
   ],
   "source": [
    "x = list(df_train_imputed.columns)\n",
    "x.remove('default_ind')\n",
    "print(x)"
   ]
  },
  {
   "cell_type": "code",
   "execution_count": 16,
   "id": "979fd7e5",
   "metadata": {},
   "outputs": [],
   "source": [
    "non_label_cols = list(df_train_imputed.columns)\n",
    "non_label_cols.remove('default_ind')\n",
    "\n",
    "\n",
    "X = df_train_imputed[non_label_cols]\n",
    "y = df_train_imputed['default_ind']\n",
    "\n",
    "X_train, X_test, y_train, y_test = train_test_split(X, y, stratify = y,test_size = 0.3, random_state = 42)"
   ]
  },
  {
   "cell_type": "code",
   "execution_count": 17,
   "id": "1698114a",
   "metadata": {},
   "outputs": [
    {
     "data": {
      "text/plain": [
       "0.2873895582329317"
      ]
     },
     "execution_count": 17,
     "metadata": {},
     "output_type": "execute_result"
    }
   ],
   "source": [
    "y_test.sum()/len(y_test)"
   ]
  },
  {
   "cell_type": "markdown",
   "id": "b262ec44",
   "metadata": {},
   "source": [
    "## Using XGBoost"
   ]
  },
  {
   "cell_type": "code",
   "execution_count": 18,
   "id": "4b2470e4",
   "metadata": {},
   "outputs": [],
   "source": [
    "xgb_model = XGBClassifier(learning_rate = 0.01,  \n",
    "                      colsample_bytree = 0.25,\n",
    "                      subsample = 0.5,\n",
    "                      objective = 'binary:logistic', \n",
    "                      n_estimators = 3000,\n",
    "                      max_depth = 14, \n",
    "                      scale_pos_weight = 5,\n",
    "                      reg_lambda = 8,\n",
    "                      gamma = 4,\n",
    "                      tree_method = 'gpu_hist')\n",
    "\n",
    "# colsample_bytree=0.4, gamma=1, max_depth=8, n_estimators=3000, reg_lambda=5, subsample=0.8"
   ]
  },
  {
   "cell_type": "code",
   "execution_count": 19,
   "id": "a72cf831",
   "metadata": {},
   "outputs": [
    {
     "name": "stdout",
     "output_type": "stream",
     "text": [
      "Wall time: 33.2 s\n"
     ]
    },
    {
     "data": {
      "text/plain": [
       "XGBClassifier(base_score=0.5, booster='gbtree', callbacks=None,\n",
       "              colsample_bylevel=1, colsample_bynode=1, colsample_bytree=0.25,\n",
       "              early_stopping_rounds=None, enable_categorical=False,\n",
       "              eval_metric=None, feature_types=None, gamma=4, gpu_id=0,\n",
       "              grow_policy='depthwise', importance_type=None,\n",
       "              interaction_constraints='', learning_rate=0.01, max_bin=256,\n",
       "              max_cat_threshold=64, max_cat_to_onehot=4, max_delta_step=0,\n",
       "              max_depth=14, max_leaves=0, min_child_weight=1, missing=nan,\n",
       "              monotone_constraints='()', n_estimators=3000, n_jobs=0,\n",
       "              num_parallel_tree=1, predictor='auto', random_state=0, ...)"
      ]
     },
     "execution_count": 19,
     "metadata": {},
     "output_type": "execute_result"
    }
   ],
   "source": [
    "%time xgb_model.fit(X_train, y_train)"
   ]
  },
  {
   "cell_type": "code",
   "execution_count": 20,
   "id": "d170157a",
   "metadata": {},
   "outputs": [
    {
     "name": "stdout",
     "output_type": "stream",
     "text": [
      "              precision    recall  f1-score   support\n",
      "\n",
      "           0       0.85      1.00      0.92     35100\n",
      "           1       1.00      0.73      0.84     23000\n",
      "\n",
      "    accuracy                           0.89     58100\n",
      "   macro avg       0.92      0.86      0.88     58100\n",
      "weighted avg       0.91      0.89      0.89     58100\n",
      "\n",
      "0.8409279830726214\n"
     ]
    }
   ],
   "source": [
    "y_pred10 = xgb_model.predict(X_train)\n",
    "print(classification_report(y_pred10, y_train))\n",
    "print(f1_score(y_pred10, y_train))"
   ]
  },
  {
   "cell_type": "code",
   "execution_count": 21,
   "id": "5da0023e",
   "metadata": {},
   "outputs": [
    {
     "name": "stdout",
     "output_type": "stream",
     "text": [
      "              precision    recall  f1-score   support\n",
      "\n",
      "           0       0.72      0.87      0.78     14660\n",
      "           1       0.72      0.51      0.60     10240\n",
      "\n",
      "    accuracy                           0.72     24900\n",
      "   macro avg       0.72      0.69      0.69     24900\n",
      "weighted avg       0.72      0.72      0.71     24900\n",
      "\n",
      "0.5959990802483329\n"
     ]
    }
   ],
   "source": [
    "y_pred11 = xgb_model.predict(X_test)\n",
    "print(classification_report(y_pred11, y_test))\n",
    "print(f1_score(y_pred11, y_test))"
   ]
  },
  {
   "cell_type": "code",
   "execution_count": 22,
   "id": "97fd7986",
   "metadata": {
    "scrolled": true
   },
   "outputs": [
    {
     "data": {
      "image/png": "[encoded data removed]",
      "text/plain": [
       "<Figure size 432x288 with 1 Axes>"
      ]
     },
     "metadata": {
      "needs_background": "light"
     },
     "output_type": "display_data"
    }
   ],
   "source": [
    "fig = xgboost.plot_importance(xgb_model, max_num_features = 20, importance_type = 'weight')\n",
    "plt.show()"
   ]
  },
  {
   "cell_type": "code",
   "execution_count": 23,
   "id": "6c5fd9e8",
   "metadata": {},
   "outputs": [
    {
     "data": {
      "image/png": "[encoded data removed]",
      "text/plain": [
       "<Figure size 432x288 with 1 Axes>"
      ]
     },
     "metadata": {
      "needs_background": "light"
     },
     "output_type": "display_data"
    }
   ],
   "source": [
    "f_importance = xgb_model.get_booster().get_score(importance_type='weight')\n",
    "importance_df = pd.DataFrame.from_dict(data=f_importance, orient='index')\n",
    "importance_df.plot.bar()\n",
    "plt.show()"
   ]
  },
  {
   "cell_type": "markdown",
   "id": "73cf25a0",
   "metadata": {},
   "source": [
    "## Tuning XGBoost"
   ]
  },
  {
   "cell_type": "markdown",
   "id": "12a0fb8f",
   "metadata": {},
   "source": [
    "#### First we tune class weights"
   ]
  },
  {
   "cell_type": "code",
   "execution_count": 26,
   "id": "9ae340f7",
   "metadata": {},
   "outputs": [
    {
     "name": "stdout",
     "output_type": "stream",
     "text": [
      "1 - Train: 0.9944137433925997 Test: 0.5196487937942205\n",
      "2 - Train: 0.9948739345532575 Test: 0.5594706877981227\n",
      "3 - Train: 0.9906858092074039 Test: 0.5702967444540479\n",
      "4 - Train: 0.9852498672488053 Test: 0.5785783033136257\n",
      "5 - Train: 0.9799595082303924 Test: 0.5826980444149817\n",
      "6 - Train: 0.9738729806963318 Test: 0.5849251419721218\n",
      "7 - Train: 0.967805500014489 Test: 0.5841989298079949\n"
     ]
    }
   ],
   "source": [
    "scale = list(range(1,8))\n",
    "f_scores = []\n",
    "\n",
    "for el in scale:\n",
    "    \n",
    "    tune_wt_xgb = XGBClassifier(learning_rate = 0.01,  \n",
    "                      colsample_bytree = 0.6,\n",
    "                      subsample = 0.8,\n",
    "                      objective = 'binary:logistic', \n",
    "                      n_estimators = 3000,\n",
    "                      max_depth = 10, \n",
    "                      scale_pos_weight = el,\n",
    "                      gamma = 0,\n",
    "                      verbosity = 2,\n",
    "                      tree_method = 'gpu_hist')\n",
    "    \n",
    "    tune_wt_xgb.fit(X_train, y_train)\n",
    "    \n",
    "    y_train_pred = tune_wt_xgb.predict(X_train)\n",
    "    y_test_pred = tune_wt_xgb.predict(X_test)\n",
    "    \n",
    "    train_f = f1_score(y_train, y_train_pred)\n",
    "    test_f = f1_score(y_test, y_test_pred)\n",
    "    \n",
    "    f_scores.append([el, train_f, test_f])\n",
    "    print(el,\"- Train:\", train_f, \"Test:\", test_f)"
   ]
  },
  {
   "cell_type": "markdown",
   "id": "061aa29d",
   "metadata": {},
   "source": [
    "#### Further tuning this parameter"
   ]
  },
  {
   "cell_type": "code",
   "execution_count": 28,
   "id": "5ffa2cba",
   "metadata": {},
   "outputs": [
    {
     "name": "stdout",
     "output_type": "stream",
     "text": [
      "4.5 - Train: 0.9827855104022599 Test: 0.5803360550644443\n",
      "4.75 - Train: 0.9813416389974438 Test: 0.582227583433856\n",
      "5.0 - Train: 0.9799595082303924 Test: 0.5826980444149817\n",
      "5.25 - Train: 0.9779795021961932 Test: 0.5848646512546928\n",
      "5.5 - Train: 0.9764926027717677 Test: 0.5835133896418516\n",
      "5.75 - Train: 0.9748679179193789 Test: 0.5876469442099109\n",
      "6.0 - Train: 0.9738729806963318 Test: 0.5849251419721218\n",
      "6.25 - Train: 0.9718891863578163 Test: 0.5824705806700533\n",
      "6.5 - Train: 0.9716064467329959 Test: 0.5841464192334672\n",
      "6.75 - Train: 0.9698008014402695 Test: 0.5846251186333439\n",
      "7.0 - Train: 0.967805500014489 Test: 0.5841989298079949\n",
      "7.25 - Train: 0.9654275307856853 Test: 0.5843708940749546\n",
      "7.5 - Train: 0.9654833487511563 Test: 0.5831466268359472\n"
     ]
    }
   ],
   "source": [
    "scale = [4.50, 4.75, 5.00, 5.25, 5.50, 5.75, 6.00, 6.25, 6.50, 6.75, 7.00, 7.25, 7.50]\n",
    "f_scores = []\n",
    "\n",
    "for el in scale:\n",
    "    \n",
    "    tune_wt_xgb = XGBClassifier(learning_rate = 0.01,  \n",
    "                      colsample_bytree = 0.6,\n",
    "                      subsample = 0.8,\n",
    "                      objective = 'binary:logistic', \n",
    "                      n_estimators = 3000,\n",
    "                      max_depth = 10, \n",
    "                      scale_pos_weight = el,\n",
    "                      gamma = 0,\n",
    "                      verbosity = 2,\n",
    "                      tree_method = 'gpu_hist')\n",
    "    \n",
    "    tune_wt_xgb.fit(X_train, y_train)\n",
    "    \n",
    "    y_train_pred = tune_wt_xgb.predict(X_train)\n",
    "    y_test_pred = tune_wt_xgb.predict(X_test)\n",
    "    \n",
    "    train_f = f1_score(y_train, y_train_pred)\n",
    "    test_f = f1_score(y_test, y_test_pred)\n",
    "    \n",
    "    f_scores.append([el, train_f, test_f])\n",
    "    print(el,\"- Train:\", train_f, \"Test:\", test_f)"
   ]
  },
  {
   "cell_type": "markdown",
   "id": "299e3e01",
   "metadata": {},
   "source": [
    "We select class_weight to be 6 (or 5) we'll see later.\n",
    "Edakk eppzheluokke aayt 5 also try cheyth nokkaa.\n",
    "Verthe oru rasam"
   ]
  },
  {
   "cell_type": "code",
   "execution_count": 37,
   "id": "2d86d4ce",
   "metadata": {},
   "outputs": [
    {
     "name": "stdout",
     "output_type": "stream",
     "text": [
      "5 - Train: 0.6423321598418875 Test: 0.5714830710538865\n",
      "6 - Train: 0.70200754190553 Test: 0.5787310814874211\n",
      "7 - Train: 0.7806168233127095 Test: 0.5840916390108125\n",
      "8 - Train: 0.8647092389894694 Test: 0.5884940386618822\n",
      "9 - Train: 0.9393564356435644 Test: 0.5881616818921287\n",
      "10 - Train: 0.9799595082303924 Test: 0.5826980444149817\n",
      "11 - Train: 0.9939585131394899 Test: 0.5740805359759927\n",
      "12 - Train: 0.9986245664394212 Test: 0.569020172910663\n",
      "13 - Train: 0.9999101823298704 Test: 0.5647752394988946\n",
      "14 - Train: 1.0 Test: 0.5628822915112635\n"
     ]
    }
   ],
   "source": [
    "deep = [5, 6, 7, 8, 9, 10, 11, 12, 13, 14]\n",
    "f_scores = []\n",
    "\n",
    "for el in deep:\n",
    "    \n",
    "    tune_dp_xgb = XGBClassifier(learning_rate = 0.01,  \n",
    "                              colsample_bytree = 0.6,\n",
    "                              subsample = 0.8,\n",
    "                              objective = 'binary:logistic', \n",
    "                              n_estimators = 3000,\n",
    "                              max_depth = el, \n",
    "                              scale_pos_weight = 5,\n",
    "                              gamma = 0,\n",
    "                              verbosity = 2,\n",
    "                              tree_method = 'gpu_hist')\n",
    "    \n",
    "    tune_dp_xgb.fit(X_train, y_train)\n",
    "    \n",
    "    y_train_pred = tune_dp_xgb.predict(X_train)\n",
    "    y_test_pred = tune_dp_xgb.predict(X_test)\n",
    "    \n",
    "    train_f = f1_score(y_train, y_train_pred)\n",
    "    test_f = f1_score(y_test, y_test_pred)\n",
    "    \n",
    "    f_scores.append([el, train_f, test_f])\n",
    "    print(el,\"- Train:\", train_f, \"Test:\", test_f)"
   ]
  },
  {
   "cell_type": "markdown",
   "id": "c85217e4",
   "metadata": {},
   "source": [
    "Values 8 and 9 are pretty good estimates for the max_depth. Extended search from 7 to 10."
   ]
  },
  {
   "cell_type": "code",
   "execution_count": 39,
   "id": "3f26be52",
   "metadata": {},
   "outputs": [
    {
     "name": "stdout",
     "output_type": "stream",
     "text": [
      "***************************\n",
      "Depth:  7\n",
      "***************************\n",
      "1 - Train: 0.779224455137277 Test: 0.5846400856301847\n",
      "2 - Train: 0.7797706140557888 Test: 0.5833467202141901\n",
      "3 - Train: 0.7772154878192302 Test: 0.5839431654291971\n",
      "4 - Train: 0.7631713080950836 Test: 0.5833113977362464\n",
      "5 - Train: 0.7395531837916064 Test: 0.5801510917934389\n",
      "6 - Train: 0.7160526548281652 Test: 0.5787553213054937\n",
      "***************************\n",
      "Depth:  8\n",
      "***************************\n",
      "1 - Train: 0.864067603297216 Test: 0.5871315225574795\n",
      "2 - Train: 0.8613048194638152 Test: 0.5889620136242927\n",
      "3 - Train: 0.8445999036828631 Test: 0.5870295507601206\n",
      "4 - Train: 0.8127889625480076 Test: 0.5855190654617589\n",
      "5 - Train: 0.7815809379727685 Test: 0.5826754739272865\n",
      "6 - Train: 0.7503200438917338 Test: 0.5828935681070068\n",
      "***************************\n",
      "Depth:  9\n",
      "***************************\n",
      "1 - Train: 0.939171517759217 Test: 0.5863423760523854\n",
      "2 - Train: 0.9278728606356969 Test: 0.5869043959422072\n",
      "3 - Train: 0.8899021411620404 Test: 0.5896022289406605\n",
      "4 - Train: 0.847946669380693 Test: 0.5895815542271563\n",
      "5 - Train: 0.8099685434904532 Test: 0.5864645132937816\n",
      "6 - Train: 0.7793469291524224 Test: 0.5868237814675951\n",
      "***************************\n",
      "Depth:  10\n",
      "***************************\n",
      "1 - Train: 0.978609939052977 Test: 0.58386819294647\n",
      "2 - Train: 0.9570175941314689 Test: 0.5851606323304437\n",
      "3 - Train: 0.9134978388138097 Test: 0.5872361077408397\n",
      "4 - Train: 0.8696694818058596 Test: 0.5909222990643342\n",
      "5 - Train: 0.8331790779698327 Test: 0.5891150342966378\n",
      "6 - Train: 0.802300016911889 Test: 0.5868125854993159\n"
     ]
    }
   ],
   "source": [
    "deep = [7, 8, 9, 10]\n",
    "gams = [1, 2, 3, 4, 5, 6]\n",
    "f_scores = []\n",
    "\n",
    "for el1 in deep:\n",
    "    print('***************************')\n",
    "    print('Depth: ',el1)\n",
    "    print('***************************')\n",
    "    for el2 in gams:\n",
    "\n",
    "        tune_dp_xgb = XGBClassifier(learning_rate = 0.01,  \n",
    "                              colsample_bytree = 0.6,\n",
    "                              subsample = 0.8,\n",
    "                              objective = 'binary:logistic', \n",
    "                              n_estimators = 3000,\n",
    "                              max_depth = el1, \n",
    "                              scale_pos_weight = 5,\n",
    "                              gamma = el2,\n",
    "                              verbosity = 2,\n",
    "                              tree_method = 'gpu_hist')\n",
    "\n",
    "        tune_dp_xgb.fit(X_train, y_train)\n",
    "\n",
    "        y_train_pred = tune_dp_xgb.predict(X_train)\n",
    "        y_test_pred = tune_dp_xgb.predict(X_test)\n",
    "\n",
    "        train_f = f1_score(y_train, y_train_pred)\n",
    "        test_f = f1_score(y_test, y_test_pred)\n",
    "\n",
    "        f_scores.append([el, train_f, test_f])\n",
    "        print( el2,\"- Train:\", train_f, \"Test:\", test_f)"
   ]
  },
  {
   "cell_type": "markdown",
   "id": "d91ba98f",
   "metadata": {},
   "source": [
    "Range of gammas between 3 to 5 works best. The value of max_depth can be on higher side. "
   ]
  },
  {
   "cell_type": "markdown",
   "id": "c0cd2054",
   "metadata": {},
   "source": [
    "Further tuning"
   ]
  },
  {
   "cell_type": "code",
   "execution_count": 40,
   "id": "9c778fe9",
   "metadata": {},
   "outputs": [
    {
     "name": "stdout",
     "output_type": "stream",
     "text": [
      "***************************\n",
      "Depth:  9\n",
      "***************************\n",
      "3 - Train: 0.8899021411620404 Test: 0.5896022289406605\n",
      "3.25 - Train: 0.8779075886748764 Test: 0.5891463772367264\n",
      "3.5 - Train: 0.86781848459617 Test: 0.5892857142857143\n",
      "3.75 - Train: 0.8575763810307582 Test: 0.589453102536086\n",
      "4 - Train: 0.847946669380693 Test: 0.5895815542271563\n",
      "4.25 - Train: 0.8375694496819771 Test: 0.5879501775348025\n",
      "4.5 - Train: 0.8293302770580027 Test: 0.5864981262934169\n",
      "4.75 - Train: 0.818752616157388 Test: 0.588267877915028\n",
      "5 - Train: 0.8099685434904532 Test: 0.5864645132937816\n",
      "5.25 - Train: 0.8014102192601178 Test: 0.5873536812164971\n",
      "5.5 - Train: 0.794223307946544 Test: 0.5875914386345163\n",
      "5.75 - Train: 0.7872765310003804 Test: 0.5862180524102233\n",
      "6 - Train: 0.7793469291524224 Test: 0.5868237814675951\n",
      "***************************\n",
      "Depth:  10\n",
      "***************************\n",
      "3 - Train: 0.9134978388138097 Test: 0.5872361077408397\n",
      "3.25 - Train: 0.9036431548746819 Test: 0.5892814227349195\n",
      "3.5 - Train: 0.8926441883472819 Test: 0.5890402808353662\n",
      "3.75 - Train: 0.8814177054722164 Test: 0.5891618666980134\n",
      "4 - Train: 0.8696694818058596 Test: 0.5909222990643342\n",
      "4.25 - Train: 0.861222276729235 Test: 0.5916955017301038\n",
      "4.5 - Train: 0.8506773477562058 Test: 0.5881346263548204\n",
      "4.75 - Train: 0.841315929002449 Test: 0.588574987261507\n",
      "5 - Train: 0.8331790779698327 Test: 0.5891150342966378\n",
      "5.25 - Train: 0.8254401190181007 Test: 0.5887281461207619\n",
      "5.5 - Train: 0.8173554125104419 Test: 0.5883656509695291\n",
      "5.75 - Train: 0.80885037606796 Test: 0.5878664539904296\n",
      "6 - Train: 0.802300016911889 Test: 0.5868125854993159\n",
      "***************************\n",
      "Depth:  11\n",
      "***************************\n",
      "3 - Train: 0.9291417443316178 Test: 0.587057296495457\n",
      "3.25 - Train: 0.9178759894459103 Test: 0.5881778808027817\n",
      "3.5 - Train: 0.9074355908250896 Test: 0.5902015204537228\n",
      "3.75 - Train: 0.8969482054588437 Test: 0.5901032650868502\n",
      "4 - Train: 0.8867282966741047 Test: 0.5914810657529391\n",
      "4.25 - Train: 0.8774217291869298 Test: 0.5894848022532566\n",
      "4.5 - Train: 0.866985347604697 Test: 0.5899506244554167\n",
      "4.75 - Train: 0.8590272052761746 Test: 0.5901828459364364\n",
      "5 - Train: 0.8501937589231083 Test: 0.5896555669985124\n",
      "5.25 - Train: 0.8409790562705022 Test: 0.5884288145207034\n",
      "5.5 - Train: 0.8335125672127047 Test: 0.5901971830985916\n",
      "5.75 - Train: 0.8271255462852602 Test: 0.5879194630872483\n",
      "6 - Train: 0.818338249754179 Test: 0.588785046728972\n"
     ]
    }
   ],
   "source": [
    "gams = [3, 3.25, 3.5, 3.75, 4, 4.25, 4.5, 4.75, 5, 5.25, 5.5, 5.75, 6]\n",
    "deep = [9, 10, 11]\n",
    "f_scores = []\n",
    "\n",
    "for el1 in deep:\n",
    "    print('***************************')\n",
    "    print('Depth: ',el1)\n",
    "    print('***************************')\n",
    "    for el2 in gams:\n",
    "\n",
    "        tune_dp_xgb = XGBClassifier(learning_rate = 0.01,  \n",
    "                              colsample_bytree = 0.6,\n",
    "                              subsample = 0.8,\n",
    "                              objective = 'binary:logistic', \n",
    "                              n_estimators = 3000,\n",
    "                              max_depth = el1, \n",
    "                              scale_pos_weight = 5,\n",
    "                              gamma = el2,\n",
    "                              verbosity = 2,\n",
    "                              tree_method = 'gpu_hist')\n",
    "\n",
    "        tune_dp_xgb.fit(X_train, y_train)\n",
    "\n",
    "        y_train_pred = tune_dp_xgb.predict(X_train)\n",
    "        y_test_pred = tune_dp_xgb.predict(X_test)\n",
    "\n",
    "        train_f = f1_score(y_train, y_train_pred)\n",
    "        test_f = f1_score(y_test, y_test_pred)\n",
    "\n",
    "        f_scores.append([el, train_f, test_f])\n",
    "        print( el2,\"- Train:\", train_f, \"Test:\", test_f)"
   ]
  },
  {
   "cell_type": "markdown",
   "id": "1f99a0e0",
   "metadata": {},
   "source": [
    "#### Adding L2 Regularization"
   ]
  },
  {
   "cell_type": "code",
   "execution_count": 47,
   "id": "13e636cc",
   "metadata": {},
   "outputs": [
    {
     "name": "stdout",
     "output_type": "stream",
     "text": [
      "***************************\n",
      "Depth:  9\n",
      "***************************\n",
      "0 - Train: 0.8590199412583089 Test: 0.5874447188558958\n",
      "1 - Train: 0.847946669380693 Test: 0.5895815542271563\n",
      "2 - Train: 0.8397842959379095 Test: 0.5887406737508479\n",
      "3 - Train: 0.8338631755488247 Test: 0.588996399639964\n",
      "4 - Train: 0.8282843356712928 Test: 0.5885183527305282\n",
      "5 - Train: 0.8243798583948111 Test: 0.590339892665474\n",
      "***************************\n",
      "Depth:  10\n",
      "***************************\n",
      "0 - Train: 0.8840844659936942 Test: 0.5867403964939114\n",
      "1 - Train: 0.8696694818058596 Test: 0.5909222990643342\n",
      "2 - Train: 0.8618533257532689 Test: 0.5921987864778965\n",
      "3 - Train: 0.8546605499884672 Test: 0.5903159340659341\n",
      "4 - Train: 0.8492613346917982 Test: 0.5898138631951582\n",
      "5 - Train: 0.8441170514378291 Test: 0.5925841544683031\n",
      "***************************\n",
      "Depth:  11\n",
      "***************************\n",
      "0 - Train: 0.9007040543821315 Test: 0.5878333832783937\n",
      "1 - Train: 0.8867282966741047 Test: 0.5914810657529391\n",
      "2 - Train: 0.8772243395978446 Test: 0.5896849146277063\n",
      "3 - Train: 0.8700435360671551 Test: 0.5936606152588875\n",
      "4 - Train: 0.8633294528521537 Test: 0.5899263896134006\n",
      "5 - Train: 0.8584218786179217 Test: 0.5916030534351145\n",
      "***************************\n",
      "Depth:  12\n",
      "***************************\n",
      "0 - Train: 0.9122346963861345 Test: 0.5876444605796576\n",
      "1 - Train: 0.8990306946688207 Test: 0.5901168014375561\n",
      "2 - Train: 0.8882151121040452 Test: 0.5911330049261083\n",
      "3 - Train: 0.881624461989385 Test: 0.5923431407302375\n",
      "4 - Train: 0.8739856552012985 Test: 0.593171534348005\n",
      "5 - Train: 0.8675068208392881 Test: 0.5926532522227422\n"
     ]
    }
   ],
   "source": [
    "gams = [3, 3.5, 4, 4.5, 5, 5.5, 6]\n",
    "lamd = [0, 1, 2, 3, 4, 5]\n",
    "deep = [9, 10, 11, 12]\n",
    "f_scores = []\n",
    "\n",
    "for el1 in deep:\n",
    "    print('***************************')\n",
    "    print('Depth: ', el1)\n",
    "    print('***************************')\n",
    "    for el2 in lamd:\n",
    "\n",
    "        tune_dp_xgb = XGBClassifier(learning_rate = 0.01,  \n",
    "                              colsample_bytree = 0.6,\n",
    "                              subsample = 0.8,\n",
    "                              objective = 'binary:logistic', \n",
    "                              n_estimators = 3000,\n",
    "                              max_depth = el1, \n",
    "                              scale_pos_weight = 5,\n",
    "                              gamma = 4,\n",
    "                              reg_lambda = el2,\n",
    "                              verbosity = 2,\n",
    "                              tree_method = 'gpu_hist')\n",
    "\n",
    "        tune_dp_xgb.fit(X_train, y_train)\n",
    "\n",
    "        y_train_pred = tune_dp_xgb.predict(X_train)\n",
    "        y_test_pred = tune_dp_xgb.predict(X_test)\n",
    "\n",
    "        train_f = f1_score(y_train, y_train_pred)\n",
    "        test_f = f1_score(y_test, y_test_pred)\n",
    "\n",
    "        f_scores.append([el, train_f, test_f])\n",
    "        print( el2,\"- Train:\", train_f, \"Test:\", test_f)"
   ]
  },
  {
   "cell_type": "markdown",
   "id": "e4f077a5",
   "metadata": {},
   "source": [
    "Depth 12 gives amazing results when regularized. Lets use this from now on\n"
   ]
  },
  {
   "cell_type": "markdown",
   "id": "47952e87",
   "metadata": {},
   "source": [
    "Lets try regularizing for higher max depths too."
   ]
  },
  {
   "cell_type": "code",
   "execution_count": 48,
   "id": "dc088a3c",
   "metadata": {},
   "outputs": [
    {
     "name": "stdout",
     "output_type": "stream",
     "text": [
      "***************************\n",
      "Depth:  11\n",
      "***************************\n",
      "0 - Train: 0.9007040543821315 Test: 0.5878333832783937\n",
      "1 - Train: 0.8867282966741047 Test: 0.5914810657529391\n",
      "2 - Train: 0.8772243395978446 Test: 0.5896849146277063\n",
      "3 - Train: 0.8700435360671551 Test: 0.5936606152588875\n",
      "4 - Train: 0.8633294528521537 Test: 0.5899263896134006\n",
      "5 - Train: 0.8584218786179217 Test: 0.5916030534351145\n",
      "6 - Train: 0.854552903820547 Test: 0.593325661680092\n",
      "7 - Train: 0.8484910121786886 Test: 0.592478104070067\n",
      "8 - Train: 0.8460426546293713 Test: 0.5925205855443734\n",
      "9 - Train: 0.8423550797818623 Test: 0.5923978279508432\n",
      "10 - Train: 0.8391900389888064 Test: 0.591597404076056\n",
      "***************************\n",
      "Depth:  12\n",
      "***************************\n",
      "0 - Train: 0.9122346963861345 Test: 0.5876444605796576\n",
      "1 - Train: 0.8990306946688207 Test: 0.5901168014375561\n",
      "2 - Train: 0.8882151121040452 Test: 0.5911330049261083\n",
      "3 - Train: 0.881624461989385 Test: 0.5923431407302375\n",
      "4 - Train: 0.8739856552012985 Test: 0.593171534348005\n",
      "5 - Train: 0.8675068208392881 Test: 0.5926532522227422\n",
      "6 - Train: 0.86400579800176 Test: 0.5919141240301031\n",
      "7 - Train: 0.8600654453634279 Test: 0.5925452113740769\n",
      "8 - Train: 0.8546697738738508 Test: 0.5941752069943836\n",
      "9 - Train: 0.8519652884124553 Test: 0.5935550935550935\n",
      "10 - Train: 0.8490892439198127 Test: 0.593423019431988\n",
      "***************************\n",
      "Depth:  13\n",
      "***************************\n",
      "0 - Train: 0.9216292289861472 Test: 0.5888399412628487\n",
      "1 - Train: 0.9072092138860217 Test: 0.5905177640354069\n",
      "2 - Train: 0.8979350397935039 Test: 0.5908327333813295\n",
      "3 - Train: 0.8889243791423781 Test: 0.5919875998569214\n",
      "4 - Train: 0.8818357054210346 Test: 0.5930674264007597\n",
      "5 - Train: 0.875701473750459 Test: 0.5919356745890978\n",
      "6 - Train: 0.8700456026058632 Test: 0.59261437139833\n",
      "7 - Train: 0.8662308011623079 Test: 0.5916349809885932\n",
      "8 - Train: 0.8614114307831247 Test: 0.5924024041547529\n",
      "9 - Train: 0.8573556605711938 Test: 0.5918047079337402\n",
      "10 - Train: 0.8542844715093519 Test: 0.5939021562717366\n",
      "***************************\n",
      "Depth:  14\n",
      "***************************\n",
      "0 - Train: 0.9264869063470929 Test: 0.5891272189349113\n",
      "1 - Train: 0.9115921063405847 Test: 0.5908730884055322\n",
      "2 - Train: 0.9025266855830294 Test: 0.5913432474912345\n",
      "3 - Train: 0.893855047639439 Test: 0.5915391539153915\n",
      "4 - Train: 0.8876308935310689 Test: 0.5919293218720153\n",
      "5 - Train: 0.8812074515805582 Test: 0.5899673493618284\n",
      "6 - Train: 0.8753800985634895 Test: 0.5909871498786048\n",
      "7 - Train: 0.869318477638361 Test: 0.5911794147088264\n",
      "8 - Train: 0.8660130718954249 Test: 0.5922495163276075\n",
      "9 - Train: 0.8626640487754469 Test: 0.5937371963710858\n",
      "10 - Train: 0.8584798930371286 Test: 0.5935461323392357\n"
     ]
    }
   ],
   "source": [
    "gams = [3, 3.5, 4, 4.5, 5, 5.5, 6]\n",
    "lamd = [0, 1, 2, 3, 4, 5, 6, 7, 8, 9, 10]\n",
    "deep = [11, 12, 13, 14]\n",
    "f_scores = []\n",
    "\n",
    "for el1 in deep:\n",
    "    print('***************************')\n",
    "    print('Depth: ', el1)\n",
    "    print('***************************')\n",
    "    for el2 in lamd:\n",
    "\n",
    "        tune_dp_xgb = XGBClassifier(learning_rate = 0.01,  \n",
    "                              colsample_bytree = 0.6,\n",
    "                              subsample = 0.8,\n",
    "                              objective = 'binary:logistic', \n",
    "                              n_estimators = 3000,\n",
    "                              max_depth = el1, \n",
    "                              scale_pos_weight = 5,\n",
    "                              gamma = 4,\n",
    "                              reg_lambda = el2,\n",
    "                              verbosity = 2,\n",
    "                              tree_method = 'gpu_hist')\n",
    "\n",
    "        tune_dp_xgb.fit(X_train, y_train)\n",
    "\n",
    "        y_train_pred = tune_dp_xgb.predict(X_train)\n",
    "        y_test_pred = tune_dp_xgb.predict(X_test)\n",
    "\n",
    "        train_f = f1_score(y_train, y_train_pred)\n",
    "        test_f = f1_score(y_test, y_test_pred)\n",
    "\n",
    "        f_scores.append([el, train_f, test_f])\n",
    "        print( el2,\"- Train:\", train_f, \"Test:\", test_f)"
   ]
  },
  {
   "cell_type": "markdown",
   "id": "59a9798f",
   "metadata": {},
   "source": [
    "#### Tuning colsample_bytree"
   ]
  },
  {
   "cell_type": "code",
   "execution_count": 55,
   "id": "a3338d59",
   "metadata": {},
   "outputs": [
    {
     "name": "stdout",
     "output_type": "stream",
     "text": [
      "0.2 - Train: 0.8145110102045797 Test: 0.59124699569616\n",
      "0.25 - Train: 0.8293822374633467 Test: 0.5946986859990938\n",
      "0.3 - Train: 0.8370227380982226 Test: 0.5943908151025303\n",
      "0.35 - Train: 0.8457661034980622 Test: 0.5937283836753516\n",
      "0.4 - Train: 0.8506356202073727 Test: 0.5916995130999304\n",
      "0.45 - Train: 0.8549336883608992 Test: 0.5922008484918928\n",
      "0.5 - Train: 0.8587445675932831 Test: 0.5930069930069931\n",
      "0.55 - Train: 0.8622630790683262 Test: 0.5914537908458526\n",
      "0.6 - Train: 0.8660130718954249 Test: 0.5922495163276075\n"
     ]
    }
   ],
   "source": [
    "scale = [0.20, 0.25, 0.30, 0.35, 0.40, 0.45, 0.50, 0.55, 0.60]\n",
    "f_scores = []\n",
    "\n",
    "for el in scale:\n",
    "    \n",
    "    tune_wt_xgb = XGBClassifier(learning_rate = 0.01,  \n",
    "                              colsample_bytree = el,\n",
    "                              subsample = 0.8,\n",
    "                              objective = 'binary:logistic', \n",
    "                              n_estimators = 3000,\n",
    "                              max_depth = 14, \n",
    "                              scale_pos_weight = 5,\n",
    "                              gamma = 4,\n",
    "                              reg_lambda = 8,\n",
    "                              verbosity = 2,\n",
    "                              tree_method = 'gpu_hist')\n",
    "\n",
    "    \n",
    "    tune_wt_xgb.fit(X_train, y_train)\n",
    "    \n",
    "    y_train_pred = tune_wt_xgb.predict(X_train)\n",
    "    y_test_pred = tune_wt_xgb.predict(X_test)\n",
    "    \n",
    "    train_f = f1_score(y_train, y_train_pred)\n",
    "    test_f = f1_score(y_test, y_test_pred)\n",
    "    \n",
    "    f_scores.append([el, train_f, test_f])\n",
    "    print(el,\"- Train:\", train_f, \"Test:\", test_f)"
   ]
  },
  {
   "cell_type": "markdown",
   "id": "67f5685e",
   "metadata": {},
   "source": [
    "From the above results it is obvious that colsample_bytree has a superb regularization effect on the outputs"
   ]
  },
  {
   "cell_type": "markdown",
   "id": "ce5a0c9c",
   "metadata": {},
   "source": [
    "Lets try tuning subsample."
   ]
  },
  {
   "cell_type": "code",
   "execution_count": 57,
   "id": "abd75bb1",
   "metadata": {},
   "outputs": [
    {
     "name": "stdout",
     "output_type": "stream",
     "text": [
      "0.4 - Train: 0.8414658735759653 Test: 0.5914893617021277\n",
      "0.45 - Train: 0.8413862633900442 Test: 0.5914795624640184\n",
      "0.5 - Train: 0.8409279830726214 Test: 0.5959990802483329\n",
      "0.55 - Train: 0.841134680304328 Test: 0.5947438035539709\n",
      "0.6 - Train: 0.8406132776113391 Test: 0.5946596378638552\n",
      "0.65 - Train: 0.838439132181599 Test: 0.5919881305637983\n",
      "0.7 - Train: 0.8358074448644455 Test: 0.5927705330587966\n",
      "0.75 - Train: 0.8330256000798442 Test: 0.5917948717948718\n",
      "0.8 - Train: 0.8293822374633467 Test: 0.5946986859990938\n",
      "0.85 - Train: 0.8264487369985142 Test: 0.591885171790235\n",
      "0.9 - Train: 0.8237734265043581 Test: 0.5926926757867477\n",
      "0.95 - Train: 0.8197301481973015 Test: 0.5923227794900533\n",
      "1.0 - Train: 0.8146120952962737 Test: 0.5932421111421391\n"
     ]
    }
   ],
   "source": [
    "scale = [0.40, 0.45, 0.50, 0.55, 0.60, 0.65, 0.70]\n",
    "f_scores = []\n",
    "\n",
    "for el in scale:\n",
    "    \n",
    "    tune_wt_xgb = XGBClassifier(learning_rate = 0.01,  \n",
    "                              colsample_bytree = 0.25,\n",
    "                              subsample = el,\n",
    "                              objective = 'binary:logistic', \n",
    "                              n_estimators = 3000,\n",
    "                              max_depth = 14, \n",
    "                              scale_pos_weight = 5,\n",
    "                              gamma = 4,\n",
    "                              reg_lambda = 8,\n",
    "                              verbosity = 2,\n",
    "                              tree_method = 'gpu_hist')\n",
    "\n",
    "    \n",
    "    tune_wt_xgb.fit(X_train, y_train)\n",
    "    \n",
    "    y_train_pred = tune_wt_xgb.predict(X_train)\n",
    "    y_test_pred = tune_wt_xgb.predict(X_test)\n",
    "    \n",
    "    train_f = f1_score(y_train, y_train_pred)\n",
    "    test_f = f1_score(y_test, y_test_pred)\n",
    "    \n",
    "    f_scores.append([el, train_f, test_f])\n",
    "    print(el,\"- Train:\", train_f, \"Test:\", test_f)"
   ]
  },
  {
   "cell_type": "markdown",
   "id": "23d50328",
   "metadata": {},
   "source": [
    "Now lets try tuning both together"
   ]
  },
  {
   "cell_type": "code",
   "execution_count": 59,
   "id": "527a7b0c",
   "metadata": {},
   "outputs": [
    {
     "name": "stdout",
     "output_type": "stream",
     "text": [
      "***************************\n",
      "colsample_bytree:  0.2\n",
      "***************************\n",
      "0.3 - Train: 0.8119718481357914 Test: 0.5902226199798636\n",
      "0.35 - Train: 0.8173018012498467 Test: 0.5890741676492055\n",
      "0.4 - Train: 0.8208496297936192 Test: 0.5901195578614934\n",
      "0.45 - Train: 0.8206881286736677 Test: 0.5907529425015486\n",
      "0.5 - Train: 0.8222829970187499 Test: 0.5901269393511989\n",
      "0.55 - Train: 0.8225842225891514 Test: 0.5948654430807341\n",
      "0.6 - Train: 0.8229174370731949 Test: 0.5904858642288809\n",
      "0.65 - Train: 0.8217107692307691 Test: 0.5925676055546186\n",
      "0.7 - Train: 0.8194048905037808 Test: 0.592971030765776\n",
      "***************************\n",
      "colsample_bytree:  0.25\n",
      "***************************\n",
      "0.3 - Train: 0.8348095881499275 Test: 0.5884905229504452\n",
      "0.35 - Train: 0.8388799517393928 Test: 0.5904707233065443\n",
      "0.4 - Train: 0.8414658735759653 Test: 0.5914893617021277\n",
      "0.45 - Train: 0.8413862633900442 Test: 0.5914795624640184\n",
      "0.5 - Train: 0.8409279830726214 Test: 0.5959990802483329\n",
      "0.55 - Train: 0.841134680304328 Test: 0.5947438035539709\n",
      "0.6 - Train: 0.8406132776113391 Test: 0.5946596378638552\n",
      "0.65 - Train: 0.838439132181599 Test: 0.5919881305637983\n",
      "0.7 - Train: 0.8358074448644455 Test: 0.5927705330587966\n",
      "***************************\n",
      "colsample_bytree:  0.3\n",
      "***************************\n",
      "0.3 - Train: 0.8443825910931174 Test: 0.5904421101235137\n",
      "0.35 - Train: 0.8486235033935788 Test: 0.592305017962684\n",
      "0.4 - Train: 0.8511766655618164 Test: 0.5935903390617743\n",
      "0.45 - Train: 0.8517564223577132 Test: 0.5923393405574549\n",
      "0.5 - Train: 0.8513437707175276 Test: 0.5935453966046701\n",
      "0.55 - Train: 0.8487837116494242 Test: 0.5930475086906141\n",
      "0.6 - Train: 0.8489347638175625 Test: 0.592519912270576\n",
      "0.65 - Train: 0.8459024699176694 Test: 0.5929474230969007\n",
      "0.7 - Train: 0.8443837556263591 Test: 0.5949833160740997\n",
      "***************************\n",
      "colsample_bytree:  0.35\n",
      "***************************\n",
      "0.3 - Train: 0.8569741166803616 Test: 0.5908507410432956\n",
      "0.35 - Train: 0.8607673267326733 Test: 0.5912533020252421\n",
      "0.4 - Train: 0.8630664633042939 Test: 0.5912327155045601\n",
      "0.45 - Train: 0.8627613116618 Test: 0.5912288930581613\n",
      "0.5 - Train: 0.862835288645408 Test: 0.5923887587822014\n",
      "0.55 - Train: 0.8607144698180318 Test: 0.5943760984182777\n",
      "0.6 - Train: 0.8582810733011205 Test: 0.5937700145560408\n",
      "0.65 - Train: 0.8551526326572423 Test: 0.5927133046211152\n",
      "0.7 - Train: 0.8532297628781684 Test: 0.5942306576121655\n",
      "***************************\n",
      "colsample_bytree:  0.4\n",
      "***************************\n",
      "0.3 - Train: 0.862763344965749 Test: 0.5902912621359224\n",
      "0.35 - Train: 0.8672920510355223 Test: 0.5932980599647267\n",
      "0.4 - Train: 0.8692527987503255 Test: 0.5903514979948101\n",
      "0.45 - Train: 0.8694180445254523 Test: 0.5920453873884522\n",
      "0.5 - Train: 0.8692279660575771 Test: 0.5938405154578236\n",
      "0.55 - Train: 0.8678882391163094 Test: 0.5917708516757645\n",
      "0.6 - Train: 0.8651141103023081 Test: 0.5935756650419871\n",
      "0.65 - Train: 0.8603374983897978 Test: 0.5936441173034234\n",
      "0.7 - Train: 0.8581707912522807 Test: 0.5933103730079972\n",
      "***************************\n",
      "colsample_bytree:  0.45\n",
      "***************************\n",
      "0.3 - Train: 0.8717453187433079 Test: 0.5893428063943161\n",
      "0.35 - Train: 0.8745121663741848 Test: 0.5923593369377934\n",
      "0.4 - Train: 0.8770685579196218 Test: 0.5905896366885051\n",
      "0.45 - Train: 0.8779974758098443 Test: 0.5914974468590428\n",
      "0.5 - Train: 0.8759311719651662 Test: 0.5921536091027617\n",
      "0.55 - Train: 0.8743258103367022 Test: 0.5931770987837437\n",
      "0.6 - Train: 0.870980361474063 Test: 0.5942345104049992\n",
      "0.65 - Train: 0.8686311737626466 Test: 0.5928634621055736\n",
      "0.7 - Train: 0.8634518422753716 Test: 0.5918893577121427\n",
      "***************************\n",
      "colsample_bytree:  0.5\n",
      "***************************\n",
      "0.3 - Train: 0.8786315789473683 Test: 0.5881792183031458\n",
      "0.35 - Train: 0.8823234058296557 Test: 0.5885379277339077\n",
      "0.4 - Train: 0.8835732430143945 Test: 0.5914987744365396\n",
      "0.45 - Train: 0.8836840015879316 Test: 0.5923532579429187\n",
      "0.5 - Train: 0.8824586438348925 Test: 0.5927566596827297\n",
      "0.55 - Train: 0.8807595938283002 Test: 0.5935784196705659\n",
      "0.6 - Train: 0.877479702567067 Test: 0.5918585331117968\n",
      "0.65 - Train: 0.8724916387959866 Test: 0.5925005914360066\n",
      "0.7 - Train: 0.8693252811328613 Test: 0.592256467676351\n",
      "***************************\n",
      "colsample_bytree:  0.55\n",
      "***************************\n",
      "0.3 - Train: 0.8819209636517329 Test: 0.5889812765448347\n",
      "0.35 - Train: 0.8869408139411328 Test: 0.590576669464093\n",
      "0.4 - Train: 0.8881795935737845 Test: 0.5893725607925547\n",
      "0.45 - Train: 0.8886346097554485 Test: 0.5916356207186637\n",
      "0.5 - Train: 0.8849201091708842 Test: 0.5942870830588658\n",
      "0.55 - Train: 0.8845512090473289 Test: 0.5905807915000297\n",
      "0.6 - Train: 0.8807891127756092 Test: 0.5923589621518686\n",
      "0.65 - Train: 0.8768115942028986 Test: 0.590255496137849\n",
      "0.7 - Train: 0.8715553235908142 Test: 0.5928469919469446\n",
      "***************************\n",
      "colsample_bytree:  0.6\n",
      "***************************\n",
      "0.3 - Train: 0.8885517314807421 Test: 0.5888915547024952\n",
      "0.35 - Train: 0.8909702209414023 Test: 0.5893964012758018\n",
      "0.4 - Train: 0.8931628504172908 Test: 0.5921497584541062\n",
      "0.45 - Train: 0.892720613788863 Test: 0.5890799396681751\n",
      "0.5 - Train: 0.8903225806451613 Test: 0.5912949250496659\n",
      "0.55 - Train: 0.8885577434805747 Test: 0.5909637106464792\n",
      "0.6 - Train: 0.8847733354529317 Test: 0.5929293533528743\n",
      "0.65 - Train: 0.8816960160519577 Test: 0.5912129894937919\n",
      "0.7 - Train: 0.8754325259515571 Test: 0.5915024922857822\n"
     ]
    }
   ],
   "source": [
    "sub = [0.30, 0.35,0.40, 0.45, 0.50, 0.55, 0.60, 0.65, 0.70]\n",
    "scale = [0.20, 0.25, 0.30, 0.35, 0.40, 0.45, 0.50, 0.55, 0.60]\n",
    "f_scores = []\n",
    "\n",
    "for el1 in scale:\n",
    "    print('***************************')\n",
    "    print('colsample_bytree: ', el1)\n",
    "    print('***************************')\n",
    "    for el2 in sub:\n",
    "\n",
    "        tune_dp_xgb = XGBClassifier(learning_rate = 0.01,  \n",
    "                              colsample_bytree = el1,\n",
    "                              subsample = el2,\n",
    "                              objective = 'binary:logistic', \n",
    "                              n_estimators = 3000,\n",
    "                              max_depth = 14, \n",
    "                              scale_pos_weight = 5,\n",
    "                              gamma = 4,\n",
    "                              reg_lambda = 8,\n",
    "                              verbosity = 2,\n",
    "                              tree_method = 'gpu_hist')\n",
    "\n",
    "        tune_dp_xgb.fit(X_train, y_train)\n",
    "\n",
    "        y_train_pred = tune_dp_xgb.predict(X_train)\n",
    "        y_test_pred = tune_dp_xgb.predict(X_test)\n",
    "\n",
    "        train_f = f1_score(y_train, y_train_pred)\n",
    "        test_f = f1_score(y_test, y_test_pred)\n",
    "\n",
    "        f_scores.append([el, train_f, test_f])\n",
    "        print( el2,\"- Train:\", train_f, \"Test:\", test_f)"
   ]
  },
  {
   "cell_type": "markdown",
   "id": "a3d2b625",
   "metadata": {},
   "source": [
    "We fix **colsample_bytree = 0.25** and **subsample = 0.5**"
   ]
  },
  {
   "cell_type": "code",
   "execution_count": 63,
   "id": "0ac3bf7f",
   "metadata": {},
   "outputs": [
    {
     "name": "stdout",
     "output_type": "stream",
     "text": [
      "2.0 - Train: 0.8169880650582505 Test: 0.5845963075227336\n",
      "2.2 - Train: 0.8328329997776296 Test: 0.5887655566767575\n",
      "2.4 - Train: 0.8426905047421781 Test: 0.5874264560058174\n",
      "2.6 - Train: 0.8518080704959434 Test: 0.5894709543568465\n",
      "2.8 - Train: 0.8538420773714892 Test: 0.5916767573768402\n",
      "3.0 - Train: 0.8563334470004984 Test: 0.5922208281053951\n",
      "3.2 - Train: 0.8552022068391194 Test: 0.5929828911480288\n",
      "3.4000000000000004 - Train: 0.8554500530387312 Test: 0.5896081562461614\n",
      "3.6 - Train: 0.854670478250792 Test: 0.5939886074415222\n",
      "3.8 - Train: 0.8522648619549335 Test: 0.5942595824056802\n",
      "4.0 - Train: 0.8498583569405099 Test: 0.5935560859188543\n",
      "4.2 - Train: 0.8489619156795313 Test: 0.5928165007112376\n",
      "4.4 - Train: 0.8466419615208893 Test: 0.5935885392202913\n",
      "4.6 - Train: 0.8449170781111534 Test: 0.5945914442242686\n",
      "4.800000000000001 - Train: 0.8424533064109035 Test: 0.5933849890135307\n",
      "5.0 - Train: 0.8409279830726214 Test: 0.5959990802483329\n",
      "5.2 - Train: 0.8402879146323048 Test: 0.5947212065813527\n",
      "5.4 - Train: 0.8380976283097001 Test: 0.59336146914566\n",
      "5.6 - Train: 0.8363681903569192 Test: 0.5934600588368408\n",
      "5.800000000000001 - Train: 0.8350796469028984 Test: 0.5903851560303627\n",
      "6.0 - Train: 0.8331088160455021 Test: 0.5937115363097235\n",
      "6.2 - Train: 0.8322575821765893 Test: 0.591159913048325\n",
      "6.4 - Train: 0.8305480950959913 Test: 0.5914992786594162\n",
      "6.6000000000000005 - Train: 0.8296318378297809 Test: 0.5891001547645368\n",
      "6.800000000000001 - Train: 0.8292283245605324 Test: 0.5901820187534473\n",
      "7.0 - Train: 0.827358981346149 Test: 0.5900972687805682\n",
      "7.2 - Train: 0.8254894206051018 Test: 0.5895530543110044\n",
      "7.4 - Train: 0.8267240952522402 Test: 0.5891143106457243\n",
      "7.6000000000000005 - Train: 0.8237673581136078 Test: 0.5883120413155749\n",
      "7.800000000000001 - Train: 0.8222665386414555 Test: 0.5882925247283931\n",
      "8.0 - Train: 0.8220034457297564 Test: 0.5882543452445212\n"
     ]
    }
   ],
   "source": [
    "scale = list(np.linspace(2,8,31))\n",
    "f_scores = []\n",
    "\n",
    "for el in scale:\n",
    "    \n",
    "    tune_wt_xgb = XGBClassifier(learning_rate = 0.01,  \n",
    "                              colsample_bytree = 0.25,\n",
    "                              subsample = 0.50,\n",
    "                              objective = 'binary:logistic', \n",
    "                              n_estimators = 3000,\n",
    "                              max_depth = 14, \n",
    "                              scale_pos_weight = el,\n",
    "                              gamma = 4,\n",
    "                              reg_lambda = 8,\n",
    "                              verbosity = 2,\n",
    "                              tree_method = 'gpu_hist')\n",
    "\n",
    "    \n",
    "    tune_wt_xgb.fit(X_train, y_train)\n",
    "    \n",
    "    y_train_pred = tune_wt_xgb.predict(X_train)\n",
    "    y_test_pred = tune_wt_xgb.predict(X_test)\n",
    "    \n",
    "    train_f = f1_score(y_train, y_train_pred)\n",
    "    test_f = f1_score(y_test, y_test_pred)\n",
    "    \n",
    "    f_scores.append([el, train_f, test_f])\n",
    "    print(el,\"- Train:\", train_f, \"Test:\", test_f)"
   ]
  },
  {
   "cell_type": "code",
   "execution_count": null,
   "id": "4d989251",
   "metadata": {},
   "outputs": [],
   "source": []
  },
  {
   "cell_type": "code",
   "execution_count": null,
   "id": "a573a375",
   "metadata": {},
   "outputs": [],
   "source": []
  },
  {
   "cell_type": "code",
   "execution_count": null,
   "id": "a44c741f",
   "metadata": {},
   "outputs": [],
   "source": []
  },
  {
   "cell_type": "code",
   "execution_count": null,
   "id": "8223e5d9",
   "metadata": {},
   "outputs": [],
   "source": []
  },
  {
   "cell_type": "code",
   "execution_count": null,
   "id": "77e5002f",
   "metadata": {},
   "outputs": [],
   "source": []
  },
  {
   "cell_type": "code",
   "execution_count": null,
   "id": "18817153",
   "metadata": {},
   "outputs": [],
   "source": []
  },
  {
   "cell_type": "markdown",
   "id": "acfeda88",
   "metadata": {},
   "source": [
    "### The Ultra Mega Super Max Pro Search \n",
    "\n",
    "Running cos Gautham inte laptop verm pazham aan"
   ]
  },
  {
   "cell_type": "code",
   "execution_count": 21,
   "id": "9b00bf8d",
   "metadata": {},
   "outputs": [],
   "source": [
    "params = {\n",
    "        'gamma': [3, 3.5, 4, 4.5, 5, 5.5, 6],\n",
    "        'subsample': [0.2, 0.3, 0.4, 0.5, 0.6, 0.8],\n",
    "        'colsample_bytree': list(np.linspace(0.2, 0.9, 10)),\n",
    "        'max_depth': [12, 13, 14, 15],\n",
    "        'reg_lambda' : [5, 6, 7, 8, 9]\n",
    "        }\n",
    "\n",
    "\n",
    "\n",
    "xgb = XGBClassifier(learning_rate = 0.01, n_estimators = 3000, objective='binary:logistic', scale_pos_weight = 5)\n",
    "skf = StratifiedKFold(n_splits = 3, shuffle = True, random_state = 42)\n",
    "grid = GridSearchCV(estimator = xgb, param_grid = params, scoring = 'f1', cv = skf.split(X, y), verbose = 3)"
   ]
  },
  {
   "cell_type": "code",
   "execution_count": null,
   "id": "776e3483",
   "metadata": {},
   "outputs": [
    {
     "name": "stdout",
     "output_type": "stream",
     "text": [
      "Fitting 3 folds for each of 22500 candidates, totalling 67500 fits\n",
      "[CV 1/3] END colsample_bytree=0.4, gamma=1, max_depth=8, n_estimators=1000, reg_lambda=1, subsample=0.6;, score=0.578 total time=  32.4s\n",
      "[CV 2/3] END colsample_bytree=0.4, gamma=1, max_depth=8, n_estimators=1000, reg_lambda=1, subsample=0.6;, score=0.574 total time=  33.3s\n",
      "[CV 3/3] END colsample_bytree=0.4, gamma=1, max_depth=8, n_estimators=1000, reg_lambda=1, subsample=0.6;, score=0.580 total time=  34.2s\n",
      "[CV 1/3] END colsample_bytree=0.4, gamma=1, max_depth=8, n_estimators=1000, reg_lambda=1, subsample=0.8;, score=0.579 total time=  38.1s\n",
      "[CV 2/3] END colsample_bytree=0.4, gamma=1, max_depth=8, n_estimators=1000, reg_lambda=1, subsample=0.8;, score=0.575 total time=  37.1s\n",
      "[CV 3/3] END colsample_bytree=0.4, gamma=1, max_depth=8, n_estimators=1000, reg_lambda=1, subsample=0.8;, score=0.581 total time=  36.5s\n",
      "[CV 1/3] END colsample_bytree=0.4, gamma=1, max_depth=8, n_estimators=1000, reg_lambda=1, subsample=1.0;, score=0.576 total time=  37.7s\n",
      "[CV 2/3] END colsample_bytree=0.4, gamma=1, max_depth=8, n_estimators=1000, reg_lambda=1, subsample=1.0;, score=0.574 total time=  37.7s\n",
      "[CV 3/3] END colsample_bytree=0.4, gamma=1, max_depth=8, n_estimators=1000, reg_lambda=1, subsample=1.0;, score=0.578 total time=  37.5s\n",
      "[CV 1/3] END colsample_bytree=0.4, gamma=1, max_depth=8, n_estimators=1000, reg_lambda=5, subsample=0.6;, score=0.577 total time=  34.4s\n",
      "[CV 2/3] END colsample_bytree=0.4, gamma=1, max_depth=8, n_estimators=1000, reg_lambda=5, subsample=0.6;, score=0.575 total time=  32.3s\n",
      "[CV 3/3] END colsample_bytree=0.4, gamma=1, max_depth=8, n_estimators=1000, reg_lambda=5, subsample=0.6;, score=0.580 total time=  33.3s\n",
      "[CV 1/3] END colsample_bytree=0.4, gamma=1, max_depth=8, n_estimators=1000, reg_lambda=5, subsample=0.8;, score=0.579 total time=  37.1s\n",
      "[CV 2/3] END colsample_bytree=0.4, gamma=1, max_depth=8, n_estimators=1000, reg_lambda=5, subsample=0.8;, score=0.575 total time=  38.6s\n",
      "[CV 3/3] END colsample_bytree=0.4, gamma=1, max_depth=8, n_estimators=1000, reg_lambda=5, subsample=0.8;, score=0.580 total time=  38.2s\n",
      "[CV 1/3] END colsample_bytree=0.4, gamma=1, max_depth=8, n_estimators=1000, reg_lambda=5, subsample=1.0;, score=0.577 total time=  39.0s\n",
      "[CV 2/3] END colsample_bytree=0.4, gamma=1, max_depth=8, n_estimators=1000, reg_lambda=5, subsample=1.0;, score=0.574 total time=  39.1s\n",
      "[CV 3/3] END colsample_bytree=0.4, gamma=1, max_depth=8, n_estimators=1000, reg_lambda=5, subsample=1.0;, score=0.577 total time=  39.2s\n",
      "[CV 1/3] END colsample_bytree=0.4, gamma=1, max_depth=8, n_estimators=1000, reg_lambda=6, subsample=0.6;, score=0.578 total time=  35.1s\n",
      "[CV 2/3] END colsample_bytree=0.4, gamma=1, max_depth=8, n_estimators=1000, reg_lambda=6, subsample=0.6;, score=0.574 total time=  35.2s\n",
      "[CV 3/3] END colsample_bytree=0.4, gamma=1, max_depth=8, n_estimators=1000, reg_lambda=6, subsample=0.6;, score=0.578 total time=  35.6s\n",
      "[CV 1/3] END colsample_bytree=0.4, gamma=1, max_depth=8, n_estimators=1000, reg_lambda=6, subsample=0.8;, score=0.579 total time=  38.9s\n",
      "[CV 2/3] END colsample_bytree=0.4, gamma=1, max_depth=8, n_estimators=1000, reg_lambda=6, subsample=0.8;, score=0.575 total time=  38.7s\n",
      "[CV 3/3] END colsample_bytree=0.4, gamma=1, max_depth=8, n_estimators=1000, reg_lambda=6, subsample=0.8;, score=0.580 total time=  38.3s\n",
      "[CV 1/3] END colsample_bytree=0.4, gamma=1, max_depth=8, n_estimators=1000, reg_lambda=6, subsample=1.0;, score=0.577 total time=  39.1s\n",
      "[CV 2/3] END colsample_bytree=0.4, gamma=1, max_depth=8, n_estimators=1000, reg_lambda=6, subsample=1.0;, score=0.574 total time=  39.2s\n",
      "[CV 3/3] END colsample_bytree=0.4, gamma=1, max_depth=8, n_estimators=1000, reg_lambda=6, subsample=1.0;, score=0.578 total time=  39.2s\n",
      "[CV 1/3] END colsample_bytree=0.4, gamma=1, max_depth=8, n_estimators=1000, reg_lambda=7, subsample=0.6;, score=0.577 total time=  35.4s\n",
      "[CV 2/3] END colsample_bytree=0.4, gamma=1, max_depth=8, n_estimators=1000, reg_lambda=7, subsample=0.6;, score=0.574 total time=  35.5s\n",
      "[CV 3/3] END colsample_bytree=0.4, gamma=1, max_depth=8, n_estimators=1000, reg_lambda=7, subsample=0.6;, score=0.579 total time=  35.3s\n",
      "[CV 1/3] END colsample_bytree=0.4, gamma=1, max_depth=8, n_estimators=1000, reg_lambda=7, subsample=0.8;, score=0.579 total time=  38.7s\n",
      "[CV 2/3] END colsample_bytree=0.4, gamma=1, max_depth=8, n_estimators=1000, reg_lambda=7, subsample=0.8;, score=0.575 total time=  38.7s\n",
      "[CV 3/3] END colsample_bytree=0.4, gamma=1, max_depth=8, n_estimators=1000, reg_lambda=7, subsample=0.8;, score=0.579 total time=  38.4s\n",
      "[CV 1/3] END colsample_bytree=0.4, gamma=1, max_depth=8, n_estimators=1000, reg_lambda=7, subsample=1.0;, score=0.577 total time=  39.4s\n",
      "[CV 2/3] END colsample_bytree=0.4, gamma=1, max_depth=8, n_estimators=1000, reg_lambda=7, subsample=1.0;, score=0.572 total time=  39.2s\n",
      "[CV 3/3] END colsample_bytree=0.4, gamma=1, max_depth=8, n_estimators=1000, reg_lambda=7, subsample=1.0;, score=0.578 total time=  39.4s\n",
      "[CV 1/3] END colsample_bytree=0.4, gamma=1, max_depth=8, n_estimators=1000, reg_lambda=8, subsample=0.6;, score=0.577 total time=  35.5s\n",
      "[CV 2/3] END colsample_bytree=0.4, gamma=1, max_depth=8, n_estimators=1000, reg_lambda=8, subsample=0.6;, score=0.575 total time=  35.3s\n",
      "[CV 3/3] END colsample_bytree=0.4, gamma=1, max_depth=8, n_estimators=1000, reg_lambda=8, subsample=0.6;, score=0.579 total time=  35.4s\n",
      "[CV 1/3] END colsample_bytree=0.4, gamma=1, max_depth=8, n_estimators=1000, reg_lambda=8, subsample=0.8;, score=0.577 total time=  38.7s\n",
      "[CV 2/3] END colsample_bytree=0.4, gamma=1, max_depth=8, n_estimators=1000, reg_lambda=8, subsample=0.8;, score=0.575 total time=  38.6s\n",
      "[CV 3/3] END colsample_bytree=0.4, gamma=1, max_depth=8, n_estimators=1000, reg_lambda=8, subsample=0.8;, score=0.580 total time=  38.6s\n",
      "[CV 1/3] END colsample_bytree=0.4, gamma=1, max_depth=8, n_estimators=1000, reg_lambda=8, subsample=1.0;, score=0.578 total time=  39.5s\n",
      "[CV 2/3] END colsample_bytree=0.4, gamma=1, max_depth=8, n_estimators=1000, reg_lambda=8, subsample=1.0;, score=0.573 total time=  39.3s\n",
      "[CV 3/3] END colsample_bytree=0.4, gamma=1, max_depth=8, n_estimators=1000, reg_lambda=8, subsample=1.0;, score=0.577 total time=  39.6s\n",
      "[CV 1/3] END colsample_bytree=0.4, gamma=1, max_depth=8, n_estimators=2000, reg_lambda=1, subsample=0.6;, score=0.583 total time= 1.2min\n",
      "[CV 2/3] END colsample_bytree=0.4, gamma=1, max_depth=8, n_estimators=2000, reg_lambda=1, subsample=0.6;, score=0.584 total time= 1.1min\n",
      "[CV 3/3] END colsample_bytree=0.4, gamma=1, max_depth=8, n_estimators=2000, reg_lambda=1, subsample=0.6;, score=0.586 total time= 1.1min\n",
      "[CV 1/3] END colsample_bytree=0.4, gamma=1, max_depth=8, n_estimators=2000, reg_lambda=1, subsample=0.8;, score=0.582 total time= 1.3min\n",
      "[CV 2/3] END colsample_bytree=0.4, gamma=1, max_depth=8, n_estimators=2000, reg_lambda=1, subsample=0.8;, score=0.581 total time= 1.3min\n",
      "[CV 3/3] END colsample_bytree=0.4, gamma=1, max_depth=8, n_estimators=2000, reg_lambda=1, subsample=0.8;, score=0.587 total time= 1.2min\n",
      "[CV 1/3] END colsample_bytree=0.4, gamma=1, max_depth=8, n_estimators=2000, reg_lambda=1, subsample=1.0;, score=0.579 total time= 1.2min\n",
      "[CV 2/3] END colsample_bytree=0.4, gamma=1, max_depth=8, n_estimators=2000, reg_lambda=1, subsample=1.0;, score=0.581 total time= 1.3min\n",
      "[CV 3/3] END colsample_bytree=0.4, gamma=1, max_depth=8, n_estimators=2000, reg_lambda=1, subsample=1.0;, score=0.584 total time= 1.2min\n",
      "[CV 1/3] END colsample_bytree=0.4, gamma=1, max_depth=8, n_estimators=2000, reg_lambda=5, subsample=0.6;, score=0.585 total time= 1.2min\n",
      "[CV 2/3] END colsample_bytree=0.4, gamma=1, max_depth=8, n_estimators=2000, reg_lambda=5, subsample=0.6;, score=0.584 total time= 1.2min\n",
      "[CV 3/3] END colsample_bytree=0.4, gamma=1, max_depth=8, n_estimators=2000, reg_lambda=5, subsample=0.6;, score=0.586 total time= 1.2min\n",
      "[CV 1/3] END colsample_bytree=0.4, gamma=1, max_depth=8, n_estimators=2000, reg_lambda=5, subsample=0.8;, score=0.586 total time= 1.3min\n",
      "[CV 2/3] END colsample_bytree=0.4, gamma=1, max_depth=8, n_estimators=2000, reg_lambda=5, subsample=0.8;, score=0.584 total time= 1.3min\n",
      "[CV 3/3] END colsample_bytree=0.4, gamma=1, max_depth=8, n_estimators=2000, reg_lambda=5, subsample=0.8;, score=0.587 total time= 1.3min\n"
     ]
    },
    {
     "name": "stdout",
     "output_type": "stream",
     "text": [
      "[CV 1/3] END colsample_bytree=0.4, gamma=1, max_depth=8, n_estimators=2000, reg_lambda=5, subsample=1.0;, score=0.582 total time= 1.2min\n",
      "[CV 2/3] END colsample_bytree=0.4, gamma=1, max_depth=8, n_estimators=2000, reg_lambda=5, subsample=1.0;, score=0.580 total time= 1.3min\n",
      "[CV 3/3] END colsample_bytree=0.4, gamma=1, max_depth=8, n_estimators=2000, reg_lambda=5, subsample=1.0;, score=0.583 total time= 1.3min\n",
      "[CV 1/3] END colsample_bytree=0.4, gamma=1, max_depth=8, n_estimators=2000, reg_lambda=6, subsample=0.6;, score=0.584 total time= 1.2min\n",
      "[CV 2/3] END colsample_bytree=0.4, gamma=1, max_depth=8, n_estimators=2000, reg_lambda=6, subsample=0.6;, score=0.582 total time= 1.2min\n",
      "[CV 3/3] END colsample_bytree=0.4, gamma=1, max_depth=8, n_estimators=2000, reg_lambda=6, subsample=0.6;, score=0.587 total time= 1.2min\n",
      "[CV 1/3] END colsample_bytree=0.4, gamma=1, max_depth=8, n_estimators=2000, reg_lambda=6, subsample=0.8;, score=0.585 total time= 1.3min\n",
      "[CV 2/3] END colsample_bytree=0.4, gamma=1, max_depth=8, n_estimators=2000, reg_lambda=6, subsample=0.8;, score=0.583 total time= 1.3min\n",
      "[CV 3/3] END colsample_bytree=0.4, gamma=1, max_depth=8, n_estimators=2000, reg_lambda=6, subsample=0.8;, score=0.587 total time= 1.3min\n",
      "[CV 1/3] END colsample_bytree=0.4, gamma=1, max_depth=8, n_estimators=2000, reg_lambda=6, subsample=1.0;, score=0.582 total time= 1.3min\n",
      "[CV 2/3] END colsample_bytree=0.4, gamma=1, max_depth=8, n_estimators=2000, reg_lambda=6, subsample=1.0;, score=0.579 total time= 1.3min\n",
      "[CV 3/3] END colsample_bytree=0.4, gamma=1, max_depth=8, n_estimators=2000, reg_lambda=6, subsample=1.0;, score=0.584 total time= 1.3min\n",
      "[CV 1/3] END colsample_bytree=0.4, gamma=1, max_depth=8, n_estimators=2000, reg_lambda=7, subsample=0.6;, score=0.585 total time= 1.2min\n",
      "[CV 2/3] END colsample_bytree=0.4, gamma=1, max_depth=8, n_estimators=2000, reg_lambda=7, subsample=0.6;, score=0.583 total time= 1.2min\n",
      "[CV 3/3] END colsample_bytree=0.4, gamma=1, max_depth=8, n_estimators=2000, reg_lambda=7, subsample=0.6;, score=0.587 total time= 1.1min\n",
      "[CV 1/3] END colsample_bytree=0.4, gamma=1, max_depth=8, n_estimators=2000, reg_lambda=7, subsample=0.8;, score=0.585 total time= 1.2min\n",
      "[CV 2/3] END colsample_bytree=0.4, gamma=1, max_depth=8, n_estimators=2000, reg_lambda=7, subsample=0.8;, score=0.583 total time= 1.3min\n",
      "[CV 3/3] END colsample_bytree=0.4, gamma=1, max_depth=8, n_estimators=2000, reg_lambda=7, subsample=0.8;, score=0.587 total time= 1.2min\n",
      "[CV 1/3] END colsample_bytree=0.4, gamma=1, max_depth=8, n_estimators=2000, reg_lambda=7, subsample=1.0;, score=0.582 total time= 1.3min\n",
      "[CV 2/3] END colsample_bytree=0.4, gamma=1, max_depth=8, n_estimators=2000, reg_lambda=7, subsample=1.0;, score=0.580 total time= 1.2min\n",
      "[CV 3/3] END colsample_bytree=0.4, gamma=1, max_depth=8, n_estimators=2000, reg_lambda=7, subsample=1.0;, score=0.583 total time= 1.3min\n",
      "[CV 1/3] END colsample_bytree=0.4, gamma=1, max_depth=8, n_estimators=2000, reg_lambda=8, subsample=0.6;, score=0.584 total time= 1.2min\n",
      "[CV 2/3] END colsample_bytree=0.4, gamma=1, max_depth=8, n_estimators=2000, reg_lambda=8, subsample=0.6;, score=0.584 total time= 1.2min\n",
      "[CV 3/3] END colsample_bytree=0.4, gamma=1, max_depth=8, n_estimators=2000, reg_lambda=8, subsample=0.6;, score=0.587 total time= 1.2min\n",
      "[CV 1/3] END colsample_bytree=0.4, gamma=1, max_depth=8, n_estimators=2000, reg_lambda=8, subsample=0.8;, score=0.584 total time= 1.3min\n",
      "[CV 2/3] END colsample_bytree=0.4, gamma=1, max_depth=8, n_estimators=2000, reg_lambda=8, subsample=0.8;, score=0.583 total time= 1.3min\n",
      "[CV 3/3] END colsample_bytree=0.4, gamma=1, max_depth=8, n_estimators=2000, reg_lambda=8, subsample=0.8;, score=0.587 total time= 1.3min\n",
      "[CV 1/3] END colsample_bytree=0.4, gamma=1, max_depth=8, n_estimators=2000, reg_lambda=8, subsample=1.0;, score=0.582 total time= 1.3min\n",
      "[CV 2/3] END colsample_bytree=0.4, gamma=1, max_depth=8, n_estimators=2000, reg_lambda=8, subsample=1.0;, score=0.580 total time= 1.2min\n",
      "[CV 3/3] END colsample_bytree=0.4, gamma=1, max_depth=8, n_estimators=2000, reg_lambda=8, subsample=1.0;, score=0.584 total time= 1.3min\n",
      "[CV 1/3] END colsample_bytree=0.4, gamma=1, max_depth=8, n_estimators=3000, reg_lambda=1, subsample=0.6;, score=0.586 total time= 1.7min\n",
      "[CV 2/3] END colsample_bytree=0.4, gamma=1, max_depth=8, n_estimators=3000, reg_lambda=1, subsample=0.6;, score=0.586 total time= 1.7min\n",
      "[CV 3/3] END colsample_bytree=0.4, gamma=1, max_depth=8, n_estimators=3000, reg_lambda=1, subsample=0.6;, score=0.588 total time= 1.7min\n",
      "[CV 1/3] END colsample_bytree=0.4, gamma=1, max_depth=8, n_estimators=3000, reg_lambda=1, subsample=0.8;, score=0.585 total time= 1.9min\n",
      "[CV 2/3] END colsample_bytree=0.4, gamma=1, max_depth=8, n_estimators=3000, reg_lambda=1, subsample=0.8;, score=0.585 total time= 1.9min\n",
      "[CV 3/3] END colsample_bytree=0.4, gamma=1, max_depth=8, n_estimators=3000, reg_lambda=1, subsample=0.8;, score=0.588 total time= 1.9min\n",
      "[CV 1/3] END colsample_bytree=0.4, gamma=1, max_depth=8, n_estimators=3000, reg_lambda=1, subsample=1.0;, score=0.582 total time= 1.8min\n",
      "[CV 2/3] END colsample_bytree=0.4, gamma=1, max_depth=8, n_estimators=3000, reg_lambda=1, subsample=1.0;, score=0.585 total time= 1.8min\n",
      "[CV 3/3] END colsample_bytree=0.4, gamma=1, max_depth=8, n_estimators=3000, reg_lambda=1, subsample=1.0;, score=0.586 total time= 1.8min\n",
      "[CV 1/3] END colsample_bytree=0.4, gamma=1, max_depth=8, n_estimators=3000, reg_lambda=5, subsample=0.6;, score=0.586 total time= 1.7min\n",
      "[CV 2/3] END colsample_bytree=0.4, gamma=1, max_depth=8, n_estimators=3000, reg_lambda=5, subsample=0.6;, score=0.589 total time= 1.7min\n",
      "[CV 3/3] END colsample_bytree=0.4, gamma=1, max_depth=8, n_estimators=3000, reg_lambda=5, subsample=0.6;, score=0.589 total time= 1.8min\n",
      "[CV 1/3] END colsample_bytree=0.4, gamma=1, max_depth=8, n_estimators=3000, reg_lambda=5, subsample=0.8;, score=0.587 total time= 1.9min\n",
      "[CV 2/3] END colsample_bytree=0.4, gamma=1, max_depth=8, n_estimators=3000, reg_lambda=5, subsample=0.8;, score=0.587 total time= 1.9min\n",
      "[CV 3/3] END colsample_bytree=0.4, gamma=1, max_depth=8, n_estimators=3000, reg_lambda=5, subsample=0.8;, score=0.591 total time= 1.9min\n",
      "[CV 1/3] END colsample_bytree=0.4, gamma=1, max_depth=8, n_estimators=3000, reg_lambda=5, subsample=1.0;, score=0.584 total time= 1.8min\n",
      "[CV 2/3] END colsample_bytree=0.4, gamma=1, max_depth=8, n_estimators=3000, reg_lambda=5, subsample=1.0;, score=0.585 total time= 1.9min\n",
      "[CV 3/3] END colsample_bytree=0.4, gamma=1, max_depth=8, n_estimators=3000, reg_lambda=5, subsample=1.0;, score=0.586 total time= 1.9min\n",
      "[CV 1/3] END colsample_bytree=0.4, gamma=1, max_depth=8, n_estimators=3000, reg_lambda=6, subsample=0.6;, score=0.587 total time= 1.8min\n",
      "[CV 2/3] END colsample_bytree=0.4, gamma=1, max_depth=8, n_estimators=3000, reg_lambda=6, subsample=0.6;, score=0.587 total time= 1.8min\n",
      "[CV 3/3] END colsample_bytree=0.4, gamma=1, max_depth=8, n_estimators=3000, reg_lambda=6, subsample=0.6;, score=0.590 total time= 1.8min\n",
      "[CV 1/3] END colsample_bytree=0.4, gamma=1, max_depth=8, n_estimators=3000, reg_lambda=6, subsample=0.8;, score=0.586 total time= 1.9min\n",
      "[CV 2/3] END colsample_bytree=0.4, gamma=1, max_depth=8, n_estimators=3000, reg_lambda=6, subsample=0.8;, score=0.587 total time= 1.9min\n",
      "[CV 3/3] END colsample_bytree=0.4, gamma=1, max_depth=8, n_estimators=3000, reg_lambda=6, subsample=0.8;, score=0.589 total time= 1.9min\n"
     ]
    }
   ],
   "source": [
    "grid.fit(X, y)"
   ]
  },
  {
   "cell_type": "code",
   "execution_count": null,
   "id": "7f3c63d1",
   "metadata": {},
   "outputs": [],
   "source": []
  },
  {
   "cell_type": "code",
   "execution_count": null,
   "id": "1b6a707a",
   "metadata": {},
   "outputs": [],
   "source": []
  },
  {
   "cell_type": "markdown",
   "id": "d5cf357e",
   "metadata": {},
   "source": [
    "## Using LightGBM"
   ]
  },
  {
   "cell_type": "code",
   "execution_count": 67,
   "id": "09ad1521",
   "metadata": {},
   "outputs": [],
   "source": [
    "lgbm_model = LGBMClassifier(boosting_type = 'goss',\n",
    "                            learning_rate = 0.003,\n",
    "                            n_estimators = 3000,\n",
    "                            objective = 'binary',\n",
    "                            num_leaves = 50,\n",
    "                            max_depth = -1,\n",
    "                            is_unbalance = True,\n",
    "                            reg_lambda = 4\n",
    "                           )"
   ]
  },
  {
   "cell_type": "code",
   "execution_count": 68,
   "id": "e5df7652",
   "metadata": {},
   "outputs": [
    {
     "name": "stderr",
     "output_type": "stream",
     "text": [
      "C:\\Users\\Vishnu\\anaconda3\\lib\\site-packages\\lightgbm\\sklearn.py:736: UserWarning: 'verbose' argument is deprecated and will be removed in a future release of LightGBM. Pass 'log_evaluation()' callback via 'callbacks' argument instead.\n",
      "  _log_warning(\"'verbose' argument is deprecated and will be removed in a future release of LightGBM. \"\n"
     ]
    },
    {
     "data": {
      "text/plain": [
       "LGBMClassifier(boosting_type='goss', class_weight='balanced',\n",
       "               learning_rate=0.003, n_estimators=3000, num_leaves=50,\n",
       "               objective='binary', reg_lambda=4)"
      ]
     },
     "execution_count": 68,
     "metadata": {},
     "output_type": "execute_result"
    }
   ],
   "source": [
    "lgbm_model.fit(X_train, y_train, verbose = 1)"
   ]
  },
  {
   "cell_type": "code",
   "execution_count": 69,
   "id": "fafc232e",
   "metadata": {},
   "outputs": [
    {
     "name": "stdout",
     "output_type": "stream",
     "text": [
      "              precision    recall  f1-score   support\n",
      "\n",
      "           0       0.77      0.88      0.82     35899\n",
      "           1       0.75      0.56      0.64     22201\n",
      "\n",
      "    accuracy                           0.76     58100\n",
      "   macro avg       0.76      0.72      0.73     58100\n",
      "weighted avg       0.76      0.76      0.75     58100\n",
      "\n",
      "0.644318766066838\n"
     ]
    }
   ],
   "source": [
    "y_pred20 = lgbm_model.predict(X_train)\n",
    "print(classification_report(y_pred20, y_train))\n",
    "print(f1_score(y_pred20, y_train))"
   ]
  },
  {
   "cell_type": "code",
   "execution_count": 70,
   "id": "83ea19c6",
   "metadata": {},
   "outputs": [
    {
     "name": "stdout",
     "output_type": "stream",
     "text": [
      "              precision    recall  f1-score   support\n",
      "\n",
      "           0       0.73      0.85      0.79     15265\n",
      "           1       0.69      0.51      0.58      9635\n",
      "\n",
      "    accuracy                           0.72     24900\n",
      "   macro avg       0.71      0.68      0.69     24900\n",
      "weighted avg       0.72      0.72      0.71     24900\n",
      "\n",
      "0.584837115121196\n"
     ]
    }
   ],
   "source": [
    "y_pred21 = lgbm_model.predict(X_test)\n",
    "print(classification_report(y_pred21, y_test))\n",
    "print(f1_score(y_pred21, y_test))"
   ]
  },
  {
   "cell_type": "code",
   "execution_count": 62,
   "id": "ce06f6e3",
   "metadata": {},
   "outputs": [
    {
     "data": {
      "image/png": "[encoded data removed]",
      "text/plain": [
       "<Figure size 432x288 with 1 Axes>"
      ]
     },
     "metadata": {
      "needs_background": "light"
     },
     "output_type": "display_data"
    }
   ],
   "source": [
    "lightgbm.plot_importance(lgbm_model, max_num_features = 20, importance_type = 'gain')\n",
    "plt.show()"
   ]
  },
  {
   "cell_type": "code",
   "execution_count": null,
   "id": "dbb012ec",
   "metadata": {},
   "outputs": [],
   "source": []
  },
  {
   "cell_type": "code",
   "execution_count": null,
   "id": "eb6ff400",
   "metadata": {},
   "outputs": [],
   "source": []
  },
  {
   "cell_type": "markdown",
   "id": "3c12d34d",
   "metadata": {},
   "source": [
    "## Tuning LightGBM"
   ]
  },
  {
   "cell_type": "code",
   "execution_count": 25,
   "id": "ed2834e5",
   "metadata": {},
   "outputs": [
    {
     "name": "stdout",
     "output_type": "stream",
     "text": [
      "goss - Train: 0.6611660593440916 Test: 0.5980633908702714\n",
      "gbdt - Train: 0.6652598671355998 Test: 0.5951054034407561\n"
     ]
    }
   ],
   "source": [
    "boosts = ['goss', 'gbdt']\n",
    "f_scores = []\n",
    "\n",
    "for el in boosts:\n",
    "    \n",
    "    tune_boost_lgbm = LGBMClassifier(boosting_type = el,\n",
    "                            learning_rate = 0.003,\n",
    "                            n_estimators = 3000,\n",
    "                            num_leaves = 50,\n",
    "                            max_depth = -1,\n",
    "                            objective = 'binary',\n",
    "                            class_weight = 'balanced'\n",
    "                            )\n",
    "    \n",
    "    tune_boost_lgbm.fit(X_train, y_train)\n",
    "    \n",
    "    y_train_pred = tune_boost_lgbm.predict(X_train)\n",
    "    y_test_pred = tune_boost_lgbm.predict(X_test)\n",
    "    \n",
    "    train_f = f1_score(y_train, y_train_pred)\n",
    "    test_f = f1_score(y_test, y_test_pred)\n",
    "    \n",
    "    f_scores.append([el, train_f, test_f])\n",
    "    print(el,\"- Train:\", train_f, \"Test:\", test_f)"
   ]
  },
  {
   "cell_type": "markdown",
   "id": "ad6a7ec6",
   "metadata": {},
   "source": [
    "Best boosting method seems to be **GOSS**"
   ]
  },
  {
   "cell_type": "code",
   "execution_count": 28,
   "id": "c68fc57f",
   "metadata": {},
   "outputs": [
    {
     "name": "stdout",
     "output_type": "stream",
     "text": [
      "0.001 - Train: 0.6063800416635293 Test: 0.5933232169954477\n",
      "0.003 - Train: 0.6349116535068542 Test: 0.5983801810385897\n",
      "0.01 - Train: 0.720207112685652 Test: 0.5934244182419366\n",
      "0.03 - Train: 0.8893802734943265 Test: 0.5722334004024145\n",
      "0.1 - Train: 0.992414552161109 Test: 0.5310119695321002\n",
      "0.3 - Train: 1.0 Test: 0.5056694450702109\n"
     ]
    }
   ],
   "source": [
    "lrs = [0.001, 0.003, 0.01, 0.03, 0.1, 0.3]\n",
    "f_scores = []\n",
    "\n",
    "for el in lrs:\n",
    "    \n",
    "    tune_lr_lgbm = LGBMClassifier(boosting_type = 'goss',\n",
    "                            learning_rate = el,\n",
    "                            n_estimators = 3000,\n",
    "                            objective = 'binary',\n",
    "                            class_weight = 'balanced'\n",
    "                            )\n",
    "    \n",
    "    tune_lr_lgbm.fit(X_train, y_train)\n",
    "    \n",
    "    y_train_pred = tune_lr_lgbm.predict(X_train)\n",
    "    y_test_pred = tune_lr_lgbm.predict(X_test)\n",
    "    \n",
    "    train_f = f1_score(y_train, y_train_pred)\n",
    "    test_f = f1_score(y_test, y_test_pred)\n",
    "    \n",
    "    f_scores.append([el, train_f, test_f])\n",
    "    print(el,\"- Train:\", train_f, \"Test:\", test_f)"
   ]
  },
  {
   "cell_type": "markdown",
   "id": "1bcf31cb",
   "metadata": {},
   "source": [
    "Best LR seems to be between **0.001 - 0.01**. We can also attempt LR decay (later)"
   ]
  },
  {
   "cell_type": "code",
   "execution_count": 29,
   "id": "7aeeecab",
   "metadata": {
    "scrolled": true
   },
   "outputs": [
    {
     "name": "stdout",
     "output_type": "stream",
     "text": [
      "1000 - Train: 0.6063325728897692 Test: 0.591982234689107\n",
      "2000 - Train: 0.6210266459674751 Test: 0.5965989607935758\n",
      "3000 - Train: 0.6349116535068542 Test: 0.5983801810385897\n",
      "4000 - Train: 0.6482737121034995 Test: 0.5980309761075759\n",
      "5000 - Train: 0.6605889133396207 Test: 0.5987430505197003\n"
     ]
    },
    {
     "ename": "KeyboardInterrupt",
     "evalue": "",
     "output_type": "error",
     "traceback": [
      "\u001b[1;31m---------------------------------------------------------------------------\u001b[0m",
      "\u001b[1;31mKeyboardInterrupt\u001b[0m                         Traceback (most recent call last)",
      "\u001b[1;32m<ipython-input-29-2a4e3dcf8864>\u001b[0m in \u001b[0;36m<module>\u001b[1;34m\u001b[0m\n\u001b[0;32m     14\u001b[0m     \u001b[0mtune_est_lgbm\u001b[0m\u001b[1;33m.\u001b[0m\u001b[0mfit\u001b[0m\u001b[1;33m(\u001b[0m\u001b[0mX_train\u001b[0m\u001b[1;33m,\u001b[0m \u001b[0my_train\u001b[0m\u001b[1;33m)\u001b[0m\u001b[1;33m\u001b[0m\u001b[1;33m\u001b[0m\u001b[0m\n\u001b[0;32m     15\u001b[0m \u001b[1;33m\u001b[0m\u001b[0m\n\u001b[1;32m---> 16\u001b[1;33m     \u001b[0my_train_pred\u001b[0m \u001b[1;33m=\u001b[0m \u001b[0mtune_est_lgbm\u001b[0m\u001b[1;33m.\u001b[0m\u001b[0mpredict\u001b[0m\u001b[1;33m(\u001b[0m\u001b[0mX_train\u001b[0m\u001b[1;33m)\u001b[0m\u001b[1;33m\u001b[0m\u001b[1;33m\u001b[0m\u001b[0m\n\u001b[0m\u001b[0;32m     17\u001b[0m     \u001b[0my_test_pred\u001b[0m \u001b[1;33m=\u001b[0m \u001b[0mtune_est_lgbm\u001b[0m\u001b[1;33m.\u001b[0m\u001b[0mpredict\u001b[0m\u001b[1;33m(\u001b[0m\u001b[0mX_test\u001b[0m\u001b[1;33m)\u001b[0m\u001b[1;33m\u001b[0m\u001b[1;33m\u001b[0m\u001b[0m\n\u001b[0;32m     18\u001b[0m \u001b[1;33m\u001b[0m\u001b[0m\n",
      "\u001b[1;32m~\\anaconda3\\lib\\site-packages\\lightgbm\\sklearn.py\u001b[0m in \u001b[0;36mpredict\u001b[1;34m(self, X, raw_score, start_iteration, num_iteration, pred_leaf, pred_contrib, **kwargs)\u001b[0m\n\u001b[0;32m    982\u001b[0m                 pred_leaf=False, pred_contrib=False, **kwargs):\n\u001b[0;32m    983\u001b[0m         \u001b[1;34m\"\"\"Docstring is inherited from the LGBMModel.\"\"\"\u001b[0m\u001b[1;33m\u001b[0m\u001b[1;33m\u001b[0m\u001b[0m\n\u001b[1;32m--> 984\u001b[1;33m         result = self.predict_proba(X, raw_score, start_iteration, num_iteration,\n\u001b[0m\u001b[0;32m    985\u001b[0m                                     pred_leaf, pred_contrib, **kwargs)\n\u001b[0;32m    986\u001b[0m         \u001b[1;32mif\u001b[0m \u001b[0mcallable\u001b[0m\u001b[1;33m(\u001b[0m\u001b[0mself\u001b[0m\u001b[1;33m.\u001b[0m\u001b[0m_objective\u001b[0m\u001b[1;33m)\u001b[0m \u001b[1;32mor\u001b[0m \u001b[0mraw_score\u001b[0m \u001b[1;32mor\u001b[0m \u001b[0mpred_leaf\u001b[0m \u001b[1;32mor\u001b[0m \u001b[0mpred_contrib\u001b[0m\u001b[1;33m:\u001b[0m\u001b[1;33m\u001b[0m\u001b[1;33m\u001b[0m\u001b[0m\n",
      "\u001b[1;32m~\\anaconda3\\lib\\site-packages\\lightgbm\\sklearn.py\u001b[0m in \u001b[0;36mpredict_proba\u001b[1;34m(self, X, raw_score, start_iteration, num_iteration, pred_leaf, pred_contrib, **kwargs)\u001b[0m\n\u001b[0;32m    995\u001b[0m                       pred_leaf=False, pred_contrib=False, **kwargs):\n\u001b[0;32m    996\u001b[0m         \u001b[1;34m\"\"\"Docstring is set after definition, using a template.\"\"\"\u001b[0m\u001b[1;33m\u001b[0m\u001b[1;33m\u001b[0m\u001b[0m\n\u001b[1;32m--> 997\u001b[1;33m         \u001b[0mresult\u001b[0m \u001b[1;33m=\u001b[0m \u001b[0msuper\u001b[0m\u001b[1;33m(\u001b[0m\u001b[1;33m)\u001b[0m\u001b[1;33m.\u001b[0m\u001b[0mpredict\u001b[0m\u001b[1;33m(\u001b[0m\u001b[0mX\u001b[0m\u001b[1;33m,\u001b[0m \u001b[0mraw_score\u001b[0m\u001b[1;33m,\u001b[0m \u001b[0mstart_iteration\u001b[0m\u001b[1;33m,\u001b[0m \u001b[0mnum_iteration\u001b[0m\u001b[1;33m,\u001b[0m \u001b[0mpred_leaf\u001b[0m\u001b[1;33m,\u001b[0m \u001b[0mpred_contrib\u001b[0m\u001b[1;33m,\u001b[0m \u001b[1;33m**\u001b[0m\u001b[0mkwargs\u001b[0m\u001b[1;33m)\u001b[0m\u001b[1;33m\u001b[0m\u001b[1;33m\u001b[0m\u001b[0m\n\u001b[0m\u001b[0;32m    998\u001b[0m         \u001b[1;32mif\u001b[0m \u001b[0mcallable\u001b[0m\u001b[1;33m(\u001b[0m\u001b[0mself\u001b[0m\u001b[1;33m.\u001b[0m\u001b[0m_objective\u001b[0m\u001b[1;33m)\u001b[0m \u001b[1;32mand\u001b[0m \u001b[1;32mnot\u001b[0m \u001b[1;33m(\u001b[0m\u001b[0mraw_score\u001b[0m \u001b[1;32mor\u001b[0m \u001b[0mpred_leaf\u001b[0m \u001b[1;32mor\u001b[0m \u001b[0mpred_contrib\u001b[0m\u001b[1;33m)\u001b[0m\u001b[1;33m:\u001b[0m\u001b[1;33m\u001b[0m\u001b[1;33m\u001b[0m\u001b[0m\n\u001b[0;32m    999\u001b[0m             _log_warning(\"Cannot compute class probabilities or labels \"\n",
      "\u001b[1;32m~\\anaconda3\\lib\\site-packages\\lightgbm\\sklearn.py\u001b[0m in \u001b[0;36mpredict\u001b[1;34m(self, X, raw_score, start_iteration, num_iteration, pred_leaf, pred_contrib, **kwargs)\u001b[0m\n\u001b[0;32m    801\u001b[0m                              \u001b[1;34mf\"match the input. Model n_features_ is {self._n_features} and \"\u001b[0m\u001b[1;33m\u001b[0m\u001b[1;33m\u001b[0m\u001b[0m\n\u001b[0;32m    802\u001b[0m                              f\"input n_features is {n_features}\")\n\u001b[1;32m--> 803\u001b[1;33m         return self._Booster.predict(X, raw_score=raw_score, start_iteration=start_iteration, num_iteration=num_iteration,\n\u001b[0m\u001b[0;32m    804\u001b[0m                                      pred_leaf=pred_leaf, pred_contrib=pred_contrib, **kwargs)\n\u001b[0;32m    805\u001b[0m \u001b[1;33m\u001b[0m\u001b[0m\n",
      "\u001b[1;32m~\\anaconda3\\lib\\site-packages\\lightgbm\\basic.py\u001b[0m in \u001b[0;36mpredict\u001b[1;34m(self, data, start_iteration, num_iteration, raw_score, pred_leaf, pred_contrib, data_has_header, is_reshape, **kwargs)\u001b[0m\n\u001b[0;32m   3536\u001b[0m             \u001b[1;32melse\u001b[0m\u001b[1;33m:\u001b[0m\u001b[1;33m\u001b[0m\u001b[1;33m\u001b[0m\u001b[0m\n\u001b[0;32m   3537\u001b[0m                 \u001b[0mnum_iteration\u001b[0m \u001b[1;33m=\u001b[0m \u001b[1;33m-\u001b[0m\u001b[1;36m1\u001b[0m\u001b[1;33m\u001b[0m\u001b[1;33m\u001b[0m\u001b[0m\n\u001b[1;32m-> 3538\u001b[1;33m         return predictor.predict(data, start_iteration, num_iteration,\n\u001b[0m\u001b[0;32m   3539\u001b[0m                                  \u001b[0mraw_score\u001b[0m\u001b[1;33m,\u001b[0m \u001b[0mpred_leaf\u001b[0m\u001b[1;33m,\u001b[0m \u001b[0mpred_contrib\u001b[0m\u001b[1;33m,\u001b[0m\u001b[1;33m\u001b[0m\u001b[1;33m\u001b[0m\u001b[0m\n\u001b[0;32m   3540\u001b[0m                                  data_has_header, is_reshape)\n",
      "\u001b[1;32m~\\anaconda3\\lib\\site-packages\\lightgbm\\basic.py\u001b[0m in \u001b[0;36mpredict\u001b[1;34m(self, data, start_iteration, num_iteration, raw_score, pred_leaf, pred_contrib, data_has_header, is_reshape)\u001b[0m\n\u001b[0;32m    846\u001b[0m             \u001b[0mpreds\u001b[0m\u001b[1;33m,\u001b[0m \u001b[0mnrow\u001b[0m \u001b[1;33m=\u001b[0m \u001b[0mself\u001b[0m\u001b[1;33m.\u001b[0m\u001b[0m__pred_for_csc\u001b[0m\u001b[1;33m(\u001b[0m\u001b[0mdata\u001b[0m\u001b[1;33m,\u001b[0m \u001b[0mstart_iteration\u001b[0m\u001b[1;33m,\u001b[0m \u001b[0mnum_iteration\u001b[0m\u001b[1;33m,\u001b[0m \u001b[0mpredict_type\u001b[0m\u001b[1;33m)\u001b[0m\u001b[1;33m\u001b[0m\u001b[1;33m\u001b[0m\u001b[0m\n\u001b[0;32m    847\u001b[0m         \u001b[1;32melif\u001b[0m \u001b[0misinstance\u001b[0m\u001b[1;33m(\u001b[0m\u001b[0mdata\u001b[0m\u001b[1;33m,\u001b[0m \u001b[0mnp\u001b[0m\u001b[1;33m.\u001b[0m\u001b[0mndarray\u001b[0m\u001b[1;33m)\u001b[0m\u001b[1;33m:\u001b[0m\u001b[1;33m\u001b[0m\u001b[1;33m\u001b[0m\u001b[0m\n\u001b[1;32m--> 848\u001b[1;33m             \u001b[0mpreds\u001b[0m\u001b[1;33m,\u001b[0m \u001b[0mnrow\u001b[0m \u001b[1;33m=\u001b[0m \u001b[0mself\u001b[0m\u001b[1;33m.\u001b[0m\u001b[0m__pred_for_np2d\u001b[0m\u001b[1;33m(\u001b[0m\u001b[0mdata\u001b[0m\u001b[1;33m,\u001b[0m \u001b[0mstart_iteration\u001b[0m\u001b[1;33m,\u001b[0m \u001b[0mnum_iteration\u001b[0m\u001b[1;33m,\u001b[0m \u001b[0mpredict_type\u001b[0m\u001b[1;33m)\u001b[0m\u001b[1;33m\u001b[0m\u001b[1;33m\u001b[0m\u001b[0m\n\u001b[0m\u001b[0;32m    849\u001b[0m         \u001b[1;32melif\u001b[0m \u001b[0misinstance\u001b[0m\u001b[1;33m(\u001b[0m\u001b[0mdata\u001b[0m\u001b[1;33m,\u001b[0m \u001b[0mlist\u001b[0m\u001b[1;33m)\u001b[0m\u001b[1;33m:\u001b[0m\u001b[1;33m\u001b[0m\u001b[1;33m\u001b[0m\u001b[0m\n\u001b[0;32m    850\u001b[0m             \u001b[1;32mtry\u001b[0m\u001b[1;33m:\u001b[0m\u001b[1;33m\u001b[0m\u001b[1;33m\u001b[0m\u001b[0m\n",
      "\u001b[1;32m~\\anaconda3\\lib\\site-packages\\lightgbm\\basic.py\u001b[0m in \u001b[0;36m__pred_for_np2d\u001b[1;34m(self, mat, start_iteration, num_iteration, predict_type)\u001b[0m\n\u001b[0;32m    936\u001b[0m             \u001b[1;32mreturn\u001b[0m \u001b[0mpreds\u001b[0m\u001b[1;33m,\u001b[0m \u001b[0mnrow\u001b[0m\u001b[1;33m\u001b[0m\u001b[1;33m\u001b[0m\u001b[0m\n\u001b[0;32m    937\u001b[0m         \u001b[1;32melse\u001b[0m\u001b[1;33m:\u001b[0m\u001b[1;33m\u001b[0m\u001b[1;33m\u001b[0m\u001b[0m\n\u001b[1;32m--> 938\u001b[1;33m             \u001b[1;32mreturn\u001b[0m \u001b[0minner_predict\u001b[0m\u001b[1;33m(\u001b[0m\u001b[0mmat\u001b[0m\u001b[1;33m,\u001b[0m \u001b[0mstart_iteration\u001b[0m\u001b[1;33m,\u001b[0m \u001b[0mnum_iteration\u001b[0m\u001b[1;33m,\u001b[0m \u001b[0mpredict_type\u001b[0m\u001b[1;33m)\u001b[0m\u001b[1;33m\u001b[0m\u001b[1;33m\u001b[0m\u001b[0m\n\u001b[0m\u001b[0;32m    939\u001b[0m \u001b[1;33m\u001b[0m\u001b[0m\n\u001b[0;32m    940\u001b[0m     def __create_sparse_native(self, cs, out_shape, out_ptr_indptr, out_ptr_indices, out_ptr_data,\n",
      "\u001b[1;32m~\\anaconda3\\lib\\site-packages\\lightgbm\\basic.py\u001b[0m in \u001b[0;36minner_predict\u001b[1;34m(mat, start_iteration, num_iteration, predict_type, preds)\u001b[0m\n\u001b[0;32m    906\u001b[0m                 \u001b[1;32mraise\u001b[0m \u001b[0mValueError\u001b[0m\u001b[1;33m(\u001b[0m\u001b[1;34m\"Wrong length of pre-allocated predict array\"\u001b[0m\u001b[1;33m)\u001b[0m\u001b[1;33m\u001b[0m\u001b[1;33m\u001b[0m\u001b[0m\n\u001b[0;32m    907\u001b[0m             \u001b[0mout_num_preds\u001b[0m \u001b[1;33m=\u001b[0m \u001b[0mctypes\u001b[0m\u001b[1;33m.\u001b[0m\u001b[0mc_int64\u001b[0m\u001b[1;33m(\u001b[0m\u001b[1;36m0\u001b[0m\u001b[1;33m)\u001b[0m\u001b[1;33m\u001b[0m\u001b[1;33m\u001b[0m\u001b[0m\n\u001b[1;32m--> 908\u001b[1;33m             _safe_call(_LIB.LGBM_BoosterPredictForMat(\n\u001b[0m\u001b[0;32m    909\u001b[0m                 \u001b[0mself\u001b[0m\u001b[1;33m.\u001b[0m\u001b[0mhandle\u001b[0m\u001b[1;33m,\u001b[0m\u001b[1;33m\u001b[0m\u001b[1;33m\u001b[0m\u001b[0m\n\u001b[0;32m    910\u001b[0m                 \u001b[0mptr_data\u001b[0m\u001b[1;33m,\u001b[0m\u001b[1;33m\u001b[0m\u001b[1;33m\u001b[0m\u001b[0m\n",
      "\u001b[1;31mKeyboardInterrupt\u001b[0m: "
     ]
    }
   ],
   "source": [
    "# lrs = [0.001, 0.002, 0.003, 0.004, 0.005, 0.006, 0.007, 0.008, 0.009]\n",
    "ests = [1000, 2000, 3000, 4000, 5000, 6000]\n",
    "f_scores = []\n",
    "\n",
    "for el in ests:\n",
    "    \n",
    "    tune_est_lgbm = LGBMClassifier(boosting_type = 'goss',\n",
    "                            learning_rate = 0.003,\n",
    "                            n_estimators = el,\n",
    "                            objective = 'binary',\n",
    "                            class_weight = 'balanced'\n",
    "                            )\n",
    "    \n",
    "    tune_est_lgbm.fit(X_train, y_train)\n",
    "    \n",
    "    y_train_pred = tune_est_lgbm.predict(X_train)\n",
    "    y_test_pred = tune_est_lgbm.predict(X_test)\n",
    "    \n",
    "    train_f = f1_score(y_train, y_train_pred)\n",
    "    test_f = f1_score(y_test, y_test_pred)\n",
    "    \n",
    "    f_scores.append([el, train_f, test_f])\n",
    "    print(el,\"- Train:\", train_f, \"Test:\", test_f)"
   ]
  },
  {
   "cell_type": "code",
   "execution_count": null,
   "id": "32e7bb67",
   "metadata": {},
   "outputs": [],
   "source": [
    "lrs = [0.001, 0.002, 0.003, 0.004, 0.005]\n",
    "ests = [2000, 2500, 3000, 3500, 4000, 4500, 5000]\n",
    "f_scores = []\n",
    "\n",
    "for el1 in ests:\n",
    "    for el2 in lrs:\n",
    "    \n",
    "        tune_est_lgbm = LGBMClassifier(boosting_type = 'goss',\n",
    "                                learning_rate = el2,\n",
    "                                n_estimators = el1,\n",
    "                                objective = 'binary',\n",
    "                                class_weight = 'balanced'\n",
    "                                )\n",
    "\n",
    "        tune_est_lgbm.fit(X_train, y_train)\n",
    "\n",
    "        y_train_pred = tune_est_lgbm.predict(X_train)\n",
    "        y_test_pred = tune_est_lgbm.predict(X_test)\n",
    "\n",
    "        train_f = f1_score(y_train, y_train_pred)\n",
    "        test_f = f1_score(y_test, y_test_pred)\n",
    "\n",
    "#         f_scores.append([el, train_f, test_f])\n",
    "        print(el1, el2,\"- Train:\", train_f, \"Test:\", test_f)"
   ]
  },
  {
   "cell_type": "markdown",
   "id": "756c84c5",
   "metadata": {},
   "source": [
    "Overall best performance seems to be given by learning rate of **0.003**"
   ]
  },
  {
   "cell_type": "code",
   "execution_count": 30,
   "id": "b0fd73ba",
   "metadata": {},
   "outputs": [
    {
     "name": "stdout",
     "output_type": "stream",
     "text": [
      "2500 - Train: 0.6282484141600164 Test: 0.5980642479662727\n",
      "2625 - Train: 0.6300660962238049 Test: 0.5983606557377049\n",
      "2750 - Train: 0.6316707717569786 Test: 0.5977640342530922\n",
      "2875 - Train: 0.6332288401253918 Test: 0.5976546222989464\n",
      "3000 - Train: 0.6349116535068542 Test: 0.5983801810385897\n",
      "3125 - Train: 0.6370126021183928 Test: 0.5985923893594177\n",
      "3250 - Train: 0.6382901835264966 Test: 0.5984364743092438\n",
      "3375 - Train: 0.6394438270488202 Test: 0.5979911515006576\n",
      "3500 - Train: 0.6411463452485645 Test: 0.5975704625695648\n"
     ]
    }
   ],
   "source": [
    "ests = [2500, 2625, 2750, 2875, 3000, 3125, 3250, 3375, 3500]\n",
    "f_scores = []\n",
    "\n",
    "for el in ests:\n",
    "    \n",
    "    tune_est_lgbm = LGBMClassifier(boosting_type = 'goss',\n",
    "                            learning_rate = 0.003,\n",
    "                            n_estimators = el,\n",
    "                            objective = 'binary',\n",
    "                            class_weight = 'balanced'\n",
    "                            )\n",
    "\n",
    "    tune_est_lgbm.fit(X_train, y_train)\n",
    "\n",
    "    y_train_pred = tune_est_lgbm.predict(X_train)\n",
    "    y_test_pred = tune_est_lgbm.predict(X_test)\n",
    "\n",
    "    train_f = f1_score(y_train, y_train_pred)\n",
    "    test_f = f1_score(y_test, y_test_pred)\n",
    "\n",
    "    f_scores.append([el, train_f, test_f])\n",
    "    print(el,\"- Train:\", train_f, \"Test:\", test_f)"
   ]
  },
  {
   "cell_type": "code",
   "execution_count": null,
   "id": "0a67bd4d",
   "metadata": {},
   "outputs": [],
   "source": []
  },
  {
   "cell_type": "markdown",
   "id": "939507f7",
   "metadata": {},
   "source": [
    "Let us fix **n_est = 3000** and **lr = 0.003** for all future experiments."
   ]
  },
  {
   "cell_type": "markdown",
   "id": "50777e0f",
   "metadata": {},
   "source": [
    "#### L2 Regularization across various num_leaves"
   ]
  },
  {
   "cell_type": "code",
   "execution_count": 116,
   "id": "0b32c433",
   "metadata": {},
   "outputs": [
    {
     "name": "stdout",
     "output_type": "stream",
     "text": [
      "***************************\n",
      "L2 lambda:  1.0\n",
      "***************************\n",
      "30 - Train: 0.6399422546466964 Test: 0.6002625925041776 0.06610383961623043\n",
      "35 - Train: 0.6476190476190475 Test: 0.5981341944743452 0.08273202502356647\n",
      "40 - Train: 0.6557947492793893 Test: 0.5998204130499851 0.09331849168784398\n",
      "45 - Train: 0.6623556100232068 Test: 0.6000360382004924 0.10385971484247954\n",
      "50 - Train: 0.6701685613484908 Test: 0.5975932611311673 0.12144598163631862\n",
      "55 - Train: 0.6778790736665619 Test: 0.5994431666868417 0.13084794579149195\n",
      "60 - Train: 0.6859712797853874 Test: 0.5994800798017049 0.14427702086830294\n",
      "***************************\n",
      "L2 lambda:  2.0\n",
      "***************************\n",
      "30 - Train: 0.6389662643144538 Test: 0.5981386469395059 0.06825778201065995\n",
      "35 - Train: 0.6465974684854916 Test: 0.5985645933014354 0.08024676989182848\n",
      "40 - Train: 0.6548144303140411 Test: 0.5984431137724552 0.09419661659440506\n",
      "45 - Train: 0.6625862742544602 Test: 0.5993391408831481 0.10552812098691751\n",
      "50 - Train: 0.669539104321713 Test: 0.5994354015256171 0.11694955389300608\n",
      "55 - Train: 0.6772874960695944 Test: 0.5982854382999276 0.13204743540835112\n",
      "60 - Train: 0.6851238365672818 Test: 0.5973113721690687 0.14701287885970105\n",
      "***************************\n",
      "L2 lambda:  3.0\n",
      "***************************\n",
      "30 - Train: 0.6397958920702007 Test: 0.5995594975891421 0.06710992760993888\n",
      "35 - Train: 0.6470588235294117 Test: 0.5988396435193493 0.08052102183262422\n",
      "40 - Train: 0.6541643970637825 Test: 0.6002517532817839 0.08981672021320969\n",
      "45 - Train: 0.6620040559513286 Test: 0.599783731827466 0.10373793222814669\n",
      "50 - Train: 0.6695227397403412 Test: 0.5997230750707363 0.11638649165095424\n",
      "55 - Train: 0.6764598062319979 Test: 0.5990338164251209 0.12925145072599623\n",
      "60 - Train: 0.683604104879137 Test: 0.5984995159728945 0.1421965876913037\n",
      "***************************\n",
      "L2 lambda:  4.0\n",
      "***************************\n",
      "30 - Train: 0.6385952245887268 Test: 0.5999880575625485 0.06434655913489329\n",
      "35 - Train: 0.6462730913318693 Test: 0.6003467447838823 0.07649970112608828\n",
      "40 - Train: 0.6546010838281432 Test: 0.5985016481869944 0.0937331347559151\n",
      "45 - Train: 0.6616197091495617 Test: 0.5995799579957996 0.10347202291607749\n",
      "50 - Train: 0.6696265343431707 Test: 0.5996150144369586 0.11676078520474202\n",
      "55 - Train: 0.6763811720306112 Test: 0.5984784446322907 0.1301679752997361\n",
      "60 - Train: 0.6830229320444455 Test: 0.5984251968503937 0.14136726802163915\n",
      "***************************\n",
      "L2 lambda:  5.0\n",
      "***************************\n",
      "30 - Train: 0.6394178665428085 Test: 0.6007391511683358 0.06438520828757244\n",
      "35 - Train: 0.6457380564814097 Test: 0.5987565758010521 0.07846507675928728\n",
      "40 - Train: 0.6534792077154412 Test: 0.5987780040733198 0.0913547312526585\n",
      "45 - Train: 0.661793777962751 Test: 0.6004327443202309 0.10219468245688182\n",
      "50 - Train: 0.6684216013344453 Test: 0.5983409473431114 0.11712495075344892\n",
      "55 - Train: 0.6769343601026769 Test: 0.5984565296032799 0.1311337191882933\n",
      "60 - Train: 0.6830215412064125 Test: 0.5986098519190087 0.14101286341479147\n"
     ]
    }
   ],
   "source": [
    "leaves = [30, 35, 40, 45, 50, 55, 60]\n",
    "regs = [1.0, 2.0, 3.0, 4.0, 5.0]\n",
    "f_scores = []\n",
    "\n",
    "for el1 in regs:\n",
    "    print('***************************')\n",
    "    print('L2 lambda: ',el1)\n",
    "    print('***************************')\n",
    "    for el2 in leaves:\n",
    "\n",
    "        tune_reg_lgbm = LGBMClassifier(boosting_type = 'goss',\n",
    "                                learning_rate = 0.003,\n",
    "                                n_estimators = 3500,\n",
    "                                objective = 'binary',\n",
    "                                num_leaves = el2,\n",
    "                                max_depth = -1,\n",
    "                                is_unbalance = True,\n",
    "                                reg_lambda = el1,\n",
    "                                colsample_bytree = 0.90\n",
    "                                )\n",
    "\n",
    "        tune_reg_lgbm.fit(X_train, y_train)\n",
    "\n",
    "        y_train_pred = tune_reg_lgbm.predict(X_train)\n",
    "        y_test_pred = tune_reg_lgbm.predict(X_test)\n",
    "\n",
    "        train_f = f1_score(y_train, y_train_pred)\n",
    "        test_f = f1_score(y_test, y_test_pred)\n",
    "\n",
    "        f_scores.append([el, train_f, test_f])\n",
    "        print(el2,\"- Train:\", train_f, \"Test:\", test_f, (train_f-test_f)/(test_f))"
   ]
  },
  {
   "cell_type": "markdown",
   "id": "d692a1ca",
   "metadata": {},
   "source": [
    "We use 40 leaves from now on due to better overall performance"
   ]
  },
  {
   "cell_type": "markdown",
   "id": "c4c608e7",
   "metadata": {},
   "source": [
    "#### L2 Regularization across various num_estimators"
   ]
  },
  {
   "cell_type": "code",
   "execution_count": 32,
   "id": "ea6466eb",
   "metadata": {},
   "outputs": [
    {
     "name": "stdout",
     "output_type": "stream",
     "text": [
      "***************************\n",
      "Depth:  2000\n",
      "***************************\n",
      "0.0 - Train: 0.6302563841174372 Test: 0.5971754417065532\n",
      "2.0 - Train: 0.6293702732296097 Test: 0.599020706742965\n",
      "4.0 - Train: 0.6295165394402036 Test: 0.5966694224636825\n",
      "6.0 - Train: 0.629272389484132 Test: 0.5981584228544445\n",
      "8.0 - Train: 0.630227532731664 Test: 0.5964353163361662\n",
      "10.0 - Train: 0.6291345198991675 Test: 0.5971910775404226\n",
      "12.0 - Train: 0.6299725302675755 Test: 0.5977215040434449\n",
      "14.0 - Train: 0.629264324571661 Test: 0.5984066096193568\n",
      "16.0 - Train: 0.6292785810484588 Test: 0.5971575160700595\n",
      "***************************\n",
      "Depth:  3000\n",
      "***************************\n",
      "0.0 - Train: 0.6481940144478844 Test: 0.5996420047732697\n",
      "2.0 - Train: 0.6468056593562354 Test: 0.6005966587112171\n",
      "4.0 - Train: 0.6463512016691997 Test: 0.6001906123421491\n",
      "6.0 - Train: 0.6470300219043937 Test: 0.5993434795583408\n",
      "8.0 - Train: 0.646592546839613 Test: 0.599058009896858\n",
      "10.0 - Train: 0.6459218078398065 Test: 0.5975326300733059\n",
      "12.0 - Train: 0.6462211922235096 Test: 0.5980561683859043\n",
      "14.0 - Train: 0.6458809921603907 Test: 0.598713979518933\n",
      "16.0 - Train: 0.6454468260298999 Test: 0.5982834664441531\n",
      "***************************\n",
      "Depth:  4000\n",
      "***************************\n",
      "0.0 - Train: 0.6648203788373612 Test: 0.5999637921670389\n",
      "2.0 - Train: 0.6639669766955795 Test: 0.6008914588603783\n",
      "4.0 - Train: 0.6628213493409891 Test: 0.5992419228686602\n",
      "6.0 - Train: 0.6633448986512926 Test: 0.5989150090415913\n",
      "8.0 - Train: 0.6623961669661226 Test: 0.5989762119843421\n",
      "10.0 - Train: 0.6607561929595829 Test: 0.5987743330930065\n",
      "12.0 - Train: 0.6616353510643835 Test: 0.5984375\n",
      "14.0 - Train: 0.6610848198034219 Test: 0.5990639625585022\n",
      "16.0 - Train: 0.6612597156151706 Test: 0.5976459284170069\n",
      "***************************\n",
      "Depth:  5000\n",
      "***************************\n",
      "0.0 - Train: 0.6812658495350803 Test: 0.5981513013865241\n",
      "2.0 - Train: 0.6787779567479074 Test: 0.5998299732815157\n",
      "4.0 - Train: 0.677968782957182 Test: 0.599102377486657\n",
      "6.0 - Train: 0.6778374960480557 Test: 0.5992345544013121\n",
      "8.0 - Train: 0.6767886745783227 Test: 0.5986882060002429\n",
      "10.0 - Train: 0.6755005268703899 Test: 0.5988857938718662\n",
      "12.0 - Train: 0.6764032525459857 Test: 0.5987160852713178\n",
      "14.0 - Train: 0.6750288653301144 Test: 0.5985242530543123\n",
      "16.0 - Train: 0.6745938000367483 Test: 0.5975048449612403\n"
     ]
    }
   ],
   "source": [
    "regs = [0.0, 0.5, 1.0, 1.5, 2.0, 2.5, 3.0, 3.5, 4.0]\n",
    "ests = [2000, 3000, 4000, 5000]\n",
    "f_scores = []\n",
    "\n",
    "for el1 in ests:\n",
    "    print('***************************')\n",
    "    print('Depth: ',el1)\n",
    "    print('***************************')\n",
    "    for el2 in regs:\n",
    "\n",
    "        tune_reg_lgbm = LGBMClassifier(boosting_type = 'goss',\n",
    "                                learning_rate = 0.003,\n",
    "                                n_estimators = el1,\n",
    "                                objective = 'binary',\n",
    "                                num_leaves = 40,\n",
    "                                max_depth = -1,\n",
    "                                is_unbalance = True,\n",
    "                                reg_lambda = 4*el2\n",
    "                                )\n",
    "\n",
    "        tune_reg_lgbm.fit(X_train, y_train)\n",
    "\n",
    "        y_train_pred = tune_reg_lgbm.predict(X_train)\n",
    "        y_test_pred = tune_reg_lgbm.predict(X_test)\n",
    "\n",
    "        train_f = f1_score(y_train, y_train_pred)\n",
    "        test_f = f1_score(y_test, y_test_pred)\n",
    "\n",
    "        f_scores.append([el, train_f, test_f])\n",
    "        print(4*el2,\"- Train:\", train_f, \"Test:\", test_f)"
   ]
  },
  {
   "cell_type": "markdown",
   "id": "1f1250b4",
   "metadata": {},
   "source": [
    "#### Tuning the value of $\\lambda$"
   ]
  },
  {
   "cell_type": "code",
   "execution_count": 33,
   "id": "ef737c12",
   "metadata": {},
   "outputs": [
    {
     "name": "stdout",
     "output_type": "stream",
     "text": [
      "0.0 - Train: 0.6481940144478844 Test: 0.5996420047732697\n",
      "0.25 - Train: 0.6477586518361764 Test: 0.6005013129625209\n",
      "0.5 - Train: 0.6467374497474486 Test: 0.5980784149907501\n",
      "0.75 - Train: 0.6474110784161892 Test: 0.5999880718077175\n",
      "1.0 - Train: 0.6465746355308992 Test: 0.5987716892254487\n",
      "1.25 - Train: 0.6475762969842376 Test: 0.5989158277238339\n",
      "1.5 - Train: 0.647758887171561 Test: 0.599165673420739\n",
      "1.75 - Train: 0.6467433345366407 Test: 0.5977903851896088\n",
      "2.0 - Train: 0.6468056593562354 Test: 0.6005966587112171\n",
      "2.25 - Train: 0.6477703556598665 Test: 0.5982783357245337\n",
      "2.5 - Train: 0.6468981863149218 Test: 0.5985331822789339\n",
      "2.75 - Train: 0.6467538497252959 Test: 0.5996066980513676\n",
      "3.0 - Train: 0.6458097103391403 Test: 0.5999166120674251\n",
      "3.25 - Train: 0.6468738724808 Test: 0.598343561937675\n",
      "3.5 - Train: 0.6483018089986085 Test: 0.5993909356899744\n",
      "3.75 - Train: 0.6475061219229281 Test: 0.5994631673128541\n",
      "4.0 - Train: 0.6463512016691997 Test: 0.6001906123421491\n"
     ]
    }
   ],
   "source": [
    "regs = [0.00, 0.25, 0.50, 0.75, 1.00, 1.25, 1.50, 1.75, 2.00, 2.25, 2.50, 2.75, 3.00, 3.25, 3.50, 3.75, 4.00]\n",
    "\n",
    "for el in regs:\n",
    "\n",
    "    tune_reg_lgbm = LGBMClassifier(boosting_type = 'goss',\n",
    "                            learning_rate = 0.003,\n",
    "                            n_estimators = 3000,\n",
    "                            objective = 'binary',\n",
    "                            num_leaves = 40,\n",
    "                            max_depth = -1,\n",
    "                            is_unbalance = True,\n",
    "                            reg_lambda = el\n",
    "                            )\n",
    "\n",
    "    tune_reg_lgbm.fit(X_train, y_train)\n",
    "\n",
    "    y_train_pred = tune_reg_lgbm.predict(X_train)\n",
    "    y_test_pred = tune_reg_lgbm.predict(X_test)\n",
    "\n",
    "    train_f = f1_score(y_train, y_train_pred)\n",
    "    test_f = f1_score(y_test, y_test_pred)\n",
    "\n",
    "    f_scores.append([el, train_f, test_f])\n",
    "    print(el,\"- Train:\", train_f, \"Test:\", test_f)"
   ]
  },
  {
   "cell_type": "markdown",
   "id": "7a94d8de",
   "metadata": {},
   "source": [
    "As a summary we keep **num_leaves = 40**, **num_estimators = 3000** and **$\\lambda=3.0$** "
   ]
  },
  {
   "cell_type": "markdown",
   "id": "b26e422f",
   "metadata": {},
   "source": [
    "#### Attemping to set colsample_bytree"
   ]
  },
  {
   "cell_type": "code",
   "execution_count": 37,
   "id": "f07a1df2",
   "metadata": {},
   "outputs": [
    {
     "name": "stdout",
     "output_type": "stream",
     "text": [
      "0.75 - Train: 0.6449254845435125 Test: 0.5987132133921125\n",
      "0.775 - Train: 0.6449771102309552 Test: 0.5997855355653521\n",
      "0.8 - Train: 0.6460334217370034 Test: 0.5986783354170387\n",
      "0.825 - Train: 0.6455748339597385 Test: 0.5991546109424303\n",
      "0.85 - Train: 0.6460737840065952 Test: 0.5980082294710477\n",
      "0.875 - Train: 0.6460129171705735 Test: 0.5995346894947206\n",
      "0.9 - Train: 0.6458392355834855 Test: 0.6013960980848398\n",
      "0.925 - Train: 0.6464235081840444 Test: 0.5983405957142005\n",
      "0.95 - Train: 0.6465286361763495 Test: 0.5985697258641238\n",
      "0.975 - Train: 0.6460610435141266 Test: 0.5987709563868504\n",
      "1.0 - Train: 0.6458097103391403 Test: 0.5999166120674251\n"
     ]
    }
   ],
   "source": [
    "sam = [0.750, 0.775, 0.800, 0.825, 0.850, 0.875, 0.900, 0.925, 0.950, 0.975, 1.000]\n",
    "f_scores = []\n",
    "\n",
    "for el in sam:\n",
    "    \n",
    "    tune_est_lgbm = LGBMClassifier(boosting_type = 'goss',\n",
    "                                learning_rate = 0.003,\n",
    "                                n_estimators = 3000,\n",
    "                                objective = 'binary',\n",
    "                                num_leaves = 40,\n",
    "                                max_depth = -1,\n",
    "                                is_unbalance = True,\n",
    "                                reg_lambda = 3,\n",
    "                                colsample_bytree = el\n",
    "                                )\n",
    "\n",
    "    tune_est_lgbm.fit(X_train, y_train)\n",
    "\n",
    "    y_train_pred = tune_est_lgbm.predict(X_train)\n",
    "    y_test_pred = tune_est_lgbm.predict(X_test)\n",
    "\n",
    "    train_f = f1_score(y_train, y_train_pred)\n",
    "    test_f = f1_score(y_test, y_test_pred)\n",
    "\n",
    "    f_scores.append([el, train_f, test_f])\n",
    "    print(el,\"- Train:\", train_f, \"Test:\", test_f)"
   ]
  },
  {
   "cell_type": "markdown",
   "id": "401f5e5b",
   "metadata": {},
   "source": [
    "We set colsample_bytree to be **0.90**"
   ]
  },
  {
   "cell_type": "markdown",
   "id": "e668f984",
   "metadata": {},
   "source": [
    "#### Regularising using min_split_gain "
   ]
  },
  {
   "cell_type": "code",
   "execution_count": 39,
   "id": "ccca8c0f",
   "metadata": {},
   "outputs": [
    {
     "name": "stdout",
     "output_type": "stream",
     "text": [
      "0.0 - Train: 0.6589583387343478 Test: 0.5992576628352491\n",
      "0.05 - Train: 0.6596511236100671 Test: 0.597892467967908\n",
      "0.1 - Train: 0.659169819142872 Test: 0.5974492545356566\n",
      "0.15 - Train: 0.6582908064140094 Test: 0.5988734419942474\n",
      "0.2 - Train: 0.6591480646081253 Test: 0.5985156811108452\n",
      "0.25 - Train: 0.6587188704129923 Test: 0.5979875419262097\n",
      "0.3 - Train: 0.6587936705254707 Test: 0.6002395209580839\n",
      "0.35 - Train: 0.6589490586072048 Test: 0.5986964061472225\n",
      "0.4 - Train: 0.6599497526483463 Test: 0.59962845328699\n",
      "0.45 - Train: 0.65943870934274 Test: 0.5995807127882601\n",
      "0.5 - Train: 0.6592462207496377 Test: 0.5978839141610378\n",
      "0.55 - Train: 0.6592893979837768 Test: 0.5984327331458994\n",
      "0.6 - Train: 0.6595942868971227 Test: 0.5992348158775707\n",
      "0.65 - Train: 0.659365128683134 Test: 0.598660607510165\n",
      "0.7 - Train: 0.6589861751152074 Test: 0.6001677450275581\n"
     ]
    }
   ],
   "source": [
    "gain = [0.00, 0.05, 0.10, 0.15, 0.20, 0.25, 0.30, 0.35, 0.40, 0.45, 0.50, 0.55, 0.60, 0.65, 0.70]\n",
    "f_scores = []\n",
    "\n",
    "for el in gain:\n",
    "    \n",
    "    tune_est_lgbm = LGBMClassifier(boosting_type = 'goss',\n",
    "                                learning_rate = 0.003,\n",
    "                                n_estimators = 3000,\n",
    "                                objective = 'binary',\n",
    "                                num_leaves = 40,\n",
    "                                max_depth = -1,\n",
    "                                is_unbalance = True,\n",
    "                                reg_lambda = 3,\n",
    "                                colsample_bytree = 0.9,\n",
    "                                min_split_gain = el\n",
    "                                )\n",
    "\n",
    "    tune_est_lgbm.fit(X_train, y_train)\n",
    "\n",
    "    y_train_pred = tune_est_lgbm.predict(X_train)\n",
    "    y_test_pred = tune_est_lgbm.predict(X_test)\n",
    "\n",
    "    train_f = f1_score(y_train, y_train_pred)\n",
    "    test_f = f1_score(y_test, y_test_pred)\n",
    "\n",
    "    f_scores.append([el, train_f, test_f])\n",
    "    print(el,\"- Train:\", train_f, \"Test:\", test_f)"
   ]
  },
  {
   "cell_type": "markdown",
   "id": "795c7cdf",
   "metadata": {},
   "source": [
    "#### L1 Regularization"
   ]
  },
  {
   "cell_type": "code",
   "execution_count": 40,
   "id": "9ad038ac",
   "metadata": {
    "scrolled": true
   },
   "outputs": [
    {
     "name": "stdout",
     "output_type": "stream",
     "text": [
      "0.0 - Train: 0.6458392355834855 Test: 0.6013960980848398\n",
      "0.5 - Train: 0.6475454194047159 Test: 0.5988902810094863\n",
      "1.0 - Train: 0.645950890211538 Test: 0.5987359885523492\n",
      "1.5 - Train: 0.6462323734886959 Test: 0.5997021149836163\n",
      "2.0 - Train: 0.6467272399680831 Test: 0.6002624358821425\n",
      "2.5 - Train: 0.6453208315087194 Test: 0.5986142635288496\n",
      "3.0 - Train: 0.6456810460207969 Test: 0.5996308864678217\n",
      "3.5 - Train: 0.6460778258184066 Test: 0.5987845567206864\n",
      "4.0 - Train: 0.6455917967743598 Test: 0.5990921036913153\n",
      "4.5 - Train: 0.6463210487007134 Test: 0.5982956915559263\n",
      "5.0 - Train: 0.6463486833637931 Test: 0.5974955277280858\n",
      "5.5 - Train: 0.646300347445631 Test: 0.5980550086510351\n",
      "6.0 - Train: 0.6451230816767948 Test: 0.5985584082921307\n"
     ]
    }
   ],
   "source": [
    "alph = [0.0, 0.5, 1.0, 1.5, 2.0, 2.5, 3.0, 3.5, 4.0, 4.5, 5.0, 5.5, 6.0]\n",
    "f_scores = []\n",
    "\n",
    "for el in alph:\n",
    "    \n",
    "    tune_est_lgbm = LGBMClassifier(boosting_type = 'goss',\n",
    "                                learning_rate = 0.003,\n",
    "                                n_estimators = 3000,\n",
    "                                objective = 'binary',\n",
    "                                num_leaves = 40,\n",
    "                                max_depth = -1,\n",
    "                                is_unbalance = True,\n",
    "                                reg_lambda = 3,\n",
    "                                reg_alpha = el,\n",
    "                                colsample_bytree = 0.9,\n",
    "                                min_split_gain = 0.0,\n",
    "                                )\n",
    "\n",
    "    tune_est_lgbm.fit(X_train, y_train)\n",
    "\n",
    "    y_train_pred = tune_est_lgbm.predict(X_train)\n",
    "    y_test_pred = tune_est_lgbm.predict(X_test)\n",
    "\n",
    "    train_f = f1_score(y_train, y_train_pred)\n",
    "    test_f = f1_score(y_test, y_test_pred)\n",
    "\n",
    "    f_scores.append([el, train_f, test_f])\n",
    "    print(el,\"- Train:\", train_f, \"Test:\", test_f)"
   ]
  },
  {
   "cell_type": "markdown",
   "id": "bc1ffc49",
   "metadata": {},
   "source": [
    "Range of values between 1.5 and 2.5 for L1 regularisation usually gives best results. Let us now refine further."
   ]
  },
  {
   "cell_type": "code",
   "execution_count": 42,
   "id": "7646c00d",
   "metadata": {},
   "outputs": [
    {
     "name": "stdout",
     "output_type": "stream",
     "text": [
      "1.5 - Train: 0.6457382922240263 Test: 0.5987344794651385\n",
      "1.6 - Train: 0.6465994897301754 Test: 0.5990234607597952\n",
      "1.7 - Train: 0.6467784733493057 Test: 0.5983069035411946\n",
      "1.8 - Train: 0.6457517013817282 Test: 0.5971128608923884\n",
      "1.9 - Train: 0.6453421099997428 Test: 0.5997851515874911\n",
      "2.0 - Train: 0.6461894953656026 Test: 0.5982132221560453\n",
      "2.1 - Train: 0.646553055655666 Test: 0.5987617573520657\n",
      "2.2 - Train: 0.6459422566770546 Test: 0.5984862029918351\n"
     ]
    },
    {
     "ename": "KeyboardInterrupt",
     "evalue": "",
     "output_type": "error",
     "traceback": [
      "\u001b[1;31m---------------------------------------------------------------------------\u001b[0m",
      "\u001b[1;31mKeyboardInterrupt\u001b[0m                         Traceback (most recent call last)",
      "\u001b[1;32m<ipython-input-42-97161c9ec2d5>\u001b[0m in \u001b[0;36m<module>\u001b[1;34m\u001b[0m\n\u001b[0;32m     17\u001b[0m                                 )\n\u001b[0;32m     18\u001b[0m \u001b[1;33m\u001b[0m\u001b[0m\n\u001b[1;32m---> 19\u001b[1;33m     \u001b[0mtune_est_lgbm\u001b[0m\u001b[1;33m.\u001b[0m\u001b[0mfit\u001b[0m\u001b[1;33m(\u001b[0m\u001b[0mX_train\u001b[0m\u001b[1;33m,\u001b[0m \u001b[0my_train\u001b[0m\u001b[1;33m)\u001b[0m\u001b[1;33m\u001b[0m\u001b[1;33m\u001b[0m\u001b[0m\n\u001b[0m\u001b[0;32m     20\u001b[0m \u001b[1;33m\u001b[0m\u001b[0m\n\u001b[0;32m     21\u001b[0m     \u001b[0my_train_pred\u001b[0m \u001b[1;33m=\u001b[0m \u001b[0mtune_est_lgbm\u001b[0m\u001b[1;33m.\u001b[0m\u001b[0mpredict\u001b[0m\u001b[1;33m(\u001b[0m\u001b[0mX_train\u001b[0m\u001b[1;33m)\u001b[0m\u001b[1;33m\u001b[0m\u001b[1;33m\u001b[0m\u001b[0m\n",
      "\u001b[1;32m~\\anaconda3\\lib\\site-packages\\lightgbm\\sklearn.py\u001b[0m in \u001b[0;36mfit\u001b[1;34m(self, X, y, sample_weight, init_score, eval_set, eval_names, eval_sample_weight, eval_class_weight, eval_init_score, eval_metric, early_stopping_rounds, verbose, feature_name, categorical_feature, callbacks, init_model)\u001b[0m\n\u001b[0;32m    965\u001b[0m                     \u001b[0mvalid_sets\u001b[0m\u001b[1;33m[\u001b[0m\u001b[0mi\u001b[0m\u001b[1;33m]\u001b[0m \u001b[1;33m=\u001b[0m \u001b[1;33m(\u001b[0m\u001b[0mvalid_x\u001b[0m\u001b[1;33m,\u001b[0m \u001b[0mself\u001b[0m\u001b[1;33m.\u001b[0m\u001b[0m_le\u001b[0m\u001b[1;33m.\u001b[0m\u001b[0mtransform\u001b[0m\u001b[1;33m(\u001b[0m\u001b[0mvalid_y\u001b[0m\u001b[1;33m)\u001b[0m\u001b[1;33m)\u001b[0m\u001b[1;33m\u001b[0m\u001b[1;33m\u001b[0m\u001b[0m\n\u001b[0;32m    966\u001b[0m \u001b[1;33m\u001b[0m\u001b[0m\n\u001b[1;32m--> 967\u001b[1;33m         super().fit(X, _y, sample_weight=sample_weight, init_score=init_score, eval_set=valid_sets,\n\u001b[0m\u001b[0;32m    968\u001b[0m                     \u001b[0meval_names\u001b[0m\u001b[1;33m=\u001b[0m\u001b[0meval_names\u001b[0m\u001b[1;33m,\u001b[0m \u001b[0meval_sample_weight\u001b[0m\u001b[1;33m=\u001b[0m\u001b[0meval_sample_weight\u001b[0m\u001b[1;33m,\u001b[0m\u001b[1;33m\u001b[0m\u001b[1;33m\u001b[0m\u001b[0m\n\u001b[0;32m    969\u001b[0m                     \u001b[0meval_class_weight\u001b[0m\u001b[1;33m=\u001b[0m\u001b[0meval_class_weight\u001b[0m\u001b[1;33m,\u001b[0m \u001b[0meval_init_score\u001b[0m\u001b[1;33m=\u001b[0m\u001b[0meval_init_score\u001b[0m\u001b[1;33m,\u001b[0m\u001b[1;33m\u001b[0m\u001b[1;33m\u001b[0m\u001b[0m\n",
      "\u001b[1;32m~\\anaconda3\\lib\\site-packages\\lightgbm\\sklearn.py\u001b[0m in \u001b[0;36mfit\u001b[1;34m(self, X, y, sample_weight, init_score, group, eval_set, eval_names, eval_sample_weight, eval_class_weight, eval_init_score, eval_group, eval_metric, early_stopping_rounds, verbose, feature_name, categorical_feature, callbacks, init_model)\u001b[0m\n\u001b[0;32m    746\u001b[0m         \u001b[0mcallbacks\u001b[0m\u001b[1;33m.\u001b[0m\u001b[0mappend\u001b[0m\u001b[1;33m(\u001b[0m\u001b[0mrecord_evaluation\u001b[0m\u001b[1;33m(\u001b[0m\u001b[0mevals_result\u001b[0m\u001b[1;33m)\u001b[0m\u001b[1;33m)\u001b[0m\u001b[1;33m\u001b[0m\u001b[1;33m\u001b[0m\u001b[0m\n\u001b[0;32m    747\u001b[0m \u001b[1;33m\u001b[0m\u001b[0m\n\u001b[1;32m--> 748\u001b[1;33m         self._Booster = train(\n\u001b[0m\u001b[0;32m    749\u001b[0m             \u001b[0mparams\u001b[0m\u001b[1;33m=\u001b[0m\u001b[0mparams\u001b[0m\u001b[1;33m,\u001b[0m\u001b[1;33m\u001b[0m\u001b[1;33m\u001b[0m\u001b[0m\n\u001b[0;32m    750\u001b[0m             \u001b[0mtrain_set\u001b[0m\u001b[1;33m=\u001b[0m\u001b[0mtrain_set\u001b[0m\u001b[1;33m,\u001b[0m\u001b[1;33m\u001b[0m\u001b[1;33m\u001b[0m\u001b[0m\n",
      "\u001b[1;32m~\\anaconda3\\lib\\site-packages\\lightgbm\\engine.py\u001b[0m in \u001b[0;36mtrain\u001b[1;34m(params, train_set, num_boost_round, valid_sets, valid_names, fobj, feval, init_model, feature_name, categorical_feature, early_stopping_rounds, evals_result, verbose_eval, learning_rates, keep_training_booster, callbacks)\u001b[0m\n\u001b[0;32m    290\u001b[0m                                     evaluation_result_list=None))\n\u001b[0;32m    291\u001b[0m \u001b[1;33m\u001b[0m\u001b[0m\n\u001b[1;32m--> 292\u001b[1;33m         \u001b[0mbooster\u001b[0m\u001b[1;33m.\u001b[0m\u001b[0mupdate\u001b[0m\u001b[1;33m(\u001b[0m\u001b[0mfobj\u001b[0m\u001b[1;33m=\u001b[0m\u001b[0mfobj\u001b[0m\u001b[1;33m)\u001b[0m\u001b[1;33m\u001b[0m\u001b[1;33m\u001b[0m\u001b[0m\n\u001b[0m\u001b[0;32m    293\u001b[0m \u001b[1;33m\u001b[0m\u001b[0m\n\u001b[0;32m    294\u001b[0m         \u001b[0mevaluation_result_list\u001b[0m \u001b[1;33m=\u001b[0m \u001b[1;33m[\u001b[0m\u001b[1;33m]\u001b[0m\u001b[1;33m\u001b[0m\u001b[1;33m\u001b[0m\u001b[0m\n",
      "\u001b[1;32m~\\anaconda3\\lib\\site-packages\\lightgbm\\basic.py\u001b[0m in \u001b[0;36mupdate\u001b[1;34m(self, train_set, fobj)\u001b[0m\n\u001b[0;32m   3019\u001b[0m             \u001b[1;32mif\u001b[0m \u001b[0mself\u001b[0m\u001b[1;33m.\u001b[0m\u001b[0m__set_objective_to_none\u001b[0m\u001b[1;33m:\u001b[0m\u001b[1;33m\u001b[0m\u001b[1;33m\u001b[0m\u001b[0m\n\u001b[0;32m   3020\u001b[0m                 \u001b[1;32mraise\u001b[0m \u001b[0mLightGBMError\u001b[0m\u001b[1;33m(\u001b[0m\u001b[1;34m'Cannot update due to null objective function.'\u001b[0m\u001b[1;33m)\u001b[0m\u001b[1;33m\u001b[0m\u001b[1;33m\u001b[0m\u001b[0m\n\u001b[1;32m-> 3021\u001b[1;33m             _safe_call(_LIB.LGBM_BoosterUpdateOneIter(\n\u001b[0m\u001b[0;32m   3022\u001b[0m                 \u001b[0mself\u001b[0m\u001b[1;33m.\u001b[0m\u001b[0mhandle\u001b[0m\u001b[1;33m,\u001b[0m\u001b[1;33m\u001b[0m\u001b[1;33m\u001b[0m\u001b[0m\n\u001b[0;32m   3023\u001b[0m                 ctypes.byref(is_finished)))\n",
      "\u001b[1;31mKeyboardInterrupt\u001b[0m: "
     ]
    }
   ],
   "source": [
    "alph = [1.5, 1.6, 1.7, 1.8, 1.9, 2.0, 2.1, 2.2, 2.3, 2.4, 2.5]\n",
    "f_scores = []\n",
    "\n",
    "for el in alph:\n",
    "    \n",
    "    tune_est_lgbm = LGBMClassifier(boosting_type = 'goss',\n",
    "                                learning_rate = 0.003,\n",
    "                                n_estimators = 3000,\n",
    "                                objective = 'binary',\n",
    "                                num_leaves = 40,\n",
    "                                max_depth = -1,\n",
    "                                is_unbalance = True,\n",
    "                                reg_lambda = 3,\n",
    "                                reg_alpha = el,\n",
    "                                colsample_bytree = 0.9,\n",
    "                                min_split_gain = 0.0,\n",
    "                                )\n",
    "\n",
    "    tune_est_lgbm.fit(X_train, y_train)\n",
    "\n",
    "    y_train_pred = tune_est_lgbm.predict(X_train)\n",
    "    y_test_pred = tune_est_lgbm.predict(X_test)\n",
    "\n",
    "    train_f = f1_score(y_train, y_train_pred)\n",
    "    test_f = f1_score(y_test, y_test_pred)\n",
    "\n",
    "    f_scores.append([el, train_f, test_f])\n",
    "    print(el,\"- Train:\", train_f, \"Test:\", test_f)"
   ]
  },
  {
   "cell_type": "markdown",
   "id": "58e5f7c5",
   "metadata": {},
   "source": [
    "We use L1 regularization **$\\alpha = 2.5$**"
   ]
  },
  {
   "cell_type": "code",
   "execution_count": null,
   "id": "56a686f9",
   "metadata": {},
   "outputs": [],
   "source": []
  },
  {
   "cell_type": "code",
   "execution_count": null,
   "id": "990e887d",
   "metadata": {},
   "outputs": [],
   "source": []
  },
  {
   "cell_type": "code",
   "execution_count": 44,
   "id": "f5b91f02",
   "metadata": {},
   "outputs": [
    {
     "name": "stdout",
     "output_type": "stream",
     "text": [
      "0.6458392355834855\n",
      "0.6013960980848398\n"
     ]
    }
   ],
   "source": [
    "tune_lgbm = LGBMClassifier(boosting_type = 'goss',\n",
    "                           learning_rate = 0.003,\n",
    "                           n_estimators = 3000,\n",
    "                           objective = 'binary',\n",
    "                           num_leaves = 40,\n",
    "                           max_depth = -1,\n",
    "                           is_unbalance = True,\n",
    "                           reg_lambda = 3,\n",
    "                           reg_alpha = 0,\n",
    "                           colsample_bytree = 0.9,\n",
    "                           min_split_gain = 0.0,\n",
    "                           )\n",
    "\n",
    "tune_lgbm.fit(X_train, y_train)\n",
    "\n",
    "y_train_pred = tune_lgbm.predict(X_train)\n",
    "y_test_pred = tune_lgbm.predict(X_test)\n",
    "\n",
    "train_f = f1_score(y_train, y_train_pred)\n",
    "test_f = f1_score(y_test, y_test_pred)\n",
    "\n",
    "f_scores.append([el, train_f, test_f])\n",
    "print(f1_score(y_train_pred, y_train))\n",
    "print(f1_score(y_test_pred, y_test))"
   ]
  },
  {
   "cell_type": "markdown",
   "id": "538070bb",
   "metadata": {},
   "source": [
    "# Random Forests Classifier"
   ]
  },
  {
   "cell_type": "code",
   "execution_count": null,
   "id": "fc3c5bcb",
   "metadata": {},
   "outputs": [],
   "source": []
  },
  {
   "cell_type": "code",
   "execution_count": null,
   "id": "de33d32c",
   "metadata": {},
   "outputs": [],
   "source": []
  },
  {
   "cell_type": "code",
   "execution_count": null,
   "id": "db6693f7",
   "metadata": {},
   "outputs": [],
   "source": []
  },
  {
   "cell_type": "code",
   "execution_count": null,
   "id": "358a1cb5",
   "metadata": {},
   "outputs": [],
   "source": []
  },
  {
   "cell_type": "code",
   "execution_count": null,
   "id": "ba41756b",
   "metadata": {},
   "outputs": [],
   "source": []
  },
  {
   "cell_type": "code",
   "execution_count": null,
   "id": "bfcc2ee8",
   "metadata": {},
   "outputs": [],
   "source": []
  },
  {
   "cell_type": "code",
   "execution_count": null,
   "id": "4e313354",
   "metadata": {},
   "outputs": [],
   "source": []
  },
  {
   "cell_type": "code",
   "execution_count": null,
   "id": "bb5bdcdb",
   "metadata": {},
   "outputs": [],
   "source": []
  },
  {
   "cell_type": "markdown",
   "id": "f5f9d098",
   "metadata": {},
   "source": [
    "## Combining LightGBM and XGBoost"
   ]
  },
  {
   "cell_type": "code",
   "execution_count": 119,
   "id": "9cc2c93b",
   "metadata": {},
   "outputs": [
    {
     "name": "stdout",
     "output_type": "stream",
     "text": [
      "0.8409279830726214\n",
      "0.5959990802483329\n"
     ]
    }
   ],
   "source": [
    "xgb1 = XGBClassifier(learning_rate = 0.01,  \n",
    "                      colsample_bytree = 0.25,\n",
    "                      subsample = 0.50,\n",
    "                      objective = 'binary:logistic', \n",
    "                      n_estimators = 3000,\n",
    "                      max_depth = 14, \n",
    "                      scale_pos_weight = 5,\n",
    "                      gamma = 4,\n",
    "                      reg_lambda = 8,\n",
    "                      verbosity = 2,\n",
    "                      tree_method = 'gpu_hist')\n",
    "\n",
    "xgb1.fit(X_train, y_train)\n",
    "y_pred01 = xgb1.predict(X_train)\n",
    "y_pred11 = xgb1.predict(X_test)\n",
    "print(f1_score(y_pred01, y_train))\n",
    "print(f1_score(y_pred11, y_test))"
   ]
  },
  {
   "cell_type": "code",
   "execution_count": 69,
   "id": "7e9a79d5",
   "metadata": {},
   "outputs": [
    {
     "name": "stdout",
     "output_type": "stream",
     "text": [
      "0.6458392355834855\n",
      "0.6013960980848398\n"
     ]
    }
   ],
   "source": [
    "lgbm1 = LGBMClassifier(boosting_type = 'goss',\n",
    "                       learning_rate = 0.003,\n",
    "                       n_estimators = 3000,\n",
    "                       objective = 'binary',\n",
    "                       num_leaves = 40,\n",
    "                       max_depth = -1,\n",
    "                       is_unbalance = True,\n",
    "                       reg_lambda = 3,\n",
    "                       reg_alpha = 0,\n",
    "                       colsample_bytree = 0.9,\n",
    "                       min_split_gain = 0.0,\n",
    "                       )\n",
    "\n",
    "lgbm1.fit(X_train, y_train)\n",
    "y_pred02 = lgbm1.predict(X_train)\n",
    "y_pred12 = lgbm1.predict(X_test)\n",
    "print(f1_score(y_pred02, y_train))\n",
    "print(f1_score(y_pred12, y_test))"
   ]
  },
  {
   "cell_type": "code",
   "execution_count": 168,
   "id": "12ac5791",
   "metadata": {},
   "outputs": [
    {
     "name": "stdout",
     "output_type": "stream",
     "text": [
      "0.662406426876027\n",
      "0.6008909222248977\n"
     ]
    }
   ],
   "source": [
    "lgbm2 = LGBMClassifier(boosting_type = 'goss',\n",
    "                       learning_rate = 0.003,\n",
    "                       n_estimators = 4000,\n",
    "                       objective = 'binary',\n",
    "                       num_leaves = 40,\n",
    "                       max_depth = -1,\n",
    "                       is_unbalance = True,\n",
    "                       reg_lambda = 3,\n",
    "                       reg_alpha = 0,\n",
    "                       colsample_bytree = 0.9,\n",
    "                       min_split_gain = 0.0,\n",
    "                       )\n",
    "\n",
    "lgbm2.fit(X_train, y_train)\n",
    "y_pred03 = lgbm2.predict(X_train)\n",
    "y_pred13 = lgbm2.predict(X_test)\n",
    "print(f1_score(y_pred03, y_train))\n",
    "print(f1_score(y_pred13, y_test))"
   ]
  },
  {
   "cell_type": "code",
   "execution_count": 169,
   "id": "51710122",
   "metadata": {},
   "outputs": [
    {
     "name": "stdout",
     "output_type": "stream",
     "text": [
      "0.6592740368422416\n",
      "0.5997487587485794\n"
     ]
    }
   ],
   "source": [
    "lgbm3 = LGBMClassifier(boosting_type = 'goss',\n",
    "                       learning_rate = 0.003,\n",
    "                       n_estimators = 3000,\n",
    "                       objective = 'binary',\n",
    "                       num_leaves = 50,\n",
    "                       max_depth = -1,\n",
    "                       is_unbalance = True,\n",
    "                       reg_lambda = 4,\n",
    "                       reg_alpha = 0,\n",
    "                       colsample_bytree = 0.9,\n",
    "                       min_split_gain = 0.0,\n",
    "                       )\n",
    "\n",
    "lgbm3.fit(X_train, y_train)\n",
    "y_pred04 = lgbm3.predict(X_train)\n",
    "y_pred14 = lgbm3.predict(X_test)\n",
    "print(f1_score(y_pred04, y_train))\n",
    "print(f1_score(y_pred14, y_test))"
   ]
  },
  {
   "cell_type": "code",
   "execution_count": 190,
   "id": "28e17950",
   "metadata": {},
   "outputs": [],
   "source": [
    "y_pred0 = []\n",
    "for i in range(len(y_pred01)):\n",
    "    y_pred0.append((2*y_pred01[i] + y_pred02[i] + y_pred03[i] + y_pred04[i])//3)\n",
    "y_pred0 = np.array(y_pred0)\n",
    "\n",
    "y_pred1 = []\n",
    "for i in range(len(y_pred11)):\n",
    "    y_pred1.append((2*y_pred11[i] + y_pred12[i] + y_pred13[i] + y_pred14[i])//3)\n",
    "y_pred1 = np.array(y_pred1)"
   ]
  },
  {
   "cell_type": "code",
   "execution_count": 191,
   "id": "1a822d3b",
   "metadata": {},
   "outputs": [
    {
     "data": {
      "text/plain": [
       "[0.670183043058203, 0.6016832806064585]"
      ]
     },
     "execution_count": 191,
     "metadata": {},
     "output_type": "execute_result"
    }
   ],
   "source": [
    "[f1_score(y_train, y_pred0), f1_score(y_test, y_pred1)]"
   ]
  },
  {
   "cell_type": "markdown",
   "id": "e5ce1856",
   "metadata": {},
   "source": [
    "## Generating the Output file"
   ]
  },
  {
   "cell_type": "code",
   "execution_count": 192,
   "id": "2764ac97",
   "metadata": {
    "scrolled": true
   },
   "outputs": [
    {
     "data": {
      "text/html": [
       "<div>\n",
       "<style scoped>\n",
       "    .dataframe tbody tr th:only-of-type {\n",
       "        vertical-align: middle;\n",
       "    }\n",
       "\n",
       "    .dataframe tbody tr th {\n",
       "        vertical-align: top;\n",
       "    }\n",
       "\n",
       "    .dataframe thead th {\n",
       "        text-align: right;\n",
       "    }\n",
       "</style>\n",
       "<table border=\"1\" class=\"dataframe\">\n",
       "  <thead>\n",
       "    <tr style=\"text-align: right;\">\n",
       "      <th></th>\n",
       "      <th>mvar1</th>\n",
       "      <th>mvar2</th>\n",
       "      <th>mvar3</th>\n",
       "      <th>mvar4</th>\n",
       "      <th>mvar5</th>\n",
       "      <th>mvar6</th>\n",
       "      <th>mvar7</th>\n",
       "      <th>mvar8</th>\n",
       "      <th>mvar9</th>\n",
       "      <th>mvar10</th>\n",
       "      <th>...</th>\n",
       "      <th>mvar42</th>\n",
       "      <th>mvar43</th>\n",
       "      <th>mvar44</th>\n",
       "      <th>mvar45</th>\n",
       "      <th>mvar46</th>\n",
       "      <th>mvar47</th>\n",
       "      <th>mvar48</th>\n",
       "      <th>mvar49</th>\n",
       "      <th>mvar50</th>\n",
       "      <th>mvar51</th>\n",
       "    </tr>\n",
       "    <tr>\n",
       "      <th>application_key</th>\n",
       "      <th></th>\n",
       "      <th></th>\n",
       "      <th></th>\n",
       "      <th></th>\n",
       "      <th></th>\n",
       "      <th></th>\n",
       "      <th></th>\n",
       "      <th></th>\n",
       "      <th></th>\n",
       "      <th></th>\n",
       "      <th></th>\n",
       "      <th></th>\n",
       "      <th></th>\n",
       "      <th></th>\n",
       "      <th></th>\n",
       "      <th></th>\n",
       "      <th></th>\n",
       "      <th></th>\n",
       "      <th></th>\n",
       "      <th></th>\n",
       "      <th></th>\n",
       "    </tr>\n",
       "  </thead>\n",
       "  <tbody>\n",
       "    <tr>\n",
       "      <th>578069</th>\n",
       "      <td>1719</td>\n",
       "      <td>0.6174</td>\n",
       "      <td>8.623</td>\n",
       "      <td>0.000</td>\n",
       "      <td>0.000</td>\n",
       "      <td>258</td>\n",
       "      <td>258</td>\n",
       "      <td>258</td>\n",
       "      <td>10729</td>\n",
       "      <td>307</td>\n",
       "      <td>...</td>\n",
       "      <td>0.54545</td>\n",
       "      <td>2</td>\n",
       "      <td>0.91837</td>\n",
       "      <td>0</td>\n",
       "      <td>0</td>\n",
       "      <td>C</td>\n",
       "      <td>3247</td>\n",
       "      <td>554</td>\n",
       "      <td>4</td>\n",
       "      <td>2216</td>\n",
       "    </tr>\n",
       "    <tr>\n",
       "      <th>578070</th>\n",
       "      <td>1795</td>\n",
       "      <td>0.2051</td>\n",
       "      <td>0.000</td>\n",
       "      <td>0.000</td>\n",
       "      <td>0.000</td>\n",
       "      <td>1685</td>\n",
       "      <td>12711</td>\n",
       "      <td>8913</td>\n",
       "      <td>80519</td>\n",
       "      <td>18099</td>\n",
       "      <td>...</td>\n",
       "      <td>0.17241</td>\n",
       "      <td>4</td>\n",
       "      <td>0.94563</td>\n",
       "      <td>0</td>\n",
       "      <td>0</td>\n",
       "      <td>C</td>\n",
       "      <td>18</td>\n",
       "      <td>554</td>\n",
       "      <td>4</td>\n",
       "      <td>2216</td>\n",
       "    </tr>\n",
       "    <tr>\n",
       "      <th>578071</th>\n",
       "      <td>1742</td>\n",
       "      <td>0.5082</td>\n",
       "      <td>0.000</td>\n",
       "      <td>0.000</td>\n",
       "      <td>0.000</td>\n",
       "      <td>1185</td>\n",
       "      <td>8954</td>\n",
       "      <td>8954</td>\n",
       "      <td>1189</td>\n",
       "      <td>1185</td>\n",
       "      <td>...</td>\n",
       "      <td>0.64706</td>\n",
       "      <td>1</td>\n",
       "      <td>0.97054</td>\n",
       "      <td>0</td>\n",
       "      <td>0</td>\n",
       "      <td>C</td>\n",
       "      <td>11</td>\n",
       "      <td>404</td>\n",
       "      <td>4</td>\n",
       "      <td>1616</td>\n",
       "    </tr>\n",
       "    <tr>\n",
       "      <th>578072</th>\n",
       "      <td>1685</td>\n",
       "      <td>0.2595</td>\n",
       "      <td>25.409</td>\n",
       "      <td>0.000</td>\n",
       "      <td>0.000</td>\n",
       "      <td>missing</td>\n",
       "      <td>3354</td>\n",
       "      <td>missing</td>\n",
       "      <td>missing</td>\n",
       "      <td>3354</td>\n",
       "      <td>...</td>\n",
       "      <td>0.85714</td>\n",
       "      <td>1</td>\n",
       "      <td>1.00000</td>\n",
       "      <td>na</td>\n",
       "      <td>0</td>\n",
       "      <td>C</td>\n",
       "      <td>32</td>\n",
       "      <td>528</td>\n",
       "      <td>4</td>\n",
       "      <td>2112</td>\n",
       "    </tr>\n",
       "    <tr>\n",
       "      <th>578073</th>\n",
       "      <td>1666</td>\n",
       "      <td>1.2678</td>\n",
       "      <td>0.000</td>\n",
       "      <td>0.000</td>\n",
       "      <td>0.000</td>\n",
       "      <td>570</td>\n",
       "      <td>570</td>\n",
       "      <td>570</td>\n",
       "      <td>missing</td>\n",
       "      <td>570</td>\n",
       "      <td>...</td>\n",
       "      <td>missing</td>\n",
       "      <td>0</td>\n",
       "      <td>0.99617</td>\n",
       "      <td>na</td>\n",
       "      <td>0</td>\n",
       "      <td>L</td>\n",
       "      <td>89</td>\n",
       "      <td>419</td>\n",
       "      <td>4</td>\n",
       "      <td>1676</td>\n",
       "    </tr>\n",
       "    <tr>\n",
       "      <th>...</th>\n",
       "      <td>...</td>\n",
       "      <td>...</td>\n",
       "      <td>...</td>\n",
       "      <td>...</td>\n",
       "      <td>...</td>\n",
       "      <td>...</td>\n",
       "      <td>...</td>\n",
       "      <td>...</td>\n",
       "      <td>...</td>\n",
       "      <td>...</td>\n",
       "      <td>...</td>\n",
       "      <td>...</td>\n",
       "      <td>...</td>\n",
       "      <td>...</td>\n",
       "      <td>...</td>\n",
       "      <td>...</td>\n",
       "      <td>...</td>\n",
       "      <td>...</td>\n",
       "      <td>...</td>\n",
       "      <td>...</td>\n",
       "      <td>...</td>\n",
       "    </tr>\n",
       "    <tr>\n",
       "      <th>310027</th>\n",
       "      <td>1736</td>\n",
       "      <td>2.1740</td>\n",
       "      <td>0.000</td>\n",
       "      <td>0.000</td>\n",
       "      <td>0.000</td>\n",
       "      <td>11</td>\n",
       "      <td>4248</td>\n",
       "      <td>1577</td>\n",
       "      <td>13379</td>\n",
       "      <td>6671</td>\n",
       "      <td>...</td>\n",
       "      <td>0</td>\n",
       "      <td>4</td>\n",
       "      <td>0.43829</td>\n",
       "      <td>na</td>\n",
       "      <td>0</td>\n",
       "      <td>C</td>\n",
       "      <td>19</td>\n",
       "      <td>383</td>\n",
       "      <td>4</td>\n",
       "      <td>1532</td>\n",
       "    </tr>\n",
       "    <tr>\n",
       "      <th>310028</th>\n",
       "      <td>1724</td>\n",
       "      <td>0.0000</td>\n",
       "      <td>1.108</td>\n",
       "      <td>0.768</td>\n",
       "      <td>0.000</td>\n",
       "      <td>missing</td>\n",
       "      <td>64041</td>\n",
       "      <td>missing</td>\n",
       "      <td>10926</td>\n",
       "      <td>84839</td>\n",
       "      <td>...</td>\n",
       "      <td>0.16667</td>\n",
       "      <td>14</td>\n",
       "      <td>0.57931</td>\n",
       "      <td>0</td>\n",
       "      <td>0</td>\n",
       "      <td>C</td>\n",
       "      <td>5</td>\n",
       "      <td>595</td>\n",
       "      <td>4</td>\n",
       "      <td>2380</td>\n",
       "    </tr>\n",
       "    <tr>\n",
       "      <th>310029</th>\n",
       "      <td>1605</td>\n",
       "      <td>0.2901</td>\n",
       "      <td>11.561</td>\n",
       "      <td>0.937</td>\n",
       "      <td>2.976</td>\n",
       "      <td>missing</td>\n",
       "      <td>2277</td>\n",
       "      <td>missing</td>\n",
       "      <td>3964</td>\n",
       "      <td>5709</td>\n",
       "      <td>...</td>\n",
       "      <td>0.5</td>\n",
       "      <td>4</td>\n",
       "      <td>0.42069</td>\n",
       "      <td>na</td>\n",
       "      <td>0</td>\n",
       "      <td>C</td>\n",
       "      <td>22</td>\n",
       "      <td>835</td>\n",
       "      <td>4</td>\n",
       "      <td>3340</td>\n",
       "    </tr>\n",
       "    <tr>\n",
       "      <th>310030</th>\n",
       "      <td>1780</td>\n",
       "      <td>1.1874</td>\n",
       "      <td>0.000</td>\n",
       "      <td>0.000</td>\n",
       "      <td>0.000</td>\n",
       "      <td>0</td>\n",
       "      <td>6356</td>\n",
       "      <td>4802</td>\n",
       "      <td>3206</td>\n",
       "      <td>18180</td>\n",
       "      <td>...</td>\n",
       "      <td>0.06061</td>\n",
       "      <td>9</td>\n",
       "      <td>0.53251</td>\n",
       "      <td>na</td>\n",
       "      <td>0</td>\n",
       "      <td>L</td>\n",
       "      <td>9</td>\n",
       "      <td>449</td>\n",
       "      <td>4</td>\n",
       "      <td>1796</td>\n",
       "    </tr>\n",
       "    <tr>\n",
       "      <th>310031</th>\n",
       "      <td>1727</td>\n",
       "      <td>1.9288</td>\n",
       "      <td>1.441</td>\n",
       "      <td>0.000</td>\n",
       "      <td>0.000</td>\n",
       "      <td>0</td>\n",
       "      <td>25773</td>\n",
       "      <td>2869</td>\n",
       "      <td>132985</td>\n",
       "      <td>71788</td>\n",
       "      <td>...</td>\n",
       "      <td>0.07143</td>\n",
       "      <td>12</td>\n",
       "      <td>0.68482</td>\n",
       "      <td>0</td>\n",
       "      <td>0</td>\n",
       "      <td>C</td>\n",
       "      <td>89</td>\n",
       "      <td>612</td>\n",
       "      <td>4</td>\n",
       "      <td>2448</td>\n",
       "    </tr>\n",
       "  </tbody>\n",
       "</table>\n",
       "<p>47000 rows × 51 columns</p>\n",
       "</div>"
      ],
      "text/plain": [
       "                mvar1   mvar2   mvar3  mvar4  mvar5    mvar6  mvar7    mvar8  \\\n",
       "application_key                                                                \n",
       "578069           1719  0.6174   8.623  0.000  0.000      258    258      258   \n",
       "578070           1795  0.2051   0.000  0.000  0.000     1685  12711     8913   \n",
       "578071           1742  0.5082   0.000  0.000  0.000     1185   8954     8954   \n",
       "578072           1685  0.2595  25.409  0.000  0.000  missing   3354  missing   \n",
       "578073           1666  1.2678   0.000  0.000  0.000      570    570      570   \n",
       "...               ...     ...     ...    ...    ...      ...    ...      ...   \n",
       "310027           1736  2.1740   0.000  0.000  0.000       11   4248     1577   \n",
       "310028           1724  0.0000   1.108  0.768  0.000  missing  64041  missing   \n",
       "310029           1605  0.2901  11.561  0.937  2.976  missing   2277  missing   \n",
       "310030           1780  1.1874   0.000  0.000  0.000        0   6356     4802   \n",
       "310031           1727  1.9288   1.441  0.000  0.000        0  25773     2869   \n",
       "\n",
       "                   mvar9 mvar10  ...   mvar42 mvar43   mvar44  mvar45 mvar46  \\\n",
       "application_key                  ...                                           \n",
       "578069             10729    307  ...  0.54545      2  0.91837       0      0   \n",
       "578070             80519  18099  ...  0.17241      4  0.94563       0      0   \n",
       "578071              1189   1185  ...  0.64706      1  0.97054       0      0   \n",
       "578072           missing   3354  ...  0.85714      1  1.00000      na      0   \n",
       "578073           missing    570  ...  missing      0  0.99617      na      0   \n",
       "...                  ...    ...  ...      ...    ...      ...     ...    ...   \n",
       "310027             13379   6671  ...        0      4  0.43829      na      0   \n",
       "310028             10926  84839  ...  0.16667     14  0.57931       0      0   \n",
       "310029              3964   5709  ...      0.5      4  0.42069      na      0   \n",
       "310030              3206  18180  ...  0.06061      9  0.53251      na      0   \n",
       "310031            132985  71788  ...  0.07143     12  0.68482       0      0   \n",
       "\n",
       "                mvar47 mvar48 mvar49 mvar50 mvar51  \n",
       "application_key                                     \n",
       "578069               C   3247    554      4   2216  \n",
       "578070               C     18    554      4   2216  \n",
       "578071               C     11    404      4   1616  \n",
       "578072               C     32    528      4   2112  \n",
       "578073               L     89    419      4   1676  \n",
       "...                ...    ...    ...    ...    ...  \n",
       "310027               C     19    383      4   1532  \n",
       "310028               C      5    595      4   2380  \n",
       "310029               C     22    835      4   3340  \n",
       "310030               L      9    449      4   1796  \n",
       "310031               C     89    612      4   2448  \n",
       "\n",
       "[47000 rows x 51 columns]"
      ]
     },
     "execution_count": 192,
     "metadata": {},
     "output_type": "execute_result"
    }
   ],
   "source": [
    "df_test = pd.read_csv('TestX.csv', index_col = 'application_key',low_memory = False)\n",
    "df_test"
   ]
  },
  {
   "cell_type": "code",
   "execution_count": 193,
   "id": "87b5b02f",
   "metadata": {},
   "outputs": [
    {
     "name": "stdout",
     "output_type": "stream",
     "text": [
      "0 []\n",
      "1 []\n",
      "2 []\n",
      "3 []\n",
      "4 []\n",
      "5 []\n",
      "6 []\n",
      "7 []\n",
      "8 []\n",
      "9 []\n",
      "10 []\n",
      "11 []\n",
      "12 []\n",
      "13 []\n",
      "14 []\n",
      "15 []\n",
      "16 []\n",
      "17 []\n",
      "18 []\n",
      "19 []\n",
      "20 []\n",
      "21 []\n",
      "22 []\n",
      "23 []\n",
      "24 []\n",
      "25 []\n",
      "26 []\n",
      "27 []\n",
      "28 []\n",
      "29 []\n",
      "30 []\n",
      "31 []\n",
      "32 []\n",
      "33 []\n",
      "34 []\n",
      "35 []\n",
      "36 []\n",
      "37 []\n",
      "38 []\n",
      "39 []\n",
      "40 []\n",
      "41 []\n",
      "42 []\n",
      "43 []\n",
      "44 []\n",
      "45 []\n",
      "46 []\n",
      "47 []\n",
      "48 []\n",
      "49 []\n",
      "50 []\n"
     ]
    }
   ],
   "source": [
    "for i in range(51):\n",
    "    lol = ['na', 'missing', '#VALUE!']\n",
    "    for el in lol:\n",
    "        df_test = df_test.replace(el, np.NaN)\n",
    "    lol = get_non_numeric(list(df_test.iloc[:, i].unique()))\n",
    "\n",
    "df_test = pd.get_dummies(df_test, columns = ['mvar47'], prefix = ['type'])\n",
    "for i in range(51):\n",
    "    lol = get_non_numeric(list(df_test.iloc[:, i].unique()))\n",
    "    print(i,lol)"
   ]
  },
  {
   "cell_type": "code",
   "execution_count": 194,
   "id": "82cebc58",
   "metadata": {},
   "outputs": [
    {
     "name": "stdout",
     "output_type": "stream",
     "text": [
      "<class 'pandas.core.frame.DataFrame'>\n",
      "Int64Index: 47000 entries, 578069 to 310031\n",
      "Data columns (total 52 columns):\n",
      " #   Column  Non-Null Count  Dtype  \n",
      "---  ------  --------------  -----  \n",
      " 0   mvar1   44772 non-null  object \n",
      " 1   mvar2   43673 non-null  float64\n",
      " 2   mvar3   46706 non-null  float64\n",
      " 3   mvar4   46706 non-null  float64\n",
      " 4   mvar5   46706 non-null  float64\n",
      " 5   mvar6   35703 non-null  object \n",
      " 6   mvar7   42521 non-null  object \n",
      " 7   mvar8   35698 non-null  object \n",
      " 8   mvar9   40188 non-null  object \n",
      " 9   mvar10  46705 non-null  object \n",
      " 10  mvar11  20482 non-null  object \n",
      " 11  mvar12  38603 non-null  object \n",
      " 12  mvar13  41193 non-null  object \n",
      " 13  mvar14  47000 non-null  int64  \n",
      " 14  mvar15  28164 non-null  object \n",
      " 15  mvar16  35967 non-null  object \n",
      " 16  mvar17  37568 non-null  object \n",
      " 17  mvar18  38215 non-null  object \n",
      " 18  mvar19  46993 non-null  object \n",
      " 19  mvar20  46705 non-null  object \n",
      " 20  mvar21  33620 non-null  float64\n",
      " 21  mvar22  29632 non-null  float64\n",
      " 22  mvar23  23023 non-null  float64\n",
      " 23  mvar24  35734 non-null  float64\n",
      " 24  mvar25  42402 non-null  object \n",
      " 25  mvar26  40565 non-null  object \n",
      " 26  mvar27  39049 non-null  object \n",
      " 27  mvar28  46705 non-null  object \n",
      " 28  mvar29  46705 non-null  object \n",
      " 29  mvar30  25525 non-null  object \n",
      " 30  mvar31  13857 non-null  object \n",
      " 31  mvar32  42402 non-null  object \n",
      " 32  mvar33  45963 non-null  float64\n",
      " 33  mvar34  46705 non-null  object \n",
      " 34  mvar35  27235 non-null  object \n",
      " 35  mvar36  45270 non-null  object \n",
      " 36  mvar37  42402 non-null  object \n",
      " 37  mvar38  46705 non-null  object \n",
      " 38  mvar39  43372 non-null  object \n",
      " 39  mvar40  10099 non-null  object \n",
      " 40  mvar41  14742 non-null  object \n",
      " 41  mvar42  45833 non-null  object \n",
      " 42  mvar43  46506 non-null  object \n",
      " 43  mvar44  42317 non-null  float64\n",
      " 44  mvar45  20966 non-null  object \n",
      " 45  mvar46  33433 non-null  object \n",
      " 46  mvar48  47000 non-null  int64  \n",
      " 47  mvar49  47000 non-null  int64  \n",
      " 48  mvar50  44772 non-null  object \n",
      " 49  mvar51  44772 non-null  object \n",
      " 50  type_C  47000 non-null  uint8  \n",
      " 51  type_L  47000 non-null  uint8  \n",
      "dtypes: float64(10), int64(3), object(37), uint8(2)\n",
      "memory usage: 18.4+ MB\n"
     ]
    }
   ],
   "source": [
    "df_test.info()"
   ]
  },
  {
   "cell_type": "code",
   "execution_count": 195,
   "id": "44a7893a",
   "metadata": {},
   "outputs": [
    {
     "name": "stdout",
     "output_type": "stream",
     "text": [
      "<class 'pandas.core.frame.DataFrame'>\n",
      "Int64Index: 47000 entries, 578069 to 310031\n",
      "Data columns (total 52 columns):\n",
      " #   Column  Non-Null Count  Dtype  \n",
      "---  ------  --------------  -----  \n",
      " 0   mvar1   44772 non-null  object \n",
      " 1   mvar2   43673 non-null  float64\n",
      " 2   mvar3   46706 non-null  float64\n",
      " 3   mvar4   46706 non-null  float64\n",
      " 4   mvar5   46706 non-null  float64\n",
      " 5   mvar6   35703 non-null  object \n",
      " 6   mvar7   42521 non-null  object \n",
      " 7   mvar8   35698 non-null  object \n",
      " 8   mvar9   40188 non-null  object \n",
      " 9   mvar10  46705 non-null  object \n",
      " 10  mvar11  20482 non-null  object \n",
      " 11  mvar12  38603 non-null  object \n",
      " 12  mvar13  41193 non-null  object \n",
      " 13  mvar14  47000 non-null  int64  \n",
      " 14  mvar15  28164 non-null  object \n",
      " 15  mvar16  35967 non-null  object \n",
      " 16  mvar17  37568 non-null  object \n",
      " 17  mvar18  38215 non-null  object \n",
      " 18  mvar19  46993 non-null  object \n",
      " 19  mvar20  46705 non-null  object \n",
      " 20  mvar21  33620 non-null  float64\n",
      " 21  mvar22  29632 non-null  float64\n",
      " 22  mvar23  23023 non-null  float64\n",
      " 23  mvar24  35734 non-null  float64\n",
      " 24  mvar25  42402 non-null  object \n",
      " 25  mvar26  40565 non-null  object \n",
      " 26  mvar27  39049 non-null  object \n",
      " 27  mvar28  46705 non-null  object \n",
      " 28  mvar29  46705 non-null  object \n",
      " 29  mvar30  25525 non-null  object \n",
      " 30  mvar31  13857 non-null  object \n",
      " 31  mvar32  42402 non-null  object \n",
      " 32  mvar33  45963 non-null  float64\n",
      " 33  mvar34  46705 non-null  object \n",
      " 34  mvar35  27235 non-null  object \n",
      " 35  mvar36  45270 non-null  object \n",
      " 36  mvar37  42402 non-null  object \n",
      " 37  mvar38  46705 non-null  object \n",
      " 38  mvar39  43372 non-null  object \n",
      " 39  mvar40  10099 non-null  object \n",
      " 40  mvar41  14742 non-null  object \n",
      " 41  mvar42  45833 non-null  object \n",
      " 42  mvar43  46506 non-null  object \n",
      " 43  mvar44  42317 non-null  float64\n",
      " 44  mvar45  20966 non-null  object \n",
      " 45  mvar46  33433 non-null  object \n",
      " 46  mvar48  47000 non-null  int64  \n",
      " 47  mvar49  47000 non-null  int64  \n",
      " 48  mvar50  44772 non-null  object \n",
      " 49  mvar51  44772 non-null  object \n",
      " 50  type_C  47000 non-null  uint8  \n",
      " 51  type_L  47000 non-null  uint8  \n",
      "dtypes: float64(10), int64(3), object(37), uint8(2)\n",
      "memory usage: 18.4+ MB\n"
     ]
    }
   ],
   "source": [
    "df_test_imputed = df_test\n",
    "df_test_imputed = pd.DataFrame(df_test_imputed, columns = df_test.columns)\n",
    "df_test_imputed.info()"
   ]
  },
  {
   "cell_type": "code",
   "execution_count": 196,
   "id": "8822b943",
   "metadata": {},
   "outputs": [],
   "source": [
    "non_label_cols = list(df_test_imputed.columns)\n",
    "test = np.array(df_test_imputed[non_label_cols])"
   ]
  },
  {
   "cell_type": "code",
   "execution_count": 197,
   "id": "2d80fd04",
   "metadata": {},
   "outputs": [
    {
     "data": {
      "text/plain": [
       "array([['1719', 0.6174, 8.623, ..., '2216', 1, 0],\n",
       "       ['1795', 0.2051, 0.0, ..., '2216', 1, 0],\n",
       "       ['1742', 0.5082, 0.0, ..., '1616', 1, 0],\n",
       "       ...,\n",
       "       ['1605', 0.2901, 11.561, ..., '3340', 1, 0],\n",
       "       ['1780', 1.1874, 0.0, ..., '1796', 0, 1],\n",
       "       ['1727', 1.9288, 1.441, ..., '2448', 1, 0]], dtype=object)"
      ]
     },
     "execution_count": 197,
     "metadata": {},
     "output_type": "execute_result"
    }
   ],
   "source": [
    "test"
   ]
  },
  {
   "cell_type": "code",
   "execution_count": 198,
   "id": "50db7679",
   "metadata": {},
   "outputs": [
    {
     "data": {
      "text/plain": [
       "LGBMClassifier(boosting_type='goss', colsample_bytree=0.9, is_unbalance=True,\n",
       "               learning_rate=0.003, n_estimators=3000, num_leaves=50,\n",
       "               objective='binary', reg_alpha=0, reg_lambda=4)"
      ]
     },
     "execution_count": 198,
     "metadata": {},
     "output_type": "execute_result"
    }
   ],
   "source": [
    "xgb1.fit(X, y)\n",
    "lgbm1.fit(X, y)\n",
    "lgbm2.fit(X, y)\n",
    "lgbm3.fit(X, y)"
   ]
  },
  {
   "cell_type": "code",
   "execution_count": 199,
   "id": "8358cfcb",
   "metadata": {},
   "outputs": [],
   "source": [
    "pred1 = xgb1.predict(test)\n",
    "pred2 = lgbm1.predict(test)\n",
    "pred3 = lgbm2.predict(test)\n",
    "pred4 = lgbm3.predict(test)"
   ]
  },
  {
   "cell_type": "code",
   "execution_count": 200,
   "id": "0b983d3d",
   "metadata": {},
   "outputs": [],
   "source": [
    "preds = []\n",
    "for i in range(len(pred2)):\n",
    "    preds.append((2*pred1[i] + pred2[i] + pred3[i] + pred4[i])//3)\n",
    "preds = np.array(preds)"
   ]
  },
  {
   "cell_type": "code",
   "execution_count": 201,
   "id": "2a519b96",
   "metadata": {},
   "outputs": [],
   "source": [
    "column = pd.DataFrame(df_test.index)['application_key']"
   ]
  },
  {
   "cell_type": "code",
   "execution_count": 202,
   "id": "16640b74",
   "metadata": {},
   "outputs": [],
   "source": [
    "Y_pred_df = pd.DataFrame(preds, columns = ['Predicted'])\n",
    "Y_pred_df.insert(0, 'Application key', column)\n",
    "Y_pred_df.to_csv('winners_pothumukku_17.csv', header=False, index=False)"
   ]
  },
  {
   "cell_type": "code",
   "execution_count": 203,
   "id": "89f4102e",
   "metadata": {},
   "outputs": [
    {
     "data": {
      "text/plain": [
       "array([0, 0, 0, ..., 1, 0, 1], dtype=int64)"
      ]
     },
     "execution_count": 203,
     "metadata": {},
     "output_type": "execute_result"
    }
   ],
   "source": [
    "preds"
   ]
  },
  {
   "cell_type": "code",
   "execution_count": null,
   "id": "2cd54fac",
   "metadata": {},
   "outputs": [],
   "source": []
  },
  {
   "cell_type": "markdown",
   "id": "9d3969ed",
   "metadata": {},
   "source": [
    "#### Tuning XGBoost"
   ]
  },
  {
   "cell_type": "code",
   "execution_count": 146,
   "id": "c9a11f86",
   "metadata": {},
   "outputs": [
    {
     "name": "stderr",
     "output_type": "stream",
     "text": [
      "C:\\Users\\Vishnu\\anaconda3\\lib\\site-packages\\xgboost\\sklearn.py:861: UserWarning: `eval_metric` in `fit` method is deprecated for better compatibility with scikit-learn, use `eval_metric` in constructor or`set_params` instead.\n",
      "  warnings.warn(\n"
     ]
    },
    {
     "ename": "TypeError",
     "evalue": "Expected sequence or array-like, got <class 'xgboost.core.DMatrix'>",
     "output_type": "error",
     "traceback": [
      "\u001b[1;31m---------------------------------------------------------------------------\u001b[0m",
      "\u001b[1;31mTypeError\u001b[0m                                 Traceback (most recent call last)",
      "\u001b[1;32m<timed eval>\u001b[0m in \u001b[0;36m<module>\u001b[1;34m\u001b[0m\n",
      "\u001b[1;32m~\\anaconda3\\lib\\site-packages\\xgboost\\core.py\u001b[0m in \u001b[0;36minner_f\u001b[1;34m(*args, **kwargs)\u001b[0m\n\u001b[0;32m    618\u001b[0m             \u001b[1;32mfor\u001b[0m \u001b[0mk\u001b[0m\u001b[1;33m,\u001b[0m \u001b[0marg\u001b[0m \u001b[1;32min\u001b[0m \u001b[0mzip\u001b[0m\u001b[1;33m(\u001b[0m\u001b[0msig\u001b[0m\u001b[1;33m.\u001b[0m\u001b[0mparameters\u001b[0m\u001b[1;33m,\u001b[0m \u001b[0margs\u001b[0m\u001b[1;33m)\u001b[0m\u001b[1;33m:\u001b[0m\u001b[1;33m\u001b[0m\u001b[1;33m\u001b[0m\u001b[0m\n\u001b[0;32m    619\u001b[0m                 \u001b[0mkwargs\u001b[0m\u001b[1;33m[\u001b[0m\u001b[0mk\u001b[0m\u001b[1;33m]\u001b[0m \u001b[1;33m=\u001b[0m \u001b[0marg\u001b[0m\u001b[1;33m\u001b[0m\u001b[1;33m\u001b[0m\u001b[0m\n\u001b[1;32m--> 620\u001b[1;33m             \u001b[1;32mreturn\u001b[0m \u001b[0mfunc\u001b[0m\u001b[1;33m(\u001b[0m\u001b[1;33m**\u001b[0m\u001b[0mkwargs\u001b[0m\u001b[1;33m)\u001b[0m\u001b[1;33m\u001b[0m\u001b[1;33m\u001b[0m\u001b[0m\n\u001b[0m\u001b[0;32m    621\u001b[0m \u001b[1;33m\u001b[0m\u001b[0m\n\u001b[0;32m    622\u001b[0m         \u001b[1;32mreturn\u001b[0m \u001b[0minner_f\u001b[0m\u001b[1;33m\u001b[0m\u001b[1;33m\u001b[0m\u001b[0m\n",
      "\u001b[1;32m~\\anaconda3\\lib\\site-packages\\xgboost\\sklearn.py\u001b[0m in \u001b[0;36mfit\u001b[1;34m(self, X, y, sample_weight, base_margin, eval_set, eval_metric, early_stopping_rounds, verbose, xgb_model, sample_weight_eval_set, base_margin_eval_set, feature_weights, callbacks)\u001b[0m\n\u001b[0;32m   1514\u001b[0m             )\n\u001b[0;32m   1515\u001b[0m \u001b[1;33m\u001b[0m\u001b[0m\n\u001b[1;32m-> 1516\u001b[1;33m             self._Booster = train(\n\u001b[0m\u001b[0;32m   1517\u001b[0m                 \u001b[0mparams\u001b[0m\u001b[1;33m,\u001b[0m\u001b[1;33m\u001b[0m\u001b[1;33m\u001b[0m\u001b[0m\n\u001b[0;32m   1518\u001b[0m                 \u001b[0mtrain_dmatrix\u001b[0m\u001b[1;33m,\u001b[0m\u001b[1;33m\u001b[0m\u001b[1;33m\u001b[0m\u001b[0m\n",
      "\u001b[1;32m~\\anaconda3\\lib\\site-packages\\xgboost\\core.py\u001b[0m in \u001b[0;36minner_f\u001b[1;34m(*args, **kwargs)\u001b[0m\n\u001b[0;32m    618\u001b[0m             \u001b[1;32mfor\u001b[0m \u001b[0mk\u001b[0m\u001b[1;33m,\u001b[0m \u001b[0marg\u001b[0m \u001b[1;32min\u001b[0m \u001b[0mzip\u001b[0m\u001b[1;33m(\u001b[0m\u001b[0msig\u001b[0m\u001b[1;33m.\u001b[0m\u001b[0mparameters\u001b[0m\u001b[1;33m,\u001b[0m \u001b[0margs\u001b[0m\u001b[1;33m)\u001b[0m\u001b[1;33m:\u001b[0m\u001b[1;33m\u001b[0m\u001b[1;33m\u001b[0m\u001b[0m\n\u001b[0;32m    619\u001b[0m                 \u001b[0mkwargs\u001b[0m\u001b[1;33m[\u001b[0m\u001b[0mk\u001b[0m\u001b[1;33m]\u001b[0m \u001b[1;33m=\u001b[0m \u001b[0marg\u001b[0m\u001b[1;33m\u001b[0m\u001b[1;33m\u001b[0m\u001b[0m\n\u001b[1;32m--> 620\u001b[1;33m             \u001b[1;32mreturn\u001b[0m \u001b[0mfunc\u001b[0m\u001b[1;33m(\u001b[0m\u001b[1;33m**\u001b[0m\u001b[0mkwargs\u001b[0m\u001b[1;33m)\u001b[0m\u001b[1;33m\u001b[0m\u001b[1;33m\u001b[0m\u001b[0m\n\u001b[0m\u001b[0;32m    621\u001b[0m \u001b[1;33m\u001b[0m\u001b[0m\n\u001b[0;32m    622\u001b[0m         \u001b[1;32mreturn\u001b[0m \u001b[0minner_f\u001b[0m\u001b[1;33m\u001b[0m\u001b[1;33m\u001b[0m\u001b[0m\n",
      "\u001b[1;32m~\\anaconda3\\lib\\site-packages\\xgboost\\training.py\u001b[0m in \u001b[0;36mtrain\u001b[1;34m(params, dtrain, num_boost_round, evals, obj, feval, maximize, early_stopping_rounds, evals_result, verbose_eval, xgb_model, callbacks, custom_metric)\u001b[0m\n\u001b[0;32m    184\u001b[0m             \u001b[1;32mbreak\u001b[0m\u001b[1;33m\u001b[0m\u001b[1;33m\u001b[0m\u001b[0m\n\u001b[0;32m    185\u001b[0m         \u001b[0mbst\u001b[0m\u001b[1;33m.\u001b[0m\u001b[0mupdate\u001b[0m\u001b[1;33m(\u001b[0m\u001b[0mdtrain\u001b[0m\u001b[1;33m,\u001b[0m \u001b[0mi\u001b[0m\u001b[1;33m,\u001b[0m \u001b[0mobj\u001b[0m\u001b[1;33m)\u001b[0m\u001b[1;33m\u001b[0m\u001b[1;33m\u001b[0m\u001b[0m\n\u001b[1;32m--> 186\u001b[1;33m         \u001b[1;32mif\u001b[0m \u001b[0mcb_container\u001b[0m\u001b[1;33m.\u001b[0m\u001b[0mafter_iteration\u001b[0m\u001b[1;33m(\u001b[0m\u001b[0mbst\u001b[0m\u001b[1;33m,\u001b[0m \u001b[0mi\u001b[0m\u001b[1;33m,\u001b[0m \u001b[0mdtrain\u001b[0m\u001b[1;33m,\u001b[0m \u001b[0mevals\u001b[0m\u001b[1;33m)\u001b[0m\u001b[1;33m:\u001b[0m\u001b[1;33m\u001b[0m\u001b[1;33m\u001b[0m\u001b[0m\n\u001b[0m\u001b[0;32m    187\u001b[0m             \u001b[1;32mbreak\u001b[0m\u001b[1;33m\u001b[0m\u001b[1;33m\u001b[0m\u001b[0m\n\u001b[0;32m    188\u001b[0m \u001b[1;33m\u001b[0m\u001b[0m\n",
      "\u001b[1;32m~\\anaconda3\\lib\\site-packages\\xgboost\\callback.py\u001b[0m in \u001b[0;36mafter_iteration\u001b[1;34m(self, model, epoch, dtrain, evals)\u001b[0m\n\u001b[0;32m    238\u001b[0m             \u001b[1;32mfor\u001b[0m \u001b[0m_\u001b[0m\u001b[1;33m,\u001b[0m \u001b[0mname\u001b[0m \u001b[1;32min\u001b[0m \u001b[0mevals\u001b[0m\u001b[1;33m:\u001b[0m\u001b[1;33m\u001b[0m\u001b[1;33m\u001b[0m\u001b[0m\n\u001b[0;32m    239\u001b[0m                 \u001b[1;32massert\u001b[0m \u001b[0mname\u001b[0m\u001b[1;33m.\u001b[0m\u001b[0mfind\u001b[0m\u001b[1;33m(\u001b[0m\u001b[1;34m'-'\u001b[0m\u001b[1;33m)\u001b[0m \u001b[1;33m==\u001b[0m \u001b[1;33m-\u001b[0m\u001b[1;36m1\u001b[0m\u001b[1;33m,\u001b[0m \u001b[1;34m'Dataset name should not contain `-`'\u001b[0m\u001b[1;33m\u001b[0m\u001b[1;33m\u001b[0m\u001b[0m\n\u001b[1;32m--> 240\u001b[1;33m             \u001b[0mscore\u001b[0m\u001b[1;33m:\u001b[0m \u001b[0mstr\u001b[0m \u001b[1;33m=\u001b[0m \u001b[0mmodel\u001b[0m\u001b[1;33m.\u001b[0m\u001b[0meval_set\u001b[0m\u001b[1;33m(\u001b[0m\u001b[0mevals\u001b[0m\u001b[1;33m,\u001b[0m \u001b[0mepoch\u001b[0m\u001b[1;33m,\u001b[0m \u001b[0mself\u001b[0m\u001b[1;33m.\u001b[0m\u001b[0mmetric\u001b[0m\u001b[1;33m,\u001b[0m \u001b[0mself\u001b[0m\u001b[1;33m.\u001b[0m\u001b[0m_output_margin\u001b[0m\u001b[1;33m)\u001b[0m\u001b[1;33m\u001b[0m\u001b[1;33m\u001b[0m\u001b[0m\n\u001b[0m\u001b[0;32m    241\u001b[0m             \u001b[0msplited\u001b[0m \u001b[1;33m=\u001b[0m \u001b[0mscore\u001b[0m\u001b[1;33m.\u001b[0m\u001b[0msplit\u001b[0m\u001b[1;33m(\u001b[0m\u001b[1;33m)\u001b[0m\u001b[1;33m[\u001b[0m\u001b[1;36m1\u001b[0m\u001b[1;33m:\u001b[0m\u001b[1;33m]\u001b[0m  \u001b[1;31m# into datasets\u001b[0m\u001b[1;33m\u001b[0m\u001b[1;33m\u001b[0m\u001b[0m\n\u001b[0;32m    242\u001b[0m             \u001b[1;31m# split up `test-error:0.1234`\u001b[0m\u001b[1;33m\u001b[0m\u001b[1;33m\u001b[0m\u001b[1;33m\u001b[0m\u001b[0m\n",
      "\u001b[1;32m~\\anaconda3\\lib\\site-packages\\xgboost\\core.py\u001b[0m in \u001b[0;36meval_set\u001b[1;34m(self, evals, iteration, feval, output_margin)\u001b[0m\n\u001b[0;32m   2000\u001b[0m         \u001b[1;32mif\u001b[0m \u001b[0mfeval\u001b[0m \u001b[1;32mis\u001b[0m \u001b[1;32mnot\u001b[0m \u001b[1;32mNone\u001b[0m\u001b[1;33m:\u001b[0m\u001b[1;33m\u001b[0m\u001b[1;33m\u001b[0m\u001b[0m\n\u001b[0;32m   2001\u001b[0m             \u001b[1;32mfor\u001b[0m \u001b[0mdmat\u001b[0m\u001b[1;33m,\u001b[0m \u001b[0mevname\u001b[0m \u001b[1;32min\u001b[0m \u001b[0mevals\u001b[0m\u001b[1;33m:\u001b[0m\u001b[1;33m\u001b[0m\u001b[1;33m\u001b[0m\u001b[0m\n\u001b[1;32m-> 2002\u001b[1;33m                 feval_ret = feval(\n\u001b[0m\u001b[0;32m   2003\u001b[0m                     \u001b[0mself\u001b[0m\u001b[1;33m.\u001b[0m\u001b[0mpredict\u001b[0m\u001b[1;33m(\u001b[0m\u001b[0mdmat\u001b[0m\u001b[1;33m,\u001b[0m \u001b[0mtraining\u001b[0m\u001b[1;33m=\u001b[0m\u001b[1;32mFalse\u001b[0m\u001b[1;33m,\u001b[0m \u001b[0moutput_margin\u001b[0m\u001b[1;33m=\u001b[0m\u001b[0moutput_margin\u001b[0m\u001b[1;33m)\u001b[0m\u001b[1;33m,\u001b[0m \u001b[0mdmat\u001b[0m\u001b[1;33m\u001b[0m\u001b[1;33m\u001b[0m\u001b[0m\n\u001b[0;32m   2004\u001b[0m                 )\n",
      "\u001b[1;32m~\\anaconda3\\lib\\site-packages\\sklearn\\metrics\\_classification.py\u001b[0m in \u001b[0;36mf1_score\u001b[1;34m(y_true, y_pred, labels, pos_label, average, sample_weight, zero_division)\u001b[0m\n\u001b[0;32m   1111\u001b[0m     \u001b[0mmodified\u001b[0m \u001b[1;32mwith\u001b[0m\u001b[0;31m \u001b[0m\u001b[0;31m`\u001b[0m\u001b[0;31m`\u001b[0m\u001b[0mzero_division\u001b[0m\u001b[0;31m`\u001b[0m\u001b[0;31m`\u001b[0m\u001b[1;33m.\u001b[0m\u001b[1;33m\u001b[0m\u001b[1;33m\u001b[0m\u001b[0m\n\u001b[0;32m   1112\u001b[0m     \"\"\"\n\u001b[1;32m-> 1113\u001b[1;33m     return fbeta_score(\n\u001b[0m\u001b[0;32m   1114\u001b[0m         \u001b[0my_true\u001b[0m\u001b[1;33m,\u001b[0m\u001b[1;33m\u001b[0m\u001b[1;33m\u001b[0m\u001b[0m\n\u001b[0;32m   1115\u001b[0m         \u001b[0my_pred\u001b[0m\u001b[1;33m,\u001b[0m\u001b[1;33m\u001b[0m\u001b[1;33m\u001b[0m\u001b[0m\n",
      "\u001b[1;32m~\\anaconda3\\lib\\site-packages\\sklearn\\metrics\\_classification.py\u001b[0m in \u001b[0;36mfbeta_score\u001b[1;34m(y_true, y_pred, beta, labels, pos_label, average, sample_weight, zero_division)\u001b[0m\n\u001b[0;32m   1249\u001b[0m     \"\"\"\n\u001b[0;32m   1250\u001b[0m \u001b[1;33m\u001b[0m\u001b[0m\n\u001b[1;32m-> 1251\u001b[1;33m     _, _, f, _ = precision_recall_fscore_support(\n\u001b[0m\u001b[0;32m   1252\u001b[0m         \u001b[0my_true\u001b[0m\u001b[1;33m,\u001b[0m\u001b[1;33m\u001b[0m\u001b[1;33m\u001b[0m\u001b[0m\n\u001b[0;32m   1253\u001b[0m         \u001b[0my_pred\u001b[0m\u001b[1;33m,\u001b[0m\u001b[1;33m\u001b[0m\u001b[1;33m\u001b[0m\u001b[0m\n",
      "\u001b[1;32m~\\anaconda3\\lib\\site-packages\\sklearn\\metrics\\_classification.py\u001b[0m in \u001b[0;36mprecision_recall_fscore_support\u001b[1;34m(y_true, y_pred, beta, labels, pos_label, average, warn_for, sample_weight, zero_division)\u001b[0m\n\u001b[0;32m   1532\u001b[0m     \u001b[1;32mif\u001b[0m \u001b[0mbeta\u001b[0m \u001b[1;33m<\u001b[0m \u001b[1;36m0\u001b[0m\u001b[1;33m:\u001b[0m\u001b[1;33m\u001b[0m\u001b[1;33m\u001b[0m\u001b[0m\n\u001b[0;32m   1533\u001b[0m         \u001b[1;32mraise\u001b[0m \u001b[0mValueError\u001b[0m\u001b[1;33m(\u001b[0m\u001b[1;34m\"beta should be >=0 in the F-beta score\"\u001b[0m\u001b[1;33m)\u001b[0m\u001b[1;33m\u001b[0m\u001b[1;33m\u001b[0m\u001b[0m\n\u001b[1;32m-> 1534\u001b[1;33m     \u001b[0mlabels\u001b[0m \u001b[1;33m=\u001b[0m \u001b[0m_check_set_wise_labels\u001b[0m\u001b[1;33m(\u001b[0m\u001b[0my_true\u001b[0m\u001b[1;33m,\u001b[0m \u001b[0my_pred\u001b[0m\u001b[1;33m,\u001b[0m \u001b[0maverage\u001b[0m\u001b[1;33m,\u001b[0m \u001b[0mlabels\u001b[0m\u001b[1;33m,\u001b[0m \u001b[0mpos_label\u001b[0m\u001b[1;33m)\u001b[0m\u001b[1;33m\u001b[0m\u001b[1;33m\u001b[0m\u001b[0m\n\u001b[0m\u001b[0;32m   1535\u001b[0m \u001b[1;33m\u001b[0m\u001b[0m\n\u001b[0;32m   1536\u001b[0m     \u001b[1;31m# Calculate tp_sum, pred_sum, true_sum ###\u001b[0m\u001b[1;33m\u001b[0m\u001b[1;33m\u001b[0m\u001b[1;33m\u001b[0m\u001b[0m\n",
      "\u001b[1;32m~\\anaconda3\\lib\\site-packages\\sklearn\\metrics\\_classification.py\u001b[0m in \u001b[0;36m_check_set_wise_labels\u001b[1;34m(y_true, y_pred, average, labels, pos_label)\u001b[0m\n\u001b[0;32m   1336\u001b[0m         \u001b[1;32mraise\u001b[0m \u001b[0mValueError\u001b[0m\u001b[1;33m(\u001b[0m\u001b[1;34m\"average has to be one of \"\u001b[0m \u001b[1;33m+\u001b[0m \u001b[0mstr\u001b[0m\u001b[1;33m(\u001b[0m\u001b[0maverage_options\u001b[0m\u001b[1;33m)\u001b[0m\u001b[1;33m)\u001b[0m\u001b[1;33m\u001b[0m\u001b[1;33m\u001b[0m\u001b[0m\n\u001b[0;32m   1337\u001b[0m \u001b[1;33m\u001b[0m\u001b[0m\n\u001b[1;32m-> 1338\u001b[1;33m     \u001b[0my_type\u001b[0m\u001b[1;33m,\u001b[0m \u001b[0my_true\u001b[0m\u001b[1;33m,\u001b[0m \u001b[0my_pred\u001b[0m \u001b[1;33m=\u001b[0m \u001b[0m_check_targets\u001b[0m\u001b[1;33m(\u001b[0m\u001b[0my_true\u001b[0m\u001b[1;33m,\u001b[0m \u001b[0my_pred\u001b[0m\u001b[1;33m)\u001b[0m\u001b[1;33m\u001b[0m\u001b[1;33m\u001b[0m\u001b[0m\n\u001b[0m\u001b[0;32m   1339\u001b[0m     \u001b[1;31m# Convert to Python primitive type to avoid NumPy type / Python str\u001b[0m\u001b[1;33m\u001b[0m\u001b[1;33m\u001b[0m\u001b[1;33m\u001b[0m\u001b[0m\n\u001b[0;32m   1340\u001b[0m     \u001b[1;31m# comparison. See https://github.com/numpy/numpy/issues/6784\u001b[0m\u001b[1;33m\u001b[0m\u001b[1;33m\u001b[0m\u001b[1;33m\u001b[0m\u001b[0m\n",
      "\u001b[1;32m~\\anaconda3\\lib\\site-packages\\sklearn\\metrics\\_classification.py\u001b[0m in \u001b[0;36m_check_targets\u001b[1;34m(y_true, y_pred)\u001b[0m\n\u001b[0;32m     82\u001b[0m     \u001b[0my_pred\u001b[0m \u001b[1;33m:\u001b[0m \u001b[0marray\u001b[0m \u001b[1;32mor\u001b[0m \u001b[0mindicator\u001b[0m \u001b[0mmatrix\u001b[0m\u001b[1;33m\u001b[0m\u001b[1;33m\u001b[0m\u001b[0m\n\u001b[0;32m     83\u001b[0m     \"\"\"\n\u001b[1;32m---> 84\u001b[1;33m     \u001b[0mcheck_consistent_length\u001b[0m\u001b[1;33m(\u001b[0m\u001b[0my_true\u001b[0m\u001b[1;33m,\u001b[0m \u001b[0my_pred\u001b[0m\u001b[1;33m)\u001b[0m\u001b[1;33m\u001b[0m\u001b[1;33m\u001b[0m\u001b[0m\n\u001b[0m\u001b[0;32m     85\u001b[0m     \u001b[0mtype_true\u001b[0m \u001b[1;33m=\u001b[0m \u001b[0mtype_of_target\u001b[0m\u001b[1;33m(\u001b[0m\u001b[0my_true\u001b[0m\u001b[1;33m)\u001b[0m\u001b[1;33m\u001b[0m\u001b[1;33m\u001b[0m\u001b[0m\n\u001b[0;32m     86\u001b[0m     \u001b[0mtype_pred\u001b[0m \u001b[1;33m=\u001b[0m \u001b[0mtype_of_target\u001b[0m\u001b[1;33m(\u001b[0m\u001b[0my_pred\u001b[0m\u001b[1;33m)\u001b[0m\u001b[1;33m\u001b[0m\u001b[1;33m\u001b[0m\u001b[0m\n",
      "\u001b[1;32m~\\anaconda3\\lib\\site-packages\\sklearn\\utils\\validation.py\u001b[0m in \u001b[0;36mcheck_consistent_length\u001b[1;34m(*arrays)\u001b[0m\n\u001b[0;32m    326\u001b[0m     \"\"\"\n\u001b[0;32m    327\u001b[0m \u001b[1;33m\u001b[0m\u001b[0m\n\u001b[1;32m--> 328\u001b[1;33m     \u001b[0mlengths\u001b[0m \u001b[1;33m=\u001b[0m \u001b[1;33m[\u001b[0m\u001b[0m_num_samples\u001b[0m\u001b[1;33m(\u001b[0m\u001b[0mX\u001b[0m\u001b[1;33m)\u001b[0m \u001b[1;32mfor\u001b[0m \u001b[0mX\u001b[0m \u001b[1;32min\u001b[0m \u001b[0marrays\u001b[0m \u001b[1;32mif\u001b[0m \u001b[0mX\u001b[0m \u001b[1;32mis\u001b[0m \u001b[1;32mnot\u001b[0m \u001b[1;32mNone\u001b[0m\u001b[1;33m]\u001b[0m\u001b[1;33m\u001b[0m\u001b[1;33m\u001b[0m\u001b[0m\n\u001b[0m\u001b[0;32m    329\u001b[0m     \u001b[0muniques\u001b[0m \u001b[1;33m=\u001b[0m \u001b[0mnp\u001b[0m\u001b[1;33m.\u001b[0m\u001b[0munique\u001b[0m\u001b[1;33m(\u001b[0m\u001b[0mlengths\u001b[0m\u001b[1;33m)\u001b[0m\u001b[1;33m\u001b[0m\u001b[1;33m\u001b[0m\u001b[0m\n\u001b[0;32m    330\u001b[0m     \u001b[1;32mif\u001b[0m \u001b[0mlen\u001b[0m\u001b[1;33m(\u001b[0m\u001b[0muniques\u001b[0m\u001b[1;33m)\u001b[0m \u001b[1;33m>\u001b[0m \u001b[1;36m1\u001b[0m\u001b[1;33m:\u001b[0m\u001b[1;33m\u001b[0m\u001b[1;33m\u001b[0m\u001b[0m\n",
      "\u001b[1;32m~\\anaconda3\\lib\\site-packages\\sklearn\\utils\\validation.py\u001b[0m in \u001b[0;36m<listcomp>\u001b[1;34m(.0)\u001b[0m\n\u001b[0;32m    326\u001b[0m     \"\"\"\n\u001b[0;32m    327\u001b[0m \u001b[1;33m\u001b[0m\u001b[0m\n\u001b[1;32m--> 328\u001b[1;33m     \u001b[0mlengths\u001b[0m \u001b[1;33m=\u001b[0m \u001b[1;33m[\u001b[0m\u001b[0m_num_samples\u001b[0m\u001b[1;33m(\u001b[0m\u001b[0mX\u001b[0m\u001b[1;33m)\u001b[0m \u001b[1;32mfor\u001b[0m \u001b[0mX\u001b[0m \u001b[1;32min\u001b[0m \u001b[0marrays\u001b[0m \u001b[1;32mif\u001b[0m \u001b[0mX\u001b[0m \u001b[1;32mis\u001b[0m \u001b[1;32mnot\u001b[0m \u001b[1;32mNone\u001b[0m\u001b[1;33m]\u001b[0m\u001b[1;33m\u001b[0m\u001b[1;33m\u001b[0m\u001b[0m\n\u001b[0m\u001b[0;32m    329\u001b[0m     \u001b[0muniques\u001b[0m \u001b[1;33m=\u001b[0m \u001b[0mnp\u001b[0m\u001b[1;33m.\u001b[0m\u001b[0munique\u001b[0m\u001b[1;33m(\u001b[0m\u001b[0mlengths\u001b[0m\u001b[1;33m)\u001b[0m\u001b[1;33m\u001b[0m\u001b[1;33m\u001b[0m\u001b[0m\n\u001b[0;32m    330\u001b[0m     \u001b[1;32mif\u001b[0m \u001b[0mlen\u001b[0m\u001b[1;33m(\u001b[0m\u001b[0muniques\u001b[0m\u001b[1;33m)\u001b[0m \u001b[1;33m>\u001b[0m \u001b[1;36m1\u001b[0m\u001b[1;33m:\u001b[0m\u001b[1;33m\u001b[0m\u001b[1;33m\u001b[0m\u001b[0m\n",
      "\u001b[1;32m~\\anaconda3\\lib\\site-packages\\sklearn\\utils\\validation.py\u001b[0m in \u001b[0;36m_num_samples\u001b[1;34m(x)\u001b[0m\n\u001b[0;32m    262\u001b[0m             \u001b[0mx\u001b[0m \u001b[1;33m=\u001b[0m \u001b[0mnp\u001b[0m\u001b[1;33m.\u001b[0m\u001b[0masarray\u001b[0m\u001b[1;33m(\u001b[0m\u001b[0mx\u001b[0m\u001b[1;33m)\u001b[0m\u001b[1;33m\u001b[0m\u001b[1;33m\u001b[0m\u001b[0m\n\u001b[0;32m    263\u001b[0m         \u001b[1;32melse\u001b[0m\u001b[1;33m:\u001b[0m\u001b[1;33m\u001b[0m\u001b[1;33m\u001b[0m\u001b[0m\n\u001b[1;32m--> 264\u001b[1;33m             \u001b[1;32mraise\u001b[0m \u001b[0mTypeError\u001b[0m\u001b[1;33m(\u001b[0m\u001b[0mmessage\u001b[0m\u001b[1;33m)\u001b[0m\u001b[1;33m\u001b[0m\u001b[1;33m\u001b[0m\u001b[0m\n\u001b[0m\u001b[0;32m    265\u001b[0m \u001b[1;33m\u001b[0m\u001b[0m\n\u001b[0;32m    266\u001b[0m     \u001b[1;32mif\u001b[0m \u001b[0mhasattr\u001b[0m\u001b[1;33m(\u001b[0m\u001b[0mx\u001b[0m\u001b[1;33m,\u001b[0m \u001b[1;34m\"shape\"\u001b[0m\u001b[1;33m)\u001b[0m \u001b[1;32mand\u001b[0m \u001b[0mx\u001b[0m\u001b[1;33m.\u001b[0m\u001b[0mshape\u001b[0m \u001b[1;32mis\u001b[0m \u001b[1;32mnot\u001b[0m \u001b[1;32mNone\u001b[0m\u001b[1;33m:\u001b[0m\u001b[1;33m\u001b[0m\u001b[1;33m\u001b[0m\u001b[0m\n",
      "\u001b[1;31mTypeError\u001b[0m: Expected sequence or array-like, got <class 'xgboost.core.DMatrix'>"
     ]
    }
   ],
   "source": [
    "tuning_xgb_model = XGBClassifier()\n",
    "\n",
    "eval_set = [(X_train, y_train), (X_test, y_test)]\n",
    "eval_metric = [\"auc\"]\n",
    "%time tuning_xgb_model.fit(X_train, y_train, eval_metric = f1_score, eval_set = eval_set, verbose=True)"
   ]
  },
  {
   "cell_type": "code",
   "execution_count": 50,
   "id": "92b063f6",
   "metadata": {},
   "outputs": [],
   "source": [
    "results = tuning_xgb_model.evals_result()"
   ]
  },
  {
   "cell_type": "code",
   "execution_count": 51,
   "id": "56955b16",
   "metadata": {},
   "outputs": [
    {
     "data": {
      "text/plain": [
       "<matplotlib.legend.Legend at 0x1aec38904c0>"
      ]
     },
     "execution_count": 51,
     "metadata": {},
     "output_type": "execute_result"
    },
    {
     "data": {
      "image/png": "[encoded data removed]",
      "text/plain": [
       "<Figure size 432x288 with 1 Axes>"
      ]
     },
     "metadata": {
      "needs_background": "light"
     },
     "output_type": "display_data"
    }
   ],
   "source": [
    "plt.plot(list(range(len(results['validation_0']['auc']))), results['validation_0']['auc'], label = 'train')\n",
    "plt.plot(list(range(len(results['validation_1']['auc']))), results['validation_1']['auc'], label = 'test')\n",
    "plt.legend()"
   ]
  },
  {
   "cell_type": "code",
   "execution_count": 136,
   "id": "1e7c5355",
   "metadata": {},
   "outputs": [],
   "source": [
    "basic_xg = XGBClassifier(silent = False, \n",
    "                      learning_rate = 0.01,  \n",
    "                      colsample_bytree = 1,\n",
    "                      subsample = 0.8,\n",
    "                      objective = 'binary:logistic', \n",
    "                      n_estimators = 1000,\n",
    "                      max_depth = 3, \n",
    "                      gamma = 1)"
   ]
  },
  {
   "cell_type": "code",
   "execution_count": 138,
   "id": "d200d1e1",
   "metadata": {},
   "outputs": [
    {
     "name": "stdout",
     "output_type": "stream",
     "text": [
      "[09:11:44] WARNING: ../src/learner.cc:767: \n",
      "Parameters: { \"silent\" } are not used.\n",
      "\n",
      "[09:12:17] WARNING: ../src/learner.cc:767: \n",
      "Parameters: { \"silent\" } are not used.\n",
      "\n",
      "[09:13:03] WARNING: ../src/learner.cc:767: \n",
      "Parameters: { \"silent\" } are not used.\n",
      "\n",
      "[09:13:56] WARNING: ../src/learner.cc:767: \n",
      "Parameters: { \"silent\" } are not used.\n",
      "\n",
      "[09:15:22] WARNING: ../src/learner.cc:767: \n",
      "Parameters: { \"silent\" } are not used.\n",
      "\n",
      "[09:17:09] WARNING: ../src/learner.cc:767: \n",
      "Parameters: { \"silent\" } are not used.\n",
      "\n",
      "[09:19:15] WARNING: ../src/learner.cc:767: \n",
      "Parameters: { \"silent\" } are not used.\n",
      "\n"
     ]
    }
   ],
   "source": [
    "depths = list(range(3, 10))\n",
    "f_scores = []\n",
    "\n",
    "for el in depths:\n",
    "    \n",
    "    test_depth_model = XGBClassifier(learning_rate = 0.3,  \n",
    "                      colsample_bytree = 1,\n",
    "                      subsample = 0.8,\n",
    "                      objective = 'binary:logistic', \n",
    "                      n_estimators = 100,\n",
    "                      max_depth = el, \n",
    "                      gamma = 1)\n",
    "    \n",
    "    test_depth_model.fit(X_train, y_train)\n",
    "    \n",
    "    y_train_pred = test_depth_model.predict(X_train)\n",
    "    y_test_pred = test_depth_model.predict(X_test)\n",
    "    \n",
    "    train_f = f1_score(y_train, y_train_pred)\n",
    "    test_f = f1_score(y_test, y_test_pred)\n",
    "    \n",
    "    f_scores.append([el, train_f, test_f])"
   ]
  },
  {
   "cell_type": "code",
   "execution_count": 141,
   "id": "5a6d3137",
   "metadata": {},
   "outputs": [
    {
     "data": {
      "text/plain": [
       "array([[0.52022388, 0.50402842],\n",
       "       [0.53730011, 0.50885529],\n",
       "       [0.56206591, 0.51342513],\n",
       "       [0.59723089, 0.5157967 ],\n",
       "       [0.64112463, 0.51613457],\n",
       "       [0.69926563, 0.51618982],\n",
       "       [0.77111622, 0.51649291]])"
      ]
     },
     "execution_count": 141,
     "metadata": {},
     "output_type": "execute_result"
    }
   ],
   "source": [
    "f_scores = np.array(f_scores)\n",
    "plt.plot()"
   ]
  },
  {
   "cell_type": "markdown",
   "id": "677e326d",
   "metadata": {},
   "source": [
    "Pora simaa, ineem venam"
   ]
  },
  {
   "cell_type": "code",
   "execution_count": 142,
   "id": "a3299365",
   "metadata": {},
   "outputs": [
    {
     "name": "stdout",
     "output_type": "stream",
     "text": [
      "[09:25:13] WARNING: ../src/learner.cc:767: \n",
      "Parameters: { \"silent\" } are not used.\n",
      "\n",
      "[09:26:46] WARNING: ../src/learner.cc:767: \n",
      "Parameters: { \"silent\" } are not used.\n",
      "\n",
      "[09:29:11] WARNING: ../src/learner.cc:767: \n",
      "Parameters: { \"silent\" } are not used.\n",
      "\n",
      "[09:32:06] WARNING: ../src/learner.cc:767: \n",
      "Parameters: { \"silent\" } are not used.\n",
      "\n",
      "[09:35:24] WARNING: ../src/learner.cc:767: \n",
      "Parameters: { \"silent\" } are not used.\n",
      "\n",
      "[09:39:06] WARNING: ../src/learner.cc:767: \n",
      "Parameters: { \"silent\" } are not used.\n",
      "\n"
     ]
    }
   ],
   "source": [
    "depths = list(range(8, 14))\n",
    "f_scores = []\n",
    "\n",
    "for el in depths:\n",
    "    \n",
    "    test_depth_model = XGBClassifier(silent = False, \n",
    "                      learning_rate = 0.01,  \n",
    "                      colsample_bytree = 1,\n",
    "                      subsample = 0.8,\n",
    "                      objective = 'binary:logistic', \n",
    "                      n_estimators = 1000,\n",
    "                      max_depth = el, \n",
    "                      gamma = 1)\n",
    "    \n",
    "    test_depth_model.fit(X_train, y_train)\n",
    "    \n",
    "    y_train_pred = test_depth_model.predict(X_train)\n",
    "    y_test_pred = test_depth_model.predict(X_test)\n",
    "    \n",
    "    train_f = f1_score(y_train, y_train_pred)\n",
    "    test_f = f1_score(y_test, y_test_pred)\n",
    "    \n",
    "    f_scores.append([train_f, test_f])"
   ]
  },
  {
   "cell_type": "code",
   "execution_count": 143,
   "id": "944a0874",
   "metadata": {},
   "outputs": [
    {
     "data": {
      "text/plain": [
       "[[0.6992656277986744, 0.5161898235394895],\n",
       " [0.7711162175335979, 0.5164929071953512],\n",
       " [0.8384882038165115, 0.5185058843595428],\n",
       " [0.898757120662869, 0.5165868673050614],\n",
       " [0.9424343136640121, 0.5146278870829769],\n",
       " [0.9743307664099743, 0.5173771614449582]]"
      ]
     },
     "execution_count": 143,
     "metadata": {},
     "output_type": "execute_result"
    }
   ],
   "source": [
    "f_scores"
   ]
  },
  {
   "cell_type": "code",
   "execution_count": 144,
   "id": "888fa4f0",
   "metadata": {},
   "outputs": [
    {
     "data": {
      "text/plain": [
       "10"
      ]
     },
     "execution_count": 144,
     "metadata": {},
     "output_type": "execute_result"
    }
   ],
   "source": [
    "depths[2]"
   ]
  },
  {
   "cell_type": "markdown",
   "id": "fee64de5",
   "metadata": {},
   "source": [
    "<b> Max Depth = 10 is a good choice </b>"
   ]
  },
  {
   "cell_type": "code",
   "execution_count": 146,
   "id": "88ca54d5",
   "metadata": {},
   "outputs": [
    {
     "name": "stdout",
     "output_type": "stream",
     "text": [
      "[10:16:36] WARNING: ../src/learner.cc:767: \n",
      "Parameters: { \"silent\" } are not used.\n",
      "\n",
      "[10:17:59] WARNING: ../src/learner.cc:767: \n",
      "Parameters: { \"silent\" } are not used.\n",
      "\n",
      "[10:19:34] WARNING: ../src/learner.cc:767: \n",
      "Parameters: { \"silent\" } are not used.\n",
      "\n",
      "[10:21:19] WARNING: ../src/learner.cc:767: \n",
      "Parameters: { \"silent\" } are not used.\n",
      "\n",
      "[10:23:11] WARNING: ../src/learner.cc:767: \n",
      "Parameters: { \"silent\" } are not used.\n",
      "\n",
      "[10:25:10] WARNING: ../src/learner.cc:767: \n",
      "Parameters: { \"silent\" } are not used.\n",
      "\n",
      "[10:27:17] WARNING: ../src/learner.cc:767: \n",
      "Parameters: { \"silent\" } are not used.\n",
      "\n",
      "[10:29:32] WARNING: ../src/learner.cc:767: \n",
      "Parameters: { \"silent\" } are not used.\n",
      "\n",
      "[10:31:58] WARNING: ../src/learner.cc:767: \n",
      "Parameters: { \"silent\" } are not used.\n",
      "\n",
      "[10:34:27] WARNING: ../src/learner.cc:767: \n",
      "Parameters: { \"silent\" } are not used.\n",
      "\n"
     ]
    }
   ],
   "source": [
    "col_samples = list(np.linspace(0.4, 0.9, 10))\n",
    "f_scores = []\n",
    "\n",
    "for el in col_samples:\n",
    "    \n",
    "    test_depth_model = XGBClassifier(silent = False, \n",
    "                      learning_rate = 0.01,  \n",
    "                      colsample_bytree = el,\n",
    "                      subsample = 0.8,\n",
    "                      objective = 'binary:logistic', \n",
    "                      n_estimators = 1000,\n",
    "                      max_depth = 10, \n",
    "                      gamma = 1)\n",
    "    \n",
    "    test_depth_model.fit(X_train, y_train)\n",
    "    \n",
    "    y_train_pred = test_depth_model.predict(X_train)\n",
    "    y_test_pred = test_depth_model.predict(X_test)\n",
    "    \n",
    "    train_f = f1_score(y_train, y_train_pred)\n",
    "    test_f = f1_score(y_test, y_test_pred)\n",
    "    \n",
    "    f_scores.append([train_f, test_f])"
   ]
  },
  {
   "cell_type": "code",
   "execution_count": 147,
   "id": "c5ee691d",
   "metadata": {},
   "outputs": [
    {
     "data": {
      "text/plain": [
       "[[0.7980210351508442, 0.5140548439783375],\n",
       " [0.8057420221005887, 0.5164230438521067],\n",
       " [0.811027397260274, 0.5170103092783506],\n",
       " [0.8163028253219909, 0.516616573636754],\n",
       " [0.8194250247246189, 0.5178021225607669],\n",
       " [0.8207505368281126, 0.5147817119284978],\n",
       " [0.8251121076233184, 0.5173479903813122],\n",
       " [0.8268376242325566, 0.5125740279804308],\n",
       " [0.832088669617815, 0.516884671283235],\n",
       " [0.8334514528703048, 0.5166881166881166]]"
      ]
     },
     "execution_count": 147,
     "metadata": {},
     "output_type": "execute_result"
    }
   ],
   "source": [
    "f_scores"
   ]
  },
  {
   "cell_type": "code",
   "execution_count": 151,
   "id": "53646860",
   "metadata": {},
   "outputs": [
    {
     "data": {
      "text/plain": [
       "0.6222222222222222"
      ]
     },
     "execution_count": 151,
     "metadata": {},
     "output_type": "execute_result"
    }
   ],
   "source": [
    "col_samples[4]"
   ]
  },
  {
   "cell_type": "markdown",
   "id": "f380b91b",
   "metadata": {},
   "source": [
    "<b> 0.6 for columns used by each tree </b>"
   ]
  },
  {
   "cell_type": "code",
   "execution_count": 152,
   "id": "1ad91422",
   "metadata": {},
   "outputs": [
    {
     "name": "stdout",
     "output_type": "stream",
     "text": [
      "[10:43:34] WARNING: ../src/learner.cc:767: \n",
      "Parameters: { \"silent\" } are not used.\n",
      "\n",
      "[10:44:21] WARNING: ../src/learner.cc:767: \n",
      "Parameters: { \"silent\" } are not used.\n",
      "\n",
      "[10:46:00] WARNING: ../src/learner.cc:767: \n",
      "Parameters: { \"silent\" } are not used.\n",
      "\n",
      "[10:48:53] WARNING: ../src/learner.cc:767: \n",
      "Parameters: { \"silent\" } are not used.\n",
      "\n",
      "[10:52:47] WARNING: ../src/learner.cc:767: \n",
      "Parameters: { \"silent\" } are not used.\n",
      "\n",
      "[10:57:31] WARNING: ../src/learner.cc:767: \n",
      "Parameters: { \"silent\" } are not used.\n",
      "\n",
      "[11:03:09] WARNING: ../src/learner.cc:767: \n",
      "Parameters: { \"silent\" } are not used.\n",
      "\n",
      "[11:09:54] WARNING: ../src/learner.cc:767: \n",
      "Parameters: { \"silent\" } are not used.\n",
      "\n"
     ]
    }
   ],
   "source": [
    "estimator_samples = list(range(500, 4001, 500))\n",
    "f_scores = []\n",
    "\n",
    "for el in estimator_samples:\n",
    "    \n",
    "    test_depth_model = XGBClassifier(silent = False, \n",
    "                      learning_rate = 0.01,  \n",
    "                      colsample_bytree = 0.6,\n",
    "                      subsample = 0.8,\n",
    "                      objective = 'binary:logistic', \n",
    "                      n_estimators = el,\n",
    "                      max_depth = 10, \n",
    "                      gamma = 1)\n",
    "    \n",
    "    test_depth_model.fit(X_train, y_train)\n",
    "    \n",
    "    y_train_pred = test_depth_model.predict(X_train)\n",
    "    y_test_pred = test_depth_model.predict(X_test)\n",
    "    \n",
    "    train_f = f1_score(y_train, y_train_pred)\n",
    "    test_f = f1_score(y_test, y_test_pred)\n",
    "    \n",
    "    f_scores.append([train_f, test_f])"
   ]
  },
  {
   "cell_type": "code",
   "execution_count": 153,
   "id": "c55ccd1a",
   "metadata": {},
   "outputs": [
    {
     "data": {
      "text/plain": [
       "[[0.7292857142857144, 0.5109287257019439],\n",
       " [0.8185228125213121, 0.5159241136578248],\n",
       " [0.8780007870916962, 0.5160572064742656],\n",
       " [0.9200560117115396, 0.5157318741450068],\n",
       " [0.947568578553616, 0.5172619555025147],\n",
       " [0.9682880451450653, 0.5178753830439223],\n",
       " [0.9805577495595116, 0.5171679304762716],\n",
       " [0.986970585567883, 0.518253765636967]]"
      ]
     },
     "execution_count": 153,
     "metadata": {},
     "output_type": "execute_result"
    }
   ],
   "source": [
    "f_scores"
   ]
  },
  {
   "cell_type": "code",
   "execution_count": 154,
   "id": "8465e6e7",
   "metadata": {},
   "outputs": [
    {
     "data": {
      "text/plain": [
       "3000"
      ]
     },
     "execution_count": 154,
     "metadata": {},
     "output_type": "execute_result"
    }
   ],
   "source": [
    "estimator_samples[5]"
   ]
  },
  {
   "cell_type": "markdown",
   "id": "f0ae51d8",
   "metadata": {},
   "source": [
    "Confused unga bunga, but <b> n_est = 3000 for now </b>"
   ]
  },
  {
   "cell_type": "code",
   "execution_count": null,
   "id": "3246d379",
   "metadata": {},
   "outputs": [],
   "source": []
  }
 ],
 "metadata": {
  "kernelspec": {
   "display_name": "Python 3 (ipykernel)",
   "language": "python",
   "name": "python3"
  },
  "language_info": {
   "codemirror_mode": {
    "name": "ipython",
    "version": 3
   },
   "file_extension": ".py",
   "mimetype": "text/x-python",
   "name": "python",
   "nbconvert_exporter": "python",
   "pygments_lexer": "ipython3",
   "version": "3.8.10"
  }
 },
 "nbformat": 4,
 "nbformat_minor": 5
}
